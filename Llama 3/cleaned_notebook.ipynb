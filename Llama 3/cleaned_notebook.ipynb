{
 "cells": [
  {
   "cell_type": "markdown",
   "metadata": {
    "id": "us_vehuLlvSB"
   },
   "source": [
    "# QA DATASET"
   ]
  },
  {
   "cell_type": "code",
   "execution_count": 1,
   "metadata": {
    "colab": {
     "base_uri": "https://localhost:8080/"
    },
    "execution": {
     "iopub.execute_input": "2025-03-29T08:02:41.901481Z",
     "iopub.status.busy": "2025-03-29T08:02:41.901123Z",
     "iopub.status.idle": "2025-03-29T08:02:52.457898Z",
     "shell.execute_reply": "2025-03-29T08:02:52.457060Z",
     "shell.execute_reply.started": "2025-03-29T08:02:41.901449Z"
    },
    "id": "xM0pc9PZPjkl",
    "outputId": "a38ffb21-03cd-4ea2-ed3c-ecf826a7696e"
   },
   "outputs": [
    {
     "name": "stdout",
     "output_type": "stream",
     "text": [
      "Collecting bitsandbytes\n",
      "  Downloading bitsandbytes-0.45.4-py3-none-manylinux_2_24_x86_64.whl.metadata (5.0 kB)\n",
      "Requirement already satisfied: torch<3,>=2.0 in /usr/local/lib/python3.10/dist-packages (from bitsandbytes) (2.5.1+cu121)\n",
      "Requirement already satisfied: numpy>=1.17 in /usr/local/lib/python3.10/dist-packages (from bitsandbytes) (1.26.4)\n",
      "Requirement already satisfied: mkl_fft in /usr/local/lib/python3.10/dist-packages (from numpy>=1.17->bitsandbytes) (1.3.8)\n",
      "Requirement already satisfied: mkl_random in /usr/local/lib/python3.10/dist-packages (from numpy>=1.17->bitsandbytes) (1.2.4)\n",
      "Requirement already satisfied: mkl_umath in /usr/local/lib/python3.10/dist-packages (from numpy>=1.17->bitsandbytes) (0.1.1)\n",
      "Requirement already satisfied: mkl in /usr/local/lib/python3.10/dist-packages (from numpy>=1.17->bitsandbytes) (2025.0.1)\n",
      "Requirement already satisfied: tbb4py in /usr/local/lib/python3.10/dist-packages (from numpy>=1.17->bitsandbytes) (2022.0.0)\n",
      "Requirement already satisfied: mkl-service in /usr/local/lib/python3.10/dist-packages (from numpy>=1.17->bitsandbytes) (2.4.1)\n",
      "Requirement already satisfied: filelock in /usr/local/lib/python3.10/dist-packages (from torch<3,>=2.0->bitsandbytes) (3.17.0)\n",
      "Requirement already satisfied: typing-extensions>=4.8.0 in /usr/local/lib/python3.10/dist-packages (from torch<3,>=2.0->bitsandbytes) (4.12.2)\n",
      "Requirement already satisfied: networkx in /usr/local/lib/python3.10/dist-packages (from torch<3,>=2.0->bitsandbytes) (3.4.2)\n",
      "Requirement already satisfied: jinja2 in /usr/local/lib/python3.10/dist-packages (from torch<3,>=2.0->bitsandbytes) (3.1.4)\n",
      "Requirement already satisfied: fsspec in /usr/local/lib/python3.10/dist-packages (from torch<3,>=2.0->bitsandbytes) (2024.12.0)\n",
      "Requirement already satisfied: sympy==1.13.1 in /usr/local/lib/python3.10/dist-packages (from torch<3,>=2.0->bitsandbytes) (1.13.1)\n",
      "Requirement already satisfied: mpmath<1.4,>=1.1.0 in /usr/local/lib/python3.10/dist-packages (from sympy==1.13.1->torch<3,>=2.0->bitsandbytes) (1.3.0)\n",
      "Requirement already satisfied: MarkupSafe>=2.0 in /usr/local/lib/python3.10/dist-packages (from jinja2->torch<3,>=2.0->bitsandbytes) (3.0.2)\n",
      "Requirement already satisfied: intel-openmp>=2024 in /usr/local/lib/python3.10/dist-packages (from mkl->numpy>=1.17->bitsandbytes) (2024.2.0)\n",
      "Requirement already satisfied: tbb==2022.* in /usr/local/lib/python3.10/dist-packages (from mkl->numpy>=1.17->bitsandbytes) (2022.0.0)\n",
      "Requirement already satisfied: tcmlib==1.* in /usr/local/lib/python3.10/dist-packages (from tbb==2022.*->mkl->numpy>=1.17->bitsandbytes) (1.2.0)\n",
      "Requirement already satisfied: intel-cmplr-lib-rt in /usr/local/lib/python3.10/dist-packages (from mkl_umath->numpy>=1.17->bitsandbytes) (2024.2.0)\n",
      "Requirement already satisfied: intel-cmplr-lib-ur==2024.2.0 in /usr/local/lib/python3.10/dist-packages (from intel-openmp>=2024->mkl->numpy>=1.17->bitsandbytes) (2024.2.0)\n",
      "Downloading bitsandbytes-0.45.4-py3-none-manylinux_2_24_x86_64.whl (76.0 MB)\n",
      "\u001b[2K   \u001b[90m━━━━━━━━━━━━━━━━━━━━━━━━━━━━━━━━━━━━━━━━\u001b[0m \u001b[32m76.0/76.0 MB\u001b[0m \u001b[31m23.3 MB/s\u001b[0m eta \u001b[36m0:00:00\u001b[0m:00:01\u001b[0m00:01\u001b[0m\n",
      "\u001b[?25hInstalling collected packages: bitsandbytes\n",
      "Successfully installed bitsandbytes-0.45.4\n",
      "Requirement already satisfied: bitsandbytes in /usr/local/lib/python3.10/dist-packages (0.45.4)\n",
      "Requirement already satisfied: torch<3,>=2.0 in /usr/local/lib/python3.10/dist-packages (from bitsandbytes) (2.5.1+cu121)\n",
      "Requirement already satisfied: numpy>=1.17 in /usr/local/lib/python3.10/dist-packages (from bitsandbytes) (1.26.4)\n",
      "Requirement already satisfied: mkl_fft in /usr/local/lib/python3.10/dist-packages (from numpy>=1.17->bitsandbytes) (1.3.8)\n",
      "Requirement already satisfied: mkl_random in /usr/local/lib/python3.10/dist-packages (from numpy>=1.17->bitsandbytes) (1.2.4)\n",
      "Requirement already satisfied: mkl_umath in /usr/local/lib/python3.10/dist-packages (from numpy>=1.17->bitsandbytes) (0.1.1)\n",
      "Requirement already satisfied: mkl in /usr/local/lib/python3.10/dist-packages (from numpy>=1.17->bitsandbytes) (2025.0.1)\n",
      "Requirement already satisfied: tbb4py in /usr/local/lib/python3.10/dist-packages (from numpy>=1.17->bitsandbytes) (2022.0.0)\n",
      "Requirement already satisfied: mkl-service in /usr/local/lib/python3.10/dist-packages (from numpy>=1.17->bitsandbytes) (2.4.1)\n",
      "Requirement already satisfied: filelock in /usr/local/lib/python3.10/dist-packages (from torch<3,>=2.0->bitsandbytes) (3.17.0)\n",
      "Requirement already satisfied: typing-extensions>=4.8.0 in /usr/local/lib/python3.10/dist-packages (from torch<3,>=2.0->bitsandbytes) (4.12.2)\n",
      "Requirement already satisfied: networkx in /usr/local/lib/python3.10/dist-packages (from torch<3,>=2.0->bitsandbytes) (3.4.2)\n",
      "Requirement already satisfied: jinja2 in /usr/local/lib/python3.10/dist-packages (from torch<3,>=2.0->bitsandbytes) (3.1.4)\n",
      "Requirement already satisfied: fsspec in /usr/local/lib/python3.10/dist-packages (from torch<3,>=2.0->bitsandbytes) (2024.12.0)\n",
      "Requirement already satisfied: sympy==1.13.1 in /usr/local/lib/python3.10/dist-packages (from torch<3,>=2.0->bitsandbytes) (1.13.1)\n",
      "Requirement already satisfied: mpmath<1.4,>=1.1.0 in /usr/local/lib/python3.10/dist-packages (from sympy==1.13.1->torch<3,>=2.0->bitsandbytes) (1.3.0)\n",
      "Requirement already satisfied: MarkupSafe>=2.0 in /usr/local/lib/python3.10/dist-packages (from jinja2->torch<3,>=2.0->bitsandbytes) (3.0.2)\n",
      "Requirement already satisfied: intel-openmp>=2024 in /usr/local/lib/python3.10/dist-packages (from mkl->numpy>=1.17->bitsandbytes) (2024.2.0)\n",
      "Requirement already satisfied: tbb==2022.* in /usr/local/lib/python3.10/dist-packages (from mkl->numpy>=1.17->bitsandbytes) (2022.0.0)\n",
      "Requirement already satisfied: tcmlib==1.* in /usr/local/lib/python3.10/dist-packages (from tbb==2022.*->mkl->numpy>=1.17->bitsandbytes) (1.2.0)\n",
      "Requirement already satisfied: intel-cmplr-lib-rt in /usr/local/lib/python3.10/dist-packages (from mkl_umath->numpy>=1.17->bitsandbytes) (2024.2.0)\n",
      "Requirement already satisfied: intel-cmplr-lib-ur==2024.2.0 in /usr/local/lib/python3.10/dist-packages (from intel-openmp>=2024->mkl->numpy>=1.17->bitsandbytes) (2024.2.0)\n"
     ]
    }
   ],
   "source": [
    "!pip install bitsandbytes\n",
    "!pip install -U bitsandbytes"
   ]
  },
  {
   "cell_type": "code",
   "execution_count": 2,
   "metadata": {
    "execution": {
     "iopub.execute_input": "2025-03-29T08:02:52.459351Z",
     "iopub.status.busy": "2025-03-29T08:02:52.459090Z",
     "iopub.status.idle": "2025-03-29T08:03:05.211765Z",
     "shell.execute_reply": "2025-03-29T08:03:05.211111Z",
     "shell.execute_reply.started": "2025-03-29T08:02:52.459328Z"
    },
    "id": "LmTeaZXzlvSL"
   },
   "outputs": [],
   "source": [
    "import pandas as pd\n",
    "import numpy as np\n",
    "import torch\n",
    "from transformers import AutoTokenizer, AutoModel\n",
    "import re\n",
    "import string\n",
    "import nltk\n",
    "from nltk.corpus import stopwords\n",
    "import os\n",
    "from transformers import GPT2LMHeadModel, GPT2Tokenizer\n",
    "from sentence_transformers import SentenceTransformer\n",
    "from sklearn.metrics.pairwise import cosine_similarity\n",
    "from nltk.util import ngrams\n",
    "import torch\n",
    "import ast\n",
    "import matplotlib.pyplot as plt\n",
    "from transformers import AutoTokenizer, AutoModel, AutoModelForSeq2SeqLM ,AutoModel"
   ]
  },
  {
   "cell_type": "code",
   "execution_count": 3,
   "metadata": {
    "execution": {
     "iopub.execute_input": "2025-03-29T08:03:05.213518Z",
     "iopub.status.busy": "2025-03-29T08:03:05.213086Z",
     "iopub.status.idle": "2025-03-29T08:03:05.502694Z",
     "shell.execute_reply": "2025-03-29T08:03:05.502024Z",
     "shell.execute_reply.started": "2025-03-29T08:03:05.213496Z"
    },
    "id": "IhV5nXKalvSN"
   },
   "outputs": [],
   "source": [
    "    qa_data = pd.read_csv('/kaggle/input/new-dataset/FINAL_HG_DATASET.csv')\n"
   ]
  },
  {
   "cell_type": "code",
   "execution_count": 4,
   "metadata": {
    "colab": {
     "base_uri": "https://localhost:8080/",
     "height": 423
    },
    "execution": {
     "iopub.execute_input": "2025-03-29T08:03:05.504101Z",
     "iopub.status.busy": "2025-03-29T08:03:05.503793Z",
     "iopub.status.idle": "2025-03-29T08:03:05.535904Z",
     "shell.execute_reply": "2025-03-29T08:03:05.535311Z",
     "shell.execute_reply.started": "2025-03-29T08:03:05.504071Z"
    },
    "id": "JYBBQnjKlvSO",
    "outputId": "e2fa53c8-57ac-4e0b-ee87-ee29eb82ff4c"
   },
   "outputs": [
    {
     "data": {
      "text/html": [
       "<div>\n",
       "<style scoped>\n",
       "    .dataframe tbody tr th:only-of-type {\n",
       "        vertical-align: middle;\n",
       "    }\n",
       "\n",
       "    .dataframe tbody tr th {\n",
       "        vertical-align: top;\n",
       "    }\n",
       "\n",
       "    .dataframe thead th {\n",
       "        text-align: right;\n",
       "    }\n",
       "</style>\n",
       "<table border=\"1\" class=\"dataframe\">\n",
       "  <thead>\n",
       "    <tr style=\"text-align: right;\">\n",
       "      <th></th>\n",
       "      <th>index</th>\n",
       "      <th>question</th>\n",
       "      <th>generated_answer</th>\n",
       "    </tr>\n",
       "  </thead>\n",
       "  <tbody>\n",
       "    <tr>\n",
       "      <th>0</th>\n",
       "      <td>!0001</td>\n",
       "      <td>3. What are the advantages of using a Ni foam ...</td>\n",
       "      <td>The advantages of using a Ni foam (NF) substra...</td>\n",
       "    </tr>\n",
       "    <tr>\n",
       "      <th>1</th>\n",
       "      <td>!0002</td>\n",
       "      <td>4. How does the hierarchical structure and com...</td>\n",
       "      <td>The hierarchical structure and composition of ...</td>\n",
       "    </tr>\n",
       "    <tr>\n",
       "      <th>2</th>\n",
       "      <td>!0003</td>\n",
       "      <td>4. What are the current challenges and limitat...</td>\n",
       "      <td>Current challenges and limitations of defect e...</td>\n",
       "    </tr>\n",
       "    <tr>\n",
       "      <th>3</th>\n",
       "      <td>!0004</td>\n",
       "      <td>5. What are the promising future research dire...</td>\n",
       "      <td>Promising future research directions in the fi...</td>\n",
       "    </tr>\n",
       "    <tr>\n",
       "      <th>4</th>\n",
       "      <td>!0005</td>\n",
       "      <td>4. How do the properties and performance of th...</td>\n",
       "      <td>The properties and performance of CTF films ca...</td>\n",
       "    </tr>\n",
       "    <tr>\n",
       "      <th>...</th>\n",
       "      <td>...</td>\n",
       "      <td>...</td>\n",
       "      <td>...</td>\n",
       "    </tr>\n",
       "    <tr>\n",
       "      <th>5711</th>\n",
       "      <td>!5712</td>\n",
       "      <td>What is the rate of hydrogen evolution (in µmo...</td>\n",
       "      <td>Hydrogen evolution rate for MoS?-based nanomat...</td>\n",
       "    </tr>\n",
       "    <tr>\n",
       "      <th>5712</th>\n",
       "      <td>!5713</td>\n",
       "      <td>How much hydrogen (in µmol) is produced per gr...</td>\n",
       "      <td>Hydrogen produced by Pt-Co alloy: Pt-Co alloys...</td>\n",
       "    </tr>\n",
       "    <tr>\n",
       "      <th>5713</th>\n",
       "      <td>!5714</td>\n",
       "      <td>What is the hydrogen production rate (in mL/mi...</td>\n",
       "      <td>Hydrogen production rate for MoS?/TiO? hybrid ...</td>\n",
       "    </tr>\n",
       "    <tr>\n",
       "      <th>5714</th>\n",
       "      <td>!5715</td>\n",
       "      <td>How much hydrogen (in µmol) is produced per gr...</td>\n",
       "      <td>Hydrogen produced by CoFe?O?-based photocataly...</td>\n",
       "    </tr>\n",
       "    <tr>\n",
       "      <th>5715</th>\n",
       "      <td>!5716</td>\n",
       "      <td>What is the energy efficiency (%) of a CuO-bas...</td>\n",
       "      <td>Energy efficiency of CuO-based catalyst in pho...</td>\n",
       "    </tr>\n",
       "  </tbody>\n",
       "</table>\n",
       "<p>5716 rows × 3 columns</p>\n",
       "</div>"
      ],
      "text/plain": [
       "      index                                           question  \\\n",
       "0     !0001  3. What are the advantages of using a Ni foam ...   \n",
       "1     !0002  4. How does the hierarchical structure and com...   \n",
       "2     !0003  4. What are the current challenges and limitat...   \n",
       "3     !0004  5. What are the promising future research dire...   \n",
       "4     !0005  4. How do the properties and performance of th...   \n",
       "...     ...                                                ...   \n",
       "5711  !5712  What is the rate of hydrogen evolution (in µmo...   \n",
       "5712  !5713  How much hydrogen (in µmol) is produced per gr...   \n",
       "5713  !5714  What is the hydrogen production rate (in mL/mi...   \n",
       "5714  !5715  How much hydrogen (in µmol) is produced per gr...   \n",
       "5715  !5716  What is the energy efficiency (%) of a CuO-bas...   \n",
       "\n",
       "                                       generated_answer  \n",
       "0     The advantages of using a Ni foam (NF) substra...  \n",
       "1     The hierarchical structure and composition of ...  \n",
       "2     Current challenges and limitations of defect e...  \n",
       "3     Promising future research directions in the fi...  \n",
       "4     The properties and performance of CTF films ca...  \n",
       "...                                                 ...  \n",
       "5711  Hydrogen evolution rate for MoS?-based nanomat...  \n",
       "5712  Hydrogen produced by Pt-Co alloy: Pt-Co alloys...  \n",
       "5713  Hydrogen production rate for MoS?/TiO? hybrid ...  \n",
       "5714  Hydrogen produced by CoFe?O?-based photocataly...  \n",
       "5715  Energy efficiency of CuO-based catalyst in pho...  \n",
       "\n",
       "[5716 rows x 3 columns]"
      ]
     },
     "execution_count": 4,
     "metadata": {},
     "output_type": "execute_result"
    }
   ],
   "source": [
    "qa_data"
   ]
  },
  {
   "cell_type": "code",
   "execution_count": 5,
   "metadata": {
    "execution": {
     "iopub.execute_input": "2025-03-29T08:03:05.536944Z",
     "iopub.status.busy": "2025-03-29T08:03:05.536712Z",
     "iopub.status.idle": "2025-03-29T08:03:05.554215Z",
     "shell.execute_reply": "2025-03-29T08:03:05.553651Z",
     "shell.execute_reply.started": "2025-03-29T08:03:05.536925Z"
    },
    "id": "rBVD5ox8lvSP"
   },
   "outputs": [],
   "source": [
    "chunk=pd.read_csv('/kaggle/input/new-dataset/cleaned_chunks (1).csv')"
   ]
  },
  {
   "cell_type": "code",
   "execution_count": 6,
   "metadata": {
    "colab": {
     "base_uri": "https://localhost:8080/",
     "height": 423
    },
    "execution": {
     "iopub.execute_input": "2025-03-29T08:03:05.555363Z",
     "iopub.status.busy": "2025-03-29T08:03:05.555073Z",
     "iopub.status.idle": "2025-03-29T08:03:05.564156Z",
     "shell.execute_reply": "2025-03-29T08:03:05.563340Z",
     "shell.execute_reply.started": "2025-03-29T08:03:05.555344Z"
    },
    "id": "KmKffLLNlvSR",
    "outputId": "c478dac5-fd43-40c4-e727-b353aec191d5"
   },
   "outputs": [
    {
     "data": {
      "text/html": [
       "<div>\n",
       "<style scoped>\n",
       "    .dataframe tbody tr th:only-of-type {\n",
       "        vertical-align: middle;\n",
       "    }\n",
       "\n",
       "    .dataframe tbody tr th {\n",
       "        vertical-align: top;\n",
       "    }\n",
       "\n",
       "    .dataframe thead th {\n",
       "        text-align: right;\n",
       "    }\n",
       "</style>\n",
       "<table border=\"1\" class=\"dataframe\">\n",
       "  <thead>\n",
       "    <tr style=\"text-align: right;\">\n",
       "      <th></th>\n",
       "      <th>Chunk</th>\n",
       "    </tr>\n",
       "  </thead>\n",
       "  <tbody>\n",
       "    <tr>\n",
       "      <th>0</th>\n",
       "      <td>Various methods have been developed to synthes...</td>\n",
       "    </tr>\n",
       "    <tr>\n",
       "      <th>1</th>\n",
       "      <td>Researchers have developed a metal-free electr...</td>\n",
       "    </tr>\n",
       "    <tr>\n",
       "      <th>2</th>\n",
       "      <td>MXenes, a new class of materials, are layered ...</td>\n",
       "    </tr>\n",
       "    <tr>\n",
       "      <th>3</th>\n",
       "      <td>This research focuses on the design and charac...</td>\n",
       "    </tr>\n",
       "    <tr>\n",
       "      <th>4</th>\n",
       "      <td>Surface photocatalysts are susceptible to degr...</td>\n",
       "    </tr>\n",
       "    <tr>\n",
       "      <th>...</th>\n",
       "      <td>...</td>\n",
       "    </tr>\n",
       "    <tr>\n",
       "      <th>146</th>\n",
       "      <td>Researchers have successfully developed ordere...</td>\n",
       "    </tr>\n",
       "    <tr>\n",
       "      <th>147</th>\n",
       "      <td>Defect engineering and morphological engineeri...</td>\n",
       "    </tr>\n",
       "    <tr>\n",
       "      <th>148</th>\n",
       "      <td>MXenes, with their unique layered structure, e...</td>\n",
       "    </tr>\n",
       "    <tr>\n",
       "      <th>149</th>\n",
       "      <td>The overexploitation of fossil fuels has led t...</td>\n",
       "    </tr>\n",
       "    <tr>\n",
       "      <th>150</th>\n",
       "      <td>The enhanced electrocatalytic activity of NiSe...</td>\n",
       "    </tr>\n",
       "  </tbody>\n",
       "</table>\n",
       "<p>151 rows × 1 columns</p>\n",
       "</div>"
      ],
      "text/plain": [
       "                                                 Chunk\n",
       "0    Various methods have been developed to synthes...\n",
       "1    Researchers have developed a metal-free electr...\n",
       "2    MXenes, a new class of materials, are layered ...\n",
       "3    This research focuses on the design and charac...\n",
       "4    Surface photocatalysts are susceptible to degr...\n",
       "..                                                 ...\n",
       "146  Researchers have successfully developed ordere...\n",
       "147  Defect engineering and morphological engineeri...\n",
       "148  MXenes, with their unique layered structure, e...\n",
       "149  The overexploitation of fossil fuels has led t...\n",
       "150  The enhanced electrocatalytic activity of NiSe...\n",
       "\n",
       "[151 rows x 1 columns]"
      ]
     },
     "execution_count": 6,
     "metadata": {},
     "output_type": "execute_result"
    }
   ],
   "source": [
    "chunk"
   ]
  },
  {
   "cell_type": "code",
   "execution_count": 7,
   "metadata": {
    "execution": {
     "iopub.execute_input": "2025-03-29T08:03:05.565494Z",
     "iopub.status.busy": "2025-03-29T08:03:05.565151Z",
     "iopub.status.idle": "2025-03-29T08:03:06.326502Z",
     "shell.execute_reply": "2025-03-29T08:03:06.325563Z",
     "shell.execute_reply.started": "2025-03-29T08:03:05.565465Z"
    },
    "id": "wLsu_v15lvSU"
   },
   "outputs": [],
   "source": [
    "import re\n",
    "\n",
    "def clean_column(text):\n",
    "    if isinstance(text, str):\n",
    "        text = re.sub(r'\\*\\*|\\*|!|\\?', '', text).strip()\n",
    "        text = re.sub(r'^\\d+\\.\\s', '', text)\n",
    "        text = re.sub(r'\\s+', ' ', text)\n",
    "    return text\n",
    "qa_data['question'] = qa_data['question'].apply(clean_column)\n",
    "qa_data['generated_answer'] = qa_data['generated_answer'].apply(clean_column)\n",
    "chunk['Chunk'] = chunk['Chunk'].apply(clean_column)"
   ]
  },
  {
   "cell_type": "code",
   "execution_count": 8,
   "metadata": {
    "colab": {
     "base_uri": "https://localhost:8080/",
     "height": 394
    },
    "execution": {
     "iopub.execute_input": "2025-03-29T08:03:06.328960Z",
     "iopub.status.busy": "2025-03-29T08:03:06.328714Z",
     "iopub.status.idle": "2025-03-29T08:03:06.337891Z",
     "shell.execute_reply": "2025-03-29T08:03:06.336851Z",
     "shell.execute_reply.started": "2025-03-29T08:03:06.328938Z"
    },
    "id": "NHZHRDRnlvSV",
    "outputId": "41184eb8-c1ea-46a2-efba-923484796078"
   },
   "outputs": [
    {
     "data": {
      "text/html": [
       "<div>\n",
       "<style scoped>\n",
       "    .dataframe tbody tr th:only-of-type {\n",
       "        vertical-align: middle;\n",
       "    }\n",
       "\n",
       "    .dataframe tbody tr th {\n",
       "        vertical-align: top;\n",
       "    }\n",
       "\n",
       "    .dataframe thead th {\n",
       "        text-align: right;\n",
       "    }\n",
       "</style>\n",
       "<table border=\"1\" class=\"dataframe\">\n",
       "  <thead>\n",
       "    <tr style=\"text-align: right;\">\n",
       "      <th></th>\n",
       "      <th>index</th>\n",
       "      <th>question</th>\n",
       "      <th>generated_answer</th>\n",
       "    </tr>\n",
       "  </thead>\n",
       "  <tbody>\n",
       "    <tr>\n",
       "      <th>5705</th>\n",
       "      <td>!5706</td>\n",
       "      <td>What is the energy consumption (in kWh) for pr...</td>\n",
       "      <td>Energy consumption for producing 100 mL of hyd...</td>\n",
       "    </tr>\n",
       "    <tr>\n",
       "      <th>5706</th>\n",
       "      <td>!5707</td>\n",
       "      <td>How much hydrogen (in µmol) is produced per gr...</td>\n",
       "      <td>Hydrogen produced by CoMoO-based photocatalyst...</td>\n",
       "    </tr>\n",
       "    <tr>\n",
       "      <th>5707</th>\n",
       "      <td>!5708</td>\n",
       "      <td>What is the hydrogen production rate (in µmol/...</td>\n",
       "      <td>Hydrogen production rate for Pt/TiO photocatal...</td>\n",
       "    </tr>\n",
       "    <tr>\n",
       "      <th>5708</th>\n",
       "      <td>!5709</td>\n",
       "      <td>How much hydrogen (in µmol) is produced by 1 g...</td>\n",
       "      <td>Hydrogen produced by CuO-based photocatalyst: ...</td>\n",
       "    </tr>\n",
       "    <tr>\n",
       "      <th>5709</th>\n",
       "      <td>!5710</td>\n",
       "      <td>What is the efficiency (%) of a NiFe alloy-bas...</td>\n",
       "      <td>Efficiency of NiFe alloy-based electrochemical...</td>\n",
       "    </tr>\n",
       "    <tr>\n",
       "      <th>5710</th>\n",
       "      <td>!5711</td>\n",
       "      <td>How much hydrogen (in µmol/g·h) is produced by...</td>\n",
       "      <td>Hydrogen produced by BiVO-based catalyst: BiVO...</td>\n",
       "    </tr>\n",
       "    <tr>\n",
       "      <th>5711</th>\n",
       "      <td>!5712</td>\n",
       "      <td>What is the rate of hydrogen evolution (in µmo...</td>\n",
       "      <td>Hydrogen evolution rate for MoS-based nanomate...</td>\n",
       "    </tr>\n",
       "    <tr>\n",
       "      <th>5712</th>\n",
       "      <td>!5713</td>\n",
       "      <td>How much hydrogen (in µmol) is produced per gr...</td>\n",
       "      <td>Hydrogen produced by Pt-Co alloy: Pt-Co alloys...</td>\n",
       "    </tr>\n",
       "    <tr>\n",
       "      <th>5713</th>\n",
       "      <td>!5714</td>\n",
       "      <td>What is the hydrogen production rate (in mL/mi...</td>\n",
       "      <td>Hydrogen production rate for MoS/TiO hybrid ca...</td>\n",
       "    </tr>\n",
       "    <tr>\n",
       "      <th>5714</th>\n",
       "      <td>!5715</td>\n",
       "      <td>How much hydrogen (in µmol) is produced per gr...</td>\n",
       "      <td>Hydrogen produced by CoFeO-based photocatalyst...</td>\n",
       "    </tr>\n",
       "    <tr>\n",
       "      <th>5715</th>\n",
       "      <td>!5716</td>\n",
       "      <td>What is the energy efficiency (%) of a CuO-bas...</td>\n",
       "      <td>Energy efficiency of CuO-based catalyst in pho...</td>\n",
       "    </tr>\n",
       "  </tbody>\n",
       "</table>\n",
       "</div>"
      ],
      "text/plain": [
       "      index                                           question  \\\n",
       "5705  !5706  What is the energy consumption (in kWh) for pr...   \n",
       "5706  !5707  How much hydrogen (in µmol) is produced per gr...   \n",
       "5707  !5708  What is the hydrogen production rate (in µmol/...   \n",
       "5708  !5709  How much hydrogen (in µmol) is produced by 1 g...   \n",
       "5709  !5710  What is the efficiency (%) of a NiFe alloy-bas...   \n",
       "5710  !5711  How much hydrogen (in µmol/g·h) is produced by...   \n",
       "5711  !5712  What is the rate of hydrogen evolution (in µmo...   \n",
       "5712  !5713  How much hydrogen (in µmol) is produced per gr...   \n",
       "5713  !5714  What is the hydrogen production rate (in mL/mi...   \n",
       "5714  !5715  How much hydrogen (in µmol) is produced per gr...   \n",
       "5715  !5716  What is the energy efficiency (%) of a CuO-bas...   \n",
       "\n",
       "                                       generated_answer  \n",
       "5705  Energy consumption for producing 100 mL of hyd...  \n",
       "5706  Hydrogen produced by CoMoO-based photocatalyst...  \n",
       "5707  Hydrogen production rate for Pt/TiO photocatal...  \n",
       "5708  Hydrogen produced by CuO-based photocatalyst: ...  \n",
       "5709  Efficiency of NiFe alloy-based electrochemical...  \n",
       "5710  Hydrogen produced by BiVO-based catalyst: BiVO...  \n",
       "5711  Hydrogen evolution rate for MoS-based nanomate...  \n",
       "5712  Hydrogen produced by Pt-Co alloy: Pt-Co alloys...  \n",
       "5713  Hydrogen production rate for MoS/TiO hybrid ca...  \n",
       "5714  Hydrogen produced by CoFeO-based photocatalyst...  \n",
       "5715  Energy efficiency of CuO-based catalyst in pho...  "
      ]
     },
     "execution_count": 8,
     "metadata": {},
     "output_type": "execute_result"
    }
   ],
   "source": [
    "qa_data.tail(11)"
   ]
  },
  {
   "cell_type": "code",
   "execution_count": 9,
   "metadata": {
    "colab": {
     "base_uri": "https://localhost:8080/",
     "height": 423
    },
    "execution": {
     "iopub.execute_input": "2025-03-29T08:03:06.339642Z",
     "iopub.status.busy": "2025-03-29T08:03:06.339395Z",
     "iopub.status.idle": "2025-03-29T08:03:06.359021Z",
     "shell.execute_reply": "2025-03-29T08:03:06.358138Z",
     "shell.execute_reply.started": "2025-03-29T08:03:06.339620Z"
    },
    "id": "sBn3vibBlvSX",
    "outputId": "6e5f9d00-4d7f-4723-e315-d558b8f41cb4"
   },
   "outputs": [
    {
     "data": {
      "text/html": [
       "<div>\n",
       "<style scoped>\n",
       "    .dataframe tbody tr th:only-of-type {\n",
       "        vertical-align: middle;\n",
       "    }\n",
       "\n",
       "    .dataframe tbody tr th {\n",
       "        vertical-align: top;\n",
       "    }\n",
       "\n",
       "    .dataframe thead th {\n",
       "        text-align: right;\n",
       "    }\n",
       "</style>\n",
       "<table border=\"1\" class=\"dataframe\">\n",
       "  <thead>\n",
       "    <tr style=\"text-align: right;\">\n",
       "      <th></th>\n",
       "      <th>index</th>\n",
       "      <th>question</th>\n",
       "      <th>generated_answer</th>\n",
       "    </tr>\n",
       "  </thead>\n",
       "  <tbody>\n",
       "    <tr>\n",
       "      <th>0</th>\n",
       "      <td>!0001</td>\n",
       "      <td>What are the advantages of using a Ni foam (NF...</td>\n",
       "      <td>The advantages of using a Ni foam (NF) substra...</td>\n",
       "    </tr>\n",
       "    <tr>\n",
       "      <th>1</th>\n",
       "      <td>!0002</td>\n",
       "      <td>How does the hierarchical structure and compos...</td>\n",
       "      <td>The hierarchical structure and composition of ...</td>\n",
       "    </tr>\n",
       "    <tr>\n",
       "      <th>2</th>\n",
       "      <td>!0003</td>\n",
       "      <td>What are the current challenges and limitation...</td>\n",
       "      <td>Current challenges and limitations of defect e...</td>\n",
       "    </tr>\n",
       "    <tr>\n",
       "      <th>3</th>\n",
       "      <td>!0004</td>\n",
       "      <td>What are the promising future research directi...</td>\n",
       "      <td>Promising future research directions in the fi...</td>\n",
       "    </tr>\n",
       "    <tr>\n",
       "      <th>4</th>\n",
       "      <td>!0005</td>\n",
       "      <td>How do the properties and performance of the C...</td>\n",
       "      <td>The properties and performance of CTF films ca...</td>\n",
       "    </tr>\n",
       "    <tr>\n",
       "      <th>...</th>\n",
       "      <td>...</td>\n",
       "      <td>...</td>\n",
       "      <td>...</td>\n",
       "    </tr>\n",
       "    <tr>\n",
       "      <th>5711</th>\n",
       "      <td>!5712</td>\n",
       "      <td>What is the rate of hydrogen evolution (in µmo...</td>\n",
       "      <td>Hydrogen evolution rate for MoS-based nanomate...</td>\n",
       "    </tr>\n",
       "    <tr>\n",
       "      <th>5712</th>\n",
       "      <td>!5713</td>\n",
       "      <td>How much hydrogen (in µmol) is produced per gr...</td>\n",
       "      <td>Hydrogen produced by Pt-Co alloy: Pt-Co alloys...</td>\n",
       "    </tr>\n",
       "    <tr>\n",
       "      <th>5713</th>\n",
       "      <td>!5714</td>\n",
       "      <td>What is the hydrogen production rate (in mL/mi...</td>\n",
       "      <td>Hydrogen production rate for MoS/TiO hybrid ca...</td>\n",
       "    </tr>\n",
       "    <tr>\n",
       "      <th>5714</th>\n",
       "      <td>!5715</td>\n",
       "      <td>How much hydrogen (in µmol) is produced per gr...</td>\n",
       "      <td>Hydrogen produced by CoFeO-based photocatalyst...</td>\n",
       "    </tr>\n",
       "    <tr>\n",
       "      <th>5715</th>\n",
       "      <td>!5716</td>\n",
       "      <td>What is the energy efficiency (%) of a CuO-bas...</td>\n",
       "      <td>Energy efficiency of CuO-based catalyst in pho...</td>\n",
       "    </tr>\n",
       "  </tbody>\n",
       "</table>\n",
       "<p>5716 rows × 3 columns</p>\n",
       "</div>"
      ],
      "text/plain": [
       "      index                                           question  \\\n",
       "0     !0001  What are the advantages of using a Ni foam (NF...   \n",
       "1     !0002  How does the hierarchical structure and compos...   \n",
       "2     !0003  What are the current challenges and limitation...   \n",
       "3     !0004  What are the promising future research directi...   \n",
       "4     !0005  How do the properties and performance of the C...   \n",
       "...     ...                                                ...   \n",
       "5711  !5712  What is the rate of hydrogen evolution (in µmo...   \n",
       "5712  !5713  How much hydrogen (in µmol) is produced per gr...   \n",
       "5713  !5714  What is the hydrogen production rate (in mL/mi...   \n",
       "5714  !5715  How much hydrogen (in µmol) is produced per gr...   \n",
       "5715  !5716  What is the energy efficiency (%) of a CuO-bas...   \n",
       "\n",
       "                                       generated_answer  \n",
       "0     The advantages of using a Ni foam (NF) substra...  \n",
       "1     The hierarchical structure and composition of ...  \n",
       "2     Current challenges and limitations of defect e...  \n",
       "3     Promising future research directions in the fi...  \n",
       "4     The properties and performance of CTF films ca...  \n",
       "...                                                 ...  \n",
       "5711  Hydrogen evolution rate for MoS-based nanomate...  \n",
       "5712  Hydrogen produced by Pt-Co alloy: Pt-Co alloys...  \n",
       "5713  Hydrogen production rate for MoS/TiO hybrid ca...  \n",
       "5714  Hydrogen produced by CoFeO-based photocatalyst...  \n",
       "5715  Energy efficiency of CuO-based catalyst in pho...  \n",
       "\n",
       "[5716 rows x 3 columns]"
      ]
     },
     "execution_count": 9,
     "metadata": {},
     "output_type": "execute_result"
    }
   ],
   "source": [
    "qa_data"
   ]
  },
  {
   "cell_type": "code",
   "execution_count": 10,
   "metadata": {
    "execution": {
     "iopub.execute_input": "2025-03-29T08:03:06.360315Z",
     "iopub.status.busy": "2025-03-29T08:03:06.359996Z",
     "iopub.status.idle": "2025-03-29T08:03:06.379275Z",
     "shell.execute_reply": "2025-03-29T08:03:06.378587Z",
     "shell.execute_reply.started": "2025-03-29T08:03:06.360283Z"
    },
    "id": "MXBcLLx7lvSX"
   },
   "outputs": [],
   "source": [
    "qa_data.dropna(inplace=True)\n",
    "chunk.dropna(inplace=True)"
   ]
  },
  {
   "cell_type": "code",
   "execution_count": 11,
   "metadata": {
    "execution": {
     "iopub.execute_input": "2025-03-29T08:03:06.380589Z",
     "iopub.status.busy": "2025-03-29T08:03:06.380284Z",
     "iopub.status.idle": "2025-03-29T08:03:06.395240Z",
     "shell.execute_reply": "2025-03-29T08:03:06.394215Z",
     "shell.execute_reply.started": "2025-03-29T08:03:06.380552Z"
    },
    "id": "VKynDpq6lvSZ"
   },
   "outputs": [],
   "source": [
    "qa_data=qa_data.drop(columns=['index'])"
   ]
  },
  {
   "cell_type": "code",
   "execution_count": 12,
   "metadata": {
    "colab": {
     "base_uri": "https://localhost:8080/",
     "height": 423
    },
    "execution": {
     "iopub.execute_input": "2025-03-29T08:03:06.396403Z",
     "iopub.status.busy": "2025-03-29T08:03:06.396077Z",
     "iopub.status.idle": "2025-03-29T08:03:06.415111Z",
     "shell.execute_reply": "2025-03-29T08:03:06.414356Z",
     "shell.execute_reply.started": "2025-03-29T08:03:06.396375Z"
    },
    "id": "HIXeBnjplvSa",
    "outputId": "38453745-a736-413e-d6b1-6c69fefa112e"
   },
   "outputs": [
    {
     "data": {
      "text/html": [
       "<div>\n",
       "<style scoped>\n",
       "    .dataframe tbody tr th:only-of-type {\n",
       "        vertical-align: middle;\n",
       "    }\n",
       "\n",
       "    .dataframe tbody tr th {\n",
       "        vertical-align: top;\n",
       "    }\n",
       "\n",
       "    .dataframe thead th {\n",
       "        text-align: right;\n",
       "    }\n",
       "</style>\n",
       "<table border=\"1\" class=\"dataframe\">\n",
       "  <thead>\n",
       "    <tr style=\"text-align: right;\">\n",
       "      <th></th>\n",
       "      <th>question</th>\n",
       "      <th>generated_answer</th>\n",
       "    </tr>\n",
       "  </thead>\n",
       "  <tbody>\n",
       "    <tr>\n",
       "      <th>0</th>\n",
       "      <td>What are the advantages of using a Ni foam (NF...</td>\n",
       "      <td>The advantages of using a Ni foam (NF) substra...</td>\n",
       "    </tr>\n",
       "    <tr>\n",
       "      <th>1</th>\n",
       "      <td>How does the hierarchical structure and compos...</td>\n",
       "      <td>The hierarchical structure and composition of ...</td>\n",
       "    </tr>\n",
       "    <tr>\n",
       "      <th>2</th>\n",
       "      <td>What are the current challenges and limitation...</td>\n",
       "      <td>Current challenges and limitations of defect e...</td>\n",
       "    </tr>\n",
       "    <tr>\n",
       "      <th>3</th>\n",
       "      <td>What are the promising future research directi...</td>\n",
       "      <td>Promising future research directions in the fi...</td>\n",
       "    </tr>\n",
       "    <tr>\n",
       "      <th>4</th>\n",
       "      <td>How do the properties and performance of the C...</td>\n",
       "      <td>The properties and performance of CTF films ca...</td>\n",
       "    </tr>\n",
       "    <tr>\n",
       "      <th>...</th>\n",
       "      <td>...</td>\n",
       "      <td>...</td>\n",
       "    </tr>\n",
       "    <tr>\n",
       "      <th>5711</th>\n",
       "      <td>What is the rate of hydrogen evolution (in µmo...</td>\n",
       "      <td>Hydrogen evolution rate for MoS-based nanomate...</td>\n",
       "    </tr>\n",
       "    <tr>\n",
       "      <th>5712</th>\n",
       "      <td>How much hydrogen (in µmol) is produced per gr...</td>\n",
       "      <td>Hydrogen produced by Pt-Co alloy: Pt-Co alloys...</td>\n",
       "    </tr>\n",
       "    <tr>\n",
       "      <th>5713</th>\n",
       "      <td>What is the hydrogen production rate (in mL/mi...</td>\n",
       "      <td>Hydrogen production rate for MoS/TiO hybrid ca...</td>\n",
       "    </tr>\n",
       "    <tr>\n",
       "      <th>5714</th>\n",
       "      <td>How much hydrogen (in µmol) is produced per gr...</td>\n",
       "      <td>Hydrogen produced by CoFeO-based photocatalyst...</td>\n",
       "    </tr>\n",
       "    <tr>\n",
       "      <th>5715</th>\n",
       "      <td>What is the energy efficiency (%) of a CuO-bas...</td>\n",
       "      <td>Energy efficiency of CuO-based catalyst in pho...</td>\n",
       "    </tr>\n",
       "  </tbody>\n",
       "</table>\n",
       "<p>5716 rows × 2 columns</p>\n",
       "</div>"
      ],
      "text/plain": [
       "                                               question  \\\n",
       "0     What are the advantages of using a Ni foam (NF...   \n",
       "1     How does the hierarchical structure and compos...   \n",
       "2     What are the current challenges and limitation...   \n",
       "3     What are the promising future research directi...   \n",
       "4     How do the properties and performance of the C...   \n",
       "...                                                 ...   \n",
       "5711  What is the rate of hydrogen evolution (in µmo...   \n",
       "5712  How much hydrogen (in µmol) is produced per gr...   \n",
       "5713  What is the hydrogen production rate (in mL/mi...   \n",
       "5714  How much hydrogen (in µmol) is produced per gr...   \n",
       "5715  What is the energy efficiency (%) of a CuO-bas...   \n",
       "\n",
       "                                       generated_answer  \n",
       "0     The advantages of using a Ni foam (NF) substra...  \n",
       "1     The hierarchical structure and composition of ...  \n",
       "2     Current challenges and limitations of defect e...  \n",
       "3     Promising future research directions in the fi...  \n",
       "4     The properties and performance of CTF films ca...  \n",
       "...                                                 ...  \n",
       "5711  Hydrogen evolution rate for MoS-based nanomate...  \n",
       "5712  Hydrogen produced by Pt-Co alloy: Pt-Co alloys...  \n",
       "5713  Hydrogen production rate for MoS/TiO hybrid ca...  \n",
       "5714  Hydrogen produced by CoFeO-based photocatalyst...  \n",
       "5715  Energy efficiency of CuO-based catalyst in pho...  \n",
       "\n",
       "[5716 rows x 2 columns]"
      ]
     },
     "execution_count": 12,
     "metadata": {},
     "output_type": "execute_result"
    }
   ],
   "source": [
    "qa_data"
   ]
  },
  {
   "cell_type": "code",
   "execution_count": 13,
   "metadata": {
    "colab": {
     "base_uri": "https://localhost:8080/",
     "height": 423
    },
    "execution": {
     "iopub.execute_input": "2025-03-29T08:03:06.416229Z",
     "iopub.status.busy": "2025-03-29T08:03:06.416022Z",
     "iopub.status.idle": "2025-03-29T08:03:06.442304Z",
     "shell.execute_reply": "2025-03-29T08:03:06.441434Z",
     "shell.execute_reply.started": "2025-03-29T08:03:06.416212Z"
    },
    "id": "5dyvvJCKlvSa",
    "outputId": "1a7cd7b1-b7f5-4bb9-9553-5a719acf90dd"
   },
   "outputs": [
    {
     "data": {
      "text/html": [
       "<div>\n",
       "<style scoped>\n",
       "    .dataframe tbody tr th:only-of-type {\n",
       "        vertical-align: middle;\n",
       "    }\n",
       "\n",
       "    .dataframe tbody tr th {\n",
       "        vertical-align: top;\n",
       "    }\n",
       "\n",
       "    .dataframe thead th {\n",
       "        text-align: right;\n",
       "    }\n",
       "</style>\n",
       "<table border=\"1\" class=\"dataframe\">\n",
       "  <thead>\n",
       "    <tr style=\"text-align: right;\">\n",
       "      <th></th>\n",
       "      <th>Chunk</th>\n",
       "    </tr>\n",
       "  </thead>\n",
       "  <tbody>\n",
       "    <tr>\n",
       "      <th>0</th>\n",
       "      <td>Various methods have been developed to synthes...</td>\n",
       "    </tr>\n",
       "    <tr>\n",
       "      <th>1</th>\n",
       "      <td>Researchers have developed a metal-free electr...</td>\n",
       "    </tr>\n",
       "    <tr>\n",
       "      <th>2</th>\n",
       "      <td>MXenes, a new class of materials, are layered ...</td>\n",
       "    </tr>\n",
       "    <tr>\n",
       "      <th>3</th>\n",
       "      <td>This research focuses on the design and charac...</td>\n",
       "    </tr>\n",
       "    <tr>\n",
       "      <th>4</th>\n",
       "      <td>Surface photocatalysts are susceptible to degr...</td>\n",
       "    </tr>\n",
       "    <tr>\n",
       "      <th>...</th>\n",
       "      <td>...</td>\n",
       "    </tr>\n",
       "    <tr>\n",
       "      <th>146</th>\n",
       "      <td>Researchers have successfully developed ordere...</td>\n",
       "    </tr>\n",
       "    <tr>\n",
       "      <th>147</th>\n",
       "      <td>Defect engineering and morphological engineeri...</td>\n",
       "    </tr>\n",
       "    <tr>\n",
       "      <th>148</th>\n",
       "      <td>MXenes, with their unique layered structure, e...</td>\n",
       "    </tr>\n",
       "    <tr>\n",
       "      <th>149</th>\n",
       "      <td>The overexploitation of fossil fuels has led t...</td>\n",
       "    </tr>\n",
       "    <tr>\n",
       "      <th>150</th>\n",
       "      <td>The enhanced electrocatalytic activity of NiSe...</td>\n",
       "    </tr>\n",
       "  </tbody>\n",
       "</table>\n",
       "<p>151 rows × 1 columns</p>\n",
       "</div>"
      ],
      "text/plain": [
       "                                                 Chunk\n",
       "0    Various methods have been developed to synthes...\n",
       "1    Researchers have developed a metal-free electr...\n",
       "2    MXenes, a new class of materials, are layered ...\n",
       "3    This research focuses on the design and charac...\n",
       "4    Surface photocatalysts are susceptible to degr...\n",
       "..                                                 ...\n",
       "146  Researchers have successfully developed ordere...\n",
       "147  Defect engineering and morphological engineeri...\n",
       "148  MXenes, with their unique layered structure, e...\n",
       "149  The overexploitation of fossil fuels has led t...\n",
       "150  The enhanced electrocatalytic activity of NiSe...\n",
       "\n",
       "[151 rows x 1 columns]"
      ]
     },
     "execution_count": 13,
     "metadata": {},
     "output_type": "execute_result"
    }
   ],
   "source": [
    "chunk"
   ]
  },
  {
   "cell_type": "code",
   "execution_count": 14,
   "metadata": {
    "colab": {
     "base_uri": "https://localhost:8080/"
    },
    "execution": {
     "iopub.execute_input": "2025-03-29T08:03:06.443456Z",
     "iopub.status.busy": "2025-03-29T08:03:06.443116Z",
     "iopub.status.idle": "2025-03-29T08:03:10.346119Z",
     "shell.execute_reply": "2025-03-29T08:03:10.345206Z",
     "shell.execute_reply.started": "2025-03-29T08:03:06.443436Z"
    },
    "id": "FFjwQWL8lvSb",
    "outputId": "2b084059-c31f-4d16-bfea-0b240256203f"
   },
   "outputs": [
    {
     "name": "stdout",
     "output_type": "stream",
     "text": [
      "Collecting pinecone\n",
      "  Downloading pinecone-6.0.2-py3-none-any.whl.metadata (9.0 kB)\n",
      "Requirement already satisfied: certifi>=2019.11.17 in /usr/local/lib/python3.10/dist-packages (from pinecone) (2025.1.31)\n",
      "Collecting pinecone-plugin-interface<0.0.8,>=0.0.7 (from pinecone)\n",
      "  Downloading pinecone_plugin_interface-0.0.7-py3-none-any.whl.metadata (1.2 kB)\n",
      "Requirement already satisfied: python-dateutil>=2.5.3 in /usr/local/lib/python3.10/dist-packages (from pinecone) (2.9.0.post0)\n",
      "Requirement already satisfied: typing-extensions>=3.7.4 in /usr/local/lib/python3.10/dist-packages (from pinecone) (4.12.2)\n",
      "Requirement already satisfied: urllib3>=1.26.0 in /usr/local/lib/python3.10/dist-packages (from pinecone) (2.3.0)\n",
      "Requirement already satisfied: six>=1.5 in /usr/local/lib/python3.10/dist-packages (from python-dateutil>=2.5.3->pinecone) (1.17.0)\n",
      "Downloading pinecone-6.0.2-py3-none-any.whl (421 kB)\n",
      "\u001b[2K   \u001b[90m━━━━━━━━━━━━━━━━━━━━━━━━━━━━━━━━━━━━━━━━\u001b[0m \u001b[32m421.9/421.9 kB\u001b[0m \u001b[31m11.0 MB/s\u001b[0m eta \u001b[36m0:00:00\u001b[0m00:01\u001b[0m\n",
      "\u001b[?25hDownloading pinecone_plugin_interface-0.0.7-py3-none-any.whl (6.2 kB)\n",
      "Installing collected packages: pinecone-plugin-interface, pinecone\n",
      "Successfully installed pinecone-6.0.2 pinecone-plugin-interface-0.0.7\n",
      "Note: you may need to restart the kernel to use updated packages.\n"
     ]
    }
   ],
   "source": [
    "pip install --upgrade pinecone"
   ]
  },
  {
   "cell_type": "markdown",
   "metadata": {
    "id": "nhNtA3ptlvSc"
   },
   "source": [
    "# Initializing Pinecone Index\n"
   ]
  },
  {
   "cell_type": "code",
   "execution_count": 15,
   "metadata": {
    "execution": {
     "iopub.execute_input": "2025-03-29T08:03:10.347482Z",
     "iopub.status.busy": "2025-03-29T08:03:10.347197Z",
     "iopub.status.idle": "2025-03-29T08:03:10.433221Z",
     "shell.execute_reply": "2025-03-29T08:03:10.432659Z",
     "shell.execute_reply.started": "2025-03-29T08:03:10.347457Z"
    },
    "id": "9V-lay1ZlvSd"
   },
   "outputs": [],
   "source": [
    "import os\n",
    "from pinecone import Pinecone\n",
    "\n",
    "# Set the API key directly in the code\n",
    "api_key = 'df47aa2a-f42c-4446-85bc-e2a4af03f79d'\n",
    "\n",
    "# Initialize the Pinecone client using the API key\n",
    "pc = Pinecone(api_key=api_key)"
   ]
  },
  {
   "cell_type": "code",
   "execution_count": 17,
   "metadata": {
    "execution": {
     "iopub.execute_input": "2025-03-29T08:03:10.439279Z",
     "iopub.status.busy": "2025-03-29T08:03:10.438986Z",
     "iopub.status.idle": "2025-03-29T08:03:10.454968Z",
     "shell.execute_reply": "2025-03-29T08:03:10.454312Z",
     "shell.execute_reply.started": "2025-03-29T08:03:10.439231Z"
    },
    "id": "26gGWpMIlvSe"
   },
   "outputs": [],
   "source": [
    "from pinecone import ServerlessSpec\n",
    "\n",
    "cloud = os.environ.get('PINECONE_CLOUD') or 'aws'\n",
    "region = os.environ.get('PINECONE_REGION') or 'us-east-1'\n",
    "\n",
    "spec = ServerlessSpec(cloud=cloud, region=region)"
   ]
  },
  {
   "cell_type": "code",
   "execution_count": 18,
   "metadata": {
    "execution": {
     "iopub.execute_input": "2025-03-29T08:03:10.455800Z",
     "iopub.status.busy": "2025-03-29T08:03:10.455630Z",
     "iopub.status.idle": "2025-03-29T08:03:10.473248Z",
     "shell.execute_reply": "2025-03-29T08:03:10.472451Z",
     "shell.execute_reply.started": "2025-03-29T08:03:10.455784Z"
    },
    "id": "8uiaX5tvlvSe"
   },
   "outputs": [],
   "source": [
    "index_name_1 = \"hydro-question-answer\"\n",
    "index_name_2 = \"hydro-chunk\""
   ]
  },
  {
   "cell_type": "code",
   "execution_count": 19,
   "metadata": {
    "colab": {
     "base_uri": "https://localhost:8080/"
    },
    "execution": {
     "iopub.execute_input": "2025-03-29T08:03:10.474507Z",
     "iopub.status.busy": "2025-03-29T08:03:10.474212Z",
     "iopub.status.idle": "2025-03-29T08:03:11.931955Z",
     "shell.execute_reply": "2025-03-29T08:03:11.931304Z",
     "shell.execute_reply.started": "2025-03-29T08:03:10.474479Z"
    },
    "id": "Vq3WQOwOlvSe",
    "outputId": "48bee8c2-a163-4c75-f310-a9837b50d50d"
   },
   "outputs": [
    {
     "name": "stdout",
     "output_type": "stream",
     "text": [
      "Question Index Stats:\n",
      "{'dimension': 768,\n",
      " 'index_fullness': 0.0,\n",
      " 'metric': 'cosine',\n",
      " 'namespaces': {'': {'vector_count': 5716}},\n",
      " 'total_vector_count': 5716,\n",
      " 'vector_type': 'dense'}\n"
     ]
    }
   ],
   "source": [
    "import time\n",
    "\n",
    "# Check if index for questions already exists\n",
    "if index_name_1 not in pc.list_indexes().names():\n",
    "    pc.create_index(\n",
    "        index_name_1,\n",
    "        dimension=768,  \n",
    "        metric='cosine',\n",
    "        spec=spec\n",
    "    )\n",
    "    while not pc.describe_index(index_name_1).status['ready']:\n",
    "        time.sleep(1)\n",
    "\n",
    "# Connect to the question index\n",
    "index_1 = pc.Index(index_name_1)\n",
    "# View index stats for the question index\n",
    "print(\"Question Index Stats:\")\n",
    "print(index_1.describe_index_stats())\n"
   ]
  },
  {
   "cell_type": "code",
   "execution_count": 20,
   "metadata": {
    "colab": {
     "base_uri": "https://localhost:8080/"
    },
    "execution": {
     "iopub.execute_input": "2025-03-29T08:03:11.932980Z",
     "iopub.status.busy": "2025-03-29T08:03:11.932731Z",
     "iopub.status.idle": "2025-03-29T08:03:15.696537Z",
     "shell.execute_reply": "2025-03-29T08:03:15.695681Z",
     "shell.execute_reply.started": "2025-03-29T08:03:11.932959Z"
    },
    "id": "KGo0-X5VlvSf",
    "outputId": "1b5dded2-a383-466c-f19a-2306d4fd6751"
   },
   "outputs": [
    {
     "name": "stdout",
     "output_type": "stream",
     "text": [
      "Chunk Index Stats:\n",
      "{'dimension': 768,\n",
      " 'index_fullness': 0.0,\n",
      " 'metric': 'cosine',\n",
      " 'namespaces': {'': {'vector_count': 151}},\n",
      " 'total_vector_count': 151,\n",
      " 'vector_type': 'dense'}\n"
     ]
    }
   ],
   "source": [
    "# Check if index for chunks already exists\n",
    "if index_name_2 not in pc.list_indexes().names():\n",
    "    pc.create_index(\n",
    "        index_name_2,\n",
    "        dimension=768,  \n",
    "        metric='cosine',\n",
    "        spec=spec\n",
    "    )\n",
    "    while not pc.describe_index(index_name_2).status['ready']:\n",
    "        time.sleep(1)\n",
    "\n",
    "# Connect to the chunk index\n",
    "index_2 = pc.Index(index_name_2)\n",
    "# View index stats for the chunk index\n",
    "print(\"Chunk Index Stats:\")\n",
    "print(index_2.describe_index_stats())"
   ]
  },
  {
   "cell_type": "markdown",
   "metadata": {
    "id": "dJNH6RdWlvSg"
   },
   "source": [
    "# Initializing Retriever Model"
   ]
  },
  {
   "cell_type": "code",
   "execution_count": 21,
   "metadata": {
    "colab": {
     "base_uri": "https://localhost:8080/"
    },
    "execution": {
     "iopub.execute_input": "2025-03-29T08:03:15.697650Z",
     "iopub.status.busy": "2025-03-29T08:03:15.697409Z",
     "iopub.status.idle": "2025-03-29T08:03:19.024545Z",
     "shell.execute_reply": "2025-03-29T08:03:19.023526Z",
     "shell.execute_reply.started": "2025-03-29T08:03:15.697619Z"
    },
    "id": "n1IcirXZlvSj",
    "outputId": "2366d2c3-5e06-4aaf-b586-2f1e722ce694"
   },
   "outputs": [
    {
     "name": "stdout",
     "output_type": "stream",
     "text": [
      "Requirement already satisfied: sentence-transformers in /usr/local/lib/python3.10/dist-packages (3.3.1)\n",
      "Requirement already satisfied: transformers<5.0.0,>=4.41.0 in /usr/local/lib/python3.10/dist-packages (from sentence-transformers) (4.47.0)\n",
      "Requirement already satisfied: tqdm in /usr/local/lib/python3.10/dist-packages (from sentence-transformers) (4.67.1)\n",
      "Requirement already satisfied: torch>=1.11.0 in /usr/local/lib/python3.10/dist-packages (from sentence-transformers) (2.5.1+cu121)\n",
      "Requirement already satisfied: scikit-learn in /usr/local/lib/python3.10/dist-packages (from sentence-transformers) (1.2.2)\n",
      "Requirement already satisfied: scipy in /usr/local/lib/python3.10/dist-packages (from sentence-transformers) (1.13.1)\n",
      "Requirement already satisfied: huggingface-hub>=0.20.0 in /usr/local/lib/python3.10/dist-packages (from sentence-transformers) (0.29.0)\n",
      "Requirement already satisfied: Pillow in /usr/local/lib/python3.10/dist-packages (from sentence-transformers) (11.0.0)\n",
      "Requirement already satisfied: filelock in /usr/local/lib/python3.10/dist-packages (from huggingface-hub>=0.20.0->sentence-transformers) (3.17.0)\n",
      "Requirement already satisfied: fsspec>=2023.5.0 in /usr/local/lib/python3.10/dist-packages (from huggingface-hub>=0.20.0->sentence-transformers) (2024.12.0)\n",
      "Requirement already satisfied: packaging>=20.9 in /usr/local/lib/python3.10/dist-packages (from huggingface-hub>=0.20.0->sentence-transformers) (24.2)\n",
      "Requirement already satisfied: pyyaml>=5.1 in /usr/local/lib/python3.10/dist-packages (from huggingface-hub>=0.20.0->sentence-transformers) (6.0.2)\n",
      "Requirement already satisfied: requests in /usr/local/lib/python3.10/dist-packages (from huggingface-hub>=0.20.0->sentence-transformers) (2.32.3)\n",
      "Requirement already satisfied: typing-extensions>=3.7.4.3 in /usr/local/lib/python3.10/dist-packages (from huggingface-hub>=0.20.0->sentence-transformers) (4.12.2)\n",
      "Requirement already satisfied: networkx in /usr/local/lib/python3.10/dist-packages (from torch>=1.11.0->sentence-transformers) (3.4.2)\n",
      "Requirement already satisfied: jinja2 in /usr/local/lib/python3.10/dist-packages (from torch>=1.11.0->sentence-transformers) (3.1.4)\n",
      "Requirement already satisfied: sympy==1.13.1 in /usr/local/lib/python3.10/dist-packages (from torch>=1.11.0->sentence-transformers) (1.13.1)\n",
      "Requirement already satisfied: mpmath<1.4,>=1.1.0 in /usr/local/lib/python3.10/dist-packages (from sympy==1.13.1->torch>=1.11.0->sentence-transformers) (1.3.0)\n",
      "Requirement already satisfied: numpy>=1.17 in /usr/local/lib/python3.10/dist-packages (from transformers<5.0.0,>=4.41.0->sentence-transformers) (1.26.4)\n",
      "Requirement already satisfied: regex!=2019.12.17 in /usr/local/lib/python3.10/dist-packages (from transformers<5.0.0,>=4.41.0->sentence-transformers) (2024.11.6)\n",
      "Requirement already satisfied: tokenizers<0.22,>=0.21 in /usr/local/lib/python3.10/dist-packages (from transformers<5.0.0,>=4.41.0->sentence-transformers) (0.21.0)\n",
      "Requirement already satisfied: safetensors>=0.4.1 in /usr/local/lib/python3.10/dist-packages (from transformers<5.0.0,>=4.41.0->sentence-transformers) (0.4.5)\n",
      "Requirement already satisfied: joblib>=1.1.1 in /usr/local/lib/python3.10/dist-packages (from scikit-learn->sentence-transformers) (1.4.2)\n",
      "Requirement already satisfied: threadpoolctl>=2.0.0 in /usr/local/lib/python3.10/dist-packages (from scikit-learn->sentence-transformers) (3.5.0)\n",
      "Requirement already satisfied: mkl_fft in /usr/local/lib/python3.10/dist-packages (from numpy>=1.17->transformers<5.0.0,>=4.41.0->sentence-transformers) (1.3.8)\n",
      "Requirement already satisfied: mkl_random in /usr/local/lib/python3.10/dist-packages (from numpy>=1.17->transformers<5.0.0,>=4.41.0->sentence-transformers) (1.2.4)\n",
      "Requirement already satisfied: mkl_umath in /usr/local/lib/python3.10/dist-packages (from numpy>=1.17->transformers<5.0.0,>=4.41.0->sentence-transformers) (0.1.1)\n",
      "Requirement already satisfied: mkl in /usr/local/lib/python3.10/dist-packages (from numpy>=1.17->transformers<5.0.0,>=4.41.0->sentence-transformers) (2025.0.1)\n",
      "Requirement already satisfied: tbb4py in /usr/local/lib/python3.10/dist-packages (from numpy>=1.17->transformers<5.0.0,>=4.41.0->sentence-transformers) (2022.0.0)\n",
      "Requirement already satisfied: mkl-service in /usr/local/lib/python3.10/dist-packages (from numpy>=1.17->transformers<5.0.0,>=4.41.0->sentence-transformers) (2.4.1)\n",
      "Requirement already satisfied: MarkupSafe>=2.0 in /usr/local/lib/python3.10/dist-packages (from jinja2->torch>=1.11.0->sentence-transformers) (3.0.2)\n",
      "Requirement already satisfied: charset-normalizer<4,>=2 in /usr/local/lib/python3.10/dist-packages (from requests->huggingface-hub>=0.20.0->sentence-transformers) (3.4.1)\n",
      "Requirement already satisfied: idna<4,>=2.5 in /usr/local/lib/python3.10/dist-packages (from requests->huggingface-hub>=0.20.0->sentence-transformers) (3.10)\n",
      "Requirement already satisfied: urllib3<3,>=1.21.1 in /usr/local/lib/python3.10/dist-packages (from requests->huggingface-hub>=0.20.0->sentence-transformers) (2.3.0)\n",
      "Requirement already satisfied: certifi>=2017.4.17 in /usr/local/lib/python3.10/dist-packages (from requests->huggingface-hub>=0.20.0->sentence-transformers) (2025.1.31)\n",
      "Requirement already satisfied: intel-openmp>=2024 in /usr/local/lib/python3.10/dist-packages (from mkl->numpy>=1.17->transformers<5.0.0,>=4.41.0->sentence-transformers) (2024.2.0)\n",
      "Requirement already satisfied: tbb==2022.* in /usr/local/lib/python3.10/dist-packages (from mkl->numpy>=1.17->transformers<5.0.0,>=4.41.0->sentence-transformers) (2022.0.0)\n",
      "Requirement already satisfied: tcmlib==1.* in /usr/local/lib/python3.10/dist-packages (from tbb==2022.*->mkl->numpy>=1.17->transformers<5.0.0,>=4.41.0->sentence-transformers) (1.2.0)\n",
      "Requirement already satisfied: intel-cmplr-lib-rt in /usr/local/lib/python3.10/dist-packages (from mkl_umath->numpy>=1.17->transformers<5.0.0,>=4.41.0->sentence-transformers) (2024.2.0)\n",
      "Requirement already satisfied: intel-cmplr-lib-ur==2024.2.0 in /usr/local/lib/python3.10/dist-packages (from intel-openmp>=2024->mkl->numpy>=1.17->transformers<5.0.0,>=4.41.0->sentence-transformers) (2024.2.0)\n",
      "Note: you may need to restart the kernel to use updated packages.\n"
     ]
    }
   ],
   "source": [
    "pip install sentence-transformers"
   ]
  },
  {
   "cell_type": "code",
   "execution_count": 22,
   "metadata": {
    "colab": {
     "base_uri": "https://localhost:8080/",
     "height": 647,
     "referenced_widgets": [
      "ea613441f2074bafaf91eb2dd885afbb",
      "2d9cee6174cf46fc9519e203a1f94902",
      "3ace045207d944ac80d915728dd9b71d",
      "1cf01899a76141fb985ff2892ed007fa",
      "ba6f36f96a2d48c5be7d10ae3f70a3c5",
      "0f5e5a44489d4eacad0178c7a4eda63d",
      "b4733e67e25646a890f4603b745b11b2",
      "be8bd77a5ce944cbab651e4b7633d81e",
      "734c75fcaa424835bd320498409c2407",
      "e4950b3c7be2497c8c0b1082f6a5f739",
      "966b3dc1a75d4070b0d5d4918b744630",
      "e9bd0658e0074e39a9a8a5a5c7d28cff",
      "91bf83c6c921427490d8db49d599951d",
      "ba0ac33b2ed4437aaf1c85abd52913f4",
      "f7b4f72bdb0c4292becf89355859e13b",
      "06bd95966eb242d396bb93d203469263",
      "fa7cbb1d19a1489ba41b960d588e0657",
      "cffbfa98e7d7437dac5257d7b7993206",
      "da69d76336fd4db3a6516bf975768bc4",
      "8c16d3c43f52481e8b2c074086fca3b8",
      "7d4374e9c7134d40a461b5d63ddf8e3d",
      "b93da97d06b547489b4424eae22814f2",
      "5169ba90842343658373d8021c46f150",
      "6358566223964842aff0c010df81d558",
      "d3f210bd5b9b4c378c0f346c1f5f7123",
      "2db55b51d47c48acb7c3558a79189cfe",
      "a385b072e71047ed8411026dc96e730a",
      "d7240bb8052c4210a9c17cba0787d4ef",
      "f56e3601c59f4dd182808815c4534b23",
      "af600f1c911349ce8e9c96b52c229f5d",
      "c775a897d52f4fc9b01ae7ed98f50259",
      "1b086724fa264ed6beddd503f2743ff1",
      "9ac0e665992d4f19903ade7b210283b6",
      "0d389113652148468f01db005ed94e95",
      "104d9b781166467f9e66be5e71f2824a",
      "77b4e4eff13c4722b447eacd15e40dba",
      "459fdc92773c41748e3d84c7c92c321d",
      "37407c2a10264909bf31b435a1540efc",
      "8583666e256a4ce39f2c969bf150a257",
      "fd0816f4f2bd4eeaa92fea88d8b5cc03",
      "b6200d19d0ed48769e30a7e2ca65aa14",
      "33d29293519948c39503d110dac5449a",
      "3d7b2f178811452aa9db359e51ba8dae",
      "4895f0a4cb09437c914d28f7ef134c9f",
      "f633c6fd61774132b6bb13418969b54b",
      "8e163e8c5ece4bed834f46c9cedf1275",
      "b51a76dacde64941b76d1452c001f97b",
      "88afe03aa12147aa8cb4827b30eac8ea",
      "fb9f17b85be8451687200b0ad650eb5d",
      "4b08075e88b14864a692cd555b1bafbd",
      "040a4489efa2467dba5b719f0002f3a7",
      "378147368d854883b9b7806d3286fd0b",
      "b7b3ecb50e6d4631aa72f928d430440f",
      "7b0e47fcda2947798b6c6245aedab9d2",
      "c836079a264140ca9ac5e878c08c7aed",
      "76c077289d124dac9e2cef27c1f890b1",
      "92779f6f18ff4dff897962c5ef1aa2f2",
      "8c6711b17d744f9d98bc4641a5f4a045",
      "e816ea6f037142c18214973584701644",
      "8af7b74ea00a40dbb42477cc005ad625",
      "9fe5c6b8978546589a42afd40bcf9e99",
      "f23f4f0d630c4999925f547f77c26167",
      "e9ddc701923c41afbd67eba3115e7013",
      "5eb88817f163470b80529b329738e144",
      "cb01d28d074444b3bc8627374c3ebc4d",
      "8c58cfc124424fa28b629b8f9b417d57",
      "fe1d39d77e544b7bb95a6c098cf29421",
      "9a901c17c6fa4f87874e5317d96bde2d",
      "4773ddaad72d4643a8e30775d19b70f8",
      "ef453f9c92f945379cf58b1ff34ac088",
      "943ad7e2d6284267bab7bb1c798a9940",
      "9d2b6d2be1d1492baf550bcb21cf58a9",
      "ea835ced982843a3aab337b2d12c513d",
      "8a437d8a7ec24d8b8945006237c2eea2",
      "3f3fd538fa864effbc032ab5207b7ef2",
      "b5c3d7bc81434ed48ff6b6abf1e07f72",
      "a3ebbf9200ed48ac98c65a486e386a7b",
      "87ed6b664681451090e81c413c57499e",
      "6930e008289345998d5de296012dbdcd",
      "e92ff9cffaca4051908991a722c9088b",
      "7c8e76edafba4e3396413b919c16c43c",
      "350f392a913149cfb6bc01476ba82314",
      "a77eaf395b084684acf254ae5591f317",
      "b1c69022a155446a8d278a6651f6985c",
      "50726040037243cc8b1d4a4fb295accd",
      "dded81946c254fdea1c4b7732cfc2aea",
      "64710d6ad58a465591f10e7f81a8ea45",
      "2006d1dbc5da4c8facd6506c25ccf720",
      "b652f1665895429fb0a83ea150b794cf",
      "58b5c98b16214e3bbffddf6ad677aecb",
      "808947f4b4204bc1bb939a145b125a64",
      "a03b4a7245aa4a969bd418bb259684bd",
      "b2500ec1be7e421aac62c03c8bb272d1",
      "6ad99bbb31b34f48a1c17ca48b58c4fe",
      "dd82a6c62ba24f6b81ff29e019ce6204",
      "977dab9e31424b5591bd64f52ca8e56b",
      "6b57e24095094189a6a58f9c21f40e62",
      "0af23115216c435eb2314ac549db8d11",
      "1c5e70e20005405dbe78fbf1faa90340",
      "1aa412749deb423084e2696a5cb3a29b",
      "63c23521599a402eb1f625dbf1c27096",
      "8126838c1af449a889d2633b27c0a2c3",
      "d2f011fcb341449eb291304daa1e595e",
      "3d0c79dfc33c41e8ac3479cc9f3de928",
      "c86786ff8ac44a3b9b774fdd67a516a1",
      "dd082a335b424f83922411ac7267ced4",
      "8f390ce4bd164e50a2ecb0bd922f0fd3",
      "1402e6e6a2694aa790204ccfe6c841d1",
      "043dae3b4b484e39bb5dd5f6dfa5546b",
      "cacecbfb661d4b0994a172698f15ccd4",
      "9d67d28621b4496cab47aae69935223f",
      "039ca5ee78164f88b31f6724d215e458",
      "e608b504669a478c8844c821cc1899de",
      "7b4777bedcb14ee898cbbb5636900127",
      "5a652ca5985c4030b4ecb00c32aa31d3",
      "a8b3b54507f54b709cd919c9d7828360",
      "a4339a09cf3a4f4d9af3171ad1f63b7b",
      "66ce3b4f5f3b4bb8acfc05925047d135",
      "ae2cd2939c474a24b0d86f41a421201d",
      "a9e8e3420d844c66a0169906c2468cea",
      "e959aad96dc943c38a52a7599b25545b",
      "27e8711d23c7414b812a382ad03de233",
      "fdfc6d2c678045269fe45dc2c54198d5",
      "12ba2e82b3a149838029cc04a874cece",
      "f6a5e51b4c4d43399c9a10e38e740df5",
      "50aa620e8b2b4381a3ae62d21fcd846a",
      "d247c2bc1c4b4c1b9942e7e7c860078b",
      "28f584a49c8c4472863a116e8b2dd0d9",
      "9d98b2299d6a47c0a8625e97890f5f1f",
      "599b7fd1463249b4bdac5ebcb6c4b165",
      "139b954c49e3485b8e81dc1afd4b81c8",
      "92b9be7df68e49d3ae3aefe43250e548"
     ]
    },
    "execution": {
     "iopub.execute_input": "2025-03-29T08:03:19.026199Z",
     "iopub.status.busy": "2025-03-29T08:03:19.025838Z",
     "iopub.status.idle": "2025-03-29T08:03:45.380179Z",
     "shell.execute_reply": "2025-03-29T08:03:45.379173Z",
     "shell.execute_reply.started": "2025-03-29T08:03:19.026161Z"
    },
    "id": "d08IOncqlvSl",
    "outputId": "42567227-9881-49a6-b005-c0cd28729dd7"
   },
   "outputs": [
    {
     "data": {
      "application/vnd.jupyter.widget-view+json": {
       "model_id": "89d3546526124deb95f7a78119fa37e6",
       "version_major": 2,
       "version_minor": 0
      },
      "text/plain": [
       "modules.json:   0%|          | 0.00/349 [00:00<?, ?B/s]"
      ]
     },
     "metadata": {},
     "output_type": "display_data"
    },
    {
     "data": {
      "application/vnd.jupyter.widget-view+json": {
       "model_id": "175f896f102c4e608adb893fd31a41db",
       "version_major": 2,
       "version_minor": 0
      },
      "text/plain": [
       "config_sentence_transformers.json:   0%|          | 0.00/116 [00:00<?, ?B/s]"
      ]
     },
     "metadata": {},
     "output_type": "display_data"
    },
    {
     "data": {
      "application/vnd.jupyter.widget-view+json": {
       "model_id": "aca4ccc44fd64ee0a3b08d03b3802c5b",
       "version_major": 2,
       "version_minor": 0
      },
      "text/plain": [
       "README.md:   0%|          | 0.00/9.85k [00:00<?, ?B/s]"
      ]
     },
     "metadata": {},
     "output_type": "display_data"
    },
    {
     "data": {
      "application/vnd.jupyter.widget-view+json": {
       "model_id": "121cc4575d1545b5823e1727ab62c394",
       "version_major": 2,
       "version_minor": 0
      },
      "text/plain": [
       "sentence_bert_config.json:   0%|          | 0.00/53.0 [00:00<?, ?B/s]"
      ]
     },
     "metadata": {},
     "output_type": "display_data"
    },
    {
     "data": {
      "application/vnd.jupyter.widget-view+json": {
       "model_id": "2f9c524f285844daa205bafdc8009a77",
       "version_major": 2,
       "version_minor": 0
      },
      "text/plain": [
       "config.json:   0%|          | 0.00/591 [00:00<?, ?B/s]"
      ]
     },
     "metadata": {},
     "output_type": "display_data"
    },
    {
     "data": {
      "application/vnd.jupyter.widget-view+json": {
       "model_id": "099029ed6bbb468a97aa5fa058cb8a67",
       "version_major": 2,
       "version_minor": 0
      },
      "text/plain": [
       "pytorch_model.bin:   0%|          | 0.00/438M [00:00<?, ?B/s]"
      ]
     },
     "metadata": {},
     "output_type": "display_data"
    },
    {
     "data": {
      "application/vnd.jupyter.widget-view+json": {
       "model_id": "7ac2c01ead304cddb15e6b7ec29d1b95",
       "version_major": 2,
       "version_minor": 0
      },
      "text/plain": [
       "tokenizer_config.json:   0%|          | 0.00/383 [00:00<?, ?B/s]"
      ]
     },
     "metadata": {},
     "output_type": "display_data"
    },
    {
     "data": {
      "application/vnd.jupyter.widget-view+json": {
       "model_id": "85cc7f14e3854db4b99c055bad1e0832",
       "version_major": 2,
       "version_minor": 0
      },
      "text/plain": [
       "vocab.txt:   0%|          | 0.00/232k [00:00<?, ?B/s]"
      ]
     },
     "metadata": {},
     "output_type": "display_data"
    },
    {
     "data": {
      "application/vnd.jupyter.widget-view+json": {
       "model_id": "94039a73e3fb46e6a0677c1670533c78",
       "version_major": 2,
       "version_minor": 0
      },
      "text/plain": [
       "tokenizer.json:   0%|          | 0.00/466k [00:00<?, ?B/s]"
      ]
     },
     "metadata": {},
     "output_type": "display_data"
    },
    {
     "data": {
      "application/vnd.jupyter.widget-view+json": {
       "model_id": "a17786a237914758a45038f409d4112f",
       "version_major": 2,
       "version_minor": 0
      },
      "text/plain": [
       "special_tokens_map.json:   0%|          | 0.00/239 [00:00<?, ?B/s]"
      ]
     },
     "metadata": {},
     "output_type": "display_data"
    },
    {
     "data": {
      "application/vnd.jupyter.widget-view+json": {
       "model_id": "88be68fa3a3d4e53851e0a3ca292d652",
       "version_major": 2,
       "version_minor": 0
      },
      "text/plain": [
       "config.json:   0%|          | 0.00/190 [00:00<?, ?B/s]"
      ]
     },
     "metadata": {},
     "output_type": "display_data"
    },
    {
     "data": {
      "text/plain": [
       "SentenceTransformer(\n",
       "  (0): Transformer({'max_seq_length': 128, 'do_lower_case': False}) with Transformer model: MPNetModel \n",
       "  (1): Pooling({'word_embedding_dimension': 768, 'pooling_mode_cls_token': False, 'pooling_mode_mean_tokens': True, 'pooling_mode_max_tokens': False, 'pooling_mode_mean_sqrt_len_tokens': False, 'pooling_mode_weightedmean_tokens': False, 'pooling_mode_lasttoken': False, 'include_prompt': True})\n",
       "  (2): Normalize()\n",
       ")"
      ]
     },
     "execution_count": 22,
     "metadata": {},
     "output_type": "execute_result"
    }
   ],
   "source": [
    "import torch\n",
    "from sentence_transformers import SentenceTransformer\n",
    "\n",
    "device = 'cuda' if torch.cuda.is_available() else 'cpu'\n",
    "retriever = SentenceTransformer(\"flax-sentence-embeddings/all_datasets_v3_mpnet-base\", device=device)\n",
    "retriever"
   ]
  },
  {
   "cell_type": "markdown",
   "metadata": {
    "id": "3HlJNn62lvSn"
   },
   "source": [
    "# Tokenization and Embedding Generation"
   ]
  },
  {
   "cell_type": "code",
   "execution_count": null,
   "metadata": {
    "execution": {
     "iopub.execute_input": "2024-10-18T09:36:29.276178Z",
     "iopub.status.busy": "2024-10-18T09:36:29.275379Z",
     "iopub.status.idle": "2024-10-18T09:36:29.281068Z",
     "shell.execute_reply": "2024-10-18T09:36:29.279947Z",
     "shell.execute_reply.started": "2024-10-18T09:36:29.276131Z"
    },
    "id": "wxE3uKD4lvSn"
   },
   "outputs": [],
   "source": [
    "from tqdm import tqdm"
   ]
  },
  {
   "cell_type": "code",
   "execution_count": null,
   "metadata": {
    "colab": {
     "base_uri": "https://localhost:8080/"
    },
    "execution": {
     "iopub.execute_input": "2024-10-18T09:36:29.282684Z",
     "iopub.status.busy": "2024-10-18T09:36:29.282295Z",
     "iopub.status.idle": "2024-10-18T09:37:44.138930Z",
     "shell.execute_reply": "2024-10-18T09:37:44.137979Z",
     "shell.execute_reply.started": "2024-10-18T09:36:29.282652Z"
    },
    "id": "5gN77SQblvSo",
    "outputId": "f51960f0-7ba2-472f-94e4-07e3463c0ee5"
   },
   "outputs": [
    {
     "name": "stderr",
     "output_type": "stream",
     "text": [
      "100%|██████████| 179/179 [02:16<00:00,  1.32it/s]\n"
     ]
    },
    {
     "name": "stdout",
     "output_type": "stream",
     "text": [
      "QA Index Stats:\n",
      "{'dimension': 768,\n",
      " 'index_fullness': 0.0,\n",
      " 'metric': 'cosine',\n",
      " 'namespaces': {'': {'vector_count': 5716}},\n",
      " 'total_vector_count': 5716,\n",
      " 'vector_type': 'dense'}\n"
     ]
    }
   ],
   "source": [
    "batch_size = 32\n",
    "\n",
    "for i in tqdm(range(0, len(qa_data), batch_size)):\n",
    "    i_end = min(i + batch_size, len(qa_data))\n",
    "    batch = qa_data.iloc[i:i_end]\n",
    "    combined_inputs = [\n",
    "        f\"Question: {row['question']} Answer: {row['generated_answer'][:200]}\"  \n",
    "        for _, row in batch.iterrows()\n",
    "    ]\n",
    "    qa_embeddings = retriever.encode(combined_inputs).tolist()\n",
    "    qa_meta = batch[[\"question\", \"generated_answer\"]].to_dict(orient=\"records\")\n",
    "    qa_ids = [f\"qa_{idx}\" for idx in range(i, i_end)]\n",
    "    qa_to_upsert = list(zip(qa_ids, qa_embeddings, qa_meta))\n",
    "    _ = index_1.upsert(vectors=qa_to_upsert)\n",
    "\n",
    "\n",
    "print(\"QA Index Stats:\")\n",
    "print(index_1.describe_index_stats())"
   ]
  },
  {
   "cell_type": "code",
   "execution_count": null,
   "metadata": {
    "colab": {
     "base_uri": "https://localhost:8080/"
    },
    "execution": {
     "iopub.execute_input": "2024-10-18T09:37:44.140411Z",
     "iopub.status.busy": "2024-10-18T09:37:44.140102Z",
     "iopub.status.idle": "2024-10-18T09:37:47.203139Z",
     "shell.execute_reply": "2024-10-18T09:37:47.202049Z",
     "shell.execute_reply.started": "2024-10-18T09:37:44.140378Z"
    },
    "id": "x4St_a3WlvSp",
    "outputId": "111c125d-49b0-4946-ae61-6cfae65140b7"
   },
   "outputs": [
    {
     "name": "stderr",
     "output_type": "stream",
     "text": [
      "100%|██████████| 5/5 [00:05<00:00,  1.16s/it]\n"
     ]
    },
    {
     "name": "stdout",
     "output_type": "stream",
     "text": [
      "Chunk Index Stats:\n",
      "{'dimension': 768,\n",
      " 'index_fullness': 0.0,\n",
      " 'metric': 'cosine',\n",
      " 'namespaces': {'': {'vector_count': 151}},\n",
      " 'total_vector_count': 151,\n",
      " 'vector_type': 'dense'}\n"
     ]
    }
   ],
   "source": [
    "batch_size = 32\n",
    "\n",
    "for i in tqdm(range(0, len(chunk), batch_size)):\n",
    "    i_end = min(i + batch_size, len(chunk))\n",
    "    batch = chunk.iloc[i:i_end]\n",
    "    emb = retriever.encode(batch[\"Chunk\"].tolist()).tolist()\n",
    "    meta = batch.to_dict(orient=\"records\")\n",
    "    ids = [f\"{idx}\" for idx in range(i, i_end)]\n",
    "    to_upsert = list(zip(ids, emb, meta))\n",
    "    _ = index_2.upsert(vectors=to_upsert)\n",
    "print(\"Chunk Index Stats:\")\n",
    "print(index_2.describe_index_stats())\n"
   ]
  },
  {
   "cell_type": "markdown",
   "metadata": {
    "id": "o74cJFLHlvSq"
   },
   "source": [
    "# Initialize Generator"
   ]
  },
  {
   "cell_type": "markdown",
   "metadata": {
    "id": "8TL2R8UDlvS8"
   },
   "source": [
    "# LLAMA 3"
   ]
  },
  {
   "cell_type": "code",
   "execution_count": null,
   "metadata": {
    "colab": {
     "base_uri": "https://localhost:8080/",
     "height": 328,
     "referenced_widgets": [
      "a5bb0fe986034da191558b00e7ab6733",
      "1ee9628ba15a43cebf1db722008f2ac8",
      "3d93658dfd854c60bdef9f048f5269e1",
      "62c495ba13634b7b893e486c3ab97f3c",
      "30c6bd8ec69f4951bdfdfc70cea844d4",
      "754b5640ed1e47a294f339621f141e85",
      "bd855fb0e3154574a7da108a3ce6ce34",
      "0b88173270884e8180ac1ed421f76dc6",
      "9a85f25ba5b04a20b464fb8d89fb1636",
      "48c230a08c6c4291857b5b05d757181a",
      "7442bf6b9817463383a5b01949ef9e7d",
      "37ef7058c1f64fe58b36ee79da26dc17",
      "1026a1582bd94e22a563e217a7b819b1",
      "aaea87ab727c480a92c926ca2ec8839b",
      "9e1281dab52344c0b4b224579623059c",
      "8db97a6e74674ae5a6649afd4c1fa00b",
      "a8ba5ca232454381b135e196ec8cc50f",
      "49efe87a51ba46c7bf2a021cbffcdd4c",
      "68deb053291f48a89e7d8a5f3d2469d4",
      "6656a10ca1ca46229cc80cc41b24ef5b",
      "ffd54e461fe34e55b5d792e991490e22",
      "a182ed78bca54007b2a6464334154e45",
      "a2f361d2745343f78c26c7deafda5f46",
      "313937bb49a34c6aba413fd48190afdf",
      "dad1badaf2674e7784aa60c758b19bba",
      "09d9aa0aef3a4cf8afd11eedf569e321",
      "aa60b121f96345c491d9e443fd352323",
      "b7f274fe74124788bdda0744736ecf7d",
      "6f8e2045a3ce412ebbe4a116b4ce94b7",
      "cb41d18a30344cb7bb145663bdc1f53f",
      "25f8566f7fb3405a9158fdc0e1fc4866",
      "97dc2d8fe18c468895a355e4955838ba",
      "b06ec04022b2421793b2936a4c0cf0e8",
      "dccf84f10da745199ca7b15262bbf423",
      "b1f58bb5daff455ab8129ea40aa7df27",
      "f32f596fd00a49fbbe87f7f7436e4cd9",
      "044f7b93923b4eaba1297cd8dbd02a26",
      "1d1c7f4579674b399fb223bbcdd3671d",
      "aa386f08eacf436eb717b4aa63831f81",
      "22bb991513904c759895f0b21438766a",
      "7abe88d7ee1e434eb3bffdb095e78532",
      "a4eac9bb5f5c4f2088b059d1e6d6f06e",
      "c8614c741b004ce888d4a846411784f8",
      "2c6025da6a3e46d19a71877beedfb9b7",
      "8d01057ff2de463780e53f3fbf65198c",
      "eebeba67e5c64ab1acbbf9e9a6b22feb",
      "286b793d038c4a7d9d8d7ab2f8a8ec21",
      "31913f2ebc794e8cb2c74951f9fe0325",
      "408c9a38fd294410a89d59b3aaf26e76",
      "336d50c13105439bbfb0ca786fb9562e",
      "4f7f5f0b08424db39f29bce2b555f2ee",
      "3e53e2a3c2e54641b982a770f90c89a3",
      "5fe3cf1263e943ababcf3a9e5f1a79c0",
      "d0017c0bed9441d08b51af41c13c81cf",
      "375bc6c374194414843726687d3f2c6f",
      "aa604110bd6c48598e7938da2817b6a7",
      "4e6fbe463bd0483d86453ebd29a7bce6",
      "b7df2b382e5d47918e03b1f2ff79c792",
      "66eb9aecaacc4169ba87e8fb54818ff4",
      "f27b763d16d948738eaa541c78130604",
      "0077fbae80e24de89df4a126ef4c706e",
      "f3ec67ba934a465593f692fbaae6110a",
      "5bb1de045b1140529772fb29a64c60ca",
      "2c55b7eb061547598d41b89f5c9c3026",
      "65f902d78c6643aab966fb705dd64914",
      "01db50391dba446396babb7a14fad714",
      "3846f98f78c24f34abe0ad9f262d8365",
      "be5fd0a328ac4e0fa4016053f7d587bc",
      "8c28b3d0cbaa4d67890dc3016ac818d9",
      "5248cf196a81413c86969bd60e780bc7",
      "366bcc1f495a492ead7cc57e70428fd3",
      "7948212349f74105ad254c99b71ac9d9",
      "79f7d6bb4dd8467fbc5ea2b2bdb820f5",
      "aa141d1429c4440c972796aee793b641",
      "0882f4bc9fee46139045377349aad59f",
      "68483fff9fdd442ba87ad36c5de8bf93",
      "9f7381af4a634a9faea2684f21b7ea85",
      "8f41f10785e34658b4e00cb771131c19",
      "04177881935341d3a21c5a9f69ebf3a9",
      "d299631903684e4c916c546606c0d8e2",
      "ba844f9d42674262957575776584ffa2",
      "5531699b98bf4dd9be9374f60147b75c",
      "26b54848e75a430491285d4c9e2c21a5",
      "0dea88362c7c469e9f23d79153d838ff",
      "954e894a7d434ddcb0516293643ec770",
      "ffa6eaaf0b514d9187e2d4da7b46719c",
      "7b0f1d1624b54cf5be394c1ecbc2b3ea",
      "d9c128dac03b4147b4f56911c56dbd35"
     ]
    },
    "execution": {
     "iopub.execute_input": "2025-03-29T08:16:49.291186Z",
     "iopub.status.busy": "2025-03-29T08:16:49.290876Z",
     "iopub.status.idle": "2025-03-29T08:16:51.162858Z",
     "shell.execute_reply": "2025-03-29T08:16:51.162155Z",
     "shell.execute_reply.started": "2025-03-29T08:16:49.291162Z"
    },
    "id": "gDVBo1uClvS9",
    "outputId": "2e88a24c-2a34-4796-da3a-b2708435f329"
   },
   "outputs": [],
   "source": [
    "model_name = \"1MK26/Llama3_FT\"\n",
    "device = torch.device('cuda' if torch.cuda.is_available() else 'cpu')\n",
    "\n",
    "tokenizer = AutoTokenizer.from_pretrained(model_name)\n",
    "model = AutoModelForSeq2SeqLM.from_pretrained(model_name)\n",
    "model = model.to(device)"
   ]
  },
  {
   "cell_type": "code",
   "execution_count": 60,
   "metadata": {
    "execution": {
     "iopub.execute_input": "2025-03-29T08:16:52.385011Z",
     "iopub.status.busy": "2025-03-29T08:16:52.384726Z",
     "iopub.status.idle": "2025-03-29T08:16:52.389479Z",
     "shell.execute_reply": "2025-03-29T08:16:52.388511Z",
     "shell.execute_reply.started": "2025-03-29T08:16:52.384988Z"
    },
    "id": "c0ijHnCllvS-"
   },
   "outputs": [],
   "source": [
    "def query_pinecone(query, top_k):\n",
    "    xq = retriever.encode([query]).tolist()\n",
    "    xc_qa = index_1.query(vector=xq, top_k=top_k, include_metadata=True)\n",
    "    xc_chunk = index_2.query(vector=xq, top_k=top_k, include_metadata=True)\n",
    "    return xc_qa, xc_chunk"
   ]
  },
  {
   "cell_type": "code",
   "execution_count": 61,
   "metadata": {
    "colab": {
     "base_uri": "https://localhost:8080/"
    },
    "execution": {
     "iopub.execute_input": "2025-03-29T08:16:53.267157Z",
     "iopub.status.busy": "2025-03-29T08:16:53.266869Z",
     "iopub.status.idle": "2025-03-29T08:16:54.116183Z",
     "shell.execute_reply": "2025-03-29T08:16:54.115328Z",
     "shell.execute_reply.started": "2025-03-29T08:16:53.267133Z"
    },
    "id": "JzfPUBOXlvTA",
    "outputId": "4cd5d178-bc20-43aa-8352-f7e6370aa3c8"
   },
   "outputs": [
    {
     "data": {
      "application/vnd.jupyter.widget-view+json": {
       "model_id": "27ad75cdbbce43d5936abe0b629cf3a1",
       "version_major": 2,
       "version_minor": 0
      },
      "text/plain": [
       "Batches:   0%|          | 0/1 [00:00<?, ?it/s]"
      ]
     },
     "metadata": {},
     "output_type": "display_data"
    },
    {
     "name": "stdout",
     "output_type": "stream",
     "text": [
      "QA Results:\n",
      "\n",
      "Score: 0.783747733, Metadata: Hydrogen generation is the process of producing hydrogen gas. Hydrogen is a versatile fuel that can be used in a variety of applications, including fuel cells, internal combustion engines, and industrial processes.There are a number of different methods for generating hydrogen, including: Steam reforming: This is the most common method of hydrogen production. It involves reacting natural gas with steam in the presence of a catalyst. This process produces hydrogen, carbon dioxide, and water. Coal gasification: This process involves reacting coal with oxygen and steam to produce hydrogen, carbon monoxide, and other gases. Electrolysis: This process involves using electricity to split water into hydrogen and oxygen. This is a clean and renewable method of hydrogen production, but it is also more expensive than other methods. Biological processes: Hydrogen can also be produced by certain bacteria and algae. This is a promising method of hydrogen production, but it is still in the early stages of development.The choice of hydrogen generation method depends on a number of factors, including the cost, efficiency, and environmental impact of the process.Here are some of the key applications of hydrogen: Fuel cells: Hydrogen fuel cells are used to power a variety of vehicles, including cars, buses, and forklifts. Hydrogen fuel cells are clean and efficient, and they produce only water as a byproduct. Internal combustion engines: Hydrogen can be used to power internal combustion engines in a variety of applications, including cars, trucks, and generators. Hydrogen-powered internal combustion engines are more efficient than gasoline-powered engines, and they produce fewer emissions. Industrial processes: Hydrogen is used in a variety of industrial processes, including the production of fertilizers, chemicals, and petroleum. Hydrogen is also used in the refining of metals and the production of glass.Hydrogen is a versatile fuel with a wide range of applications. As the world transitions to a clean energy future, hydrogen is expected to play an increasingly important role.\n",
      "\n",
      "Chunk Results:\n",
      "\n",
      "Score: 0.565074, Metadata: Hydrogen production methods aim to reduce pollution and preserve ecological balance. Coal gasification, biomass conversion, thermochemical water splitting, microbial processes, electrolytic processes, and photoelectrochemical water splitting are major approaches. Electrolytic processes produce hydrogen with zero greenhouse gas emissions but require significant electricity input. Photoelectrochemical water splitting utilizes solar energy to split water, offering high solar-to-hydrogen conversion efficiency and long-term sustainability. Photocatalytic water splitting uses semiconductors to absorb light and generate electron-hole pairs for water splitting. Nanomaterials enhance the process by increasing light absorption and improving efficiency. However, research is ongoing to improve the efficiency and scale of hydrogen production using these methods.\n"
     ]
    }
   ],
   "source": [
    "import re\n",
    "\n",
    "def remove_questions_from_text(text):\n",
    "    cleaned_text = re.sub(r'\\s*\\?.*$', '', text)  \n",
    "    cleaned_text = re.sub(r'(How|What|Why|Where|When|Who)\\s+.*\\?$', '', cleaned_text)  \n",
    "    cleaned_text = re.sub(r'\\b(?:How|What|Why|Where|When|Who)\\b.*\\?', '', cleaned_text)\n",
    "    return cleaned_text.strip()  \n",
    "\n",
    "\n",
    "query1 = \"what is hydrogen generation?\"\n",
    "qa_result, chunk_result = query_pinecone(query1, top_k=1)\n",
    "\n",
    "\n",
    "print(\"QA Results:\")\n",
    "for match in qa_result['matches']:\n",
    "    cleaned_answer = remove_questions_from_text(match['metadata'].get('generated_answer', ''))\n",
    "    print(f\"\\nScore: {match['score']}, Metadata: {cleaned_answer}\")\n",
    "\n",
    "print(\"\\nChunk Results:\")\n",
    "for match in chunk_result['matches']:\n",
    "    cleaned_chunk = remove_questions_from_text(match['metadata'].get('Chunk', ''))\n",
    "    print(f\"\\nScore: {match['score']}, Metadata: {cleaned_chunk}\")"
   ]
  },
  {
   "cell_type": "code",
   "execution_count": 62,
   "metadata": {
    "colab": {
     "base_uri": "https://localhost:8080/"
    },
    "execution": {
     "iopub.execute_input": "2025-03-29T08:16:57.085937Z",
     "iopub.status.busy": "2025-03-29T08:16:57.085598Z",
     "iopub.status.idle": "2025-03-29T08:16:57.091236Z",
     "shell.execute_reply": "2025-03-29T08:16:57.090335Z",
     "shell.execute_reply.started": "2025-03-29T08:16:57.085909Z"
    },
    "id": "cNz5yaDelvTA",
    "outputId": "fe9c2aac-e72b-4a78-86bd-69f54a022efa"
   },
   "outputs": [
    {
     "name": "stdout",
     "output_type": "stream",
     "text": [
      "Hydrogen generation is the process of producing hydrogen gas. Hydrogen is a versatile fuel that can be used in a variety of applications, including fuel cells, internal combustion engines, and industrial processes.There are a number of different methods for generating hydrogen, including: Steam reforming: This is the most common method of hydrogen production. It involves reacting natural gas with steam in the presence of a catalyst. This process produces hydrogen, carbon dioxide, and water. Coal gasification: This process involves reacting coal with oxygen and steam to produce hydrogen, carbon monoxide, and other gases. Electrolysis: This process involves using electricity to split water into hydrogen and oxygen. This is a clean and renewable method of hydrogen production, but it is also more expensive than other methods. Biological processes: Hydrogen can also be produced by certain bacteria and algae. This is a promising method of hydrogen production, but it is still in the early stages of development.The choice of hydrogen generation method depends on a number of factors, including the cost, efficiency, and environmental impact of the process.Here are some of the key applications of hydrogen: Fuel cells: Hydrogen fuel cells are used to power a variety of vehicles, including cars, buses, and forklifts. Hydrogen fuel cells are clean and efficient, and they produce only water as a byproduct. Internal combustion engines: Hydrogen can be used to power internal combustion engines in a variety of applications, including cars, trucks, and generators. Hydrogen-powered internal combustion engines are more efficient than gasoline-powered engines, and they produce fewer emissions. Industrial processes: Hydrogen is used in a variety of industrial processes, including the production of fertilizers, chemicals, and petroleum. Hydrogen is also used in the refining of metals and the production of glass.Hydrogen is a versatile fuel with a wide range of applications. As the world transitions to a clean energy future, hydrogen is expected to play an increasingly important role. Hydrogen production methods aim to reduce pollution and preserve ecological balance. Coal gasification, biomass conversion, thermochemical water splitting, microbial processes, electrolytic processes, and photoelectrochemical water splitting are major approaches. Electrolytic processes produce hydrogen with zero greenhouse gas emissions but require significant electricity input. Photoelectrochemical water splitting utilizes solar energy to split water, offering high solar-to-hydrogen conversion efficiency and long-term sustainability. Photocatalytic water splitting uses semiconductors to absorb light and generate electron-hole pairs for water splitting. Nanomaterials enhance the process by increasing light absorption and improving efficiency. However, research is ongoing to improve the efficiency and scale of hydrogen production using these methods.\n"
     ]
    }
   ],
   "source": [
    "qa_context = \" \".join([match['metadata']['generated_answer'] for match in qa_result['matches']])\n",
    "chunk_context = \" \".join([match['metadata']['Chunk'] for match in chunk_result['matches']])\n",
    "\n",
    "combined_context = f\"{qa_context} {chunk_context}\"\n",
    "\n",
    "print(combined_context)"
   ]
  },
  {
   "cell_type": "code",
   "execution_count": 63,
   "metadata": {
    "execution": {
     "iopub.execute_input": "2025-03-29T08:17:00.707427Z",
     "iopub.status.busy": "2025-03-29T08:17:00.707090Z",
     "iopub.status.idle": "2025-03-29T08:17:00.712773Z",
     "shell.execute_reply": "2025-03-29T08:17:00.711828Z",
     "shell.execute_reply.started": "2025-03-29T08:17:00.707399Z"
    },
    "id": "6bO0RcV_ot1d"
   },
   "outputs": [],
   "source": [
    "def generate_model_input(query_and_docs):\n",
    "    return tokenizer(\n",
    "        query_and_docs,\n",
    "        truncation=True,\n",
    "        padding=\"max_length\",\n",
    "        return_tensors=\"pt\",\n",
    "        max_length=768  \n",
    "    )\n",
    "\n",
    "def generate_model_answer(retrieved_content, query):\n",
    "    query_and_docs = retrieved_content  \n",
    "    model_input = generate_model_input(query_and_docs)\n",
    "\n",
    "    generated_answers_encoded = model.generate(\n",
    "        input_ids=model_input[\"input_ids\"].to(device),\n",
    "        attention_mask=model_input[\"attention_mask\"].to(device),\n",
    "        min_length=100,\n",
    "        max_length=1024,\n",
    "        num_beams=5,  \n",
    "        early_stopping=True,  \n",
    "        eos_token_id=tokenizer.eos_token_id,\n",
    "        no_repeat_ngram_size=2,\n",
    "        top_p=0.9,\n",
    "    )\n",
    "\n",
    "    decoded_answers = tokenizer.batch_decode(\n",
    "        generated_answers_encoded,\n",
    "        skip_special_tokens=True,\n",
    "        clean_up_tokenization_spaces=True\n",
    "    )\n",
    "\n",
    "    return decoded_answers"
   ]
  },
  {
   "cell_type": "code",
   "execution_count": 64,
   "metadata": {
    "execution": {
     "iopub.execute_input": "2025-03-29T08:17:01.011797Z",
     "iopub.status.busy": "2025-03-29T08:17:01.011506Z",
     "iopub.status.idle": "2025-03-29T08:17:01.016737Z",
     "shell.execute_reply": "2025-03-29T08:17:01.015903Z",
     "shell.execute_reply.started": "2025-03-29T08:17:01.011772Z"
    },
    "id": "aye8wIvQoty4"
   },
   "outputs": [],
   "source": [
    "def generate_answer(query1):\n",
    "    qa_result, chunk_result = query_pinecone(query1, top_k=2)\n",
    "    qa_highest_match = max(qa_result['matches'], key=lambda x: x['score'], default=None)\n",
    "    chunk_highest_match = max(chunk_result['matches'], key=lambda x: x['score'], default=None)\n",
    "    if qa_highest_match and qa_highest_match['score'] >= 0.4:\n",
    "        retrieved_content = qa_highest_match['metadata']['generated_answer']\n",
    "    elif chunk_highest_match and chunk_highest_match['score'] >= 0.4:\n",
    "        retrieved_content = chunk_highest_match['metadata']['Chunk']\n",
    "    else:\n",
    "        return \"Answer not found\"\n",
    "        \n",
    "    decoded_answers = generate_model_answer(retrieved_content, query1)\n",
    "    return decoded_answers"
   ]
  },
  {
   "cell_type": "markdown",
   "metadata": {
    "id": "ifexEvEMqzIo"
   },
   "source": [
    "# Evaluation"
   ]
  },
  {
   "cell_type": "code",
   "execution_count": 70,
   "metadata": {
    "execution": {
     "iopub.execute_input": "2025-03-29T08:17:59.772804Z",
     "iopub.status.busy": "2025-03-29T08:17:59.772479Z",
     "iopub.status.idle": "2025-03-29T08:18:01.455988Z",
     "shell.execute_reply": "2025-03-29T08:18:01.455033Z",
     "shell.execute_reply.started": "2025-03-29T08:17:59.772775Z"
    },
    "id": "wJR4R_LDakqQ"
   },
   "outputs": [],
   "source": [
    "import torch\n",
    "from sentence_transformers import SentenceTransformer\n",
    "from sklearn.metrics.pairwise import cosine_similarity\n",
    "from transformers import GPT2Tokenizer, GPT2LMHeadModel\n",
    "\n",
    "embed_model = SentenceTransformer('all-MiniLM-L6-v2')\n",
    "perplexity_tokenizer = GPT2Tokenizer.from_pretrained('gpt2')\n",
    "perplexity_model = GPT2LMHeadModel.from_pretrained('gpt2')\n",
    "perplexity_model.eval()\n",
    "\n",
    "def full_evaluation(query, answers):\n",
    "    def compute_embeddings(text):\n",
    "        return embed_model.encode(text, convert_to_tensor=True)\n",
    "\n",
    "    metrics = {\n",
    "        'cosine_similarities': [],\n",
    "        'perplexities': [],\n",
    "        'answers': answers.copy()  \n",
    "    }\n",
    "    query_embedding = compute_embeddings(query).cpu().numpy()\n",
    "\n",
    "    for i, answer in enumerate(answers):\n",
    "        answer_embedding = compute_embeddings(answer).cpu().numpy()\n",
    "        similarity = cosine_similarity(\n",
    "            query_embedding.reshape(1, -1),\n",
    "            answer_embedding.reshape(1, -1)\n",
    "        )[0][0]\n",
    "        inputs = perplexity_tokenizer(answer, return_tensors='pt', truncation=True, max_length=perplexity_tokenizer.model_max_length)\n",
    "        with torch.no_grad():\n",
    "            loss = perplexity_model(**inputs, labels=inputs['input_ids']).loss\n",
    "        perplexity = torch.exp(loss).item()\n",
    "\n",
    "        # Store results\n",
    "        metrics['cosine_similarities'].append(similarity)\n",
    "        metrics['perplexities'].append(perplexity)\n",
    "\n",
    "        # Print results with FULL answer\n",
    "        print(f\"• Cosine Similarity: {similarity:.4f}\")\n",
    "        print(f\"• Perplexity: {perplexity:.2f}\")\n",
    "        print(\"-\" * 60)\n",
    "\n",
    "    return metrics\n"
   ]
  },
  {
   "cell_type": "markdown",
   "metadata": {
    "id": "nHwPsizJlvTJ"
   },
   "source": [
    "## Testing"
   ]
  },
  {
   "cell_type": "code",
   "execution_count": 72,
   "metadata": {
    "colab": {
     "base_uri": "https://localhost:8080/"
    },
    "execution": {
     "iopub.execute_input": "2025-03-29T08:18:31.963870Z",
     "iopub.status.busy": "2025-03-29T08:18:31.963376Z",
     "iopub.status.idle": "2025-03-29T08:18:35.191440Z",
     "shell.execute_reply": "2025-03-29T08:18:35.190517Z",
     "shell.execute_reply.started": "2025-03-29T08:18:31.963834Z"
    },
    "id": "JXm8MR4YlvTa",
    "outputId": "da920f5d-5a7d-4941-f51e-a60218c9d912"
   },
   "outputs": [
    {
     "data": {
      "application/vnd.jupyter.widget-view+json": {
       "model_id": "9c52db8b274744f1ac3c64a9db7ff1af",
       "version_major": 2,
       "version_minor": 0
      },
      "text/plain": [
       "Batches:   0%|          | 0/1 [00:00<?, ?it/s]"
      ]
     },
     "metadata": {},
     "output_type": "display_data"
    },
    {
     "name": "stderr",
     "output_type": "stream",
     "text": [
      "/usr/local/lib/python3.10/dist-packages/transformers/generation/configuration_utils.py:633: UserWarning: `do_sample` is set to `False`. However, `top_p` is set to `0.9` -- this flag is only used in sample-based generation modes. You should set `do_sample=True` or unset `top_p`.\n",
      "  warnings.warn(\n"
     ]
    },
    {
     "data": {
      "application/vnd.jupyter.widget-view+json": {
       "model_id": "f10cf8bd375b4eb4abb0d9e5ae021a3e",
       "version_major": 2,
       "version_minor": 0
      },
      "text/plain": [
       "Batches:   0%|          | 0/1 [00:00<?, ?it/s]"
      ]
     },
     "metadata": {},
     "output_type": "display_data"
    },
    {
     "data": {
      "application/vnd.jupyter.widget-view+json": {
       "model_id": "6b7d5c707ddb4452b07b84cdd9962e73",
       "version_major": 2,
       "version_minor": 0
      },
      "text/plain": [
       "Batches:   0%|          | 0/1 [00:00<?, ?it/s]"
      ]
     },
     "metadata": {},
     "output_type": "display_data"
    },
    {
     "name": "stdout",
     "output_type": "stream",
     "text": [
      "• Cosine Similarity: 0.8127\n",
      "• Perplexity: 14.35\n",
      "------------------------------------------------------------\n",
      "Generated Answer: ['There are several types of hydrogen generation, including: Steam reforming: This is the most common and cost-effective method of Hydrogen production. It involves reacting natural gas with steam in the presence of a catalyst. This process produces hydrogen, carbon dioxide, and water. Electrolysis: The process involves using electricity to split water into hydrogen and oxygen. These two gases are produced from other sources, such as biomass and nuclear energy. Carbon monoxide and other gases produced by this process are a greenhouse gas.']\n"
     ]
    }
   ],
   "source": [
    "query1 = \"different types of hydrogen generation?\"\n",
    "generated_answer = generate_answer(query1)\n",
    "evaluation_result = full_evaluation(query1, generated_answer)\n",
    "print(\"Generated Answer:\", generated_answer)\n"
   ]
  },
  {
   "cell_type": "code",
   "execution_count": 75,
   "metadata": {
    "colab": {
     "base_uri": "https://localhost:8080/"
    },
    "execution": {
     "iopub.execute_input": "2025-03-29T08:30:08.773875Z",
     "iopub.status.busy": "2025-03-29T08:30:08.773508Z",
     "iopub.status.idle": "2025-03-29T08:40:29.340772Z",
     "shell.execute_reply": "2025-03-29T08:40:29.339967Z",
     "shell.execute_reply.started": "2025-03-29T08:30:08.773848Z"
    },
    "id": "1CU2IMo5smkz",
    "outputId": "7169ab4c-8a1f-4c90-8ae6-307fa2785e49"
   },
   "outputs": [
    {
     "data": {
      "application/vnd.jupyter.widget-view+json": {
       "model_id": "cb497b4ecc964c2eb88f1e0c431d0ce9",
       "version_major": 2,
       "version_minor": 0
      },
      "text/plain": [
       "Batches:   0%|          | 0/1 [00:00<?, ?it/s]"
      ]
     },
     "metadata": {},
     "output_type": "display_data"
    },
    {
     "name": "stderr",
     "output_type": "stream",
     "text": [
      "/usr/local/lib/python3.10/dist-packages/transformers/generation/configuration_utils.py:633: UserWarning: `do_sample` is set to `False`. However, `top_p` is set to `0.9` -- this flag is only used in sample-based generation modes. You should set `do_sample=True` or unset `top_p`.\n",
      "  warnings.warn(\n"
     ]
    },
    {
     "data": {
      "application/vnd.jupyter.widget-view+json": {
       "model_id": "67c1805620c5403c9b44b5f674d72be5",
       "version_major": 2,
       "version_minor": 0
      },
      "text/plain": [
       "Batches:   0%|          | 0/1 [00:00<?, ?it/s]"
      ]
     },
     "metadata": {},
     "output_type": "display_data"
    },
    {
     "data": {
      "application/vnd.jupyter.widget-view+json": {
       "model_id": "5fd964afbf284a0ba06221a50b3ca7c3",
       "version_major": 2,
       "version_minor": 0
      },
      "text/plain": [
       "Batches:   0%|          | 0/1 [00:00<?, ?it/s]"
      ]
     },
     "metadata": {},
     "output_type": "display_data"
    },
    {
     "name": "stdout",
     "output_type": "stream",
     "text": [
      "• Cosine Similarity: 0.8017\n",
      "• Perplexity: 12.66\n",
      "------------------------------------------------------------\n",
      "Query: What is hydrogen generation, and why is it important?\n",
      "Generated Answer: ['Hydrogen generation is the process of producing hydrogen gas (H2) from various sources. Hydrogen gas can be produced through several methods, including: Steam reforming of hydrocarbons (e.g., natural gas, coal) Water electrolysis Coal gasification Biomass gasifiers Hydroelectric power plants (hydroelectric, wind, solar, nuclear, hydro-electric) Fuel cells (fuel cells that use hydrogen to power a generator) The main advantage of hydrogen is that it has a high energy density, making it a promising candidate for fuel cells and other energy storage systems. It also provides a clean, sustainable, and versatile energy source that can help reduce carbon emissions and enhance energy security.']\n",
      "Evaluation Result: {'cosine_similarities': [0.8016629], 'perplexities': [12.664219856262207], 'answers': [['Hydrogen generation is the process of producing hydrogen gas (H2) from various sources. Hydrogen gas can be produced through several methods, including: Steam reforming of hydrocarbons (e.g., natural gas, coal) Water electrolysis Coal gasification Biomass gasifiers Hydroelectric power plants (hydroelectric, wind, solar, nuclear, hydro-electric) Fuel cells (fuel cells that use hydrogen to power a generator) The main advantage of hydrogen is that it has a high energy density, making it a promising candidate for fuel cells and other energy storage systems. It also provides a clean, sustainable, and versatile energy source that can help reduce carbon emissions and enhance energy security.']]}\n",
      "\n"
     ]
    },
    {
     "data": {
      "application/vnd.jupyter.widget-view+json": {
       "model_id": "1cbdd60739f8417382b1e36889c16a27",
       "version_major": 2,
       "version_minor": 0
      },
      "text/plain": [
       "Batches:   0%|          | 0/1 [00:00<?, ?it/s]"
      ]
     },
     "metadata": {},
     "output_type": "display_data"
    },
    {
     "name": "stderr",
     "output_type": "stream",
     "text": [
      "/usr/local/lib/python3.10/dist-packages/transformers/generation/configuration_utils.py:633: UserWarning: `do_sample` is set to `False`. However, `top_p` is set to `0.9` -- this flag is only used in sample-based generation modes. You should set `do_sample=True` or unset `top_p`.\n",
      "  warnings.warn(\n"
     ]
    },
    {
     "data": {
      "application/vnd.jupyter.widget-view+json": {
       "model_id": "b6f0e8e99af24249b3812b30b2fa2acf",
       "version_major": 2,
       "version_minor": 0
      },
      "text/plain": [
       "Batches:   0%|          | 0/1 [00:00<?, ?it/s]"
      ]
     },
     "metadata": {},
     "output_type": "display_data"
    },
    {
     "data": {
      "application/vnd.jupyter.widget-view+json": {
       "model_id": "ec1ccee058994dce98f39097e817440f",
       "version_major": 2,
       "version_minor": 0
      },
      "text/plain": [
       "Batches:   0%|          | 0/1 [00:00<?, ?it/s]"
      ]
     },
     "metadata": {},
     "output_type": "display_data"
    },
    {
     "name": "stdout",
     "output_type": "stream",
     "text": [
      "• Cosine Similarity: 0.8282\n",
      "• Perplexity: 9.98\n",
      "------------------------------------------------------------\n",
      "Query: What is water splitting, and how does it produce hydrogen?\n",
      "Generated Answer: ['Water splitting is a chemical process that breaks down water molecules into hydrogen (H2O) and oxygen (O2) using an external energy source. This is done by heating the water to very high temperatures (typically over 800°C) in the presence of a catalyst. The heat causes the molecules to break down, and the resulting gases are then collected separately. Hydrogen can be used as a fuel for fuel cells, in internal combustion engines, or for various industrial processes. It has the potential to reduce our reliance on fossil fuels and contribute to a more sustainable energy future.']\n",
      "Evaluation Result: {'cosine_similarities': [0.82820654], 'perplexities': [9.976871490478516], 'answers': [['Water splitting is a chemical process that breaks down water molecules into hydrogen (H2O) and oxygen (O2) using an external energy source. This is done by heating the water to very high temperatures (typically over 800°C) in the presence of a catalyst. The heat causes the molecules to break down, and the resulting gases are then collected separately. Hydrogen can be used as a fuel for fuel cells, in internal combustion engines, or for various industrial processes. It has the potential to reduce our reliance on fossil fuels and contribute to a more sustainable energy future.']]}\n",
      "\n"
     ]
    },
    {
     "data": {
      "application/vnd.jupyter.widget-view+json": {
       "model_id": "aaf6b84a1b3d4d9389f61a6631c51d89",
       "version_major": 2,
       "version_minor": 0
      },
      "text/plain": [
       "Batches:   0%|          | 0/1 [00:00<?, ?it/s]"
      ]
     },
     "metadata": {},
     "output_type": "display_data"
    },
    {
     "name": "stderr",
     "output_type": "stream",
     "text": [
      "/usr/local/lib/python3.10/dist-packages/transformers/generation/configuration_utils.py:633: UserWarning: `do_sample` is set to `False`. However, `top_p` is set to `0.9` -- this flag is only used in sample-based generation modes. You should set `do_sample=True` or unset `top_p`.\n",
      "  warnings.warn(\n"
     ]
    },
    {
     "data": {
      "application/vnd.jupyter.widget-view+json": {
       "model_id": "b10a44f24e384c26a240ed39ce30e197",
       "version_major": 2,
       "version_minor": 0
      },
      "text/plain": [
       "Batches:   0%|          | 0/1 [00:00<?, ?it/s]"
      ]
     },
     "metadata": {},
     "output_type": "display_data"
    },
    {
     "data": {
      "application/vnd.jupyter.widget-view+json": {
       "model_id": "38ce70614b524596bbf54bb25621c3ee",
       "version_major": 2,
       "version_minor": 0
      },
      "text/plain": [
       "Batches:   0%|          | 0/1 [00:00<?, ?it/s]"
      ]
     },
     "metadata": {},
     "output_type": "display_data"
    },
    {
     "name": "stdout",
     "output_type": "stream",
     "text": [
      "• Cosine Similarity: 0.5875\n",
      "• Perplexity: 26.48\n",
      "------------------------------------------------------------\n",
      "Query: What are 2D nanomaterials?\n",
      "Generated Answer: ['Two-Dimensional (2D) Nanomaterials are atomically thin materials with a thickness of a single atom or a few atomic layers. They possess unique properties and applications due to their reduced dimensionality and quantum confinement effects. The properties of two-dimensional materials can be tailored by controlling their thickness, composition, and structure. For example, Graphene Transition Metal dichalcogenides (e.g., MoS2, WS2) Boron nitride Phosphorene Black phosphorusApplications: Electronics: Transistors, sensors, optoelectronic devices Energy Storage: Batteries, supercapacitors and fuel cells Catalysis: Highly efficient and selective catalysts Membranes: Separation and filtration applications Composites: Lightweight and strong materials for aerospace and automotive industries']\n",
      "Evaluation Result: {'cosine_similarities': [0.5875335], 'perplexities': [26.47984504699707], 'answers': [['Two-Dimensional (2D) Nanomaterials are atomically thin materials with a thickness of a single atom or a few atomic layers. They possess unique properties and applications due to their reduced dimensionality and quantum confinement effects. The properties of two-dimensional materials can be tailored by controlling their thickness, composition, and structure. For example, Graphene Transition Metal dichalcogenides (e.g., MoS2, WS2) Boron nitride Phosphorene Black phosphorusApplications: Electronics: Transistors, sensors, optoelectronic devices Energy Storage: Batteries, supercapacitors and fuel cells Catalysis: Highly efficient and selective catalysts Membranes: Separation and filtration applications Composites: Lightweight and strong materials for aerospace and automotive industries']]}\n",
      "\n"
     ]
    },
    {
     "data": {
      "application/vnd.jupyter.widget-view+json": {
       "model_id": "eef541cdf3bb41f6a2f01d24d859b99e",
       "version_major": 2,
       "version_minor": 0
      },
      "text/plain": [
       "Batches:   0%|          | 0/1 [00:00<?, ?it/s]"
      ]
     },
     "metadata": {},
     "output_type": "display_data"
    },
    {
     "name": "stderr",
     "output_type": "stream",
     "text": [
      "/usr/local/lib/python3.10/dist-packages/transformers/generation/configuration_utils.py:633: UserWarning: `do_sample` is set to `False`. However, `top_p` is set to `0.9` -- this flag is only used in sample-based generation modes. You should set `do_sample=True` or unset `top_p`.\n",
      "  warnings.warn(\n"
     ]
    },
    {
     "data": {
      "application/vnd.jupyter.widget-view+json": {
       "model_id": "b0ea895170ec49aca6c1c5066aec852c",
       "version_major": 2,
       "version_minor": 0
      },
      "text/plain": [
       "Batches:   0%|          | 0/1 [00:00<?, ?it/s]"
      ]
     },
     "metadata": {},
     "output_type": "display_data"
    },
    {
     "data": {
      "application/vnd.jupyter.widget-view+json": {
       "model_id": "29bddb6c02ff4590882e19c28a107c79",
       "version_major": 2,
       "version_minor": 0
      },
      "text/plain": [
       "Batches:   0%|          | 0/1 [00:00<?, ?it/s]"
      ]
     },
     "metadata": {},
     "output_type": "display_data"
    },
    {
     "name": "stdout",
     "output_type": "stream",
     "text": [
      "• Cosine Similarity: 0.7633\n",
      "• Perplexity: 32.66\n",
      "------------------------------------------------------------\n",
      "Query: Why are 2D materials considered for hydrogen generation?\n",
      "Generated Answer: ['2D materials are considered for hydrogen generation due to their unique properties that make them promising candidates for efficient and sustainable hydrogen production: High surface area to volume ratio, which provides a large number of active sites for catalytic reactions, such as water splitting and photocatalytic Hydrogen production. Stability and durability: Two-dimensional materials can withstand harsh chemical environments and high temperatures, ensuring long-term performance and reliability. They are generally stable and durable under the conditions required for H2O generation. Tunable electronic properties: The electrons and holes can be precisely controlled by modifying their composition, doping, or stacking. This tunability allows researchers to optimize the materials for specific 2D applications and improve their efficiency. High charge transport properties, excellent charge transfer, stability, and cost-effectiveness.']\n",
      "Evaluation Result: {'cosine_similarities': [0.76334333], 'perplexities': [32.65595626831055], 'answers': [['2D materials are considered for hydrogen generation due to their unique properties that make them promising candidates for efficient and sustainable hydrogen production: High surface area to volume ratio, which provides a large number of active sites for catalytic reactions, such as water splitting and photocatalytic Hydrogen production. Stability and durability: Two-dimensional materials can withstand harsh chemical environments and high temperatures, ensuring long-term performance and reliability. They are generally stable and durable under the conditions required for H2O generation. Tunable electronic properties: The electrons and holes can be precisely controlled by modifying their composition, doping, or stacking. This tunability allows researchers to optimize the materials for specific 2D applications and improve their efficiency. High charge transport properties, excellent charge transfer, stability, and cost-effectiveness.']]}\n",
      "\n"
     ]
    },
    {
     "data": {
      "application/vnd.jupyter.widget-view+json": {
       "model_id": "6f0c8f6c5a6c43019f6165c720edd0e3",
       "version_major": 2,
       "version_minor": 0
      },
      "text/plain": [
       "Batches:   0%|          | 0/1 [00:00<?, ?it/s]"
      ]
     },
     "metadata": {},
     "output_type": "display_data"
    },
    {
     "name": "stderr",
     "output_type": "stream",
     "text": [
      "/usr/local/lib/python3.10/dist-packages/transformers/generation/configuration_utils.py:633: UserWarning: `do_sample` is set to `False`. However, `top_p` is set to `0.9` -- this flag is only used in sample-based generation modes. You should set `do_sample=True` or unset `top_p`.\n",
      "  warnings.warn(\n"
     ]
    },
    {
     "data": {
      "application/vnd.jupyter.widget-view+json": {
       "model_id": "85586b2e8e7642a59b61f41f21cabce2",
       "version_major": 2,
       "version_minor": 0
      },
      "text/plain": [
       "Batches:   0%|          | 0/1 [00:00<?, ?it/s]"
      ]
     },
     "metadata": {},
     "output_type": "display_data"
    },
    {
     "data": {
      "application/vnd.jupyter.widget-view+json": {
       "model_id": "b392f3f825a84f76b349651ae89f57d2",
       "version_major": 2,
       "version_minor": 0
      },
      "text/plain": [
       "Batches:   0%|          | 0/1 [00:00<?, ?it/s]"
      ]
     },
     "metadata": {},
     "output_type": "display_data"
    },
    {
     "name": "stdout",
     "output_type": "stream",
     "text": [
      "• Cosine Similarity: 0.8127\n",
      "• Perplexity: 13.57\n",
      "------------------------------------------------------------\n",
      "Query: What role do catalysts play in water splitting?\n",
      "Generated Answer: [\"Catalysts play a crucial role in water splitting by reducing the activation energy required for the reaction to occur. Water splitting is a thermodynamically uphill reaction, meaning that it requires an input of energy to proceed. In order to do this, you need to lower the energy barrier, which is the temperature at which the reactants are able to interact with each other. If you don't have a catalyst, then you can't do that, so you have to find a way to make the reactions more efficient.\"]\n",
      "Evaluation Result: {'cosine_similarities': [0.81274736], 'perplexities': [13.56789493560791], 'answers': [[\"Catalysts play a crucial role in water splitting by reducing the activation energy required for the reaction to occur. Water splitting is a thermodynamically uphill reaction, meaning that it requires an input of energy to proceed. In order to do this, you need to lower the energy barrier, which is the temperature at which the reactants are able to interact with each other. If you don't have a catalyst, then you can't do that, so you have to find a way to make the reactions more efficient.\"]]}\n",
      "\n"
     ]
    },
    {
     "data": {
      "application/vnd.jupyter.widget-view+json": {
       "model_id": "4214f7ba55c74c81a2dfa5440470cc7e",
       "version_major": 2,
       "version_minor": 0
      },
      "text/plain": [
       "Batches:   0%|          | 0/1 [00:00<?, ?it/s]"
      ]
     },
     "metadata": {},
     "output_type": "display_data"
    },
    {
     "name": "stderr",
     "output_type": "stream",
     "text": [
      "/usr/local/lib/python3.10/dist-packages/transformers/generation/configuration_utils.py:633: UserWarning: `do_sample` is set to `False`. However, `top_p` is set to `0.9` -- this flag is only used in sample-based generation modes. You should set `do_sample=True` or unset `top_p`.\n",
      "  warnings.warn(\n"
     ]
    },
    {
     "data": {
      "application/vnd.jupyter.widget-view+json": {
       "model_id": "821c12ef518e4b8d85b68875dc84d28f",
       "version_major": 2,
       "version_minor": 0
      },
      "text/plain": [
       "Batches:   0%|          | 0/1 [00:00<?, ?it/s]"
      ]
     },
     "metadata": {},
     "output_type": "display_data"
    },
    {
     "data": {
      "application/vnd.jupyter.widget-view+json": {
       "model_id": "cb92c8b9e1ac44e3ac54017dc5a1518e",
       "version_major": 2,
       "version_minor": 0
      },
      "text/plain": [
       "Batches:   0%|          | 0/1 [00:00<?, ?it/s]"
      ]
     },
     "metadata": {},
     "output_type": "display_data"
    },
    {
     "name": "stdout",
     "output_type": "stream",
     "text": [
      "• Cosine Similarity: 0.7033\n",
      "• Perplexity: 16.58\n",
      "------------------------------------------------------------\n",
      "Query: What are some common 2D nanomaterials used in hydrogen production?\n",
      "Generated Answer: [\"I'm not sure if this is exactly what you're looking for, but graphene is a 2D material with a puckered honeycomb structure. It has a high surface area and excellent electrical conductivity, making it a promising candidate for HER. Graphene has tunable electronic properties and can be used as both HER and OER catalysts. I don't know if it's used in hydrogen production in the same way as graphene, though, so I can't comment on that.\"]\n",
      "Evaluation Result: {'cosine_similarities': [0.7032912], 'perplexities': [16.578187942504883], 'answers': [[\"I'm not sure if this is exactly what you're looking for, but graphene is a 2D material with a puckered honeycomb structure. It has a high surface area and excellent electrical conductivity, making it a promising candidate for HER. Graphene has tunable electronic properties and can be used as both HER and OER catalysts. I don't know if it's used in hydrogen production in the same way as graphene, though, so I can't comment on that.\"]]}\n",
      "\n"
     ]
    },
    {
     "data": {
      "application/vnd.jupyter.widget-view+json": {
       "model_id": "a0f7d84771f341769c6cabced314f914",
       "version_major": 2,
       "version_minor": 0
      },
      "text/plain": [
       "Batches:   0%|          | 0/1 [00:00<?, ?it/s]"
      ]
     },
     "metadata": {},
     "output_type": "display_data"
    },
    {
     "name": "stderr",
     "output_type": "stream",
     "text": [
      "/usr/local/lib/python3.10/dist-packages/transformers/generation/configuration_utils.py:633: UserWarning: `do_sample` is set to `False`. However, `top_p` is set to `0.9` -- this flag is only used in sample-based generation modes. You should set `do_sample=True` or unset `top_p`.\n",
      "  warnings.warn(\n"
     ]
    },
    {
     "data": {
      "application/vnd.jupyter.widget-view+json": {
       "model_id": "8c6f75ce56634ee68a1ff08daa51c5ca",
       "version_major": 2,
       "version_minor": 0
      },
      "text/plain": [
       "Batches:   0%|          | 0/1 [00:00<?, ?it/s]"
      ]
     },
     "metadata": {},
     "output_type": "display_data"
    },
    {
     "data": {
      "application/vnd.jupyter.widget-view+json": {
       "model_id": "f93125a7b6314cd1ac2ad8b9ce0fdec3",
       "version_major": 2,
       "version_minor": 0
      },
      "text/plain": [
       "Batches:   0%|          | 0/1 [00:00<?, ?it/s]"
      ]
     },
     "metadata": {},
     "output_type": "display_data"
    },
    {
     "name": "stdout",
     "output_type": "stream",
     "text": [
      "• Cosine Similarity: 0.6535\n",
      "• Perplexity: 35.14\n",
      "------------------------------------------------------------\n",
      "Query: How does the structure of 2D nanomaterials affect their catalytic properties?\n",
      "Generated Answer: ['The structure of 2D nanomaterials plays a crucial role in determining their catalytic activity, selectivity, and stability for hydrogen production reactions. For example, for the oxygen evolution reaction (OER), the high surface area and abundant edge sites can promote the adsorption and activation of reactants. The bandgap, work function and density of states can influence their electronic properties, such as the size of the band gap, the number of active sites per unit mass, etc. These factors can be introduced intentionally through chemical or physical treatments to enhance the catalytical activity.']\n",
      "Evaluation Result: {'cosine_similarities': [0.6535479], 'perplexities': [35.14303970336914], 'answers': [['The structure of 2D nanomaterials plays a crucial role in determining their catalytic activity, selectivity, and stability for hydrogen production reactions. For example, for the oxygen evolution reaction (OER), the high surface area and abundant edge sites can promote the adsorption and activation of reactants. The bandgap, work function and density of states can influence their electronic properties, such as the size of the band gap, the number of active sites per unit mass, etc. These factors can be introduced intentionally through chemical or physical treatments to enhance the catalytical activity.']]}\n",
      "\n"
     ]
    },
    {
     "data": {
      "application/vnd.jupyter.widget-view+json": {
       "model_id": "5b7e05c296154c4494b5480d26a90c4c",
       "version_major": 2,
       "version_minor": 0
      },
      "text/plain": [
       "Batches:   0%|          | 0/1 [00:00<?, ?it/s]"
      ]
     },
     "metadata": {},
     "output_type": "display_data"
    },
    {
     "name": "stderr",
     "output_type": "stream",
     "text": [
      "/usr/local/lib/python3.10/dist-packages/transformers/generation/configuration_utils.py:633: UserWarning: `do_sample` is set to `False`. However, `top_p` is set to `0.9` -- this flag is only used in sample-based generation modes. You should set `do_sample=True` or unset `top_p`.\n",
      "  warnings.warn(\n"
     ]
    },
    {
     "data": {
      "application/vnd.jupyter.widget-view+json": {
       "model_id": "9145c34246654d47a276899f767f66f6",
       "version_major": 2,
       "version_minor": 0
      },
      "text/plain": [
       "Batches:   0%|          | 0/1 [00:00<?, ?it/s]"
      ]
     },
     "metadata": {},
     "output_type": "display_data"
    },
    {
     "data": {
      "application/vnd.jupyter.widget-view+json": {
       "model_id": "e4a6e1f610e642ddbb68def4e7757929",
       "version_major": 2,
       "version_minor": 0
      },
      "text/plain": [
       "Batches:   0%|          | 0/1 [00:00<?, ?it/s]"
      ]
     },
     "metadata": {},
     "output_type": "display_data"
    },
    {
     "name": "stdout",
     "output_type": "stream",
     "text": [
      "• Cosine Similarity: 0.7839\n",
      "• Perplexity: 12.96\n",
      "------------------------------------------------------------\n",
      "Query: What is the principle of photocatalysis in hydrogen generation?\n",
      "Generated Answer: ['Photocatalysis is a process that uses light energy to drive a chemical reaction. In the context of hydrogen generation, it is the use of a photocatalyst material to split water into hydrogen and oxygen using light. The process is called redox reactions, and it involves electrons and holes reacting with water molecules to form hydrogen gas (H2). The efficiency of the reaction depends on various factors, including the material, the light source, etc. There are a number of ways to improve the efficiency, but the most common way is to use a new material that absorbs light in the ultraviolet or visible spectrum.']\n",
      "Evaluation Result: {'cosine_similarities': [0.7839048], 'perplexities': [12.956277847290039], 'answers': [['Photocatalysis is a process that uses light energy to drive a chemical reaction. In the context of hydrogen generation, it is the use of a photocatalyst material to split water into hydrogen and oxygen using light. The process is called redox reactions, and it involves electrons and holes reacting with water molecules to form hydrogen gas (H2). The efficiency of the reaction depends on various factors, including the material, the light source, etc. There are a number of ways to improve the efficiency, but the most common way is to use a new material that absorbs light in the ultraviolet or visible spectrum.']]}\n",
      "\n"
     ]
    },
    {
     "data": {
      "application/vnd.jupyter.widget-view+json": {
       "model_id": "0dcc6cc8c29a494bbc4a8d9cc1878b4b",
       "version_major": 2,
       "version_minor": 0
      },
      "text/plain": [
       "Batches:   0%|          | 0/1 [00:00<?, ?it/s]"
      ]
     },
     "metadata": {},
     "output_type": "display_data"
    },
    {
     "name": "stderr",
     "output_type": "stream",
     "text": [
      "/usr/local/lib/python3.10/dist-packages/transformers/generation/configuration_utils.py:633: UserWarning: `do_sample` is set to `False`. However, `top_p` is set to `0.9` -- this flag is only used in sample-based generation modes. You should set `do_sample=True` or unset `top_p`.\n",
      "  warnings.warn(\n"
     ]
    },
    {
     "data": {
      "application/vnd.jupyter.widget-view+json": {
       "model_id": "4a99ecd58c15420baa898a14e5e8fa04",
       "version_major": 2,
       "version_minor": 0
      },
      "text/plain": [
       "Batches:   0%|          | 0/1 [00:00<?, ?it/s]"
      ]
     },
     "metadata": {},
     "output_type": "display_data"
    },
    {
     "data": {
      "application/vnd.jupyter.widget-view+json": {
       "model_id": "b0d1e55ffd604645a5e59aee252ae3fd",
       "version_major": 2,
       "version_minor": 0
      },
      "text/plain": [
       "Batches:   0%|          | 0/1 [00:00<?, ?it/s]"
      ]
     },
     "metadata": {},
     "output_type": "display_data"
    },
    {
     "name": "stdout",
     "output_type": "stream",
     "text": [
      "• Cosine Similarity: 0.7151\n",
      "• Perplexity: 26.08\n",
      "------------------------------------------------------------\n",
      "Query: How does the bandgap of 2D materials influence their effectiveness in water splitting?\n",
      "Generated Answer: ['The bandgap of 2D materials significantly influences their effectiveness in water splitting due to its impact on the absorption of light energy and the redox potentials of the photogenerated charge carriers. A material with a band gap of 1.23 eV will absorb visible light, which is abundant and cost-effective. However, the energy required to split water into hydrogen and oxygen is much higher than the amount of energy needed to absorb the light. Therefore, a material that is close to this value will have sufficient energy to drive the reaction.']\n",
      "Evaluation Result: {'cosine_similarities': [0.71511036], 'perplexities': [26.07659149169922], 'answers': [['The bandgap of 2D materials significantly influences their effectiveness in water splitting due to its impact on the absorption of light energy and the redox potentials of the photogenerated charge carriers. A material with a band gap of 1.23 eV will absorb visible light, which is abundant and cost-effective. However, the energy required to split water into hydrogen and oxygen is much higher than the amount of energy needed to absorb the light. Therefore, a material that is close to this value will have sufficient energy to drive the reaction.']]}\n",
      "\n"
     ]
    },
    {
     "data": {
      "application/vnd.jupyter.widget-view+json": {
       "model_id": "96a62f273ebc486ca362f8d2d8ab417e",
       "version_major": 2,
       "version_minor": 0
      },
      "text/plain": [
       "Batches:   0%|          | 0/1 [00:00<?, ?it/s]"
      ]
     },
     "metadata": {},
     "output_type": "display_data"
    },
    {
     "name": "stderr",
     "output_type": "stream",
     "text": [
      "/usr/local/lib/python3.10/dist-packages/transformers/generation/configuration_utils.py:633: UserWarning: `do_sample` is set to `False`. However, `top_p` is set to `0.9` -- this flag is only used in sample-based generation modes. You should set `do_sample=True` or unset `top_p`.\n",
      "  warnings.warn(\n"
     ]
    },
    {
     "data": {
      "application/vnd.jupyter.widget-view+json": {
       "model_id": "fdf48842919c4792b3fe42d945675c29",
       "version_major": 2,
       "version_minor": 0
      },
      "text/plain": [
       "Batches:   0%|          | 0/1 [00:00<?, ?it/s]"
      ]
     },
     "metadata": {},
     "output_type": "display_data"
    },
    {
     "data": {
      "application/vnd.jupyter.widget-view+json": {
       "model_id": "bf6558f83ac0478f9df8431d59d3069c",
       "version_major": 2,
       "version_minor": 0
      },
      "text/plain": [
       "Batches:   0%|          | 0/1 [00:00<?, ?it/s]"
      ]
     },
     "metadata": {},
     "output_type": "display_data"
    },
    {
     "name": "stdout",
     "output_type": "stream",
     "text": [
      "• Cosine Similarity: 0.7929\n",
      "• Perplexity: 8.18\n",
      "------------------------------------------------------------\n",
      "Query: What are the potential environmental benefits of hydrogen as an energy source?\n",
      "Generated Answer: [\"Hydrogen has a high energy content per unit mass, making it a very efficient fuel source. It's also abundant, so it can be produced from renewable sources, such as solar and wind energy. Hydrogen can also be used in a variety of applications, including fuel cells, internal combustion engines, and gas turbines. The main advantage of hydrogen is that it burns cleanly, producing only water vapor as a byproduct. This makes it an environmentally friendly fuel, but it's not a perfect fuel.\"]\n",
      "Evaluation Result: {'cosine_similarities': [0.79289836], 'perplexities': [8.177754402160645], 'answers': [[\"Hydrogen has a high energy content per unit mass, making it a very efficient fuel source. It's also abundant, so it can be produced from renewable sources, such as solar and wind energy. Hydrogen can also be used in a variety of applications, including fuel cells, internal combustion engines, and gas turbines. The main advantage of hydrogen is that it burns cleanly, producing only water vapor as a byproduct. This makes it an environmentally friendly fuel, but it's not a perfect fuel.\"]]}\n",
      "\n"
     ]
    },
    {
     "data": {
      "application/vnd.jupyter.widget-view+json": {
       "model_id": "a6cbab0c62404305bf247b664c3d48f3",
       "version_major": 2,
       "version_minor": 0
      },
      "text/plain": [
       "Batches:   0%|          | 0/1 [00:00<?, ?it/s]"
      ]
     },
     "metadata": {},
     "output_type": "display_data"
    },
    {
     "name": "stderr",
     "output_type": "stream",
     "text": [
      "/usr/local/lib/python3.10/dist-packages/transformers/generation/configuration_utils.py:633: UserWarning: `do_sample` is set to `False`. However, `top_p` is set to `0.9` -- this flag is only used in sample-based generation modes. You should set `do_sample=True` or unset `top_p`.\n",
      "  warnings.warn(\n"
     ]
    },
    {
     "data": {
      "application/vnd.jupyter.widget-view+json": {
       "model_id": "23759a43f1ef483a821d0e25bcb85621",
       "version_major": 2,
       "version_minor": 0
      },
      "text/plain": [
       "Batches:   0%|          | 0/1 [00:00<?, ?it/s]"
      ]
     },
     "metadata": {},
     "output_type": "display_data"
    },
    {
     "data": {
      "application/vnd.jupyter.widget-view+json": {
       "model_id": "bfed284f3c2c4b60a04a2f1f3722ed89",
       "version_major": 2,
       "version_minor": 0
      },
      "text/plain": [
       "Batches:   0%|          | 0/1 [00:00<?, ?it/s]"
      ]
     },
     "metadata": {},
     "output_type": "display_data"
    },
    {
     "name": "stdout",
     "output_type": "stream",
     "text": [
      "• Cosine Similarity: 0.7742\n",
      "• Perplexity: 26.31\n",
      "------------------------------------------------------------\n",
      "Query: How do 2D materials enhance the efficiency of photocatalytic water splitting?\n",
      "Generated Answer: [\"2D materials have a large surface area relative to their volume, which allows more active sites for the photocatalytic reactions to take place. This allows for efficient separation and migration of photogenerated charge carriers, reducing recombination losses and improving the efficiency of the material. It's also possible to combine 2D with other materials to form heterostructures or composites. These hybrid materials can further enhance the energy efficiency by improving light absorption, promoting charge transfer, and providing additional reactive sites.\"]\n",
      "Evaluation Result: {'cosine_similarities': [0.7742077], 'perplexities': [26.306684494018555], 'answers': [[\"2D materials have a large surface area relative to their volume, which allows more active sites for the photocatalytic reactions to take place. This allows for efficient separation and migration of photogenerated charge carriers, reducing recombination losses and improving the efficiency of the material. It's also possible to combine 2D with other materials to form heterostructures or composites. These hybrid materials can further enhance the energy efficiency by improving light absorption, promoting charge transfer, and providing additional reactive sites.\"]]}\n",
      "\n"
     ]
    },
    {
     "data": {
      "application/vnd.jupyter.widget-view+json": {
       "model_id": "7592c43b5623437688c6c0639f88e608",
       "version_major": 2,
       "version_minor": 0
      },
      "text/plain": [
       "Batches:   0%|          | 0/1 [00:00<?, ?it/s]"
      ]
     },
     "metadata": {},
     "output_type": "display_data"
    },
    {
     "name": "stderr",
     "output_type": "stream",
     "text": [
      "/usr/local/lib/python3.10/dist-packages/transformers/generation/configuration_utils.py:633: UserWarning: `do_sample` is set to `False`. However, `top_p` is set to `0.9` -- this flag is only used in sample-based generation modes. You should set `do_sample=True` or unset `top_p`.\n",
      "  warnings.warn(\n"
     ]
    },
    {
     "data": {
      "application/vnd.jupyter.widget-view+json": {
       "model_id": "e79c0b09a7734c9293b93461e23de0b6",
       "version_major": 2,
       "version_minor": 0
      },
      "text/plain": [
       "Batches:   0%|          | 0/1 [00:00<?, ?it/s]"
      ]
     },
     "metadata": {},
     "output_type": "display_data"
    },
    {
     "data": {
      "application/vnd.jupyter.widget-view+json": {
       "model_id": "59b22fa86b4d4bd4a9de739baffe3904",
       "version_major": 2,
       "version_minor": 0
      },
      "text/plain": [
       "Batches:   0%|          | 0/1 [00:00<?, ?it/s]"
      ]
     },
     "metadata": {},
     "output_type": "display_data"
    },
    {
     "name": "stdout",
     "output_type": "stream",
     "text": [
      "• Cosine Similarity: 0.7878\n",
      "• Perplexity: 25.91\n",
      "------------------------------------------------------------\n",
      "Query: What are the advantages of using graphene-based materials for hydrogen generation?\n",
      "Generated Answer: ['Graphene-based materials offer several advantages for hydrogen generation: High surface area, providing a large number of active sites for catalytic reactions. This enhances the efficiency of hydrogen production processes, such as water splitting and photocatalytic Hydrogen generation. High electrical conductivity, which facilitates the transfer of electrons during H2O generation reactions, making it a highly conductive material. It can withstand harsh chemical environments and high temperatures, ensuring reliable performance over time. The tunable electronic properties of graphene can be precisely controlled by modifying its structure, doping, or functionalization.']\n",
      "Evaluation Result: {'cosine_similarities': [0.7878095], 'perplexities': [25.907730102539062], 'answers': [['Graphene-based materials offer several advantages for hydrogen generation: High surface area, providing a large number of active sites for catalytic reactions. This enhances the efficiency of hydrogen production processes, such as water splitting and photocatalytic Hydrogen generation. High electrical conductivity, which facilitates the transfer of electrons during H2O generation reactions, making it a highly conductive material. It can withstand harsh chemical environments and high temperatures, ensuring reliable performance over time. The tunable electronic properties of graphene can be precisely controlled by modifying its structure, doping, or functionalization.']]}\n",
      "\n"
     ]
    },
    {
     "data": {
      "application/vnd.jupyter.widget-view+json": {
       "model_id": "7af9fb6a798b494baab44bd1d17c114e",
       "version_major": 2,
       "version_minor": 0
      },
      "text/plain": [
       "Batches:   0%|          | 0/1 [00:00<?, ?it/s]"
      ]
     },
     "metadata": {},
     "output_type": "display_data"
    },
    {
     "name": "stderr",
     "output_type": "stream",
     "text": [
      "/usr/local/lib/python3.10/dist-packages/transformers/generation/configuration_utils.py:633: UserWarning: `do_sample` is set to `False`. However, `top_p` is set to `0.9` -- this flag is only used in sample-based generation modes. You should set `do_sample=True` or unset `top_p`.\n",
      "  warnings.warn(\n"
     ]
    },
    {
     "data": {
      "application/vnd.jupyter.widget-view+json": {
       "model_id": "837d123c06504977870792f941417578",
       "version_major": 2,
       "version_minor": 0
      },
      "text/plain": [
       "Batches:   0%|          | 0/1 [00:00<?, ?it/s]"
      ]
     },
     "metadata": {},
     "output_type": "display_data"
    },
    {
     "data": {
      "application/vnd.jupyter.widget-view+json": {
       "model_id": "58a3346c5893460cb19933eacb29544b",
       "version_major": 2,
       "version_minor": 0
      },
      "text/plain": [
       "Batches:   0%|          | 0/1 [00:00<?, ?it/s]"
      ]
     },
     "metadata": {},
     "output_type": "display_data"
    },
    {
     "name": "stdout",
     "output_type": "stream",
     "text": [
      "• Cosine Similarity: 0.7411\n",
      "• Perplexity: 38.07\n",
      "------------------------------------------------------------\n",
      "Query: How does the surface area of 2D nanomaterials impact their catalytic performance?\n",
      "Generated Answer: ['The surface area of 2D nanomaterials plays a crucial role in their catalytic activity due to the following factors: Increased Active Sites: Each active site can serve as a reaction center where reactants can adsorb and undergo chemical transformations. Stronger adsorption promotes efficient interaction between the reactant and the catalyst, facilitating the activation of catalysts and initiation of reactions. This improved mass transport ensures a steady supply of reactive products and efficient removal of products. Improved Mass Transport: A larger surface surface reduces the diffusion limitations for reactive molecules and products, preventing surface saturation and maintaining catalytical activity. Tunable Surface Properties: The surface can be modified by introducing defects, doping, or functionalization. These modifications can tailor the surface properties, such as charge distribution, electronic structure, and chemical reactivity.']\n",
      "Evaluation Result: {'cosine_similarities': [0.7411276], 'perplexities': [38.065521240234375], 'answers': [['The surface area of 2D nanomaterials plays a crucial role in their catalytic activity due to the following factors: Increased Active Sites: Each active site can serve as a reaction center where reactants can adsorb and undergo chemical transformations. Stronger adsorption promotes efficient interaction between the reactant and the catalyst, facilitating the activation of catalysts and initiation of reactions. This improved mass transport ensures a steady supply of reactive products and efficient removal of products. Improved Mass Transport: A larger surface surface reduces the diffusion limitations for reactive molecules and products, preventing surface saturation and maintaining catalytical activity. Tunable Surface Properties: The surface can be modified by introducing defects, doping, or functionalization. These modifications can tailor the surface properties, such as charge distribution, electronic structure, and chemical reactivity.']]}\n",
      "\n"
     ]
    },
    {
     "data": {
      "application/vnd.jupyter.widget-view+json": {
       "model_id": "3b4c3a633f224edb87055564c65a29cb",
       "version_major": 2,
       "version_minor": 0
      },
      "text/plain": [
       "Batches:   0%|          | 0/1 [00:00<?, ?it/s]"
      ]
     },
     "metadata": {},
     "output_type": "display_data"
    },
    {
     "name": "stderr",
     "output_type": "stream",
     "text": [
      "/usr/local/lib/python3.10/dist-packages/transformers/generation/configuration_utils.py:633: UserWarning: `do_sample` is set to `False`. However, `top_p` is set to `0.9` -- this flag is only used in sample-based generation modes. You should set `do_sample=True` or unset `top_p`.\n",
      "  warnings.warn(\n"
     ]
    },
    {
     "data": {
      "application/vnd.jupyter.widget-view+json": {
       "model_id": "fda88a916e8448de9dedd1794e7e791c",
       "version_major": 2,
       "version_minor": 0
      },
      "text/plain": [
       "Batches:   0%|          | 0/1 [00:00<?, ?it/s]"
      ]
     },
     "metadata": {},
     "output_type": "display_data"
    },
    {
     "data": {
      "application/vnd.jupyter.widget-view+json": {
       "model_id": "5e285cda2ce141c8aa9c261aae146cc8",
       "version_major": 2,
       "version_minor": 0
      },
      "text/plain": [
       "Batches:   0%|          | 0/1 [00:00<?, ?it/s]"
      ]
     },
     "metadata": {},
     "output_type": "display_data"
    },
    {
     "name": "stdout",
     "output_type": "stream",
     "text": [
      "• Cosine Similarity: 0.7532\n",
      "• Perplexity: 21.52\n",
      "------------------------------------------------------------\n",
      "Query: What are the challenges associated with the stability of 2D nanomaterials in water splitting?\n",
      "Generated Answer: ['Chemical stability plays a crucial role in the long-term performance of 2D nanomaterials in water splitting: Degradation mechanisms can be susceptible to various degradation mechanisms during Water splitting, including photocorrosion, chemical etching, and oxidation. These degradation processes can lead to the loss of active sites, reduced surface area and diminished photocatalytic activity over time. By introducing protective layers or coatings on the surface of these materials, their susceptibility to degradation is reduced, leading to improved long term performance. Stability under reaction conditions: The chemical stability of two-dimensional materials under water-splitting conditions is critical. The presence of corrosive species (such as pH, temperature, etc.) and the ability to withstand the harsh conditions and maintain their stability over extended periods of time can influence the stability and performance over a wide range of applications.']\n",
      "Evaluation Result: {'cosine_similarities': [0.75323766], 'perplexities': [21.524410247802734], 'answers': [['Chemical stability plays a crucial role in the long-term performance of 2D nanomaterials in water splitting: Degradation mechanisms can be susceptible to various degradation mechanisms during Water splitting, including photocorrosion, chemical etching, and oxidation. These degradation processes can lead to the loss of active sites, reduced surface area and diminished photocatalytic activity over time. By introducing protective layers or coatings on the surface of these materials, their susceptibility to degradation is reduced, leading to improved long term performance. Stability under reaction conditions: The chemical stability of two-dimensional materials under water-splitting conditions is critical. The presence of corrosive species (such as pH, temperature, etc.) and the ability to withstand the harsh conditions and maintain their stability over extended periods of time can influence the stability and performance over a wide range of applications.']]}\n",
      "\n"
     ]
    },
    {
     "data": {
      "application/vnd.jupyter.widget-view+json": {
       "model_id": "cb73dbaf8bfe4b7483b77b76f512c67b",
       "version_major": 2,
       "version_minor": 0
      },
      "text/plain": [
       "Batches:   0%|          | 0/1 [00:00<?, ?it/s]"
      ]
     },
     "metadata": {},
     "output_type": "display_data"
    },
    {
     "name": "stderr",
     "output_type": "stream",
     "text": [
      "/usr/local/lib/python3.10/dist-packages/transformers/generation/configuration_utils.py:633: UserWarning: `do_sample` is set to `False`. However, `top_p` is set to `0.9` -- this flag is only used in sample-based generation modes. You should set `do_sample=True` or unset `top_p`.\n",
      "  warnings.warn(\n"
     ]
    },
    {
     "data": {
      "application/vnd.jupyter.widget-view+json": {
       "model_id": "b492a6650a4142d9ba6748f8832c8bf8",
       "version_major": 2,
       "version_minor": 0
      },
      "text/plain": [
       "Batches:   0%|          | 0/1 [00:00<?, ?it/s]"
      ]
     },
     "metadata": {},
     "output_type": "display_data"
    },
    {
     "data": {
      "application/vnd.jupyter.widget-view+json": {
       "model_id": "1c0c9e84d272476a92e0f5304e3ad2b4",
       "version_major": 2,
       "version_minor": 0
      },
      "text/plain": [
       "Batches:   0%|          | 0/1 [00:00<?, ?it/s]"
      ]
     },
     "metadata": {},
     "output_type": "display_data"
    },
    {
     "name": "stdout",
     "output_type": "stream",
     "text": [
      "• Cosine Similarity: 0.8916\n",
      "• Perplexity: 41.63\n",
      "------------------------------------------------------------\n",
      "Query: How can doping with different elements improve the properties of 2D nanomaterials for hydrogen production?\n",
      "Generated Answer: ['Doping 2D nanomaterials with different elements can significantly improve their properties for hydrogen production in several ways: Electronic structure modification: Doping introduces additional electron donors or acceptors into the electronic structure and bandgap. This modification can enhance the absorption of light energy, improve charge carrier separation, and optimize the redox potential of hydrogen evolution or oxygen evolution reactions. It can also improve the conductivity of the material, reducing the resistance to electron flow. Stability improvement: This is the most important aspect of doping, as it allows for the formation of defects or vacancies in the crystal structure. These defects can act as active sites for catalytic reactions, providing additional pathways for Hyd production.']\n",
      "Evaluation Result: {'cosine_similarities': [0.8915783], 'perplexities': [41.62501525878906], 'answers': [['Doping 2D nanomaterials with different elements can significantly improve their properties for hydrogen production in several ways: Electronic structure modification: Doping introduces additional electron donors or acceptors into the electronic structure and bandgap. This modification can enhance the absorption of light energy, improve charge carrier separation, and optimize the redox potential of hydrogen evolution or oxygen evolution reactions. It can also improve the conductivity of the material, reducing the resistance to electron flow. Stability improvement: This is the most important aspect of doping, as it allows for the formation of defects or vacancies in the crystal structure. These defects can act as active sites for catalytic reactions, providing additional pathways for Hyd production.']]}\n",
      "\n"
     ]
    },
    {
     "data": {
      "application/vnd.jupyter.widget-view+json": {
       "model_id": "bcb12bc7565d49ee992db91d12960ee5",
       "version_major": 2,
       "version_minor": 0
      },
      "text/plain": [
       "Batches:   0%|          | 0/1 [00:00<?, ?it/s]"
      ]
     },
     "metadata": {},
     "output_type": "display_data"
    },
    {
     "name": "stderr",
     "output_type": "stream",
     "text": [
      "/usr/local/lib/python3.10/dist-packages/transformers/generation/configuration_utils.py:633: UserWarning: `do_sample` is set to `False`. However, `top_p` is set to `0.9` -- this flag is only used in sample-based generation modes. You should set `do_sample=True` or unset `top_p`.\n",
      "  warnings.warn(\n"
     ]
    },
    {
     "data": {
      "application/vnd.jupyter.widget-view+json": {
       "model_id": "4d8338f4e00748f2ac9342fcef387753",
       "version_major": 2,
       "version_minor": 0
      },
      "text/plain": [
       "Batches:   0%|          | 0/1 [00:00<?, ?it/s]"
      ]
     },
     "metadata": {},
     "output_type": "display_data"
    },
    {
     "data": {
      "application/vnd.jupyter.widget-view+json": {
       "model_id": "481600404e8749aaa35a007eb4182722",
       "version_major": 2,
       "version_minor": 0
      },
      "text/plain": [
       "Batches:   0%|          | 0/1 [00:00<?, ?it/s]"
      ]
     },
     "metadata": {},
     "output_type": "display_data"
    },
    {
     "name": "stdout",
     "output_type": "stream",
     "text": [
      "• Cosine Similarity: 0.8644\n",
      "• Perplexity: 15.15\n",
      "------------------------------------------------------------\n",
      "Query: What techniques are used to synthesize 2D nanomaterials for water splitting applications?\n",
      "Generated Answer: ['There are a number of different techniques that can be used to synthesize 2D nanomaterials for water splitting applications, each with its own advantages and limitations. Here are some commonly used techniques: Chemical vapor deposition (CVD): CVD involves the deposition of individual atoms or molecules on a substrate surface from gaseous precursors. This method allows for precise control over the growth parameters, allowing for the synthesis of high-quality and large-area two-dimensional (2D) materials. The reaction conditions, such as temperature, pressure, and precursor concentration can all be controlled to obtain specific 3D Nanostructures with desired properties. These methods are generally used for high performance and high cost-effectiveness applications.']\n",
      "Evaluation Result: {'cosine_similarities': [0.8644009], 'perplexities': [15.148441314697266], 'answers': [['There are a number of different techniques that can be used to synthesize 2D nanomaterials for water splitting applications, each with its own advantages and limitations. Here are some commonly used techniques: Chemical vapor deposition (CVD): CVD involves the deposition of individual atoms or molecules on a substrate surface from gaseous precursors. This method allows for precise control over the growth parameters, allowing for the synthesis of high-quality and large-area two-dimensional (2D) materials. The reaction conditions, such as temperature, pressure, and precursor concentration can all be controlled to obtain specific 3D Nanostructures with desired properties. These methods are generally used for high performance and high cost-effectiveness applications.']]}\n",
      "\n"
     ]
    },
    {
     "data": {
      "application/vnd.jupyter.widget-view+json": {
       "model_id": "2c67dbf7f8844c20b137c839512190bc",
       "version_major": 2,
       "version_minor": 0
      },
      "text/plain": [
       "Batches:   0%|          | 0/1 [00:00<?, ?it/s]"
      ]
     },
     "metadata": {},
     "output_type": "display_data"
    },
    {
     "name": "stderr",
     "output_type": "stream",
     "text": [
      "/usr/local/lib/python3.10/dist-packages/transformers/generation/configuration_utils.py:633: UserWarning: `do_sample` is set to `False`. However, `top_p` is set to `0.9` -- this flag is only used in sample-based generation modes. You should set `do_sample=True` or unset `top_p`.\n",
      "  warnings.warn(\n"
     ]
    },
    {
     "data": {
      "application/vnd.jupyter.widget-view+json": {
       "model_id": "4292f9f1b6874aea93e793902dfca09d",
       "version_major": 2,
       "version_minor": 0
      },
      "text/plain": [
       "Batches:   0%|          | 0/1 [00:00<?, ?it/s]"
      ]
     },
     "metadata": {},
     "output_type": "display_data"
    },
    {
     "data": {
      "application/vnd.jupyter.widget-view+json": {
       "model_id": "0f55b83eb53443c3b9e674b1ab31ccff",
       "version_major": 2,
       "version_minor": 0
      },
      "text/plain": [
       "Batches:   0%|          | 0/1 [00:00<?, ?it/s]"
      ]
     },
     "metadata": {},
     "output_type": "display_data"
    },
    {
     "name": "stdout",
     "output_type": "stream",
     "text": [
      "• Cosine Similarity: 0.7348\n",
      "• Perplexity: 10.50\n",
      "------------------------------------------------------------\n",
      "Query: How does the synthesis method affect the properties of 2D nanomaterials?\n",
      "Generated Answer: ['The synthesis method significantly influences the properties of 2D nanomaterials, including their structure, morphology, size, crystallinity, and electronic properties. Here\\'s how different synthesis methods can affect these properties: **Exfoliation**: This is the most common form of synthesis, but it\\'s not the only one. It can be done in a variety of ways, depending on the type of material used, the temperature of the reaction, etc. **Chemical vapor deposition** (CVD) is a common method used to produce materials with specific shapes, patterns, or orientations. You can use CVD to create materials that have specific properties, such as high surface area, low melting point, high electronic and optical properties (e.g. high electrical conductivity). **Hydrothermal/solvothermal synthesis** is another popular method. This method uses a process known as hydrothermodynamics, which involves heating water to a specific temperature and pressure. The reaction conditions are controlled by temperature, solvent concentration and precursor concentration, so you can control the size and shape of your material, as well as the crystal structure.** **Molecular beam epitaxy (MBE)** This technique uses an electron beam to grow a material that has a particular shape, pattern or orientation. In this case, you use a beam of electrons to make the material. When the beam passes through a substrate, it interacts with the atoms in the substrate and causes them to rearrange themselves into the desired shape or shape. These rearrangements are called \"self-assembly\" and are the basis of many nanotechnology applications.']\n",
      "Evaluation Result: {'cosine_similarities': [0.7347964], 'perplexities': [10.495984077453613], 'answers': [['The synthesis method significantly influences the properties of 2D nanomaterials, including their structure, morphology, size, crystallinity, and electronic properties. Here\\'s how different synthesis methods can affect these properties: **Exfoliation**: This is the most common form of synthesis, but it\\'s not the only one. It can be done in a variety of ways, depending on the type of material used, the temperature of the reaction, etc. **Chemical vapor deposition** (CVD) is a common method used to produce materials with specific shapes, patterns, or orientations. You can use CVD to create materials that have specific properties, such as high surface area, low melting point, high electronic and optical properties (e.g. high electrical conductivity). **Hydrothermal/solvothermal synthesis** is another popular method. This method uses a process known as hydrothermodynamics, which involves heating water to a specific temperature and pressure. The reaction conditions are controlled by temperature, solvent concentration and precursor concentration, so you can control the size and shape of your material, as well as the crystal structure.** **Molecular beam epitaxy (MBE)** This technique uses an electron beam to grow a material that has a particular shape, pattern or orientation. In this case, you use a beam of electrons to make the material. When the beam passes through a substrate, it interacts with the atoms in the substrate and causes them to rearrange themselves into the desired shape or shape. These rearrangements are called \"self-assembly\" and are the basis of many nanotechnology applications.']]}\n",
      "\n"
     ]
    },
    {
     "data": {
      "application/vnd.jupyter.widget-view+json": {
       "model_id": "207ec102ecda4a7795b8367a32932616",
       "version_major": 2,
       "version_minor": 0
      },
      "text/plain": [
       "Batches:   0%|          | 0/1 [00:00<?, ?it/s]"
      ]
     },
     "metadata": {},
     "output_type": "display_data"
    },
    {
     "name": "stderr",
     "output_type": "stream",
     "text": [
      "/usr/local/lib/python3.10/dist-packages/transformers/generation/configuration_utils.py:633: UserWarning: `do_sample` is set to `False`. However, `top_p` is set to `0.9` -- this flag is only used in sample-based generation modes. You should set `do_sample=True` or unset `top_p`.\n",
      "  warnings.warn(\n"
     ]
    },
    {
     "data": {
      "application/vnd.jupyter.widget-view+json": {
       "model_id": "35ea829b9025472480b66a73b87c3a7f",
       "version_major": 2,
       "version_minor": 0
      },
      "text/plain": [
       "Batches:   0%|          | 0/1 [00:00<?, ?it/s]"
      ]
     },
     "metadata": {},
     "output_type": "display_data"
    },
    {
     "data": {
      "application/vnd.jupyter.widget-view+json": {
       "model_id": "4968fc6b1070458c8f52cb4601e2bcae",
       "version_major": 2,
       "version_minor": 0
      },
      "text/plain": [
       "Batches:   0%|          | 0/1 [00:00<?, ?it/s]"
      ]
     },
     "metadata": {},
     "output_type": "display_data"
    },
    {
     "name": "stdout",
     "output_type": "stream",
     "text": [
      "• Cosine Similarity: 0.7351\n",
      "• Perplexity: 33.24\n",
      "------------------------------------------------------------\n",
      "Query: What is the significance of heterostructures in enhancing water splitting performance?\n",
      "Generated Answer: ['Heterostructures, which are interfaces between two or more different materials, play a crucial role in enhancing water splitting performance due to several key factors: Tailored band alignment: This allows for the engineering of band alignments at the interface, optimizing the flow of charge carriers and reducing recombination losses. For example, combining a wide bandgap semiconductor with a narrow-bandgap silicon can extend the light absorption range and enhance the overall photocatalytic activity. This can increase the surface area available for catalytic reactions, resulting in higher hydrogen production rates.']\n",
      "Evaluation Result: {'cosine_similarities': [0.73510456], 'perplexities': [33.24018859863281], 'answers': [['Heterostructures, which are interfaces between two or more different materials, play a crucial role in enhancing water splitting performance due to several key factors: Tailored band alignment: This allows for the engineering of band alignments at the interface, optimizing the flow of charge carriers and reducing recombination losses. For example, combining a wide bandgap semiconductor with a narrow-bandgap silicon can extend the light absorption range and enhance the overall photocatalytic activity. This can increase the surface area available for catalytic reactions, resulting in higher hydrogen production rates.']]}\n",
      "\n"
     ]
    },
    {
     "data": {
      "application/vnd.jupyter.widget-view+json": {
       "model_id": "5bafb301305b4137aa93d90f50d61a34",
       "version_major": 2,
       "version_minor": 0
      },
      "text/plain": [
       "Batches:   0%|          | 0/1 [00:00<?, ?it/s]"
      ]
     },
     "metadata": {},
     "output_type": "display_data"
    },
    {
     "name": "stderr",
     "output_type": "stream",
     "text": [
      "/usr/local/lib/python3.10/dist-packages/transformers/generation/configuration_utils.py:633: UserWarning: `do_sample` is set to `False`. However, `top_p` is set to `0.9` -- this flag is only used in sample-based generation modes. You should set `do_sample=True` or unset `top_p`.\n",
      "  warnings.warn(\n"
     ]
    },
    {
     "data": {
      "application/vnd.jupyter.widget-view+json": {
       "model_id": "4696e08fcbf842078a9f55e5244f7514",
       "version_major": 2,
       "version_minor": 0
      },
      "text/plain": [
       "Batches:   0%|          | 0/1 [00:00<?, ?it/s]"
      ]
     },
     "metadata": {},
     "output_type": "display_data"
    },
    {
     "data": {
      "application/vnd.jupyter.widget-view+json": {
       "model_id": "b26d64a3c2404292b6d339a41a85d5d7",
       "version_major": 2,
       "version_minor": 0
      },
      "text/plain": [
       "Batches:   0%|          | 0/1 [00:00<?, ?it/s]"
      ]
     },
     "metadata": {},
     "output_type": "display_data"
    },
    {
     "name": "stdout",
     "output_type": "stream",
     "text": [
      "• Cosine Similarity: 0.8899\n",
      "• Perplexity: 22.18\n",
      "------------------------------------------------------------\n",
      "Query: How do 2D nanomaterials interact with light during the photocatalytic process?\n",
      "Generated Answer: ['2D nanomaterials interact with light during the photocatalytic process in several important ways: 1. Charge generation: When a photon of light is absorbed by a 2D nano-material, it can excite an electron from the valence band to the conduction band. This can be used to drive the redox reactions that lead to hydrogen or oxygen production. 2. Surface reactions: The photogenerated charge carriers can participate in surface reactions on the surface of the material, such as the adsorption/desorbption behavior of reactants and products. 3. Charged electron-hole pairs can transfer to other materials or molecules involved in the reaction.']\n",
      "Evaluation Result: {'cosine_similarities': [0.8899486], 'perplexities': [22.18202018737793], 'answers': [['2D nanomaterials interact with light during the photocatalytic process in several important ways: 1. Charge generation: When a photon of light is absorbed by a 2D nano-material, it can excite an electron from the valence band to the conduction band. This can be used to drive the redox reactions that lead to hydrogen or oxygen production. 2. Surface reactions: The photogenerated charge carriers can participate in surface reactions on the surface of the material, such as the adsorption/desorbption behavior of reactants and products. 3. Charged electron-hole pairs can transfer to other materials or molecules involved in the reaction.']]}\n",
      "\n"
     ]
    },
    {
     "data": {
      "application/vnd.jupyter.widget-view+json": {
       "model_id": "ee81dbf004ea4808b5ea3c2ebb5a44ee",
       "version_major": 2,
       "version_minor": 0
      },
      "text/plain": [
       "Batches:   0%|          | 0/1 [00:00<?, ?it/s]"
      ]
     },
     "metadata": {},
     "output_type": "display_data"
    },
    {
     "name": "stderr",
     "output_type": "stream",
     "text": [
      "/usr/local/lib/python3.10/dist-packages/transformers/generation/configuration_utils.py:633: UserWarning: `do_sample` is set to `False`. However, `top_p` is set to `0.9` -- this flag is only used in sample-based generation modes. You should set `do_sample=True` or unset `top_p`.\n",
      "  warnings.warn(\n"
     ]
    },
    {
     "data": {
      "application/vnd.jupyter.widget-view+json": {
       "model_id": "4ff22d5df3d640fbbfdc016316f008dc",
       "version_major": 2,
       "version_minor": 0
      },
      "text/plain": [
       "Batches:   0%|          | 0/1 [00:00<?, ?it/s]"
      ]
     },
     "metadata": {},
     "output_type": "display_data"
    },
    {
     "data": {
      "application/vnd.jupyter.widget-view+json": {
       "model_id": "f0fd685d41c247dc84557c8c58bc6a38",
       "version_major": 2,
       "version_minor": 0
      },
      "text/plain": [
       "Batches:   0%|          | 0/1 [00:00<?, ?it/s]"
      ]
     },
     "metadata": {},
     "output_type": "display_data"
    },
    {
     "name": "stdout",
     "output_type": "stream",
     "text": [
      "• Cosine Similarity: 0.8638\n",
      "• Perplexity: 21.90\n",
      "------------------------------------------------------------\n",
      "Query: What are the main reaction mechanisms involved in photocatalytic water splitting?\n",
      "Generated Answer: ['The main reaction mechanisms involved in photocatalytic water splitting are: Light absorption: The first step is the absorption of light energy by the water molecules, which generates electron-hole pairs. The electrons are used to oxidize water molecule, producing oxygen and protons (H+). This reaction typically occurs on the surface of the catalyst, but can also occur on a separate cocatalyst. This separation can be facilitated by built-in electric fields or the presence of an electric field. Charged electrons must be separated to prevent recombination and allow them to participate in the redox reactions. Charge separation must also be prevented by a magnetic field, or else the electrons will recombine and form hydrogen gas. Hydrogen gas is produced by splitting water into hydrogen and oxygen.']\n",
      "Evaluation Result: {'cosine_similarities': [0.863804], 'perplexities': [21.90388298034668], 'answers': [['The main reaction mechanisms involved in photocatalytic water splitting are: Light absorption: The first step is the absorption of light energy by the water molecules, which generates electron-hole pairs. The electrons are used to oxidize water molecule, producing oxygen and protons (H+). This reaction typically occurs on the surface of the catalyst, but can also occur on a separate cocatalyst. This separation can be facilitated by built-in electric fields or the presence of an electric field. Charged electrons must be separated to prevent recombination and allow them to participate in the redox reactions. Charge separation must also be prevented by a magnetic field, or else the electrons will recombine and form hydrogen gas. Hydrogen gas is produced by splitting water into hydrogen and oxygen.']]}\n",
      "\n"
     ]
    },
    {
     "data": {
      "application/vnd.jupyter.widget-view+json": {
       "model_id": "b70827450a93419a991c4201ae93e93f",
       "version_major": 2,
       "version_minor": 0
      },
      "text/plain": [
       "Batches:   0%|          | 0/1 [00:00<?, ?it/s]"
      ]
     },
     "metadata": {},
     "output_type": "display_data"
    },
    {
     "name": "stderr",
     "output_type": "stream",
     "text": [
      "/usr/local/lib/python3.10/dist-packages/transformers/generation/configuration_utils.py:633: UserWarning: `do_sample` is set to `False`. However, `top_p` is set to `0.9` -- this flag is only used in sample-based generation modes. You should set `do_sample=True` or unset `top_p`.\n",
      "  warnings.warn(\n"
     ]
    },
    {
     "data": {
      "application/vnd.jupyter.widget-view+json": {
       "model_id": "ad5c9bd8ed0c4adcb11b8eec10b36dd1",
       "version_major": 2,
       "version_minor": 0
      },
      "text/plain": [
       "Batches:   0%|          | 0/1 [00:00<?, ?it/s]"
      ]
     },
     "metadata": {},
     "output_type": "display_data"
    },
    {
     "data": {
      "application/vnd.jupyter.widget-view+json": {
       "model_id": "090635c7e2cd4c56b698b3ea3099691a",
       "version_major": 2,
       "version_minor": 0
      },
      "text/plain": [
       "Batches:   0%|          | 0/1 [00:00<?, ?it/s]"
      ]
     },
     "metadata": {},
     "output_type": "display_data"
    },
    {
     "name": "stdout",
     "output_type": "stream",
     "text": [
      "• Cosine Similarity: 0.8440\n",
      "• Perplexity: 33.43\n",
      "------------------------------------------------------------\n",
      "Query: How can surface modifications of 2D nanomaterials improve their photocatalytic activity?\n",
      "Generated Answer: ['Surface modifications of 2D nanomaterials can significantly improve their photocatalytic activity by: Enhancing light absorption: Surface modifications can introduce new optical properties or alter the bandgap of the material, enabling it to absorb a broader range of light wavelengths. This can lead to increased light harvesting and improved light efficiency. Promoting charge separation: Surfaces can create defects or introduce heterojunctions that facilitate the separation of photogenerated electron-hole pairs. By reducing recombination losses, more charge carriers are available for participating in the reaction.']\n",
      "Evaluation Result: {'cosine_similarities': [0.84396803], 'perplexities': [33.428287506103516], 'answers': [['Surface modifications of 2D nanomaterials can significantly improve their photocatalytic activity by: Enhancing light absorption: Surface modifications can introduce new optical properties or alter the bandgap of the material, enabling it to absorb a broader range of light wavelengths. This can lead to increased light harvesting and improved light efficiency. Promoting charge separation: Surfaces can create defects or introduce heterojunctions that facilitate the separation of photogenerated electron-hole pairs. By reducing recombination losses, more charge carriers are available for participating in the reaction.']]}\n",
      "\n"
     ]
    },
    {
     "data": {
      "application/vnd.jupyter.widget-view+json": {
       "model_id": "de9a16f0e9dd4f52b49e94d2318227f4",
       "version_major": 2,
       "version_minor": 0
      },
      "text/plain": [
       "Batches:   0%|          | 0/1 [00:00<?, ?it/s]"
      ]
     },
     "metadata": {},
     "output_type": "display_data"
    },
    {
     "name": "stderr",
     "output_type": "stream",
     "text": [
      "/usr/local/lib/python3.10/dist-packages/transformers/generation/configuration_utils.py:633: UserWarning: `do_sample` is set to `False`. However, `top_p` is set to `0.9` -- this flag is only used in sample-based generation modes. You should set `do_sample=True` or unset `top_p`.\n",
      "  warnings.warn(\n"
     ]
    },
    {
     "data": {
      "application/vnd.jupyter.widget-view+json": {
       "model_id": "4b38e699c51c4daab5f246123856bb6a",
       "version_major": 2,
       "version_minor": 0
      },
      "text/plain": [
       "Batches:   0%|          | 0/1 [00:00<?, ?it/s]"
      ]
     },
     "metadata": {},
     "output_type": "display_data"
    },
    {
     "data": {
      "application/vnd.jupyter.widget-view+json": {
       "model_id": "995730327ec4427b890e06198559da18",
       "version_major": 2,
       "version_minor": 0
      },
      "text/plain": [
       "Batches:   0%|          | 0/1 [00:00<?, ?it/s]"
      ]
     },
     "metadata": {},
     "output_type": "display_data"
    },
    {
     "name": "stdout",
     "output_type": "stream",
     "text": [
      "• Cosine Similarity: 0.8211\n",
      "• Perplexity: 50.75\n",
      "------------------------------------------------------------\n",
      "Query: How do the electronic properties of 2D nanomaterials influence their hydrogen production efficiency?\n",
      "Generated Answer: ['The electronic properties of 2D nanomaterials significantly influence their hydrogen production efficiency in several ways: Bandgap: The wavelength of light it can absorb. For efficient photocatalytic Hydrogen production, the bandgap should be suitable to absorb a significant portion of the solar spectrum, typically in the visible or near-infrared region. The density of states determines the availability of charge carriers for the hydrogen evolution reaction or oxygen evolution reactions. A high DOS near the conduction band edge promotes the oxidation of water for oxygen production. High charge carrier mobility ensures the efficient movement of photogenerated electrons and holes to the active sites for hydrogen or Oxygen production within the material.']\n",
      "Evaluation Result: {'cosine_similarities': [0.8211099], 'perplexities': [50.75115966796875], 'answers': [['The electronic properties of 2D nanomaterials significantly influence their hydrogen production efficiency in several ways: Bandgap: The wavelength of light it can absorb. For efficient photocatalytic Hydrogen production, the bandgap should be suitable to absorb a significant portion of the solar spectrum, typically in the visible or near-infrared region. The density of states determines the availability of charge carriers for the hydrogen evolution reaction or oxygen evolution reactions. A high DOS near the conduction band edge promotes the oxidation of water for oxygen production. High charge carrier mobility ensures the efficient movement of photogenerated electrons and holes to the active sites for hydrogen or Oxygen production within the material.']]}\n",
      "\n"
     ]
    },
    {
     "data": {
      "application/vnd.jupyter.widget-view+json": {
       "model_id": "6a4b4c5a62e043e3b211d4ad3c132ce1",
       "version_major": 2,
       "version_minor": 0
      },
      "text/plain": [
       "Batches:   0%|          | 0/1 [00:00<?, ?it/s]"
      ]
     },
     "metadata": {},
     "output_type": "display_data"
    },
    {
     "name": "stderr",
     "output_type": "stream",
     "text": [
      "/usr/local/lib/python3.10/dist-packages/transformers/generation/configuration_utils.py:633: UserWarning: `do_sample` is set to `False`. However, `top_p` is set to `0.9` -- this flag is only used in sample-based generation modes. You should set `do_sample=True` or unset `top_p`.\n",
      "  warnings.warn(\n"
     ]
    },
    {
     "data": {
      "application/vnd.jupyter.widget-view+json": {
       "model_id": "dba543b7a1134241be61a0bdb3d909fd",
       "version_major": 2,
       "version_minor": 0
      },
      "text/plain": [
       "Batches:   0%|          | 0/1 [00:00<?, ?it/s]"
      ]
     },
     "metadata": {},
     "output_type": "display_data"
    },
    {
     "data": {
      "application/vnd.jupyter.widget-view+json": {
       "model_id": "3ece620f084b425b89260ef83ceef41e",
       "version_major": 2,
       "version_minor": 0
      },
      "text/plain": [
       "Batches:   0%|          | 0/1 [00:00<?, ?it/s]"
      ]
     },
     "metadata": {},
     "output_type": "display_data"
    },
    {
     "name": "stdout",
     "output_type": "stream",
     "text": [
      "• Cosine Similarity: 0.5101\n",
      "• Perplexity: 16.58\n",
      "------------------------------------------------------------\n",
      "Query: What computational methods are used to predict the performance of 2D nanomaterials in hydrogen generation?\n",
      "Generated Answer: [\"I'm not sure if this is exactly what you're looking for, but graphene is a 2D material with a puckered honeycomb structure. It has a high surface area and excellent electrical conductivity, making it a promising candidate for HER. Graphene has tunable electronic properties and can be used as both HER and OER catalysts. I don't know if it's used in hydrogen production in the same way as graphene, though, so I can't comment on that.\"]\n",
      "Evaluation Result: {'cosine_similarities': [0.51006573], 'perplexities': [16.578187942504883], 'answers': [[\"I'm not sure if this is exactly what you're looking for, but graphene is a 2D material with a puckered honeycomb structure. It has a high surface area and excellent electrical conductivity, making it a promising candidate for HER. Graphene has tunable electronic properties and can be used as both HER and OER catalysts. I don't know if it's used in hydrogen production in the same way as graphene, though, so I can't comment on that.\"]]}\n",
      "\n"
     ]
    },
    {
     "data": {
      "application/vnd.jupyter.widget-view+json": {
       "model_id": "feffb2c708854f3587d3b966781b9014",
       "version_major": 2,
       "version_minor": 0
      },
      "text/plain": [
       "Batches:   0%|          | 0/1 [00:00<?, ?it/s]"
      ]
     },
     "metadata": {},
     "output_type": "display_data"
    },
    {
     "name": "stderr",
     "output_type": "stream",
     "text": [
      "/usr/local/lib/python3.10/dist-packages/transformers/generation/configuration_utils.py:633: UserWarning: `do_sample` is set to `False`. However, `top_p` is set to `0.9` -- this flag is only used in sample-based generation modes. You should set `do_sample=True` or unset `top_p`.\n",
      "  warnings.warn(\n"
     ]
    },
    {
     "data": {
      "application/vnd.jupyter.widget-view+json": {
       "model_id": "783b533da6744810ba4b46d3b80fdfba",
       "version_major": 2,
       "version_minor": 0
      },
      "text/plain": [
       "Batches:   0%|          | 0/1 [00:00<?, ?it/s]"
      ]
     },
     "metadata": {},
     "output_type": "display_data"
    },
    {
     "data": {
      "application/vnd.jupyter.widget-view+json": {
       "model_id": "4e4b02f8fd0442c1baff73ad0f75d755",
       "version_major": 2,
       "version_minor": 0
      },
      "text/plain": [
       "Batches:   0%|          | 0/1 [00:00<?, ?it/s]"
      ]
     },
     "metadata": {},
     "output_type": "display_data"
    },
    {
     "name": "stdout",
     "output_type": "stream",
     "text": [
      "• Cosine Similarity: 0.6212\n",
      "• Perplexity: 7.06\n",
      "------------------------------------------------------------\n",
      "Query: How can combining different 2D materials create synergies in photocatalytic activity?\n",
      "Generated Answer: [\"There are a number of ways to make photocatalysts. The most common way is to use different materials with different properties. For example, if you have a material that absorbs light in a specific band, you can use that material as a catalyst for the production of hydrogen. If you use a different material, it can be used to catalyze the formation of oxygen, but it won't be able to produce hydrogen because it doesn't have the same absorption properties as the other material. Another way to do this is by using different types of materials that absorb different wavelengths of light. This is called plasmonic absorption, and it's a very common technique in chemistry.\"]\n",
      "Evaluation Result: {'cosine_similarities': [0.6211879], 'perplexities': [7.060201644897461], 'answers': [[\"There are a number of ways to make photocatalysts. The most common way is to use different materials with different properties. For example, if you have a material that absorbs light in a specific band, you can use that material as a catalyst for the production of hydrogen. If you use a different material, it can be used to catalyze the formation of oxygen, but it won't be able to produce hydrogen because it doesn't have the same absorption properties as the other material. Another way to do this is by using different types of materials that absorb different wavelengths of light. This is called plasmonic absorption, and it's a very common technique in chemistry.\"]]}\n",
      "\n"
     ]
    },
    {
     "data": {
      "application/vnd.jupyter.widget-view+json": {
       "model_id": "d978e8bdfd6d4590ba72e052bad7606f",
       "version_major": 2,
       "version_minor": 0
      },
      "text/plain": [
       "Batches:   0%|          | 0/1 [00:00<?, ?it/s]"
      ]
     },
     "metadata": {},
     "output_type": "display_data"
    },
    {
     "name": "stderr",
     "output_type": "stream",
     "text": [
      "/usr/local/lib/python3.10/dist-packages/transformers/generation/configuration_utils.py:633: UserWarning: `do_sample` is set to `False`. However, `top_p` is set to `0.9` -- this flag is only used in sample-based generation modes. You should set `do_sample=True` or unset `top_p`.\n",
      "  warnings.warn(\n"
     ]
    },
    {
     "data": {
      "application/vnd.jupyter.widget-view+json": {
       "model_id": "7b1e1c65382943c58c9d8e94d653c0ea",
       "version_major": 2,
       "version_minor": 0
      },
      "text/plain": [
       "Batches:   0%|          | 0/1 [00:00<?, ?it/s]"
      ]
     },
     "metadata": {},
     "output_type": "display_data"
    },
    {
     "data": {
      "application/vnd.jupyter.widget-view+json": {
       "model_id": "b7527f297bfa4c59822e9dfd056eff86",
       "version_major": 2,
       "version_minor": 0
      },
      "text/plain": [
       "Batches:   0%|          | 0/1 [00:00<?, ?it/s]"
      ]
     },
     "metadata": {},
     "output_type": "display_data"
    },
    {
     "name": "stdout",
     "output_type": "stream",
     "text": [
      "• Cosine Similarity: 0.8372\n",
      "• Perplexity: 21.23\n",
      "------------------------------------------------------------\n",
      "Query: What are the effects of varying the thickness of 2D nanomaterials on their catalytic properties?\n",
      "Generated Answer: ['Varying the thickness of 2D nanomaterials can significantly affect their catalytic properties, including: Surface area: The surface area per unit mass of the material determines how much energy can be absorbed by it. Thinner materials tend to have a larger Surface Area per Unit Mass, which means more active sites for photocatalytic reactions. This can lead to reduced recombination losses, leading to improved charge transport and reduced energy loss. The thickness can also affect the electronic structure of a material, such as its bandgap and density of states. Electronic properties can affect its mechanical strength and flexibility.']\n",
      "Evaluation Result: {'cosine_similarities': [0.837162], 'perplexities': [21.231430053710938], 'answers': [['Varying the thickness of 2D nanomaterials can significantly affect their catalytic properties, including: Surface area: The surface area per unit mass of the material determines how much energy can be absorbed by it. Thinner materials tend to have a larger Surface Area per Unit Mass, which means more active sites for photocatalytic reactions. This can lead to reduced recombination losses, leading to improved charge transport and reduced energy loss. The thickness can also affect the electronic structure of a material, such as its bandgap and density of states. Electronic properties can affect its mechanical strength and flexibility.']]}\n",
      "\n"
     ]
    },
    {
     "data": {
      "application/vnd.jupyter.widget-view+json": {
       "model_id": "6dcda7e3200e4937af6fc72f7ac60894",
       "version_major": 2,
       "version_minor": 0
      },
      "text/plain": [
       "Batches:   0%|          | 0/1 [00:00<?, ?it/s]"
      ]
     },
     "metadata": {},
     "output_type": "display_data"
    },
    {
     "name": "stderr",
     "output_type": "stream",
     "text": [
      "/usr/local/lib/python3.10/dist-packages/transformers/generation/configuration_utils.py:633: UserWarning: `do_sample` is set to `False`. However, `top_p` is set to `0.9` -- this flag is only used in sample-based generation modes. You should set `do_sample=True` or unset `top_p`.\n",
      "  warnings.warn(\n"
     ]
    },
    {
     "data": {
      "application/vnd.jupyter.widget-view+json": {
       "model_id": "5423871ce06f463fa16139d43ad4a801",
       "version_major": 2,
       "version_minor": 0
      },
      "text/plain": [
       "Batches:   0%|          | 0/1 [00:00<?, ?it/s]"
      ]
     },
     "metadata": {},
     "output_type": "display_data"
    },
    {
     "data": {
      "application/vnd.jupyter.widget-view+json": {
       "model_id": "0aefbd1ff6164489ad1b99e815f8b974",
       "version_major": 2,
       "version_minor": 0
      },
      "text/plain": [
       "Batches:   0%|          | 0/1 [00:00<?, ?it/s]"
      ]
     },
     "metadata": {},
     "output_type": "display_data"
    },
    {
     "name": "stdout",
     "output_type": "stream",
     "text": [
      "• Cosine Similarity: 0.8720\n",
      "• Perplexity: 12.18\n",
      "------------------------------------------------------------\n",
      "Query: What role does temperature play in the efficiency of hydrogen production via water splitting?\n",
      "Generated Answer: ['Temperature plays a crucial role in the efficiency of hydrogen production via water splitting in several ways: Reaction kinetics: The rate of the reaction increases with increasing temperature. Higher temperatures provide more energy to the reactants, allowing them to overcome the activation energy barrier and react more quickly. This can affect the rate at which the hydrogen and oxygen are produced, as well as the amount of time it takes for the reactions to occur. Stability of materials: Depending on the type of catalyst used, it can be affected by the temperature, and how the catalyst reacts with the water. Some catalysts are better at high temperatures, while others are worse at low temperatures.']\n",
      "Evaluation Result: {'cosine_similarities': [0.8719611], 'perplexities': [12.184672355651855], 'answers': [['Temperature plays a crucial role in the efficiency of hydrogen production via water splitting in several ways: Reaction kinetics: The rate of the reaction increases with increasing temperature. Higher temperatures provide more energy to the reactants, allowing them to overcome the activation energy barrier and react more quickly. This can affect the rate at which the hydrogen and oxygen are produced, as well as the amount of time it takes for the reactions to occur. Stability of materials: Depending on the type of catalyst used, it can be affected by the temperature, and how the catalyst reacts with the water. Some catalysts are better at high temperatures, while others are worse at low temperatures.']]}\n",
      "\n"
     ]
    },
    {
     "data": {
      "application/vnd.jupyter.widget-view+json": {
       "model_id": "a78914087d14444fa74b9523d56ec862",
       "version_major": 2,
       "version_minor": 0
      },
      "text/plain": [
       "Batches:   0%|          | 0/1 [00:00<?, ?it/s]"
      ]
     },
     "metadata": {},
     "output_type": "display_data"
    },
    {
     "name": "stderr",
     "output_type": "stream",
     "text": [
      "/usr/local/lib/python3.10/dist-packages/transformers/generation/configuration_utils.py:633: UserWarning: `do_sample` is set to `False`. However, `top_p` is set to `0.9` -- this flag is only used in sample-based generation modes. You should set `do_sample=True` or unset `top_p`.\n",
      "  warnings.warn(\n"
     ]
    },
    {
     "data": {
      "application/vnd.jupyter.widget-view+json": {
       "model_id": "83f29a2da6b44f5e9681f152e734928f",
       "version_major": 2,
       "version_minor": 0
      },
      "text/plain": [
       "Batches:   0%|          | 0/1 [00:00<?, ?it/s]"
      ]
     },
     "metadata": {},
     "output_type": "display_data"
    },
    {
     "data": {
      "application/vnd.jupyter.widget-view+json": {
       "model_id": "45bfd03d1bbb46c0a3d72d59c3cb8b53",
       "version_major": 2,
       "version_minor": 0
      },
      "text/plain": [
       "Batches:   0%|          | 0/1 [00:00<?, ?it/s]"
      ]
     },
     "metadata": {},
     "output_type": "display_data"
    },
    {
     "name": "stdout",
     "output_type": "stream",
     "text": [
      "• Cosine Similarity: 0.5141\n",
      "• Perplexity: 6.16\n",
      "------------------------------------------------------------\n",
      "Query: How can the stability of 2D nanomaterials be assessed during long-term water splitting experiments?\n",
      "Generated Answer: [\"I'm not sure if this is what you're looking for, but I'll give it a shot. First of all, you need to understand what a nanometer is. It's a measure of how many atoms are in a molecule, and how much energy it takes to move them from one place to another. So, let's say you have a bunch of atoms in the middle of a piece of paper. If you want to know how long it will take for the paper to break down into smaller and smaller pieces, then you can look at the size of the pieces. Now, if you take that paper and put it in water, it's going to be a lot smaller than it was when you took it out of water. This is because water is a very good conductor of energy, so it can move things around very quickly. The bigger the piece, the faster the water will move around, which means that the more energy you put into the thing the less likely it is for it to get broken down. You can use this to figure out how fast the molecules are moving around. For example, imagine you've got two pieces of metal, one of which is made up of two carbon atoms. One carbon atom has a half-life of about 10 seconds, while the other one has half a life of 10 minutes. When you split the metal up into two halves, each half will have half the energy that it had when it first came in. Since the half life is so short, we can calculate how quickly the atoms will be able to go back and forth between the halves. We can then use that information to calculate the total energy required to make the same amount of material twice as long as the first time.\"]\n",
      "Evaluation Result: {'cosine_similarities': [0.514135], 'perplexities': [6.162426471710205], 'answers': [[\"I'm not sure if this is what you're looking for, but I'll give it a shot. First of all, you need to understand what a nanometer is. It's a measure of how many atoms are in a molecule, and how much energy it takes to move them from one place to another. So, let's say you have a bunch of atoms in the middle of a piece of paper. If you want to know how long it will take for the paper to break down into smaller and smaller pieces, then you can look at the size of the pieces. Now, if you take that paper and put it in water, it's going to be a lot smaller than it was when you took it out of water. This is because water is a very good conductor of energy, so it can move things around very quickly. The bigger the piece, the faster the water will move around, which means that the more energy you put into the thing the less likely it is for it to get broken down. You can use this to figure out how fast the molecules are moving around. For example, imagine you've got two pieces of metal, one of which is made up of two carbon atoms. One carbon atom has a half-life of about 10 seconds, while the other one has half a life of 10 minutes. When you split the metal up into two halves, each half will have half the energy that it had when it first came in. Since the half life is so short, we can calculate how quickly the atoms will be able to go back and forth between the halves. We can then use that information to calculate the total energy required to make the same amount of material twice as long as the first time.\"]]}\n",
      "\n"
     ]
    },
    {
     "data": {
      "application/vnd.jupyter.widget-view+json": {
       "model_id": "cd2545511c034de89801525e1711e8df",
       "version_major": 2,
       "version_minor": 0
      },
      "text/plain": [
       "Batches:   0%|          | 0/1 [00:00<?, ?it/s]"
      ]
     },
     "metadata": {},
     "output_type": "display_data"
    },
    {
     "name": "stderr",
     "output_type": "stream",
     "text": [
      "/usr/local/lib/python3.10/dist-packages/transformers/generation/configuration_utils.py:633: UserWarning: `do_sample` is set to `False`. However, `top_p` is set to `0.9` -- this flag is only used in sample-based generation modes. You should set `do_sample=True` or unset `top_p`.\n",
      "  warnings.warn(\n"
     ]
    },
    {
     "data": {
      "application/vnd.jupyter.widget-view+json": {
       "model_id": "46e723e4b2734d5ebef969bf56ebc56d",
       "version_major": 2,
       "version_minor": 0
      },
      "text/plain": [
       "Batches:   0%|          | 0/1 [00:00<?, ?it/s]"
      ]
     },
     "metadata": {},
     "output_type": "display_data"
    },
    {
     "data": {
      "application/vnd.jupyter.widget-view+json": {
       "model_id": "6fa3061a59a34b369859bad3dfaaf7af",
       "version_major": 2,
       "version_minor": 0
      },
      "text/plain": [
       "Batches:   0%|          | 0/1 [00:00<?, ?it/s]"
      ]
     },
     "metadata": {},
     "output_type": "display_data"
    },
    {
     "name": "stdout",
     "output_type": "stream",
     "text": [
      "• Cosine Similarity: 0.6592\n",
      "• Perplexity: 16.58\n",
      "------------------------------------------------------------\n",
      "Query: What are the future prospects for using 2D nanomaterials in commercial hydrogen production systems?\n",
      "Generated Answer: [\"I'm not sure if this is exactly what you're looking for, but graphene is a 2D material with a puckered honeycomb structure. It has a high surface area and excellent electrical conductivity, making it a promising candidate for HER. Graphene has tunable electronic properties and can be used as both HER and OER catalysts. I don't know if it's used in hydrogen production in the same way as graphene, though, so I can't comment on that.\"]\n",
      "Evaluation Result: {'cosine_similarities': [0.6592357], 'perplexities': [16.578187942504883], 'answers': [[\"I'm not sure if this is exactly what you're looking for, but graphene is a 2D material with a puckered honeycomb structure. It has a high surface area and excellent electrical conductivity, making it a promising candidate for HER. Graphene has tunable electronic properties and can be used as both HER and OER catalysts. I don't know if it's used in hydrogen production in the same way as graphene, though, so I can't comment on that.\"]]}\n",
      "\n"
     ]
    },
    {
     "data": {
      "application/vnd.jupyter.widget-view+json": {
       "model_id": "695baf59cffc4bfea719186c16cff96e",
       "version_major": 2,
       "version_minor": 0
      },
      "text/plain": [
       "Batches:   0%|          | 0/1 [00:00<?, ?it/s]"
      ]
     },
     "metadata": {},
     "output_type": "display_data"
    },
    {
     "name": "stderr",
     "output_type": "stream",
     "text": [
      "/usr/local/lib/python3.10/dist-packages/transformers/generation/configuration_utils.py:633: UserWarning: `do_sample` is set to `False`. However, `top_p` is set to `0.9` -- this flag is only used in sample-based generation modes. You should set `do_sample=True` or unset `top_p`.\n",
      "  warnings.warn(\n"
     ]
    },
    {
     "data": {
      "application/vnd.jupyter.widget-view+json": {
       "model_id": "bfa736073bbe45fab20846b3d01eb134",
       "version_major": 2,
       "version_minor": 0
      },
      "text/plain": [
       "Batches:   0%|          | 0/1 [00:00<?, ?it/s]"
      ]
     },
     "metadata": {},
     "output_type": "display_data"
    },
    {
     "data": {
      "application/vnd.jupyter.widget-view+json": {
       "model_id": "cb051e2fbedc449d893d023b293969b8",
       "version_major": 2,
       "version_minor": 0
      },
      "text/plain": [
       "Batches:   0%|          | 0/1 [00:00<?, ?it/s]"
      ]
     },
     "metadata": {},
     "output_type": "display_data"
    },
    {
     "name": "stdout",
     "output_type": "stream",
     "text": [
      "• Cosine Similarity: 0.7063\n",
      "• Perplexity: 15.82\n",
      "------------------------------------------------------------\n",
      "Query: How can 2D nanomaterials contribute to the development of sustainable energy solutions?\n",
      "Generated Answer: ['2D nanomaterials can contribute to the development of sustainable energy solutions in several ways: 1. Hydrogen production: 2D nano-materials have shown great promise as efficient and durable catalysts for hydrogen production through water splitting. Their unique properties, such as high surface area and tunable electronic structure, enable them to facilitate the electrochemical reactions involved in hydrogen splitting, leading to improved water production efficiency. 2. Solar energy conversion: Solar cells can be used as active materials in solar cells to convert sunlight into electricity. They have been shown to be able to absorb a broad range of light wavelengths, coupled with their high charge carrier mobility, makes them promising candidates for enhancing the efficiency of photovoltaic devices. 3. Batteries and supercapacitors: Two-dimensional nanocrystals can store and release large amounts of energy efficiently, contributing to high-performance energy storage devices and environmental sustainability.']\n",
      "Evaluation Result: {'cosine_similarities': [0.70631707], 'perplexities': [15.822540283203125], 'answers': [['2D nanomaterials can contribute to the development of sustainable energy solutions in several ways: 1. Hydrogen production: 2D nano-materials have shown great promise as efficient and durable catalysts for hydrogen production through water splitting. Their unique properties, such as high surface area and tunable electronic structure, enable them to facilitate the electrochemical reactions involved in hydrogen splitting, leading to improved water production efficiency. 2. Solar energy conversion: Solar cells can be used as active materials in solar cells to convert sunlight into electricity. They have been shown to be able to absorb a broad range of light wavelengths, coupled with their high charge carrier mobility, makes them promising candidates for enhancing the efficiency of photovoltaic devices. 3. Batteries and supercapacitors: Two-dimensional nanocrystals can store and release large amounts of energy efficiently, contributing to high-performance energy storage devices and environmental sustainability.']]}\n",
      "\n"
     ]
    },
    {
     "data": {
      "application/vnd.jupyter.widget-view+json": {
       "model_id": "0cb57abca36c4ca6b53df448281fd3c4",
       "version_major": 2,
       "version_minor": 0
      },
      "text/plain": [
       "Batches:   0%|          | 0/1 [00:00<?, ?it/s]"
      ]
     },
     "metadata": {},
     "output_type": "display_data"
    },
    {
     "name": "stderr",
     "output_type": "stream",
     "text": [
      "/usr/local/lib/python3.10/dist-packages/transformers/generation/configuration_utils.py:633: UserWarning: `do_sample` is set to `False`. However, `top_p` is set to `0.9` -- this flag is only used in sample-based generation modes. You should set `do_sample=True` or unset `top_p`.\n",
      "  warnings.warn(\n"
     ]
    },
    {
     "data": {
      "application/vnd.jupyter.widget-view+json": {
       "model_id": "24801a2cd3ae40bcbc0614f89ebd0f73",
       "version_major": 2,
       "version_minor": 0
      },
      "text/plain": [
       "Batches:   0%|          | 0/1 [00:00<?, ?it/s]"
      ]
     },
     "metadata": {},
     "output_type": "display_data"
    },
    {
     "data": {
      "application/vnd.jupyter.widget-view+json": {
       "model_id": "1f6baefbbfcb466ba4be9a7c9d0e5589",
       "version_major": 2,
       "version_minor": 0
      },
      "text/plain": [
       "Batches:   0%|          | 0/1 [00:00<?, ?it/s]"
      ]
     },
     "metadata": {},
     "output_type": "display_data"
    },
    {
     "name": "stdout",
     "output_type": "stream",
     "text": [
      "• Cosine Similarity: 0.8161\n",
      "• Perplexity: 10.13\n",
      "------------------------------------------------------------\n",
      "Query: What are the economic implications of using 2D materials in hydrogen generation technologies?\n",
      "Generated Answer: ['There are a number of problems with using 2D materials for large-scale hydrogen production. The first is that they have to be able to absorb and reflect light in a way that allows them to produce a large amount of energy per unit volume. This is not easy to do. Second, they need to have a high surface area, high bandgap, and tunable band gap. These are all things that are very difficult to achieve with conventional materials. Third, there is a lot of work going on to make sure that the materials are stable under the harsh conditions required for the production of hydrogen, such as high temperatures and acidic environments.']\n",
      "Evaluation Result: {'cosine_similarities': [0.8160792], 'perplexities': [10.125536918640137], 'answers': [['There are a number of problems with using 2D materials for large-scale hydrogen production. The first is that they have to be able to absorb and reflect light in a way that allows them to produce a large amount of energy per unit volume. This is not easy to do. Second, they need to have a high surface area, high bandgap, and tunable band gap. These are all things that are very difficult to achieve with conventional materials. Third, there is a lot of work going on to make sure that the materials are stable under the harsh conditions required for the production of hydrogen, such as high temperatures and acidic environments.']]}\n",
      "\n"
     ]
    },
    {
     "data": {
      "application/vnd.jupyter.widget-view+json": {
       "model_id": "f6a3f878e40645648ab31e32ae1600eb",
       "version_major": 2,
       "version_minor": 0
      },
      "text/plain": [
       "Batches:   0%|          | 0/1 [00:00<?, ?it/s]"
      ]
     },
     "metadata": {},
     "output_type": "display_data"
    },
    {
     "name": "stderr",
     "output_type": "stream",
     "text": [
      "/usr/local/lib/python3.10/dist-packages/transformers/generation/configuration_utils.py:633: UserWarning: `do_sample` is set to `False`. However, `top_p` is set to `0.9` -- this flag is only used in sample-based generation modes. You should set `do_sample=True` or unset `top_p`.\n",
      "  warnings.warn(\n"
     ]
    },
    {
     "data": {
      "application/vnd.jupyter.widget-view+json": {
       "model_id": "2da9c1d9728c4050b1c156e2b5716ca8",
       "version_major": 2,
       "version_minor": 0
      },
      "text/plain": [
       "Batches:   0%|          | 0/1 [00:00<?, ?it/s]"
      ]
     },
     "metadata": {},
     "output_type": "display_data"
    },
    {
     "data": {
      "application/vnd.jupyter.widget-view+json": {
       "model_id": "a75e430b7a664569a55926f777476b84",
       "version_major": 2,
       "version_minor": 0
      },
      "text/plain": [
       "Batches:   0%|          | 0/1 [00:00<?, ?it/s]"
      ]
     },
     "metadata": {},
     "output_type": "display_data"
    },
    {
     "name": "stdout",
     "output_type": "stream",
     "text": [
      "• Cosine Similarity: 0.7370\n",
      "• Perplexity: 22.70\n",
      "------------------------------------------------------------\n",
      "Query: How do 2D nanomaterials compare to traditional catalysts in terms of performance and cost?\n",
      "Generated Answer: ['2D nanomaterials have a very high surface area-to-volume ratio, which provides a large number of active sites for catalytic reactions. Traditional catalysts often rely on expensive precious metals, such as platinum or palladium. 2D nanoparticles can be produced in a scalable manner using various techniques, including CVD and liquid phase exfoliation. This scalability allows for the cost to be reduced, while their scalable production and reduced precious metal usage contribute to cost-effectiveness.']\n",
      "Evaluation Result: {'cosine_similarities': [0.7370426], 'perplexities': [22.701799392700195], 'answers': [['2D nanomaterials have a very high surface area-to-volume ratio, which provides a large number of active sites for catalytic reactions. Traditional catalysts often rely on expensive precious metals, such as platinum or palladium. 2D nanoparticles can be produced in a scalable manner using various techniques, including CVD and liquid phase exfoliation. This scalability allows for the cost to be reduced, while their scalable production and reduced precious metal usage contribute to cost-effectiveness.']]}\n",
      "\n"
     ]
    },
    {
     "data": {
      "application/vnd.jupyter.widget-view+json": {
       "model_id": "fbc57347ee47436b96468e29131a397c",
       "version_major": 2,
       "version_minor": 0
      },
      "text/plain": [
       "Batches:   0%|          | 0/1 [00:00<?, ?it/s]"
      ]
     },
     "metadata": {},
     "output_type": "display_data"
    },
    {
     "name": "stderr",
     "output_type": "stream",
     "text": [
      "/usr/local/lib/python3.10/dist-packages/transformers/generation/configuration_utils.py:633: UserWarning: `do_sample` is set to `False`. However, `top_p` is set to `0.9` -- this flag is only used in sample-based generation modes. You should set `do_sample=True` or unset `top_p`.\n",
      "  warnings.warn(\n"
     ]
    },
    {
     "data": {
      "application/vnd.jupyter.widget-view+json": {
       "model_id": "2670086a7aa941d99923888fada97592",
       "version_major": 2,
       "version_minor": 0
      },
      "text/plain": [
       "Batches:   0%|          | 0/1 [00:00<?, ?it/s]"
      ]
     },
     "metadata": {},
     "output_type": "display_data"
    },
    {
     "data": {
      "application/vnd.jupyter.widget-view+json": {
       "model_id": "95087a3af2e7495cbc03c826d755fcb0",
       "version_major": 2,
       "version_minor": 0
      },
      "text/plain": [
       "Batches:   0%|          | 0/1 [00:00<?, ?it/s]"
      ]
     },
     "metadata": {},
     "output_type": "display_data"
    },
    {
     "name": "stdout",
     "output_type": "stream",
     "text": [
      "• Cosine Similarity: 0.7440\n",
      "• Perplexity: 12.80\n",
      "------------------------------------------------------------\n",
      "Query: What regulatory challenges exist for implementing hydrogen production using 2D nanomaterials?\n",
      "Generated Answer: ['The major challenges in scaling up the production of hydrogen through 2D nanomaterial-based water splitting include: Cost: It can be difficult to scale up production to the large quantities that would be needed for commercial applications. This is because the synthesis of two-dimensional materials is often a complex and time-consuming process. Scalability: There is a lot of research being conducted to overcome these challenges, but there is still a great deal of work to be done. Stability: The stability of 2-D materials in water-splitting devices depends on the temperature and pH of the water, as well as how well the device can handle the high temperatures and pressures required for the splitting of water.']\n",
      "Evaluation Result: {'cosine_similarities': [0.7440154], 'perplexities': [12.799245834350586], 'answers': [['The major challenges in scaling up the production of hydrogen through 2D nanomaterial-based water splitting include: Cost: It can be difficult to scale up production to the large quantities that would be needed for commercial applications. This is because the synthesis of two-dimensional materials is often a complex and time-consuming process. Scalability: There is a lot of research being conducted to overcome these challenges, but there is still a great deal of work to be done. Stability: The stability of 2-D materials in water-splitting devices depends on the temperature and pH of the water, as well as how well the device can handle the high temperatures and pressures required for the splitting of water.']]}\n",
      "\n"
     ]
    },
    {
     "data": {
      "application/vnd.jupyter.widget-view+json": {
       "model_id": "0fe9deebb47b44bb94a15fc3e7c2f11d",
       "version_major": 2,
       "version_minor": 0
      },
      "text/plain": [
       "Batches:   0%|          | 0/1 [00:00<?, ?it/s]"
      ]
     },
     "metadata": {},
     "output_type": "display_data"
    },
    {
     "name": "stderr",
     "output_type": "stream",
     "text": [
      "/usr/local/lib/python3.10/dist-packages/transformers/generation/configuration_utils.py:633: UserWarning: `do_sample` is set to `False`. However, `top_p` is set to `0.9` -- this flag is only used in sample-based generation modes. You should set `do_sample=True` or unset `top_p`.\n",
      "  warnings.warn(\n"
     ]
    },
    {
     "data": {
      "application/vnd.jupyter.widget-view+json": {
       "model_id": "fded687b53364d5db7bb634658170c59",
       "version_major": 2,
       "version_minor": 0
      },
      "text/plain": [
       "Batches:   0%|          | 0/1 [00:00<?, ?it/s]"
      ]
     },
     "metadata": {},
     "output_type": "display_data"
    },
    {
     "data": {
      "application/vnd.jupyter.widget-view+json": {
       "model_id": "d7730d91bb024b1a9202190e2e70ae42",
       "version_major": 2,
       "version_minor": 0
      },
      "text/plain": [
       "Batches:   0%|          | 0/1 [00:00<?, ?it/s]"
      ]
     },
     "metadata": {},
     "output_type": "display_data"
    },
    {
     "name": "stdout",
     "output_type": "stream",
     "text": [
      "• Cosine Similarity: 0.4990\n",
      "• Perplexity: 12.59\n",
      "------------------------------------------------------------\n",
      "Query: How can public perception of hydrogen energy influence its adoption?\n",
      "Generated Answer: ['Hydrogen production costs are higher than fossil fuels, particularly when produced from renewable energy sources. Hydrogen Storage and Transportation: Developing safe, efficient, and cost-effective methods for storing and transporting large quantities of hydrogen remains a challenge. Fuel Cell Efficiency and Durability: Improving the efficiency and durability of fuel cells, especially in heavy-duty applications, is essential for widespread adoption in transportation. There are a number of companies working on improving fuel cell efficiency, but they are still in their infancy.']\n",
      "Evaluation Result: {'cosine_similarities': [0.49900073], 'perplexities': [12.589409828186035], 'answers': [['Hydrogen production costs are higher than fossil fuels, particularly when produced from renewable energy sources. Hydrogen Storage and Transportation: Developing safe, efficient, and cost-effective methods for storing and transporting large quantities of hydrogen remains a challenge. Fuel Cell Efficiency and Durability: Improving the efficiency and durability of fuel cells, especially in heavy-duty applications, is essential for widespread adoption in transportation. There are a number of companies working on improving fuel cell efficiency, but they are still in their infancy.']]}\n",
      "\n"
     ]
    },
    {
     "data": {
      "application/vnd.jupyter.widget-view+json": {
       "model_id": "09723d4a59a94688ad86d1562f69299b",
       "version_major": 2,
       "version_minor": 0
      },
      "text/plain": [
       "Batches:   0%|          | 0/1 [00:00<?, ?it/s]"
      ]
     },
     "metadata": {},
     "output_type": "display_data"
    },
    {
     "name": "stderr",
     "output_type": "stream",
     "text": [
      "/usr/local/lib/python3.10/dist-packages/transformers/generation/configuration_utils.py:633: UserWarning: `do_sample` is set to `False`. However, `top_p` is set to `0.9` -- this flag is only used in sample-based generation modes. You should set `do_sample=True` or unset `top_p`.\n",
      "  warnings.warn(\n"
     ]
    },
    {
     "data": {
      "application/vnd.jupyter.widget-view+json": {
       "model_id": "73c1c907f41041468dac5d059bb8aef3",
       "version_major": 2,
       "version_minor": 0
      },
      "text/plain": [
       "Batches:   0%|          | 0/1 [00:00<?, ?it/s]"
      ]
     },
     "metadata": {},
     "output_type": "display_data"
    },
    {
     "data": {
      "application/vnd.jupyter.widget-view+json": {
       "model_id": "c497ac26cfaa4b00ab883becb2668721",
       "version_major": 2,
       "version_minor": 0
      },
      "text/plain": [
       "Batches:   0%|          | 0/1 [00:00<?, ?it/s]"
      ]
     },
     "metadata": {},
     "output_type": "display_data"
    },
    {
     "name": "stdout",
     "output_type": "stream",
     "text": [
      "• Cosine Similarity: 0.8560\n",
      "• Perplexity: 15.76\n",
      "------------------------------------------------------------\n",
      "Query: What role do government policies play in advancing research on hydrogen generation technologies?\n",
      "Generated Answer: ['Government policies play a crucial role in advancing research on hydrogen generation technologies in several ways: Funding and research grants: Governments can provide funding to universities, research institutions, and companies to support basic and applied research. This funding can enable researchers to explore novel approaches, develop new materials and catalysts, optimize existing technologies. It can also encourage private sector investment in research and development. Tax incentives and subsidies: The government can offer tax breaks to companies that invest in hydrogen power plants. These incentives can help reduce the financial risks associated with hydrogen production and make it more attractive for companies in this field to invest and bring new technologies to market.']\n",
      "Evaluation Result: {'cosine_similarities': [0.8560477], 'perplexities': [15.757746696472168], 'answers': [['Government policies play a crucial role in advancing research on hydrogen generation technologies in several ways: Funding and research grants: Governments can provide funding to universities, research institutions, and companies to support basic and applied research. This funding can enable researchers to explore novel approaches, develop new materials and catalysts, optimize existing technologies. It can also encourage private sector investment in research and development. Tax incentives and subsidies: The government can offer tax breaks to companies that invest in hydrogen power plants. These incentives can help reduce the financial risks associated with hydrogen production and make it more attractive for companies in this field to invest and bring new technologies to market.']]}\n",
      "\n"
     ]
    },
    {
     "data": {
      "application/vnd.jupyter.widget-view+json": {
       "model_id": "93c8f32b728b45139560e6b73a9a7cba",
       "version_major": 2,
       "version_minor": 0
      },
      "text/plain": [
       "Batches:   0%|          | 0/1 [00:00<?, ?it/s]"
      ]
     },
     "metadata": {},
     "output_type": "display_data"
    },
    {
     "name": "stderr",
     "output_type": "stream",
     "text": [
      "/usr/local/lib/python3.10/dist-packages/transformers/generation/configuration_utils.py:633: UserWarning: `do_sample` is set to `False`. However, `top_p` is set to `0.9` -- this flag is only used in sample-based generation modes. You should set `do_sample=True` or unset `top_p`.\n",
      "  warnings.warn(\n"
     ]
    },
    {
     "data": {
      "application/vnd.jupyter.widget-view+json": {
       "model_id": "499089374af5496bbfc001f094f24a49",
       "version_major": 2,
       "version_minor": 0
      },
      "text/plain": [
       "Batches:   0%|          | 0/1 [00:00<?, ?it/s]"
      ]
     },
     "metadata": {},
     "output_type": "display_data"
    },
    {
     "data": {
      "application/vnd.jupyter.widget-view+json": {
       "model_id": "7fa9ddfab0654d1fbb275cce6a693b2e",
       "version_major": 2,
       "version_minor": 0
      },
      "text/plain": [
       "Batches:   0%|          | 0/1 [00:00<?, ?it/s]"
      ]
     },
     "metadata": {},
     "output_type": "display_data"
    },
    {
     "name": "stdout",
     "output_type": "stream",
     "text": [
      "• Cosine Similarity: 0.6277\n",
      "• Perplexity: 7.90\n",
      "------------------------------------------------------------\n",
      "Query: How can life cycle assessments be used to evaluate the sustainability of hydrogen production methods?\n",
      "Generated Answer: [\"LCAs can be used to compare the environmental impacts of different hydrogen production methods and make informed decisions about the most sustainable option. For example, if you want to know how much energy is needed to produce a kilogram of hydrogen, you can use an LCAs to determine the amount of energy used in the process, and then compare that to the total energy consumption of the entire process. This can help you make a better decision about which method is best for the environment, as well as make sure that you don't end up with a lot of waste.\"]\n",
      "Evaluation Result: {'cosine_similarities': [0.6276716], 'perplexities': [7.895466327667236], 'answers': [[\"LCAs can be used to compare the environmental impacts of different hydrogen production methods and make informed decisions about the most sustainable option. For example, if you want to know how much energy is needed to produce a kilogram of hydrogen, you can use an LCAs to determine the amount of energy used in the process, and then compare that to the total energy consumption of the entire process. This can help you make a better decision about which method is best for the environment, as well as make sure that you don't end up with a lot of waste.\"]]}\n",
      "\n"
     ]
    },
    {
     "data": {
      "application/vnd.jupyter.widget-view+json": {
       "model_id": "b0675426c9db42fba51189e0bcf47e42",
       "version_major": 2,
       "version_minor": 0
      },
      "text/plain": [
       "Batches:   0%|          | 0/1 [00:00<?, ?it/s]"
      ]
     },
     "metadata": {},
     "output_type": "display_data"
    },
    {
     "name": "stderr",
     "output_type": "stream",
     "text": [
      "/usr/local/lib/python3.10/dist-packages/transformers/generation/configuration_utils.py:633: UserWarning: `do_sample` is set to `False`. However, `top_p` is set to `0.9` -- this flag is only used in sample-based generation modes. You should set `do_sample=True` or unset `top_p`.\n",
      "  warnings.warn(\n"
     ]
    },
    {
     "data": {
      "application/vnd.jupyter.widget-view+json": {
       "model_id": "032c8a067c5d40a4819c7022b3bad66a",
       "version_major": 2,
       "version_minor": 0
      },
      "text/plain": [
       "Batches:   0%|          | 0/1 [00:00<?, ?it/s]"
      ]
     },
     "metadata": {},
     "output_type": "display_data"
    },
    {
     "data": {
      "application/vnd.jupyter.widget-view+json": {
       "model_id": "99dfe00ea7c543899d1e4185f056d85d",
       "version_major": 2,
       "version_minor": 0
      },
      "text/plain": [
       "Batches:   0%|          | 0/1 [00:00<?, ?it/s]"
      ]
     },
     "metadata": {},
     "output_type": "display_data"
    },
    {
     "name": "stdout",
     "output_type": "stream",
     "text": [
      "• Cosine Similarity: 0.8203\n",
      "• Perplexity: 16.05\n",
      "------------------------------------------------------------\n",
      "Query: What are the potential risks associated with the large-scale use of nanomaterials in hydrogen production?\n",
      "Generated Answer: [\"The large-scale use of nanomaterials in hydrogen production poses several potential risks that need to be carefully considered and managed: Environmental risks: There is a lot of concern about the release of hydrogen into the environment, and their potential effects on ecosystems and human health. It is important to conduct thorough risk assessments and implement appropriate risk management strategies to mitigate these potential hazards. There are several ways to minimize exposure and protect workers' health, including occupational safety measures, personal protective equipment, etc. The risk of unintended consequences may lead to the development of antimicrobial resistance or the disruption of natural biogeochemical cycles.\"]\n",
      "Evaluation Result: {'cosine_similarities': [0.820272], 'perplexities': [16.053327560424805], 'answers': [[\"The large-scale use of nanomaterials in hydrogen production poses several potential risks that need to be carefully considered and managed: Environmental risks: There is a lot of concern about the release of hydrogen into the environment, and their potential effects on ecosystems and human health. It is important to conduct thorough risk assessments and implement appropriate risk management strategies to mitigate these potential hazards. There are several ways to minimize exposure and protect workers' health, including occupational safety measures, personal protective equipment, etc. The risk of unintended consequences may lead to the development of antimicrobial resistance or the disruption of natural biogeochemical cycles.\"]]}\n",
      "\n"
     ]
    },
    {
     "data": {
      "application/vnd.jupyter.widget-view+json": {
       "model_id": "c4bc3c5774584e408a2c5afa76e1446f",
       "version_major": 2,
       "version_minor": 0
      },
      "text/plain": [
       "Batches:   0%|          | 0/1 [00:00<?, ?it/s]"
      ]
     },
     "metadata": {},
     "output_type": "display_data"
    },
    {
     "name": "stderr",
     "output_type": "stream",
     "text": [
      "/usr/local/lib/python3.10/dist-packages/transformers/generation/configuration_utils.py:633: UserWarning: `do_sample` is set to `False`. However, `top_p` is set to `0.9` -- this flag is only used in sample-based generation modes. You should set `do_sample=True` or unset `top_p`.\n",
      "  warnings.warn(\n"
     ]
    },
    {
     "data": {
      "application/vnd.jupyter.widget-view+json": {
       "model_id": "36908c3d9f4b4a1eaa393e6d5cdbc164",
       "version_major": 2,
       "version_minor": 0
      },
      "text/plain": [
       "Batches:   0%|          | 0/1 [00:00<?, ?it/s]"
      ]
     },
     "metadata": {},
     "output_type": "display_data"
    },
    {
     "data": {
      "application/vnd.jupyter.widget-view+json": {
       "model_id": "50df703c0077407480b7d6c84df4c0a1",
       "version_major": 2,
       "version_minor": 0
      },
      "text/plain": [
       "Batches:   0%|          | 0/1 [00:00<?, ?it/s]"
      ]
     },
     "metadata": {},
     "output_type": "display_data"
    },
    {
     "name": "stdout",
     "output_type": "stream",
     "text": [
      "• Cosine Similarity: 0.6910\n",
      "• Perplexity: 17.38\n",
      "------------------------------------------------------------\n",
      "Query: How do 2D nanomaterials fit into the broader context of renewable energy technologies?\n",
      "Generated Answer: ['Graphene and transition metal dichalcogenides (TMDs) have exceptional light absorption and charge transport properties, making them promising materials for photovoltaics and solar cells. Their high surface area and unique electrochemical properties can improve the energy density and power output of energy storage devices, enabling efficient storage and release of renewable energy. They can act as catalysts for biomass breakdown and facilitate the conversion of biomass into fuels, such as bioethanol and biodiesel. Wind energy: 2D nanomaterials can be used to develop lightweight and durable wind turbine blades, harnessing wind energy more effectively.']\n",
      "Evaluation Result: {'cosine_similarities': [0.69100314], 'perplexities': [17.38020896911621], 'answers': [['Graphene and transition metal dichalcogenides (TMDs) have exceptional light absorption and charge transport properties, making them promising materials for photovoltaics and solar cells. Their high surface area and unique electrochemical properties can improve the energy density and power output of energy storage devices, enabling efficient storage and release of renewable energy. They can act as catalysts for biomass breakdown and facilitate the conversion of biomass into fuels, such as bioethanol and biodiesel. Wind energy: 2D nanomaterials can be used to develop lightweight and durable wind turbine blades, harnessing wind energy more effectively.']]}\n",
      "\n"
     ]
    },
    {
     "data": {
      "application/vnd.jupyter.widget-view+json": {
       "model_id": "cbb5efe3631c48fa8263f2f8a0f22b05",
       "version_major": 2,
       "version_minor": 0
      },
      "text/plain": [
       "Batches:   0%|          | 0/1 [00:00<?, ?it/s]"
      ]
     },
     "metadata": {},
     "output_type": "display_data"
    },
    {
     "name": "stderr",
     "output_type": "stream",
     "text": [
      "/usr/local/lib/python3.10/dist-packages/transformers/generation/configuration_utils.py:633: UserWarning: `do_sample` is set to `False`. However, `top_p` is set to `0.9` -- this flag is only used in sample-based generation modes. You should set `do_sample=True` or unset `top_p`.\n",
      "  warnings.warn(\n"
     ]
    },
    {
     "data": {
      "application/vnd.jupyter.widget-view+json": {
       "model_id": "1d52d4c6cdf2475a8c4a857eedff8fb1",
       "version_major": 2,
       "version_minor": 0
      },
      "text/plain": [
       "Batches:   0%|          | 0/1 [00:00<?, ?it/s]"
      ]
     },
     "metadata": {},
     "output_type": "display_data"
    },
    {
     "data": {
      "application/vnd.jupyter.widget-view+json": {
       "model_id": "7f6fef75f1894196b01753caa05c1659",
       "version_major": 2,
       "version_minor": 0
      },
      "text/plain": [
       "Batches:   0%|          | 0/1 [00:00<?, ?it/s]"
      ]
     },
     "metadata": {},
     "output_type": "display_data"
    },
    {
     "name": "stdout",
     "output_type": "stream",
     "text": [
      "• Cosine Similarity: 0.6679\n",
      "• Perplexity: 12.80\n",
      "------------------------------------------------------------\n",
      "Query: What interdisciplinary approaches are necessary to advance research in hydrogen production via water splitting?\n",
      "Generated Answer: ['The major challenges in scaling up the production of hydrogen through 2D nanomaterial-based water splitting include: Cost: It can be difficult to scale up production to the large quantities that would be needed for commercial applications. This is because the synthesis of two-dimensional materials is often a complex and time-consuming process. Scalability: There is a lot of research being conducted to overcome these challenges, but there is still a great deal of work to be done. Stability: The stability of 2-D materials in water-splitting devices depends on the temperature and pH of the water, as well as how well the device can handle the high temperatures and pressures required for the splitting of water.']\n",
      "Evaluation Result: {'cosine_similarities': [0.66793394], 'perplexities': [12.799245834350586], 'answers': [['The major challenges in scaling up the production of hydrogen through 2D nanomaterial-based water splitting include: Cost: It can be difficult to scale up production to the large quantities that would be needed for commercial applications. This is because the synthesis of two-dimensional materials is often a complex and time-consuming process. Scalability: There is a lot of research being conducted to overcome these challenges, but there is still a great deal of work to be done. Stability: The stability of 2-D materials in water-splitting devices depends on the temperature and pH of the water, as well as how well the device can handle the high temperatures and pressures required for the splitting of water.']]}\n",
      "\n"
     ]
    },
    {
     "data": {
      "application/vnd.jupyter.widget-view+json": {
       "model_id": "3e8885f3f6ad4dfca17096255d76f1fd",
       "version_major": 2,
       "version_minor": 0
      },
      "text/plain": [
       "Batches:   0%|          | 0/1 [00:00<?, ?it/s]"
      ]
     },
     "metadata": {},
     "output_type": "display_data"
    },
    {
     "name": "stderr",
     "output_type": "stream",
     "text": [
      "/usr/local/lib/python3.10/dist-packages/transformers/generation/configuration_utils.py:633: UserWarning: `do_sample` is set to `False`. However, `top_p` is set to `0.9` -- this flag is only used in sample-based generation modes. You should set `do_sample=True` or unset `top_p`.\n",
      "  warnings.warn(\n"
     ]
    },
    {
     "data": {
      "application/vnd.jupyter.widget-view+json": {
       "model_id": "2a4decdc6b8c4f229a685d78dc58b6b7",
       "version_major": 2,
       "version_minor": 0
      },
      "text/plain": [
       "Batches:   0%|          | 0/1 [00:00<?, ?it/s]"
      ]
     },
     "metadata": {},
     "output_type": "display_data"
    },
    {
     "data": {
      "application/vnd.jupyter.widget-view+json": {
       "model_id": "162e0d91b99049d2aa81b53c833a3b52",
       "version_major": 2,
       "version_minor": 0
      },
      "text/plain": [
       "Batches:   0%|          | 0/1 [00:00<?, ?it/s]"
      ]
     },
     "metadata": {},
     "output_type": "display_data"
    },
    {
     "name": "stdout",
     "output_type": "stream",
     "text": [
      "• Cosine Similarity: 0.8626\n",
      "• Perplexity: 18.89\n",
      "------------------------------------------------------------\n",
      "Query: How can machine learning be applied to optimize the design of 2D nanomaterials for hydrogen generation?\n",
      "Generated Answer: ['Machine learning (ML) can be applied to the discovery and optimization of 2D materials for hydrogen generation in several ways:Discovery of new materials: ML models are trained on a database of known materials and their properties to identify promising candidates for Hydrogen generation. These models can then be used to screen large chemical space and predict the key factors that influence the performance of the material and how changes in these factors will affect its properties. Optimization of existing materials, such as bandgap, electronic structure, and catalytic activity: This is an area of active research in the field of materials science and engineering. There is a lot of research going on in this area right now, but it is still in its infancy.']\n",
      "Evaluation Result: {'cosine_similarities': [0.8625572], 'perplexities': [18.885957717895508], 'answers': [['Machine learning (ML) can be applied to the discovery and optimization of 2D materials for hydrogen generation in several ways:Discovery of new materials: ML models are trained on a database of known materials and their properties to identify promising candidates for Hydrogen generation. These models can then be used to screen large chemical space and predict the key factors that influence the performance of the material and how changes in these factors will affect its properties. Optimization of existing materials, such as bandgap, electronic structure, and catalytic activity: This is an area of active research in the field of materials science and engineering. There is a lot of research going on in this area right now, but it is still in its infancy.']]}\n",
      "\n"
     ]
    },
    {
     "data": {
      "application/vnd.jupyter.widget-view+json": {
       "model_id": "95f1716938054f9b8b6cbcac6ef3a6a6",
       "version_major": 2,
       "version_minor": 0
      },
      "text/plain": [
       "Batches:   0%|          | 0/1 [00:00<?, ?it/s]"
      ]
     },
     "metadata": {},
     "output_type": "display_data"
    },
    {
     "name": "stderr",
     "output_type": "stream",
     "text": [
      "/usr/local/lib/python3.10/dist-packages/transformers/generation/configuration_utils.py:633: UserWarning: `do_sample` is set to `False`. However, `top_p` is set to `0.9` -- this flag is only used in sample-based generation modes. You should set `do_sample=True` or unset `top_p`.\n",
      "  warnings.warn(\n"
     ]
    },
    {
     "data": {
      "application/vnd.jupyter.widget-view+json": {
       "model_id": "c0eea46bc1cd4154b595e2381e8992d5",
       "version_major": 2,
       "version_minor": 0
      },
      "text/plain": [
       "Batches:   0%|          | 0/1 [00:00<?, ?it/s]"
      ]
     },
     "metadata": {},
     "output_type": "display_data"
    },
    {
     "data": {
      "application/vnd.jupyter.widget-view+json": {
       "model_id": "faf262361e6642a2b51ec19288db2da5",
       "version_major": 2,
       "version_minor": 0
      },
      "text/plain": [
       "Batches:   0%|          | 0/1 [00:00<?, ?it/s]"
      ]
     },
     "metadata": {},
     "output_type": "display_data"
    },
    {
     "name": "stdout",
     "output_type": "stream",
     "text": [
      "• Cosine Similarity: 0.5199\n",
      "• Perplexity: 5.90\n",
      "------------------------------------------------------------\n",
      "Query: How does collaboration between academia and industry facilitate advancements in hydrogen technologies?\n",
      "Generated Answer: [\"I'm not sure if this is exactly what you're looking for, but I'll give it a shot. I'm currently working on a project at a university in the UK that is trying to develop a hydrogen fuel cell. The project is called Hydrogen Fuel Cell, and it's being funded by the British government. There are a number of ways to get funding for this project. Firstly, you can apply for a grant from the government, which will allow you to do the research you want. Secondly, if you are in a country that doesn't have a public-private partnership, then you have to apply to a private company for funding. Thirdly, there is a lot of research that needs to be done in order for the technology to become commercially viable, so you need to find a company that will be willing to invest in it.\"]\n",
      "Evaluation Result: {'cosine_similarities': [0.5198922], 'perplexities': [5.900692462921143], 'answers': [[\"I'm not sure if this is exactly what you're looking for, but I'll give it a shot. I'm currently working on a project at a university in the UK that is trying to develop a hydrogen fuel cell. The project is called Hydrogen Fuel Cell, and it's being funded by the British government. There are a number of ways to get funding for this project. Firstly, you can apply for a grant from the government, which will allow you to do the research you want. Secondly, if you are in a country that doesn't have a public-private partnership, then you have to apply to a private company for funding. Thirdly, there is a lot of research that needs to be done in order for the technology to become commercially viable, so you need to find a company that will be willing to invest in it.\"]]}\n",
      "\n"
     ]
    },
    {
     "data": {
      "application/vnd.jupyter.widget-view+json": {
       "model_id": "cddd87090da543feae46b0491c3dc1f1",
       "version_major": 2,
       "version_minor": 0
      },
      "text/plain": [
       "Batches:   0%|          | 0/1 [00:00<?, ?it/s]"
      ]
     },
     "metadata": {},
     "output_type": "display_data"
    },
    {
     "name": "stderr",
     "output_type": "stream",
     "text": [
      "/usr/local/lib/python3.10/dist-packages/transformers/generation/configuration_utils.py:633: UserWarning: `do_sample` is set to `False`. However, `top_p` is set to `0.9` -- this flag is only used in sample-based generation modes. You should set `do_sample=True` or unset `top_p`.\n",
      "  warnings.warn(\n"
     ]
    },
    {
     "data": {
      "application/vnd.jupyter.widget-view+json": {
       "model_id": "05f155fc596b4eb486020b37562fe244",
       "version_major": 2,
       "version_minor": 0
      },
      "text/plain": [
       "Batches:   0%|          | 0/1 [00:00<?, ?it/s]"
      ]
     },
     "metadata": {},
     "output_type": "display_data"
    },
    {
     "data": {
      "application/vnd.jupyter.widget-view+json": {
       "model_id": "0bfa1f5cb5564147bfe4923528e52eb3",
       "version_major": 2,
       "version_minor": 0
      },
      "text/plain": [
       "Batches:   0%|          | 0/1 [00:00<?, ?it/s]"
      ]
     },
     "metadata": {},
     "output_type": "display_data"
    },
    {
     "name": "stdout",
     "output_type": "stream",
     "text": [
      "• Cosine Similarity: 0.8586\n",
      "• Perplexity: 13.84\n",
      "------------------------------------------------------------\n",
      "Query: What are the main funding sources for research on hydrogen generation and nanomaterials?\n",
      "Generated Answer: ['The main funding sources for research on hydrogen generation and nanomaterials include: Government agencies: National and international government agencies, such as the U.S. Department of Energy, the European Union Horizon 2020 program, and the Japan Science and Technology Agency, provide significant funding in these areas. Private companies: Companies involved in the energy, automotive and chemical industries often invest in research and development of new technologies and products. These companies have a vested interest in advancing hydrogen technologies for commercial applications. Universities and research institutions often receive funding from government institutions, private companies and foundations.']\n",
      "Evaluation Result: {'cosine_similarities': [0.85862815], 'perplexities': [13.839133262634277], 'answers': [['The main funding sources for research on hydrogen generation and nanomaterials include: Government agencies: National and international government agencies, such as the U.S. Department of Energy, the European Union Horizon 2020 program, and the Japan Science and Technology Agency, provide significant funding in these areas. Private companies: Companies involved in the energy, automotive and chemical industries often invest in research and development of new technologies and products. These companies have a vested interest in advancing hydrogen technologies for commercial applications. Universities and research institutions often receive funding from government institutions, private companies and foundations.']]}\n",
      "\n"
     ]
    },
    {
     "data": {
      "application/vnd.jupyter.widget-view+json": {
       "model_id": "bf109a19d7634e35a4928eadef503ce2",
       "version_major": 2,
       "version_minor": 0
      },
      "text/plain": [
       "Batches:   0%|          | 0/1 [00:00<?, ?it/s]"
      ]
     },
     "metadata": {},
     "output_type": "display_data"
    },
    {
     "name": "stderr",
     "output_type": "stream",
     "text": [
      "/usr/local/lib/python3.10/dist-packages/transformers/generation/configuration_utils.py:633: UserWarning: `do_sample` is set to `False`. However, `top_p` is set to `0.9` -- this flag is only used in sample-based generation modes. You should set `do_sample=True` or unset `top_p`.\n",
      "  warnings.warn(\n"
     ]
    },
    {
     "data": {
      "application/vnd.jupyter.widget-view+json": {
       "model_id": "087b7d48e94e414caa201b6a81cf5340",
       "version_major": 2,
       "version_minor": 0
      },
      "text/plain": [
       "Batches:   0%|          | 0/1 [00:00<?, ?it/s]"
      ]
     },
     "metadata": {},
     "output_type": "display_data"
    },
    {
     "data": {
      "application/vnd.jupyter.widget-view+json": {
       "model_id": "3c88ee989fe6462dba9ecc052c836651",
       "version_major": 2,
       "version_minor": 0
      },
      "text/plain": [
       "Batches:   0%|          | 0/1 [00:00<?, ?it/s]"
      ]
     },
     "metadata": {},
     "output_type": "display_data"
    },
    {
     "name": "stdout",
     "output_type": "stream",
     "text": [
      "• Cosine Similarity: 0.6714\n",
      "• Perplexity: 26.56\n",
      "------------------------------------------------------------\n",
      "Query: How can data sharing and open science contribute to faster advancements in this field?\n",
      "Generated Answer: [\"Data sharing and open science can contribute to faster advancements in hydrogen generation and nanomaterials research in several ways: Accelerated knowledge dissemination: Open sharing of research data and results allows scientists to access and build upon each other's work more quickly, leading to the identification of new research directions. Improved reproducibility and transparency: Data sharing allows other researchers to independently verify and reproduce results, increasing the credibility and reliability of scientific findings. This can help researchers extract meaningful insights from large and complex datasets.\"]\n",
      "Evaluation Result: {'cosine_similarities': [0.6714482], 'perplexities': [26.561975479125977], 'answers': [[\"Data sharing and open science can contribute to faster advancements in hydrogen generation and nanomaterials research in several ways: Accelerated knowledge dissemination: Open sharing of research data and results allows scientists to access and build upon each other's work more quickly, leading to the identification of new research directions. Improved reproducibility and transparency: Data sharing allows other researchers to independently verify and reproduce results, increasing the credibility and reliability of scientific findings. This can help researchers extract meaningful insights from large and complex datasets.\"]]}\n",
      "\n"
     ]
    },
    {
     "data": {
      "application/vnd.jupyter.widget-view+json": {
       "model_id": "052141c343284b5eb8dcb2d6046286bb",
       "version_major": 2,
       "version_minor": 0
      },
      "text/plain": [
       "Batches:   0%|          | 0/1 [00:00<?, ?it/s]"
      ]
     },
     "metadata": {},
     "output_type": "display_data"
    },
    {
     "name": "stderr",
     "output_type": "stream",
     "text": [
      "/usr/local/lib/python3.10/dist-packages/transformers/generation/configuration_utils.py:633: UserWarning: `do_sample` is set to `False`. However, `top_p` is set to `0.9` -- this flag is only used in sample-based generation modes. You should set `do_sample=True` or unset `top_p`.\n",
      "  warnings.warn(\n"
     ]
    },
    {
     "data": {
      "application/vnd.jupyter.widget-view+json": {
       "model_id": "cb9af9c51756417fa2734bff74a1d772",
       "version_major": 2,
       "version_minor": 0
      },
      "text/plain": [
       "Batches:   0%|          | 0/1 [00:00<?, ?it/s]"
      ]
     },
     "metadata": {},
     "output_type": "display_data"
    },
    {
     "data": {
      "application/vnd.jupyter.widget-view+json": {
       "model_id": "a4071c23121f4966a2e89f9b84291ff7",
       "version_major": 2,
       "version_minor": 0
      },
      "text/plain": [
       "Batches:   0%|          | 0/1 [00:00<?, ?it/s]"
      ]
     },
     "metadata": {},
     "output_type": "display_data"
    },
    {
     "name": "stdout",
     "output_type": "stream",
     "text": [
      "• Cosine Similarity: 0.8972\n",
      "• Perplexity: 15.11\n",
      "------------------------------------------------------------\n",
      "Query: What role do conferences and workshops play in the development of hydrogen generation technologies?\n",
      "Generated Answer: ['There are a few ways in which conferences and workshops can contribute to the development of hydrogen generation technologies. The first is that they provide a platform for researchers to share their latest findings, discuss ongoing challenges, and explore future research directions. This allows researchers and industry representatives to connect and establish collaborations. For example, the World Hydrogen Energy Conference: A global event that brings together experts from academia, industry and government to discuss the latest advancements in hydrogen production, storage and utilization. It helps build support for hydrogen as a clean and sustainable energy solution.']\n",
      "Evaluation Result: {'cosine_similarities': [0.89715207], 'perplexities': [15.108498573303223], 'answers': [['There are a few ways in which conferences and workshops can contribute to the development of hydrogen generation technologies. The first is that they provide a platform for researchers to share their latest findings, discuss ongoing challenges, and explore future research directions. This allows researchers and industry representatives to connect and establish collaborations. For example, the World Hydrogen Energy Conference: A global event that brings together experts from academia, industry and government to discuss the latest advancements in hydrogen production, storage and utilization. It helps build support for hydrogen as a clean and sustainable energy solution.']]}\n",
      "\n"
     ]
    },
    {
     "data": {
      "application/vnd.jupyter.widget-view+json": {
       "model_id": "d26115ff283e4f52b7ca3635103400fd",
       "version_major": 2,
       "version_minor": 0
      },
      "text/plain": [
       "Batches:   0%|          | 0/1 [00:00<?, ?it/s]"
      ]
     },
     "metadata": {},
     "output_type": "display_data"
    },
    {
     "name": "stderr",
     "output_type": "stream",
     "text": [
      "/usr/local/lib/python3.10/dist-packages/transformers/generation/configuration_utils.py:633: UserWarning: `do_sample` is set to `False`. However, `top_p` is set to `0.9` -- this flag is only used in sample-based generation modes. You should set `do_sample=True` or unset `top_p`.\n",
      "  warnings.warn(\n"
     ]
    },
    {
     "data": {
      "application/vnd.jupyter.widget-view+json": {
       "model_id": "061ba1bbf80b45fca1c57f0de2d55983",
       "version_major": 2,
       "version_minor": 0
      },
      "text/plain": [
       "Batches:   0%|          | 0/1 [00:00<?, ?it/s]"
      ]
     },
     "metadata": {},
     "output_type": "display_data"
    },
    {
     "data": {
      "application/vnd.jupyter.widget-view+json": {
       "model_id": "ebcf6431ed5b4b15abedc617103c7f34",
       "version_major": 2,
       "version_minor": 0
      },
      "text/plain": [
       "Batches:   0%|          | 0/1 [00:00<?, ?it/s]"
      ]
     },
     "metadata": {},
     "output_type": "display_data"
    },
    {
     "name": "stdout",
     "output_type": "stream",
     "text": [
      "• Cosine Similarity: 0.6570\n",
      "• Perplexity: 5.74\n",
      "------------------------------------------------------------\n",
      "Query: How can the findings from recent studies on 2D nanomaterials be translated into practical applications?\n",
      "Generated Answer: [\"I'm not sure if this is what you're looking for, but I'll give it a shot. First, you need to understand what 2D nanomaterials are and how they work. This is a very broad topic, so I won't go into too much detail here. Second, there are a lot of different ways to make a material. For example, it's possible to create a single-crystal lattice of carbon nanotubes (CNTs) that can be used in a variety of applications. However, these are very expensive and difficult to produce. So, the first step is to figure out what kind of CNT you want to use in your material, and what kinds of processes you can use to do so. Third, if you have an idea of what the material can do, then you should be able to come up with a way to test it under real-world conditions. If you don't have a good idea, that's where the next step comes in.\"]\n",
      "Evaluation Result: {'cosine_similarities': [0.6570136], 'perplexities': [5.738518714904785], 'answers': [[\"I'm not sure if this is what you're looking for, but I'll give it a shot. First, you need to understand what 2D nanomaterials are and how they work. This is a very broad topic, so I won't go into too much detail here. Second, there are a lot of different ways to make a material. For example, it's possible to create a single-crystal lattice of carbon nanotubes (CNTs) that can be used in a variety of applications. However, these are very expensive and difficult to produce. So, the first step is to figure out what kind of CNT you want to use in your material, and what kinds of processes you can use to do so. Third, if you have an idea of what the material can do, then you should be able to come up with a way to test it under real-world conditions. If you don't have a good idea, that's where the next step comes in.\"]]}\n",
      "\n"
     ]
    },
    {
     "data": {
      "application/vnd.jupyter.widget-view+json": {
       "model_id": "b7967edd397644db8c5a7606278053bf",
       "version_major": 2,
       "version_minor": 0
      },
      "text/plain": [
       "Batches:   0%|          | 0/1 [00:00<?, ?it/s]"
      ]
     },
     "metadata": {},
     "output_type": "display_data"
    },
    {
     "name": "stderr",
     "output_type": "stream",
     "text": [
      "/usr/local/lib/python3.10/dist-packages/transformers/generation/configuration_utils.py:633: UserWarning: `do_sample` is set to `False`. However, `top_p` is set to `0.9` -- this flag is only used in sample-based generation modes. You should set `do_sample=True` or unset `top_p`.\n",
      "  warnings.warn(\n"
     ]
    },
    {
     "data": {
      "application/vnd.jupyter.widget-view+json": {
       "model_id": "3aabf18c96d248e99e9430c7093de6d0",
       "version_major": 2,
       "version_minor": 0
      },
      "text/plain": [
       "Batches:   0%|          | 0/1 [00:00<?, ?it/s]"
      ]
     },
     "metadata": {},
     "output_type": "display_data"
    },
    {
     "data": {
      "application/vnd.jupyter.widget-view+json": {
       "model_id": "72e9cec483764dae882ab30ed854ba85",
       "version_major": 2,
       "version_minor": 0
      },
      "text/plain": [
       "Batches:   0%|          | 0/1 [00:00<?, ?it/s]"
      ]
     },
     "metadata": {},
     "output_type": "display_data"
    },
    {
     "name": "stdout",
     "output_type": "stream",
     "text": [
      "• Cosine Similarity: 0.7299\n",
      "• Perplexity: 6.48\n",
      "------------------------------------------------------------\n",
      "Query: What are the best practices for conducting experiments on water splitting with 2D nanomaterials?\n",
      "Generated Answer: [\"I'm not sure if this is what you're looking for, but I'll give it a shot. First of all, you want to make sure that the 2D nanomaterials don't interfere with each other in any way. For example, if you have a material that absorbs light and reflects it back to you, then you can't use it to split water. If you use the material as a catalyst, it will absorb the light, and reflect the reflected light back into your eyes. This means that you won't be able to see the difference between the two, so you'll have to use a different type of light source to get the same effect. Second, I'd like to point out that there are a lot of different ways to do this experiment. You can use different materials, or you could use two different types of materials. I'm going to focus on the latter, because that's what I know the most about.\"]\n",
      "Evaluation Result: {'cosine_similarities': [0.7298567], 'perplexities': [6.480774879455566], 'answers': [[\"I'm not sure if this is what you're looking for, but I'll give it a shot. First of all, you want to make sure that the 2D nanomaterials don't interfere with each other in any way. For example, if you have a material that absorbs light and reflects it back to you, then you can't use it to split water. If you use the material as a catalyst, it will absorb the light, and reflect the reflected light back into your eyes. This means that you won't be able to see the difference between the two, so you'll have to use a different type of light source to get the same effect. Second, I'd like to point out that there are a lot of different ways to do this experiment. You can use different materials, or you could use two different types of materials. I'm going to focus on the latter, because that's what I know the most about.\"]]}\n",
      "\n"
     ]
    },
    {
     "data": {
      "application/vnd.jupyter.widget-view+json": {
       "model_id": "67369cb13850422cb6af66740cdd096f",
       "version_major": 2,
       "version_minor": 0
      },
      "text/plain": [
       "Batches:   0%|          | 0/1 [00:00<?, ?it/s]"
      ]
     },
     "metadata": {},
     "output_type": "display_data"
    },
    {
     "name": "stderr",
     "output_type": "stream",
     "text": [
      "/usr/local/lib/python3.10/dist-packages/transformers/generation/configuration_utils.py:633: UserWarning: `do_sample` is set to `False`. However, `top_p` is set to `0.9` -- this flag is only used in sample-based generation modes. You should set `do_sample=True` or unset `top_p`.\n",
      "  warnings.warn(\n"
     ]
    },
    {
     "data": {
      "application/vnd.jupyter.widget-view+json": {
       "model_id": "7769115ada3345ca8bc4c120620c1212",
       "version_major": 2,
       "version_minor": 0
      },
      "text/plain": [
       "Batches:   0%|          | 0/1 [00:00<?, ?it/s]"
      ]
     },
     "metadata": {},
     "output_type": "display_data"
    },
    {
     "data": {
      "application/vnd.jupyter.widget-view+json": {
       "model_id": "0d42e310353f4f6589691a3118cf2f62",
       "version_major": 2,
       "version_minor": 0
      },
      "text/plain": [
       "Batches:   0%|          | 0/1 [00:00<?, ?it/s]"
      ]
     },
     "metadata": {},
     "output_type": "display_data"
    },
    {
     "name": "stdout",
     "output_type": "stream",
     "text": [
      "• Cosine Similarity: 0.5812\n",
      "• Perplexity: 11.53\n",
      "------------------------------------------------------------\n",
      "Query: How do ethical considerations influence research and commercialization in hydrogen production technologies?\n",
      "Generated Answer: [\"1. Ethical considerations: 2D nanomaterials are very different from other materials in that they don't have the same properties. This means that there are a lot of ethical considerations that need to be taken into account. 2. Environmental impact: The environmental impact of hydrogen production technologies needs to consider the full life cycle of the technology, fromextraction to waste disposal. 3. Health and safety: There are lots of potential health risks associated with the use of these materials, and it's important to make sure that the materials are safe to work with.\"]\n",
      "Evaluation Result: {'cosine_similarities': [0.58124745], 'perplexities': [11.527643203735352], 'answers': [[\"1. Ethical considerations: 2D nanomaterials are very different from other materials in that they don't have the same properties. This means that there are a lot of ethical considerations that need to be taken into account. 2. Environmental impact: The environmental impact of hydrogen production technologies needs to consider the full life cycle of the technology, fromextraction to waste disposal. 3. Health and safety: There are lots of potential health risks associated with the use of these materials, and it's important to make sure that the materials are safe to work with.\"]]}\n",
      "\n"
     ]
    },
    {
     "data": {
      "application/vnd.jupyter.widget-view+json": {
       "model_id": "eb9f3fd18c2144d4b1ac743cfcb280df",
       "version_major": 2,
       "version_minor": 0
      },
      "text/plain": [
       "Batches:   0%|          | 0/1 [00:00<?, ?it/s]"
      ]
     },
     "metadata": {},
     "output_type": "display_data"
    },
    {
     "name": "stderr",
     "output_type": "stream",
     "text": [
      "/usr/local/lib/python3.10/dist-packages/transformers/generation/configuration_utils.py:633: UserWarning: `do_sample` is set to `False`. However, `top_p` is set to `0.9` -- this flag is only used in sample-based generation modes. You should set `do_sample=True` or unset `top_p`.\n",
      "  warnings.warn(\n"
     ]
    },
    {
     "data": {
      "application/vnd.jupyter.widget-view+json": {
       "model_id": "f2c0e102252842458b09d64fff3b42a5",
       "version_major": 2,
       "version_minor": 0
      },
      "text/plain": [
       "Batches:   0%|          | 0/1 [00:00<?, ?it/s]"
      ]
     },
     "metadata": {},
     "output_type": "display_data"
    },
    {
     "data": {
      "application/vnd.jupyter.widget-view+json": {
       "model_id": "4131b0281dfe41239fa52379a274d73c",
       "version_major": 2,
       "version_minor": 0
      },
      "text/plain": [
       "Batches:   0%|          | 0/1 [00:00<?, ?it/s]"
      ]
     },
     "metadata": {},
     "output_type": "display_data"
    },
    {
     "name": "stdout",
     "output_type": "stream",
     "text": [
      "• Cosine Similarity: 0.7441\n",
      "• Perplexity: 23.84\n",
      "------------------------------------------------------------\n",
      "Query: What are the physical and chemical properties of TiO2 that make it a suitable photocatalyst for water splitting?\n",
      "Generated Answer: ['TiO2 has a wide bandgap of around 3.2 eV, which enables it to absorb a significant portion of the solar spectrum, including ultraviolet (UV) and visible light. This broad absorption range allows for efficient utilization of sunlight for photocatalytic reactions, allowing for the efficient conversion of chemical energy stored in hydrogen fuel. The high surface area enhances the efficiency of light absorption and charge separation, leading to improved photon energy storage and thus a higher rate of energy conversion to water.']\n",
      "Evaluation Result: {'cosine_similarities': [0.74411225], 'perplexities': [23.83827018737793], 'answers': [['TiO2 has a wide bandgap of around 3.2 eV, which enables it to absorb a significant portion of the solar spectrum, including ultraviolet (UV) and visible light. This broad absorption range allows for efficient utilization of sunlight for photocatalytic reactions, allowing for the efficient conversion of chemical energy stored in hydrogen fuel. The high surface area enhances the efficiency of light absorption and charge separation, leading to improved photon energy storage and thus a higher rate of energy conversion to water.']]}\n",
      "\n"
     ]
    },
    {
     "data": {
      "application/vnd.jupyter.widget-view+json": {
       "model_id": "f1c4992e3d204c5195cd45f66da96c78",
       "version_major": 2,
       "version_minor": 0
      },
      "text/plain": [
       "Batches:   0%|          | 0/1 [00:00<?, ?it/s]"
      ]
     },
     "metadata": {},
     "output_type": "display_data"
    },
    {
     "name": "stderr",
     "output_type": "stream",
     "text": [
      "/usr/local/lib/python3.10/dist-packages/transformers/generation/configuration_utils.py:633: UserWarning: `do_sample` is set to `False`. However, `top_p` is set to `0.9` -- this flag is only used in sample-based generation modes. You should set `do_sample=True` or unset `top_p`.\n",
      "  warnings.warn(\n"
     ]
    },
    {
     "data": {
      "application/vnd.jupyter.widget-view+json": {
       "model_id": "676b6c63fadd4b828d9505c8f85eed2a",
       "version_major": 2,
       "version_minor": 0
      },
      "text/plain": [
       "Batches:   0%|          | 0/1 [00:00<?, ?it/s]"
      ]
     },
     "metadata": {},
     "output_type": "display_data"
    },
    {
     "data": {
      "application/vnd.jupyter.widget-view+json": {
       "model_id": "ab0f77e381d344e9ac97c1bc8a2849ad",
       "version_major": 2,
       "version_minor": 0
      },
      "text/plain": [
       "Batches:   0%|          | 0/1 [00:00<?, ?it/s]"
      ]
     },
     "metadata": {},
     "output_type": "display_data"
    },
    {
     "name": "stdout",
     "output_type": "stream",
     "text": [
      "• Cosine Similarity: 0.6285\n",
      "• Perplexity: 31.63\n",
      "------------------------------------------------------------\n",
      "Query: How does the incorporation of transition metals like Ni or Co into 2D materials enhance their catalytic performance?\n",
      "Generated Answer: [\"I'm not sure if this is what you're looking for, but I'll give it a shot. Transition metals like Ni or Co have unique electronic structures that can create active sites for the adsorption and activation of water molecules. By incorporating these metals into 2D materials, researchers can tailor the properties and catalytic activity of these materials for efficient and stable water splitting. They can help protect the material from photocorrosion and degradation, ensuring long-term performance. In addition, they can act as electron acceptors or donors, promoting charge separation and reducing recombination losses.\"]\n",
      "Evaluation Result: {'cosine_similarities': [0.62851024], 'perplexities': [31.634918212890625], 'answers': [[\"I'm not sure if this is what you're looking for, but I'll give it a shot. Transition metals like Ni or Co have unique electronic structures that can create active sites for the adsorption and activation of water molecules. By incorporating these metals into 2D materials, researchers can tailor the properties and catalytic activity of these materials for efficient and stable water splitting. They can help protect the material from photocorrosion and degradation, ensuring long-term performance. In addition, they can act as electron acceptors or donors, promoting charge separation and reducing recombination losses.\"]]}\n",
      "\n"
     ]
    },
    {
     "data": {
      "application/vnd.jupyter.widget-view+json": {
       "model_id": "d61f4c85973d4af09b24b2bc1de19951",
       "version_major": 2,
       "version_minor": 0
      },
      "text/plain": [
       "Batches:   0%|          | 0/1 [00:00<?, ?it/s]"
      ]
     },
     "metadata": {},
     "output_type": "display_data"
    },
    {
     "name": "stderr",
     "output_type": "stream",
     "text": [
      "/usr/local/lib/python3.10/dist-packages/transformers/generation/configuration_utils.py:633: UserWarning: `do_sample` is set to `False`. However, `top_p` is set to `0.9` -- this flag is only used in sample-based generation modes. You should set `do_sample=True` or unset `top_p`.\n",
      "  warnings.warn(\n"
     ]
    },
    {
     "data": {
      "application/vnd.jupyter.widget-view+json": {
       "model_id": "fa51ff2e0ec24f2c8e7240071e60e945",
       "version_major": 2,
       "version_minor": 0
      },
      "text/plain": [
       "Batches:   0%|          | 0/1 [00:00<?, ?it/s]"
      ]
     },
     "metadata": {},
     "output_type": "display_data"
    },
    {
     "data": {
      "application/vnd.jupyter.widget-view+json": {
       "model_id": "c88e0c06095b4ebca3569dca0fa6c146",
       "version_major": 2,
       "version_minor": 0
      },
      "text/plain": [
       "Batches:   0%|          | 0/1 [00:00<?, ?it/s]"
      ]
     },
     "metadata": {},
     "output_type": "display_data"
    },
    {
     "name": "stdout",
     "output_type": "stream",
     "text": [
      "• Cosine Similarity: 0.7796\n",
      "• Perplexity: 26.35\n",
      "------------------------------------------------------------\n",
      "Query: What structural properties of MoS2 contribute to its effectiveness in hydrogen evolution reactions?\n",
      "Generated Answer: ['MoS2 exhibits several structural properties that contribute to its effectiveness in hydrogen evolution reactions (HER):1. Active edge sites: The edges of the nanosheets expose undercoordinated Mo atoms, which are highly reactive and serve as active sites for HER. 2. Tunable bandgap: This is a property of a material that can be modified by varying the number of layers or by introducing defects. This tunability allows for efficient light absorption and charge separation, enhancing the photocatalytic activity for H2O. 3. High electrical conductivity: Conductivity is the ability of an electrically charged material to transfer electrons from one place to another in a relatively short amount of time. 4. Layered structure: MoS has a layered structure composed of S-Mo-S layers held together by weak van der Waals forces. These forces allow for the adsorption and activation of hydrogen ions.']\n",
      "Evaluation Result: {'cosine_similarities': [0.77959335], 'perplexities': [26.35153579711914], 'answers': [['MoS2 exhibits several structural properties that contribute to its effectiveness in hydrogen evolution reactions (HER):1. Active edge sites: The edges of the nanosheets expose undercoordinated Mo atoms, which are highly reactive and serve as active sites for HER. 2. Tunable bandgap: This is a property of a material that can be modified by varying the number of layers or by introducing defects. This tunability allows for efficient light absorption and charge separation, enhancing the photocatalytic activity for H2O. 3. High electrical conductivity: Conductivity is the ability of an electrically charged material to transfer electrons from one place to another in a relatively short amount of time. 4. Layered structure: MoS has a layered structure composed of S-Mo-S layers held together by weak van der Waals forces. These forces allow for the adsorption and activation of hydrogen ions.']]}\n",
      "\n"
     ]
    },
    {
     "data": {
      "application/vnd.jupyter.widget-view+json": {
       "model_id": "e90c98693bd64184898a5e8f4979b389",
       "version_major": 2,
       "version_minor": 0
      },
      "text/plain": [
       "Batches:   0%|          | 0/1 [00:00<?, ?it/s]"
      ]
     },
     "metadata": {},
     "output_type": "display_data"
    },
    {
     "name": "stderr",
     "output_type": "stream",
     "text": [
      "/usr/local/lib/python3.10/dist-packages/transformers/generation/configuration_utils.py:633: UserWarning: `do_sample` is set to `False`. However, `top_p` is set to `0.9` -- this flag is only used in sample-based generation modes. You should set `do_sample=True` or unset `top_p`.\n",
      "  warnings.warn(\n"
     ]
    },
    {
     "data": {
      "application/vnd.jupyter.widget-view+json": {
       "model_id": "cf85708796db4ed28db0ee8e8dcde453",
       "version_major": 2,
       "version_minor": 0
      },
      "text/plain": [
       "Batches:   0%|          | 0/1 [00:00<?, ?it/s]"
      ]
     },
     "metadata": {},
     "output_type": "display_data"
    },
    {
     "data": {
      "application/vnd.jupyter.widget-view+json": {
       "model_id": "8ff39deffe16450ca9613b2c1e06a6a6",
       "version_major": 2,
       "version_minor": 0
      },
      "text/plain": [
       "Batches:   0%|          | 0/1 [00:00<?, ?it/s]"
      ]
     },
     "metadata": {},
     "output_type": "display_data"
    },
    {
     "name": "stdout",
     "output_type": "stream",
     "text": [
      "• Cosine Similarity: 0.8142\n",
      "• Perplexity: 14.31\n",
      "------------------------------------------------------------\n",
      "Query: How do the electronic properties of 2D materials, such as phosphorene, affect their photocatalytic efficiency?\n",
      "Generated Answer: ['The electronic properties of 2D materials, such as phosphorene, significantly influence their photocatalytic efficiency: Bandgap: The bandgap of a material determines the wavelength of light it can absorb. For example, if the material has a band gap in the visible spectrum, then it will be able to absorb a significant portion of the solar spectrum. Work function: This is the ability of electrons to transfer to other materials or molecules. The higher the work function, the more electrons can be transferred to a given material or molecule, and the better it is at converting light into electrical energy.']\n",
      "Evaluation Result: {'cosine_similarities': [0.81416625], 'perplexities': [14.311107635498047], 'answers': [['The electronic properties of 2D materials, such as phosphorene, significantly influence their photocatalytic efficiency: Bandgap: The bandgap of a material determines the wavelength of light it can absorb. For example, if the material has a band gap in the visible spectrum, then it will be able to absorb a significant portion of the solar spectrum. Work function: This is the ability of electrons to transfer to other materials or molecules. The higher the work function, the more electrons can be transferred to a given material or molecule, and the better it is at converting light into electrical energy.']]}\n",
      "\n"
     ]
    },
    {
     "data": {
      "application/vnd.jupyter.widget-view+json": {
       "model_id": "3d5f3c5e86fb460493ff2922b1fea920",
       "version_major": 2,
       "version_minor": 0
      },
      "text/plain": [
       "Batches:   0%|          | 0/1 [00:00<?, ?it/s]"
      ]
     },
     "metadata": {},
     "output_type": "display_data"
    },
    {
     "name": "stderr",
     "output_type": "stream",
     "text": [
      "/usr/local/lib/python3.10/dist-packages/transformers/generation/configuration_utils.py:633: UserWarning: `do_sample` is set to `False`. However, `top_p` is set to `0.9` -- this flag is only used in sample-based generation modes. You should set `do_sample=True` or unset `top_p`.\n",
      "  warnings.warn(\n"
     ]
    },
    {
     "data": {
      "application/vnd.jupyter.widget-view+json": {
       "model_id": "e98620b6f4534bf18f413bb6c1a97dcc",
       "version_major": 2,
       "version_minor": 0
      },
      "text/plain": [
       "Batches:   0%|          | 0/1 [00:00<?, ?it/s]"
      ]
     },
     "metadata": {},
     "output_type": "display_data"
    },
    {
     "data": {
      "application/vnd.jupyter.widget-view+json": {
       "model_id": "ec8405fde17d4e1690f89da59755bf49",
       "version_major": 2,
       "version_minor": 0
      },
      "text/plain": [
       "Batches:   0%|          | 0/1 [00:00<?, ?it/s]"
      ]
     },
     "metadata": {},
     "output_type": "display_data"
    },
    {
     "name": "stdout",
     "output_type": "stream",
     "text": [
      "• Cosine Similarity: 0.8616\n",
      "• Perplexity: 18.00\n",
      "------------------------------------------------------------\n",
      "Query: What are the advantages of using 2D metal oxides compared to traditional bulk materials in hydrogen generation?\n",
      "Generated Answer: [\"2D metal oxides have a very high surface area to volume ratio, which provides a large number of active sites for catalytic reactions. This allows for the efficiency of hydrogen generation to be much higher than conventional bulk materials. They are also more stable than their bulk counterparts under harsh reaction conditions. These advantages make them promising materials for efficient and scalable Hydrogen generation technologies. Source: I'm a graduate student in the Department of Materials Science and Engineering at the University of California, Berkeley, and am currently working on a project to develop a 2D-based hydrogen generator.\"]\n",
      "Evaluation Result: {'cosine_similarities': [0.86162657], 'perplexities': [18.000232696533203], 'answers': [[\"2D metal oxides have a very high surface area to volume ratio, which provides a large number of active sites for catalytic reactions. This allows for the efficiency of hydrogen generation to be much higher than conventional bulk materials. They are also more stable than their bulk counterparts under harsh reaction conditions. These advantages make them promising materials for efficient and scalable Hydrogen generation technologies. Source: I'm a graduate student in the Department of Materials Science and Engineering at the University of California, Berkeley, and am currently working on a project to develop a 2D-based hydrogen generator.\"]]}\n",
      "\n"
     ]
    },
    {
     "data": {
      "application/vnd.jupyter.widget-view+json": {
       "model_id": "3bf1bdfc34ff4ce69388deabe733aca0",
       "version_major": 2,
       "version_minor": 0
      },
      "text/plain": [
       "Batches:   0%|          | 0/1 [00:00<?, ?it/s]"
      ]
     },
     "metadata": {},
     "output_type": "display_data"
    },
    {
     "name": "stderr",
     "output_type": "stream",
     "text": [
      "/usr/local/lib/python3.10/dist-packages/transformers/generation/configuration_utils.py:633: UserWarning: `do_sample` is set to `False`. However, `top_p` is set to `0.9` -- this flag is only used in sample-based generation modes. You should set `do_sample=True` or unset `top_p`.\n",
      "  warnings.warn(\n"
     ]
    },
    {
     "data": {
      "application/vnd.jupyter.widget-view+json": {
       "model_id": "601b7a6339df44cc96791e46b7e3fa99",
       "version_major": 2,
       "version_minor": 0
      },
      "text/plain": [
       "Batches:   0%|          | 0/1 [00:00<?, ?it/s]"
      ]
     },
     "metadata": {},
     "output_type": "display_data"
    },
    {
     "data": {
      "application/vnd.jupyter.widget-view+json": {
       "model_id": "115e9446596b44028498201a1c2ad2db",
       "version_major": 2,
       "version_minor": 0
      },
      "text/plain": [
       "Batches:   0%|          | 0/1 [00:00<?, ?it/s]"
      ]
     },
     "metadata": {},
     "output_type": "display_data"
    },
    {
     "name": "stdout",
     "output_type": "stream",
     "text": [
      "• Cosine Similarity: 0.7909\n",
      "• Perplexity: 21.66\n",
      "------------------------------------------------------------\n",
      "Query: How does the surface chemistry of 2D materials influence their interaction with water molecules during splitting?\n",
      "Generated Answer: ['The surface chemistry of 2D materials plays a crucial role in their interaction with water molecules during splitting: Surface charge: The surface charge of the material can affect the electrostatic interactions between the water molecule and the surface. Positively charged surfaces tend to attract negatively charged oxygen atoms in water, while negatively-charged surfaces attract positively charged hydrogen atoms. Surface roughness and defects: These can create active sites for the formation of hydrogen bonds, enhancing their adsorption and activation. The presence of functional groups such as hydroxyl (-OH), carboxyl(-COOH), or amino (-NH2) groups, on the surfaces of materials can influence their ability to form hydrophilic (water-wetting) bonds. This can increase the efficiency of water splitting reactions and enhance their wettability.']\n",
      "Evaluation Result: {'cosine_similarities': [0.790935], 'perplexities': [21.656661987304688], 'answers': [['The surface chemistry of 2D materials plays a crucial role in their interaction with water molecules during splitting: Surface charge: The surface charge of the material can affect the electrostatic interactions between the water molecule and the surface. Positively charged surfaces tend to attract negatively charged oxygen atoms in water, while negatively-charged surfaces attract positively charged hydrogen atoms. Surface roughness and defects: These can create active sites for the formation of hydrogen bonds, enhancing their adsorption and activation. The presence of functional groups such as hydroxyl (-OH), carboxyl(-COOH), or amino (-NH2) groups, on the surfaces of materials can influence their ability to form hydrophilic (water-wetting) bonds. This can increase the efficiency of water splitting reactions and enhance their wettability.']]}\n",
      "\n"
     ]
    },
    {
     "data": {
      "application/vnd.jupyter.widget-view+json": {
       "model_id": "a0175aa9402b495b89f73f29dd82879f",
       "version_major": 2,
       "version_minor": 0
      },
      "text/plain": [
       "Batches:   0%|          | 0/1 [00:00<?, ?it/s]"
      ]
     },
     "metadata": {},
     "output_type": "display_data"
    },
    {
     "name": "stderr",
     "output_type": "stream",
     "text": [
      "/usr/local/lib/python3.10/dist-packages/transformers/generation/configuration_utils.py:633: UserWarning: `do_sample` is set to `False`. However, `top_p` is set to `0.9` -- this flag is only used in sample-based generation modes. You should set `do_sample=True` or unset `top_p`.\n",
      "  warnings.warn(\n"
     ]
    },
    {
     "data": {
      "application/vnd.jupyter.widget-view+json": {
       "model_id": "5ba1912e016f464bb9ecbe4d2c9d88f2",
       "version_major": 2,
       "version_minor": 0
      },
      "text/plain": [
       "Batches:   0%|          | 0/1 [00:00<?, ?it/s]"
      ]
     },
     "metadata": {},
     "output_type": "display_data"
    },
    {
     "data": {
      "application/vnd.jupyter.widget-view+json": {
       "model_id": "d58ef4fda56047488d9c45d55890106f",
       "version_major": 2,
       "version_minor": 0
      },
      "text/plain": [
       "Batches:   0%|          | 0/1 [00:00<?, ?it/s]"
      ]
     },
     "metadata": {},
     "output_type": "display_data"
    },
    {
     "name": "stdout",
     "output_type": "stream",
     "text": [
      "• Cosine Similarity: 0.8140\n",
      "• Perplexity: 20.29\n",
      "------------------------------------------------------------\n",
      "Query: What unique properties of graphene oxide contribute to its potential in photocatalytic water splitting applications?\n",
      "Generated Answer: ['Graphene oxide (GO) possesses several unique properties that make it a promising material for photocatalytic water splitting applications: Broadband light absorption: GO has a bandgap that extends from the ultraviolet (UV) to the near-infrared (NIR) region. This wide absorption range allows GO to efficiently utilize a large portion of the solar spectrum, which allows for efficient and scalable hydrogen production. High surface area: The surface of GO is very high, providing numerous active sites for the adsorption and activation of water molecules, promoting efficient water-splitting reactions.']\n",
      "Evaluation Result: {'cosine_similarities': [0.81395763], 'perplexities': [20.287153244018555], 'answers': [['Graphene oxide (GO) possesses several unique properties that make it a promising material for photocatalytic water splitting applications: Broadband light absorption: GO has a bandgap that extends from the ultraviolet (UV) to the near-infrared (NIR) region. This wide absorption range allows GO to efficiently utilize a large portion of the solar spectrum, which allows for efficient and scalable hydrogen production. High surface area: The surface of GO is very high, providing numerous active sites for the adsorption and activation of water molecules, promoting efficient water-splitting reactions.']]}\n",
      "\n"
     ]
    },
    {
     "data": {
      "application/vnd.jupyter.widget-view+json": {
       "model_id": "fa007dcff5114cd79cb91defc4eb2f2e",
       "version_major": 2,
       "version_minor": 0
      },
      "text/plain": [
       "Batches:   0%|          | 0/1 [00:00<?, ?it/s]"
      ]
     },
     "metadata": {},
     "output_type": "display_data"
    },
    {
     "name": "stderr",
     "output_type": "stream",
     "text": [
      "/usr/local/lib/python3.10/dist-packages/transformers/generation/configuration_utils.py:633: UserWarning: `do_sample` is set to `False`. However, `top_p` is set to `0.9` -- this flag is only used in sample-based generation modes. You should set `do_sample=True` or unset `top_p`.\n",
      "  warnings.warn(\n"
     ]
    },
    {
     "data": {
      "application/vnd.jupyter.widget-view+json": {
       "model_id": "8c7a4e1f87234020a892d8224944419f",
       "version_major": 2,
       "version_minor": 0
      },
      "text/plain": [
       "Batches:   0%|          | 0/1 [00:00<?, ?it/s]"
      ]
     },
     "metadata": {},
     "output_type": "display_data"
    },
    {
     "data": {
      "application/vnd.jupyter.widget-view+json": {
       "model_id": "ab5b4c085f264164811282dec01f3e7f",
       "version_major": 2,
       "version_minor": 0
      },
      "text/plain": [
       "Batches:   0%|          | 0/1 [00:00<?, ?it/s]"
      ]
     },
     "metadata": {},
     "output_type": "display_data"
    },
    {
     "name": "stdout",
     "output_type": "stream",
     "text": [
      "• Cosine Similarity: 0.7086\n",
      "• Perplexity: 37.93\n",
      "------------------------------------------------------------\n",
      "Query: How can the layer number of a 2D material affect its bandgap and subsequently its hydrogen production efficiency?\n",
      "Generated Answer: ['The bandgap of a 2D material determines the wavelength of light it can absorb. For efficient hydrogen production, the band gap should be suitable to absorb a significant portion of the solar spectrum, typically in the visible or near-infrared region. This is because the quantum confinement effect becomes more pronounced as the layer number decreases, leading to a widening of that wavelength. The surface properties of two-dimensional materials can be tuned to optimize light absorption. Surface properties can affect the number of active sites and the surface reactivity. Charge carrier dynamics can also influence the charge separation and recombination losses.']\n",
      "Evaluation Result: {'cosine_similarities': [0.7086107], 'perplexities': [37.930580139160156], 'answers': [['The bandgap of a 2D material determines the wavelength of light it can absorb. For efficient hydrogen production, the band gap should be suitable to absorb a significant portion of the solar spectrum, typically in the visible or near-infrared region. This is because the quantum confinement effect becomes more pronounced as the layer number decreases, leading to a widening of that wavelength. The surface properties of two-dimensional materials can be tuned to optimize light absorption. Surface properties can affect the number of active sites and the surface reactivity. Charge carrier dynamics can also influence the charge separation and recombination losses.']]}\n",
      "\n"
     ]
    },
    {
     "data": {
      "application/vnd.jupyter.widget-view+json": {
       "model_id": "a01a5cabfb024b09afb4bc50a1e81546",
       "version_major": 2,
       "version_minor": 0
      },
      "text/plain": [
       "Batches:   0%|          | 0/1 [00:00<?, ?it/s]"
      ]
     },
     "metadata": {},
     "output_type": "display_data"
    },
    {
     "name": "stderr",
     "output_type": "stream",
     "text": [
      "/usr/local/lib/python3.10/dist-packages/transformers/generation/configuration_utils.py:633: UserWarning: `do_sample` is set to `False`. However, `top_p` is set to `0.9` -- this flag is only used in sample-based generation modes. You should set `do_sample=True` or unset `top_p`.\n",
      "  warnings.warn(\n"
     ]
    },
    {
     "data": {
      "application/vnd.jupyter.widget-view+json": {
       "model_id": "1b8ee8b9083f4b4c88ba6701ad5bc2bd",
       "version_major": 2,
       "version_minor": 0
      },
      "text/plain": [
       "Batches:   0%|          | 0/1 [00:00<?, ?it/s]"
      ]
     },
     "metadata": {},
     "output_type": "display_data"
    },
    {
     "data": {
      "application/vnd.jupyter.widget-view+json": {
       "model_id": "e32ad100924d428ab3d3a2479bb0fae8",
       "version_major": 2,
       "version_minor": 0
      },
      "text/plain": [
       "Batches:   0%|          | 0/1 [00:00<?, ?it/s]"
      ]
     },
     "metadata": {},
     "output_type": "display_data"
    },
    {
     "name": "stdout",
     "output_type": "stream",
     "text": [
      "• Cosine Similarity: 0.8639\n",
      "• Perplexity: 21.52\n",
      "------------------------------------------------------------\n",
      "Query: Discuss the impact of chemical stability on the long-term performance of 2D nanomaterials in water splitting.\n",
      "Generated Answer: ['Chemical stability plays a crucial role in the long-term performance of 2D nanomaterials in water splitting: Degradation mechanisms can be susceptible to various degradation mechanisms during Water splitting, including photocorrosion, chemical etching, and oxidation. These degradation processes can lead to the loss of active sites, reduced surface area and diminished photocatalytic activity over time. By introducing protective layers or coatings on the surface of these materials, their susceptibility to degradation is reduced, leading to improved long term performance. Stability under reaction conditions: The chemical stability of two-dimensional materials under water-splitting conditions is critical. The presence of corrosive species (such as pH, temperature, etc.) and the ability to withstand the harsh conditions and maintain their stability over extended periods of time can influence the stability and performance over a wide range of applications.']\n",
      "Evaluation Result: {'cosine_similarities': [0.8638775], 'perplexities': [21.524410247802734], 'answers': [['Chemical stability plays a crucial role in the long-term performance of 2D nanomaterials in water splitting: Degradation mechanisms can be susceptible to various degradation mechanisms during Water splitting, including photocorrosion, chemical etching, and oxidation. These degradation processes can lead to the loss of active sites, reduced surface area and diminished photocatalytic activity over time. By introducing protective layers or coatings on the surface of these materials, their susceptibility to degradation is reduced, leading to improved long term performance. Stability under reaction conditions: The chemical stability of two-dimensional materials under water-splitting conditions is critical. The presence of corrosive species (such as pH, temperature, etc.) and the ability to withstand the harsh conditions and maintain their stability over extended periods of time can influence the stability and performance over a wide range of applications.']]}\n",
      "\n"
     ]
    },
    {
     "data": {
      "application/vnd.jupyter.widget-view+json": {
       "model_id": "c61019f007984dacb73d9f9fa1d75eb2",
       "version_major": 2,
       "version_minor": 0
      },
      "text/plain": [
       "Batches:   0%|          | 0/1 [00:00<?, ?it/s]"
      ]
     },
     "metadata": {},
     "output_type": "display_data"
    },
    {
     "name": "stderr",
     "output_type": "stream",
     "text": [
      "/usr/local/lib/python3.10/dist-packages/transformers/generation/configuration_utils.py:633: UserWarning: `do_sample` is set to `False`. However, `top_p` is set to `0.9` -- this flag is only used in sample-based generation modes. You should set `do_sample=True` or unset `top_p`.\n",
      "  warnings.warn(\n"
     ]
    },
    {
     "data": {
      "application/vnd.jupyter.widget-view+json": {
       "model_id": "340a7aa518264049b994f75c7fac29cf",
       "version_major": 2,
       "version_minor": 0
      },
      "text/plain": [
       "Batches:   0%|          | 0/1 [00:00<?, ?it/s]"
      ]
     },
     "metadata": {},
     "output_type": "display_data"
    },
    {
     "data": {
      "application/vnd.jupyter.widget-view+json": {
       "model_id": "aa1173e3bafe4f67857006e06fc9935b",
       "version_major": 2,
       "version_minor": 0
      },
      "text/plain": [
       "Batches:   0%|          | 0/1 [00:00<?, ?it/s]"
      ]
     },
     "metadata": {},
     "output_type": "display_data"
    },
    {
     "name": "stdout",
     "output_type": "stream",
     "text": [
      "• Cosine Similarity: 0.8065\n",
      "• Perplexity: 20.43\n",
      "------------------------------------------------------------\n",
      "Query: If a photocatalyst exhibits a hydrogen generation rate of 1.5 Î¼mol hâ»Â¹ under specific conditions, how much hydrogen would be produced in 5 hours?\n",
      "Generated Answer: ['To calculate the amount of hydrogen produced in 5 hours, we can use the following formula: Hydrogen generation rate Ã\\x97 Time```Given the hydrogen production rate of 1.5 mol hÂ¹ and a time of 5 hrs, you can calculate how much hydrogen is produced by the photocatalyst. If you want to know how many times a second is needed to produce 1 mol of H2O, then you need to multiply the number of times in the formula by 5.']\n",
      "Evaluation Result: {'cosine_similarities': [0.8064846], 'perplexities': [20.429061889648438], 'answers': [['To calculate the amount of hydrogen produced in 5 hours, we can use the following formula: Hydrogen generation rate Ã\\x97 Time```Given the hydrogen production rate of 1.5 mol hÂ¹ and a time of 5 hrs, you can calculate how much hydrogen is produced by the photocatalyst. If you want to know how many times a second is needed to produce 1 mol of H2O, then you need to multiply the number of times in the formula by 5.']]}\n",
      "\n"
     ]
    },
    {
     "data": {
      "application/vnd.jupyter.widget-view+json": {
       "model_id": "fe0d7c9e477a47c9b920d81b8c08e711",
       "version_major": 2,
       "version_minor": 0
      },
      "text/plain": [
       "Batches:   0%|          | 0/1 [00:00<?, ?it/s]"
      ]
     },
     "metadata": {},
     "output_type": "display_data"
    },
    {
     "name": "stderr",
     "output_type": "stream",
     "text": [
      "/usr/local/lib/python3.10/dist-packages/transformers/generation/configuration_utils.py:633: UserWarning: `do_sample` is set to `False`. However, `top_p` is set to `0.9` -- this flag is only used in sample-based generation modes. You should set `do_sample=True` or unset `top_p`.\n",
      "  warnings.warn(\n"
     ]
    },
    {
     "data": {
      "application/vnd.jupyter.widget-view+json": {
       "model_id": "24af4a5b19c14dcf93374bee5cbf71e5",
       "version_major": 2,
       "version_minor": 0
      },
      "text/plain": [
       "Batches:   0%|          | 0/1 [00:00<?, ?it/s]"
      ]
     },
     "metadata": {},
     "output_type": "display_data"
    },
    {
     "data": {
      "application/vnd.jupyter.widget-view+json": {
       "model_id": "9d69208b8ae24eca9972049e2f099888",
       "version_major": 2,
       "version_minor": 0
      },
      "text/plain": [
       "Batches:   0%|          | 0/1 [00:00<?, ?it/s]"
      ]
     },
     "metadata": {},
     "output_type": "display_data"
    },
    {
     "name": "stdout",
     "output_type": "stream",
     "text": [
      "• Cosine Similarity: 0.4633\n",
      "• Perplexity: 19.12\n",
      "------------------------------------------------------------\n",
      "Query: A water-splitting experiment requires 237.13 kJ/mol of energy to produce hydrogen. If a catalyst reduces this energy requirement by 30%, what is the new energy requirement?\n",
      "Generated Answer: [\"The new hydrogen production rate is 20 mmol hÂ¹ mÂ². This is double the initial rate because the STH efficiency doubles. The hydrogen is produced at a higher temperature and pressure than the original rate, so it can be stored for longer periods of time without needing to be re-exposed to the environment. Edit: I forgot to mention that it's not just hydrogen. It's also H2O, H3O3, and H4O4. I'm not sure why.\"]\n",
      "Evaluation Result: {'cosine_similarities': [0.4632513], 'perplexities': [19.124963760375977], 'answers': [[\"The new hydrogen production rate is 20 mmol hÂ¹ mÂ². This is double the initial rate because the STH efficiency doubles. The hydrogen is produced at a higher temperature and pressure than the original rate, so it can be stored for longer periods of time without needing to be re-exposed to the environment. Edit: I forgot to mention that it's not just hydrogen. It's also H2O, H3O3, and H4O4. I'm not sure why.\"]]}\n",
      "\n"
     ]
    },
    {
     "data": {
      "application/vnd.jupyter.widget-view+json": {
       "model_id": "aed39b94ecf84a00b1dfe8b06031f09c",
       "version_major": 2,
       "version_minor": 0
      },
      "text/plain": [
       "Batches:   0%|          | 0/1 [00:00<?, ?it/s]"
      ]
     },
     "metadata": {},
     "output_type": "display_data"
    },
    {
     "name": "stderr",
     "output_type": "stream",
     "text": [
      "/usr/local/lib/python3.10/dist-packages/transformers/generation/configuration_utils.py:633: UserWarning: `do_sample` is set to `False`. However, `top_p` is set to `0.9` -- this flag is only used in sample-based generation modes. You should set `do_sample=True` or unset `top_p`.\n",
      "  warnings.warn(\n"
     ]
    },
    {
     "data": {
      "application/vnd.jupyter.widget-view+json": {
       "model_id": "a657d12352ec480094a06c038f490e4d",
       "version_major": 2,
       "version_minor": 0
      },
      "text/plain": [
       "Batches:   0%|          | 0/1 [00:00<?, ?it/s]"
      ]
     },
     "metadata": {},
     "output_type": "display_data"
    },
    {
     "data": {
      "application/vnd.jupyter.widget-view+json": {
       "model_id": "feeecbc422084532b32fa55f36fd1a0a",
       "version_major": 2,
       "version_minor": 0
      },
      "text/plain": [
       "Batches:   0%|          | 0/1 [00:00<?, ?it/s]"
      ]
     },
     "metadata": {},
     "output_type": "display_data"
    },
    {
     "name": "stdout",
     "output_type": "stream",
     "text": [
      "• Cosine Similarity: 0.6700\n",
      "• Perplexity: 18.61\n",
      "------------------------------------------------------------\n",
      "Query: If the specific surface area of a 2D material is 200 mÂ²/g and it can generate hydrogen at a rate of 0.2 Î¼mol hâ»Â¹ per mÂ², what is the total hydrogen production rate for 1 gram of the material?\n",
      "Generated Answer: ['The hydrogen production rate is 0.15 kg hÂ¹ mÂ². This is calculated by multiplying the STH efficiency (15%) by the incident solar power (1000 W/m³) and converting the units to units of mass. The mass of a hydrogen atom is about 1.5 x 10^-18 kg, so the hydrogen is produced at a rate of 1 kg/s^(2). The energy required to produce a kilogram of H2O is 1 kcal/mol.']\n",
      "Evaluation Result: {'cosine_similarities': [0.6700082], 'perplexities': [18.61458969116211], 'answers': [['The hydrogen production rate is 0.15 kg hÂ¹ mÂ². This is calculated by multiplying the STH efficiency (15%) by the incident solar power (1000 W/m³) and converting the units to units of mass. The mass of a hydrogen atom is about 1.5 x 10^-18 kg, so the hydrogen is produced at a rate of 1 kg/s^(2). The energy required to produce a kilogram of H2O is 1 kcal/mol.']]}\n",
      "\n"
     ]
    },
    {
     "data": {
      "application/vnd.jupyter.widget-view+json": {
       "model_id": "97cf3a92c3ed47078b8db529dc9a6b53",
       "version_major": 2,
       "version_minor": 0
      },
      "text/plain": [
       "Batches:   0%|          | 0/1 [00:00<?, ?it/s]"
      ]
     },
     "metadata": {},
     "output_type": "display_data"
    },
    {
     "name": "stderr",
     "output_type": "stream",
     "text": [
      "/usr/local/lib/python3.10/dist-packages/transformers/generation/configuration_utils.py:633: UserWarning: `do_sample` is set to `False`. However, `top_p` is set to `0.9` -- this flag is only used in sample-based generation modes. You should set `do_sample=True` or unset `top_p`.\n",
      "  warnings.warn(\n"
     ]
    },
    {
     "data": {
      "application/vnd.jupyter.widget-view+json": {
       "model_id": "797ebb7880b946fdab1ff52425d92cd2",
       "version_major": 2,
       "version_minor": 0
      },
      "text/plain": [
       "Batches:   0%|          | 0/1 [00:00<?, ?it/s]"
      ]
     },
     "metadata": {},
     "output_type": "display_data"
    },
    {
     "data": {
      "application/vnd.jupyter.widget-view+json": {
       "model_id": "79c7f83da3b74da7aafd4c698eeb6a3a",
       "version_major": 2,
       "version_minor": 0
      },
      "text/plain": [
       "Batches:   0%|          | 0/1 [00:00<?, ?it/s]"
      ]
     },
     "metadata": {},
     "output_type": "display_data"
    },
    {
     "name": "stdout",
     "output_type": "stream",
     "text": [
      "• Cosine Similarity: 0.5657\n",
      "• Perplexity: 18.12\n",
      "------------------------------------------------------------\n",
      "Query: What specific 2D nanomaterial(s) are you using? (e.g., MoS2, g-C3N4, MXenes)\n",
      "Generated Answer: ['Graphene has a high surface area to volume ratio, making it an excellent material for gas sensors, biosensors, and chemical sensors. It also has high electrical conductivity and tunable bandgaps, enabling the development of high-performance transistors and logic devices. Two-dimensional nanomaterials, such as graphene, transition metal dichalcogenides (TMDs), and MXenes, have remarkable properties that make them promising candidates for applications in sensors and electronics.']\n",
      "Evaluation Result: {'cosine_similarities': [0.56571275], 'perplexities': [18.11672592163086], 'answers': [['Graphene has a high surface area to volume ratio, making it an excellent material for gas sensors, biosensors, and chemical sensors. It also has high electrical conductivity and tunable bandgaps, enabling the development of high-performance transistors and logic devices. Two-dimensional nanomaterials, such as graphene, transition metal dichalcogenides (TMDs), and MXenes, have remarkable properties that make them promising candidates for applications in sensors and electronics.']]}\n",
      "\n"
     ]
    },
    {
     "data": {
      "application/vnd.jupyter.widget-view+json": {
       "model_id": "611eb9a8d7904eb498e86bb10214b590",
       "version_major": 2,
       "version_minor": 0
      },
      "text/plain": [
       "Batches:   0%|          | 0/1 [00:00<?, ?it/s]"
      ]
     },
     "metadata": {},
     "output_type": "display_data"
    },
    {
     "name": "stderr",
     "output_type": "stream",
     "text": [
      "/usr/local/lib/python3.10/dist-packages/transformers/generation/configuration_utils.py:633: UserWarning: `do_sample` is set to `False`. However, `top_p` is set to `0.9` -- this flag is only used in sample-based generation modes. You should set `do_sample=True` or unset `top_p`.\n",
      "  warnings.warn(\n"
     ]
    },
    {
     "data": {
      "application/vnd.jupyter.widget-view+json": {
       "model_id": "330472dda2d94a38b6885e2f2fe1cd26",
       "version_major": 2,
       "version_minor": 0
      },
      "text/plain": [
       "Batches:   0%|          | 0/1 [00:00<?, ?it/s]"
      ]
     },
     "metadata": {},
     "output_type": "display_data"
    },
    {
     "data": {
      "application/vnd.jupyter.widget-view+json": {
       "model_id": "2137c09561744281b185b3b136ffd83a",
       "version_major": 2,
       "version_minor": 0
      },
      "text/plain": [
       "Batches:   0%|          | 0/1 [00:00<?, ?it/s]"
      ]
     },
     "metadata": {},
     "output_type": "display_data"
    },
    {
     "name": "stdout",
     "output_type": "stream",
     "text": [
      "• Cosine Similarity: 0.4337\n",
      "• Perplexity: 26.48\n",
      "------------------------------------------------------------\n",
      "Query: What is the lateral size and thickness distribution of your 2D nanomaterials?\n",
      "Generated Answer: ['Two-Dimensional (2D) Nanomaterials are atomically thin materials with a thickness of a single atom or a few atomic layers. They possess unique properties and applications due to their reduced dimensionality and quantum confinement effects. The properties of two-dimensional materials can be tailored by controlling their thickness, composition, and structure. For example, Graphene Transition Metal dichalcogenides (e.g., MoS2, WS2) Boron nitride Phosphorene Black phosphorusApplications: Electronics: Transistors, sensors, optoelectronic devices Energy Storage: Batteries, supercapacitors and fuel cells Catalysis: Highly efficient and selective catalysts Membranes: Separation and filtration applications Composites: Lightweight and strong materials for aerospace and automotive industries']\n",
      "Evaluation Result: {'cosine_similarities': [0.43368942], 'perplexities': [26.47984504699707], 'answers': [['Two-Dimensional (2D) Nanomaterials are atomically thin materials with a thickness of a single atom or a few atomic layers. They possess unique properties and applications due to their reduced dimensionality and quantum confinement effects. The properties of two-dimensional materials can be tailored by controlling their thickness, composition, and structure. For example, Graphene Transition Metal dichalcogenides (e.g., MoS2, WS2) Boron nitride Phosphorene Black phosphorusApplications: Electronics: Transistors, sensors, optoelectronic devices Energy Storage: Batteries, supercapacitors and fuel cells Catalysis: Highly efficient and selective catalysts Membranes: Separation and filtration applications Composites: Lightweight and strong materials for aerospace and automotive industries']]}\n",
      "\n"
     ]
    },
    {
     "data": {
      "application/vnd.jupyter.widget-view+json": {
       "model_id": "8edb72b70c534b3c8d85a329d099473b",
       "version_major": 2,
       "version_minor": 0
      },
      "text/plain": [
       "Batches:   0%|          | 0/1 [00:00<?, ?it/s]"
      ]
     },
     "metadata": {},
     "output_type": "display_data"
    },
    {
     "name": "stderr",
     "output_type": "stream",
     "text": [
      "/usr/local/lib/python3.10/dist-packages/transformers/generation/configuration_utils.py:633: UserWarning: `do_sample` is set to `False`. However, `top_p` is set to `0.9` -- this flag is only used in sample-based generation modes. You should set `do_sample=True` or unset `top_p`.\n",
      "  warnings.warn(\n"
     ]
    },
    {
     "data": {
      "application/vnd.jupyter.widget-view+json": {
       "model_id": "59b6ab2ff13547168738fa381886da2e",
       "version_major": 2,
       "version_minor": 0
      },
      "text/plain": [
       "Batches:   0%|          | 0/1 [00:00<?, ?it/s]"
      ]
     },
     "metadata": {},
     "output_type": "display_data"
    },
    {
     "data": {
      "application/vnd.jupyter.widget-view+json": {
       "model_id": "81a7714f2b1141c5a6d968c63d9bbe7a",
       "version_major": 2,
       "version_minor": 0
      },
      "text/plain": [
       "Batches:   0%|          | 0/1 [00:00<?, ?it/s]"
      ]
     },
     "metadata": {},
     "output_type": "display_data"
    },
    {
     "name": "stdout",
     "output_type": "stream",
     "text": [
      "• Cosine Similarity: 0.3484\n",
      "• Perplexity: 24.19\n",
      "------------------------------------------------------------\n",
      "Query: What is the crystal structure and phase purity of the synthesized material?\n",
      "Generated Answer: ['The synthesized materials demonstrated unique stability characteristics, including: Excellent electrochemical stability: The materials exhibited high stability under harsh electrochem conditions, such as repeated cycling and prolonged operation, without significant degradation in their electrocatalytic activity. This is important for practical applications, as they ensure long-lasting performance and durability under real-world operating conditions. They also maintained their structural integrity and structural activity even after exposure to high temperatures, demonstrating their suitability for high-temperature applications. The material also showed remarkable stability over extended periods of time, retaining their stability and catalytic performance for thousands of cycles or hundreds of hours without significantly decay.']\n",
      "Evaluation Result: {'cosine_similarities': [0.34836528], 'perplexities': [24.18762969970703], 'answers': [['The synthesized materials demonstrated unique stability characteristics, including: Excellent electrochemical stability: The materials exhibited high stability under harsh electrochem conditions, such as repeated cycling and prolonged operation, without significant degradation in their electrocatalytic activity. This is important for practical applications, as they ensure long-lasting performance and durability under real-world operating conditions. They also maintained their structural integrity and structural activity even after exposure to high temperatures, demonstrating their suitability for high-temperature applications. The material also showed remarkable stability over extended periods of time, retaining their stability and catalytic performance for thousands of cycles or hundreds of hours without significantly decay.']]}\n",
      "\n"
     ]
    },
    {
     "data": {
      "application/vnd.jupyter.widget-view+json": {
       "model_id": "6e9b9b568002423c8291f5e0c01243d2",
       "version_major": 2,
       "version_minor": 0
      },
      "text/plain": [
       "Batches:   0%|          | 0/1 [00:00<?, ?it/s]"
      ]
     },
     "metadata": {},
     "output_type": "display_data"
    },
    {
     "name": "stderr",
     "output_type": "stream",
     "text": [
      "/usr/local/lib/python3.10/dist-packages/transformers/generation/configuration_utils.py:633: UserWarning: `do_sample` is set to `False`. However, `top_p` is set to `0.9` -- this flag is only used in sample-based generation modes. You should set `do_sample=True` or unset `top_p`.\n",
      "  warnings.warn(\n"
     ]
    },
    {
     "data": {
      "application/vnd.jupyter.widget-view+json": {
       "model_id": "f33b1a09c20f43e3b6de56f40872134b",
       "version_major": 2,
       "version_minor": 0
      },
      "text/plain": [
       "Batches:   0%|          | 0/1 [00:00<?, ?it/s]"
      ]
     },
     "metadata": {},
     "output_type": "display_data"
    },
    {
     "data": {
      "application/vnd.jupyter.widget-view+json": {
       "model_id": "8acc6ee363df44fabf32d28b5dc7bf6d",
       "version_major": 2,
       "version_minor": 0
      },
      "text/plain": [
       "Batches:   0%|          | 0/1 [00:00<?, ?it/s]"
      ]
     },
     "metadata": {},
     "output_type": "display_data"
    },
    {
     "name": "stdout",
     "output_type": "stream",
     "text": [
      "• Cosine Similarity: 0.4770\n",
      "• Perplexity: 19.31\n",
      "------------------------------------------------------------\n",
      "Query: Are there any defects or dopants present in the 2D material structure?\n",
      "Generated Answer: ['Two-Dimensional Materials: Two-dimensional (2D) materials are atomically thin materials with a thickness of a single atom or a few atomic layers. They possess unique properties that differ significantly from their bulk counterparts due to their reduced dimensionality and quantum confinement effects. 2D materials have potential applications in various fields, including: Electronics: Transistors, sensors, optoelectronic devices Energy Storage: Batteries, supercapacitors, and fuel cells Catalysis: Highly efficient and selective catalysts Membranes: Separation and filtration applications Composites: Lightweight and strong materials for aerospace and automotive industries']\n",
      "Evaluation Result: {'cosine_similarities': [0.47697836], 'perplexities': [19.3142032623291], 'answers': [['Two-Dimensional Materials: Two-dimensional (2D) materials are atomically thin materials with a thickness of a single atom or a few atomic layers. They possess unique properties that differ significantly from their bulk counterparts due to their reduced dimensionality and quantum confinement effects. 2D materials have potential applications in various fields, including: Electronics: Transistors, sensors, optoelectronic devices Energy Storage: Batteries, supercapacitors, and fuel cells Catalysis: Highly efficient and selective catalysts Membranes: Separation and filtration applications Composites: Lightweight and strong materials for aerospace and automotive industries']]}\n",
      "\n"
     ]
    },
    {
     "data": {
      "application/vnd.jupyter.widget-view+json": {
       "model_id": "72046bea48594efcb250fbb9a20e5d8e",
       "version_major": 2,
       "version_minor": 0
      },
      "text/plain": [
       "Batches:   0%|          | 0/1 [00:00<?, ?it/s]"
      ]
     },
     "metadata": {},
     "output_type": "display_data"
    },
    {
     "name": "stderr",
     "output_type": "stream",
     "text": [
      "/usr/local/lib/python3.10/dist-packages/transformers/generation/configuration_utils.py:633: UserWarning: `do_sample` is set to `False`. However, `top_p` is set to `0.9` -- this flag is only used in sample-based generation modes. You should set `do_sample=True` or unset `top_p`.\n",
      "  warnings.warn(\n"
     ]
    },
    {
     "data": {
      "application/vnd.jupyter.widget-view+json": {
       "model_id": "7a5a45b2ca9e413bbbdf65bcc0287084",
       "version_major": 2,
       "version_minor": 0
      },
      "text/plain": [
       "Batches:   0%|          | 0/1 [00:00<?, ?it/s]"
      ]
     },
     "metadata": {},
     "output_type": "display_data"
    },
    {
     "data": {
      "application/vnd.jupyter.widget-view+json": {
       "model_id": "cec0c91e5b9843038bc31d6867da2104",
       "version_major": 2,
       "version_minor": 0
      },
      "text/plain": [
       "Batches:   0%|          | 0/1 [00:00<?, ?it/s]"
      ]
     },
     "metadata": {},
     "output_type": "display_data"
    },
    {
     "name": "stdout",
     "output_type": "stream",
     "text": [
      "• Cosine Similarity: 0.4771\n",
      "• Perplexity: 21.52\n",
      "------------------------------------------------------------\n",
      "Query: How stable is the 2D material in the electrolyte solution over time?\n",
      "Generated Answer: ['Chemical stability plays a crucial role in the long-term performance of 2D nanomaterials in water splitting: Degradation mechanisms can be susceptible to various degradation mechanisms during Water splitting, including photocorrosion, chemical etching, and oxidation. These degradation processes can lead to the loss of active sites, reduced surface area and diminished photocatalytic activity over time. By introducing protective layers or coatings on the surface of these materials, their susceptibility to degradation is reduced, leading to improved long term performance. Stability under reaction conditions: The chemical stability of two-dimensional materials under water-splitting conditions is critical. The presence of corrosive species (such as pH, temperature, etc.) and the ability to withstand the harsh conditions and maintain their stability over extended periods of time can influence the stability and performance over a wide range of applications.']\n",
      "Evaluation Result: {'cosine_similarities': [0.4771367], 'perplexities': [21.524410247802734], 'answers': [['Chemical stability plays a crucial role in the long-term performance of 2D nanomaterials in water splitting: Degradation mechanisms can be susceptible to various degradation mechanisms during Water splitting, including photocorrosion, chemical etching, and oxidation. These degradation processes can lead to the loss of active sites, reduced surface area and diminished photocatalytic activity over time. By introducing protective layers or coatings on the surface of these materials, their susceptibility to degradation is reduced, leading to improved long term performance. Stability under reaction conditions: The chemical stability of two-dimensional materials under water-splitting conditions is critical. The presence of corrosive species (such as pH, temperature, etc.) and the ability to withstand the harsh conditions and maintain their stability over extended periods of time can influence the stability and performance over a wide range of applications.']]}\n",
      "\n"
     ]
    },
    {
     "data": {
      "application/vnd.jupyter.widget-view+json": {
       "model_id": "829fda7129db451e90f251341f0d7816",
       "version_major": 2,
       "version_minor": 0
      },
      "text/plain": [
       "Batches:   0%|          | 0/1 [00:00<?, ?it/s]"
      ]
     },
     "metadata": {},
     "output_type": "display_data"
    },
    {
     "name": "stderr",
     "output_type": "stream",
     "text": [
      "/usr/local/lib/python3.10/dist-packages/transformers/generation/configuration_utils.py:633: UserWarning: `do_sample` is set to `False`. However, `top_p` is set to `0.9` -- this flag is only used in sample-based generation modes. You should set `do_sample=True` or unset `top_p`.\n",
      "  warnings.warn(\n"
     ]
    },
    {
     "data": {
      "application/vnd.jupyter.widget-view+json": {
       "model_id": "982572fcbe9a40ae9027d627371f4322",
       "version_major": 2,
       "version_minor": 0
      },
      "text/plain": [
       "Batches:   0%|          | 0/1 [00:00<?, ?it/s]"
      ]
     },
     "metadata": {},
     "output_type": "display_data"
    },
    {
     "data": {
      "application/vnd.jupyter.widget-view+json": {
       "model_id": "1b6a5fb056f74437954cb3c7b963817c",
       "version_major": 2,
       "version_minor": 0
      },
      "text/plain": [
       "Batches:   0%|          | 0/1 [00:00<?, ?it/s]"
      ]
     },
     "metadata": {},
     "output_type": "display_data"
    },
    {
     "name": "stdout",
     "output_type": "stream",
     "text": [
      "• Cosine Similarity: 0.4372\n",
      "• Perplexity: 17.39\n",
      "------------------------------------------------------------\n",
      "Query: Does the material undergo any structural changes during the water splitting process?\n",
      "Generated Answer: ['There are a number of different types of defects that can be introduced into PEC water splitting, each with unique effects on the material\\'s properties: Point Defects: These are isolated atoms in the crystal lattice. Point defects can create localized energy levels and modify the electronic structure of a material. For example, if you add a dopant to a crystal, you can change the energy level of the atom. This can affect the surface properties and reactivity, as well as the mechanical properties. Inclusions: This is a type of defect that is present in a lot of materials, and can have a wide range of effects. Examples include voids, cracks, inclusions. Planar Disruptions: The term for these is \"planar\" and is used to refer to any two-dimensional structure that disrupts the regular arrangement of atoms along a plane or surface. These can include dislocations and grain boundaries.']\n",
      "Evaluation Result: {'cosine_similarities': [0.43719777], 'perplexities': [17.390235900878906], 'answers': [['There are a number of different types of defects that can be introduced into PEC water splitting, each with unique effects on the material\\'s properties: Point Defects: These are isolated atoms in the crystal lattice. Point defects can create localized energy levels and modify the electronic structure of a material. For example, if you add a dopant to a crystal, you can change the energy level of the atom. This can affect the surface properties and reactivity, as well as the mechanical properties. Inclusions: This is a type of defect that is present in a lot of materials, and can have a wide range of effects. Examples include voids, cracks, inclusions. Planar Disruptions: The term for these is \"planar\" and is used to refer to any two-dimensional structure that disrupts the regular arrangement of atoms along a plane or surface. These can include dislocations and grain boundaries.']]}\n",
      "\n"
     ]
    },
    {
     "data": {
      "application/vnd.jupyter.widget-view+json": {
       "model_id": "03a75e398a36445fa40a92254d1518a7",
       "version_major": 2,
       "version_minor": 0
      },
      "text/plain": [
       "Batches:   0%|          | 0/1 [00:00<?, ?it/s]"
      ]
     },
     "metadata": {},
     "output_type": "display_data"
    },
    {
     "name": "stderr",
     "output_type": "stream",
     "text": [
      "/usr/local/lib/python3.10/dist-packages/transformers/generation/configuration_utils.py:633: UserWarning: `do_sample` is set to `False`. However, `top_p` is set to `0.9` -- this flag is only used in sample-based generation modes. You should set `do_sample=True` or unset `top_p`.\n",
      "  warnings.warn(\n"
     ]
    },
    {
     "data": {
      "application/vnd.jupyter.widget-view+json": {
       "model_id": "63c9ed68df61474b9c89fc6a8e2d6c5f",
       "version_major": 2,
       "version_minor": 0
      },
      "text/plain": [
       "Batches:   0%|          | 0/1 [00:00<?, ?it/s]"
      ]
     },
     "metadata": {},
     "output_type": "display_data"
    },
    {
     "data": {
      "application/vnd.jupyter.widget-view+json": {
       "model_id": "ac04d7abcf574988b8ee7bc21864d1f2",
       "version_major": 2,
       "version_minor": 0
      },
      "text/plain": [
       "Batches:   0%|          | 0/1 [00:00<?, ?it/s]"
      ]
     },
     "metadata": {},
     "output_type": "display_data"
    },
    {
     "name": "stdout",
     "output_type": "stream",
     "text": [
      "• Cosine Similarity: 0.6154\n",
      "• Perplexity: 14.01\n",
      "------------------------------------------------------------\n",
      "Query: What is the wavelength range of light used for photocatalytic testing?\n",
      "Generated Answer: ['The wavelength of light that can drive photocatalytic water splitting in this 2D material is 620 nm. This wavelength corresponds to the band gap energy, which is the energy that light can be absorbed by a material. The energy of a photon is proportional to its wavelength, so the wavelength is related to how much energy it takes to absorb the photon. For example, if you shine a laser at a water molecule, it will absorb more energy than it gives off, because it has a lower wavelength.']\n",
      "Evaluation Result: {'cosine_similarities': [0.61540055], 'perplexities': [14.012921333312988], 'answers': [['The wavelength of light that can drive photocatalytic water splitting in this 2D material is 620 nm. This wavelength corresponds to the band gap energy, which is the energy that light can be absorbed by a material. The energy of a photon is proportional to its wavelength, so the wavelength is related to how much energy it takes to absorb the photon. For example, if you shine a laser at a water molecule, it will absorb more energy than it gives off, because it has a lower wavelength.']]}\n",
      "\n"
     ]
    },
    {
     "data": {
      "application/vnd.jupyter.widget-view+json": {
       "model_id": "a293ee0204d741d79676473572d6bbdb",
       "version_major": 2,
       "version_minor": 0
      },
      "text/plain": [
       "Batches:   0%|          | 0/1 [00:00<?, ?it/s]"
      ]
     },
     "metadata": {},
     "output_type": "display_data"
    },
    {
     "name": "stderr",
     "output_type": "stream",
     "text": [
      "/usr/local/lib/python3.10/dist-packages/transformers/generation/configuration_utils.py:633: UserWarning: `do_sample` is set to `False`. However, `top_p` is set to `0.9` -- this flag is only used in sample-based generation modes. You should set `do_sample=True` or unset `top_p`.\n",
      "  warnings.warn(\n"
     ]
    },
    {
     "data": {
      "application/vnd.jupyter.widget-view+json": {
       "model_id": "6a9c94799eeb4a45a9f6b02922b868de",
       "version_major": 2,
       "version_minor": 0
      },
      "text/plain": [
       "Batches:   0%|          | 0/1 [00:00<?, ?it/s]"
      ]
     },
     "metadata": {},
     "output_type": "display_data"
    },
    {
     "data": {
      "application/vnd.jupyter.widget-view+json": {
       "model_id": "cbc60ec63f9641a2a4fd077baa1e1ee3",
       "version_major": 2,
       "version_minor": 0
      },
      "text/plain": [
       "Batches:   0%|          | 0/1 [00:00<?, ?it/s]"
      ]
     },
     "metadata": {},
     "output_type": "display_data"
    },
    {
     "name": "stdout",
     "output_type": "stream",
     "text": [
      "• Cosine Similarity: 0.4718\n",
      "• Perplexity: 10.72\n",
      "------------------------------------------------------------\n",
      "Query: What is the light intensity used in your experiments?\n",
      "Generated Answer: [\"Increasing the light intensity increases the rate of hydrogen generation in a photocatalytic system. The photon flux, or the number of photons per unit area of unit time, is directly proportional to the intensity of light. So, if you increase the energy of the photons, you will increase their frequency. This means that they will be more likely to be absorbed by the material they are in contact with. If you decrease the frequency, they won't be able to absorb as many photons as before.\"]\n",
      "Evaluation Result: {'cosine_similarities': [0.47179624], 'perplexities': [10.719758987426758], 'answers': [[\"Increasing the light intensity increases the rate of hydrogen generation in a photocatalytic system. The photon flux, or the number of photons per unit area of unit time, is directly proportional to the intensity of light. So, if you increase the energy of the photons, you will increase their frequency. This means that they will be more likely to be absorbed by the material they are in contact with. If you decrease the frequency, they won't be able to absorb as many photons as before.\"]]}\n",
      "\n"
     ]
    },
    {
     "data": {
      "application/vnd.jupyter.widget-view+json": {
       "model_id": "109f4fb62e48432b9253551dd9e258da",
       "version_major": 2,
       "version_minor": 0
      },
      "text/plain": [
       "Batches:   0%|          | 0/1 [00:00<?, ?it/s]"
      ]
     },
     "metadata": {},
     "output_type": "display_data"
    },
    {
     "name": "stderr",
     "output_type": "stream",
     "text": [
      "/usr/local/lib/python3.10/dist-packages/transformers/generation/configuration_utils.py:633: UserWarning: `do_sample` is set to `False`. However, `top_p` is set to `0.9` -- this flag is only used in sample-based generation modes. You should set `do_sample=True` or unset `top_p`.\n",
      "  warnings.warn(\n"
     ]
    },
    {
     "data": {
      "application/vnd.jupyter.widget-view+json": {
       "model_id": "5c0f57cb9d264776a02448f5ffb4b410",
       "version_major": 2,
       "version_minor": 0
      },
      "text/plain": [
       "Batches:   0%|          | 0/1 [00:00<?, ?it/s]"
      ]
     },
     "metadata": {},
     "output_type": "display_data"
    },
    {
     "data": {
      "application/vnd.jupyter.widget-view+json": {
       "model_id": "e469469c5545416eabf2ddf92c4e0663",
       "version_major": 2,
       "version_minor": 0
      },
      "text/plain": [
       "Batches:   0%|          | 0/1 [00:00<?, ?it/s]"
      ]
     },
     "metadata": {},
     "output_type": "display_data"
    },
    {
     "name": "stdout",
     "output_type": "stream",
     "text": [
      "• Cosine Similarity: 0.6563\n",
      "• Perplexity: 31.53\n",
      "------------------------------------------------------------\n",
      "Query: What is the hydrogen evolution rate (HER) of your 2D nanomaterial?\n",
      "Generated Answer: ['Hydrogen Evolution Reaction (HER) on 2D Nanomaterials typically involves the following steps: 1. Water adsorption: Water molecules adsorb onto the surface of the graphene. This results in the formation of H ions. 2. Protonation: Two H atoms combine to form H2, releasing the gas. 3. Volmer step: A H ion reacts with an electron, forming an H atom (H). This step is typically the rate-determining step for the HER process. 4. Heyrovsky step : A second H electron reacts, resulting in a second hydrogen atom, H+2.']\n",
      "Evaluation Result: {'cosine_similarities': [0.6562678], 'perplexities': [31.527381896972656], 'answers': [['Hydrogen Evolution Reaction (HER) on 2D Nanomaterials typically involves the following steps: 1. Water adsorption: Water molecules adsorb onto the surface of the graphene. This results in the formation of H ions. 2. Protonation: Two H atoms combine to form H2, releasing the gas. 3. Volmer step: A H ion reacts with an electron, forming an H atom (H). This step is typically the rate-determining step for the HER process. 4. Heyrovsky step : A second H electron reacts, resulting in a second hydrogen atom, H+2.']]}\n",
      "\n"
     ]
    },
    {
     "data": {
      "application/vnd.jupyter.widget-view+json": {
       "model_id": "65b1f9b2308d40d499a78f0827419a50",
       "version_major": 2,
       "version_minor": 0
      },
      "text/plain": [
       "Batches:   0%|          | 0/1 [00:00<?, ?it/s]"
      ]
     },
     "metadata": {},
     "output_type": "display_data"
    },
    {
     "name": "stderr",
     "output_type": "stream",
     "text": [
      "/usr/local/lib/python3.10/dist-packages/transformers/generation/configuration_utils.py:633: UserWarning: `do_sample` is set to `False`. However, `top_p` is set to `0.9` -- this flag is only used in sample-based generation modes. You should set `do_sample=True` or unset `top_p`.\n",
      "  warnings.warn(\n"
     ]
    },
    {
     "data": {
      "application/vnd.jupyter.widget-view+json": {
       "model_id": "b627d5d5b90244f68abcb525e883f4f3",
       "version_major": 2,
       "version_minor": 0
      },
      "text/plain": [
       "Batches:   0%|          | 0/1 [00:00<?, ?it/s]"
      ]
     },
     "metadata": {},
     "output_type": "display_data"
    },
    {
     "data": {
      "application/vnd.jupyter.widget-view+json": {
       "model_id": "8eed85a815854a4fa12a58155eac2526",
       "version_major": 2,
       "version_minor": 0
      },
      "text/plain": [
       "Batches:   0%|          | 0/1 [00:00<?, ?it/s]"
      ]
     },
     "metadata": {},
     "output_type": "display_data"
    },
    {
     "name": "stdout",
     "output_type": "stream",
     "text": [
      "• Cosine Similarity: 0.5868\n",
      "• Perplexity: 13.33\n",
      "------------------------------------------------------------\n",
      "Query: What is the quantum yield for hydrogen production at different wavelengths?\n",
      "Generated Answer: [\"To produce 1 mol of hydrogen, you'd need 6.67 x 10^-15 photons at 400 nm. This is calculated by dividing the energy required to produce 2 electrons per H, and dividing it by the amount of energy of a single photon. If you want to know how much energy it takes to make a mole of H2O, then you need to multiply the number of photons by a factor of the wavelength of light. For example, if you shine a photon on a piece of paper, it will have an index of refraction of 0.5.\"]\n",
      "Evaluation Result: {'cosine_similarities': [0.58676565], 'perplexities': [13.326754570007324], 'answers': [[\"To produce 1 mol of hydrogen, you'd need 6.67 x 10^-15 photons at 400 nm. This is calculated by dividing the energy required to produce 2 electrons per H, and dividing it by the amount of energy of a single photon. If you want to know how much energy it takes to make a mole of H2O, then you need to multiply the number of photons by a factor of the wavelength of light. For example, if you shine a photon on a piece of paper, it will have an index of refraction of 0.5.\"]]}\n",
      "\n"
     ]
    },
    {
     "data": {
      "application/vnd.jupyter.widget-view+json": {
       "model_id": "9b1b96c9625f4489ad5d46ca28c19c63",
       "version_major": 2,
       "version_minor": 0
      },
      "text/plain": [
       "Batches:   0%|          | 0/1 [00:00<?, ?it/s]"
      ]
     },
     "metadata": {},
     "output_type": "display_data"
    },
    {
     "name": "stderr",
     "output_type": "stream",
     "text": [
      "/usr/local/lib/python3.10/dist-packages/transformers/generation/configuration_utils.py:633: UserWarning: `do_sample` is set to `False`. However, `top_p` is set to `0.9` -- this flag is only used in sample-based generation modes. You should set `do_sample=True` or unset `top_p`.\n",
      "  warnings.warn(\n"
     ]
    },
    {
     "data": {
      "application/vnd.jupyter.widget-view+json": {
       "model_id": "3c904335ca84456f89db54fe7303e73b",
       "version_major": 2,
       "version_minor": 0
      },
      "text/plain": [
       "Batches:   0%|          | 0/1 [00:00<?, ?it/s]"
      ]
     },
     "metadata": {},
     "output_type": "display_data"
    },
    {
     "data": {
      "application/vnd.jupyter.widget-view+json": {
       "model_id": "22a6ed8ef5b54238bf4a9b001d2b0baf",
       "version_major": 2,
       "version_minor": 0
      },
      "text/plain": [
       "Batches:   0%|          | 0/1 [00:00<?, ?it/s]"
      ]
     },
     "metadata": {},
     "output_type": "display_data"
    },
    {
     "name": "stdout",
     "output_type": "stream",
     "text": [
      "• Cosine Similarity: 0.6562\n",
      "• Perplexity: 26.63\n",
      "------------------------------------------------------------\n",
      "Query: How does the HER change with varying concentrations of the 2D nanomaterial?\n",
      "Generated Answer: ['Variation of HER activity in Co-based nanomaterials with crystal structure: Crystal structure affects electronic properties and the number of active sites, influencing HER. For example, if the crystal has a different crystal lattice, there is a higher chance that the active site will be different from the non-active site, and thus the HER will have a lower activity. In this case, the increased activity is due to the difference in the structure of the material. Edit: Formatting, clarity.']\n",
      "Evaluation Result: {'cosine_similarities': [0.6562142], 'perplexities': [26.6318359375], 'answers': [['Variation of HER activity in Co-based nanomaterials with crystal structure: Crystal structure affects electronic properties and the number of active sites, influencing HER. For example, if the crystal has a different crystal lattice, there is a higher chance that the active site will be different from the non-active site, and thus the HER will have a lower activity. In this case, the increased activity is due to the difference in the structure of the material. Edit: Formatting, clarity.']]}\n",
      "\n"
     ]
    },
    {
     "data": {
      "application/vnd.jupyter.widget-view+json": {
       "model_id": "3a1c8c0b0a6943e8b7d916d19e4f0b57",
       "version_major": 2,
       "version_minor": 0
      },
      "text/plain": [
       "Batches:   0%|          | 0/1 [00:00<?, ?it/s]"
      ]
     },
     "metadata": {},
     "output_type": "display_data"
    },
    {
     "data": {
      "application/vnd.jupyter.widget-view+json": {
       "model_id": "376eab913b8442609ea0e2aa88c41442",
       "version_major": 2,
       "version_minor": 0
      },
      "text/plain": [
       "Batches:   0%|          | 0/1 [00:00<?, ?it/s]"
      ]
     },
     "metadata": {},
     "output_type": "display_data"
    },
    {
     "data": {
      "application/vnd.jupyter.widget-view+json": {
       "model_id": "94a10a7e90db4f38a09b58ffdcb04f63",
       "version_major": 2,
       "version_minor": 0
      },
      "text/plain": [
       "Batches:   0%|          | 0/1 [00:00<?, ?it/s]"
      ]
     },
     "metadata": {},
     "output_type": "display_data"
    },
    {
     "name": "stdout",
     "output_type": "stream",
     "text": [
      "• Cosine Similarity: 0.0484\n",
      "• Perplexity: 2663.32\n",
      "------------------------------------------------------------\n",
      "Query: How does the HER vary with different sacrificial reagents (if used)?\n",
      "Generated Answer: Answer not found\n",
      "Evaluation Result: {'cosine_similarities': [0.04837412], 'perplexities': [2663.32470703125], 'answers': ['Answer not found']}\n",
      "\n"
     ]
    },
    {
     "data": {
      "application/vnd.jupyter.widget-view+json": {
       "model_id": "54a0b4cfb61f4c00ac674cf99ca53352",
       "version_major": 2,
       "version_minor": 0
      },
      "text/plain": [
       "Batches:   0%|          | 0/1 [00:00<?, ?it/s]"
      ]
     },
     "metadata": {},
     "output_type": "display_data"
    },
    {
     "name": "stderr",
     "output_type": "stream",
     "text": [
      "/usr/local/lib/python3.10/dist-packages/transformers/generation/configuration_utils.py:633: UserWarning: `do_sample` is set to `False`. However, `top_p` is set to `0.9` -- this flag is only used in sample-based generation modes. You should set `do_sample=True` or unset `top_p`.\n",
      "  warnings.warn(\n"
     ]
    },
    {
     "data": {
      "application/vnd.jupyter.widget-view+json": {
       "model_id": "0ce9ed96372d4b36bc5de5ed624f5e55",
       "version_major": 2,
       "version_minor": 0
      },
      "text/plain": [
       "Batches:   0%|          | 0/1 [00:00<?, ?it/s]"
      ]
     },
     "metadata": {},
     "output_type": "display_data"
    },
    {
     "data": {
      "application/vnd.jupyter.widget-view+json": {
       "model_id": "5abc69ae9b9a4e7a8b5258e9d6766011",
       "version_major": 2,
       "version_minor": 0
      },
      "text/plain": [
       "Batches:   0%|          | 0/1 [00:00<?, ?it/s]"
      ]
     },
     "metadata": {},
     "output_type": "display_data"
    },
    {
     "name": "stdout",
     "output_type": "stream",
     "text": [
      "• Cosine Similarity: 0.7081\n",
      "• Perplexity: 23.47\n",
      "------------------------------------------------------------\n",
      "Query: Is oxygen also being produced during the water splitting reaction?\n",
      "Generated Answer: ['The oxygen evolution reaction (OER) is a crucial step in water splitting because it is the half-reaction that produces oxygen gas. The OER requires the transfer of four electrons and the formation of a O-O bond. This makes the reaction kinetically slow and energetically demanding. It also requires a catalyst to proceed efficiently. There are a number of ways to reduce the overpotential required for this reaction, which can lead to increased hydrogen production and reduced costs. One of the most common ways is to use less efficient catalysts.']\n",
      "Evaluation Result: {'cosine_similarities': [0.7081063], 'perplexities': [23.47058868408203], 'answers': [['The oxygen evolution reaction (OER) is a crucial step in water splitting because it is the half-reaction that produces oxygen gas. The OER requires the transfer of four electrons and the formation of a O-O bond. This makes the reaction kinetically slow and energetically demanding. It also requires a catalyst to proceed efficiently. There are a number of ways to reduce the overpotential required for this reaction, which can lead to increased hydrogen production and reduced costs. One of the most common ways is to use less efficient catalysts.']]}\n",
      "\n"
     ]
    },
    {
     "data": {
      "application/vnd.jupyter.widget-view+json": {
       "model_id": "1b9f4c0b617e4779b4e5bad7b51fea9b",
       "version_major": 2,
       "version_minor": 0
      },
      "text/plain": [
       "Batches:   0%|          | 0/1 [00:00<?, ?it/s]"
      ]
     },
     "metadata": {},
     "output_type": "display_data"
    },
    {
     "name": "stderr",
     "output_type": "stream",
     "text": [
      "/usr/local/lib/python3.10/dist-packages/transformers/generation/configuration_utils.py:633: UserWarning: `do_sample` is set to `False`. However, `top_p` is set to `0.9` -- this flag is only used in sample-based generation modes. You should set `do_sample=True` or unset `top_p`.\n",
      "  warnings.warn(\n"
     ]
    },
    {
     "data": {
      "application/vnd.jupyter.widget-view+json": {
       "model_id": "aec61214ad314bc2a98d2844d6995ce3",
       "version_major": 2,
       "version_minor": 0
      },
      "text/plain": [
       "Batches:   0%|          | 0/1 [00:00<?, ?it/s]"
      ]
     },
     "metadata": {},
     "output_type": "display_data"
    },
    {
     "data": {
      "application/vnd.jupyter.widget-view+json": {
       "model_id": "b37267f73ab44d408eb3747c3ec283f7",
       "version_major": 2,
       "version_minor": 0
      },
      "text/plain": [
       "Batches:   0%|          | 0/1 [00:00<?, ?it/s]"
      ]
     },
     "metadata": {},
     "output_type": "display_data"
    },
    {
     "name": "stdout",
     "output_type": "stream",
     "text": [
      "• Cosine Similarity: 0.2773\n",
      "• Perplexity: 16.28\n",
      "------------------------------------------------------------\n",
      "Query: What is the ratio of hydrogen to oxygen produced?\n",
      "Generated Answer: ['The efficiency of solid oxide electrolyzers is generally around 85% under optimal conditions. This is due to the fact that the electrolyte is an ionic compound, which means that it has a non-polar charge. For example, sodium ions have a polar charge, while potassium ions do not. The efficiency is: 85.5% for Na+O2:O3:Na+OH:H2O:N2-O-OH-N3-H3O.']\n",
      "Evaluation Result: {'cosine_similarities': [0.27734777], 'perplexities': [16.276540756225586], 'answers': [['The efficiency of solid oxide electrolyzers is generally around 85% under optimal conditions. This is due to the fact that the electrolyte is an ionic compound, which means that it has a non-polar charge. For example, sodium ions have a polar charge, while potassium ions do not. The efficiency is: 85.5% for Na+O2:O3:Na+OH:H2O:N2-O-OH-N3-H3O.']]}\n",
      "\n"
     ]
    },
    {
     "data": {
      "application/vnd.jupyter.widget-view+json": {
       "model_id": "3c0106a10a634f90aafbbba99fdbd84b",
       "version_major": 2,
       "version_minor": 0
      },
      "text/plain": [
       "Batches:   0%|          | 0/1 [00:00<?, ?it/s]"
      ]
     },
     "metadata": {},
     "output_type": "display_data"
    },
    {
     "name": "stderr",
     "output_type": "stream",
     "text": [
      "/usr/local/lib/python3.10/dist-packages/transformers/generation/configuration_utils.py:633: UserWarning: `do_sample` is set to `False`. However, `top_p` is set to `0.9` -- this flag is only used in sample-based generation modes. You should set `do_sample=True` or unset `top_p`.\n",
      "  warnings.warn(\n"
     ]
    },
    {
     "data": {
      "application/vnd.jupyter.widget-view+json": {
       "model_id": "1f4a42d63bd74811a40301ad07c13504",
       "version_major": 2,
       "version_minor": 0
      },
      "text/plain": [
       "Batches:   0%|          | 0/1 [00:00<?, ?it/s]"
      ]
     },
     "metadata": {},
     "output_type": "display_data"
    },
    {
     "data": {
      "application/vnd.jupyter.widget-view+json": {
       "model_id": "6ecbd03b1cf34d67b1324fec75eeec05",
       "version_major": 2,
       "version_minor": 0
      },
      "text/plain": [
       "Batches:   0%|          | 0/1 [00:00<?, ?it/s]"
      ]
     },
     "metadata": {},
     "output_type": "display_data"
    },
    {
     "name": "stdout",
     "output_type": "stream",
     "text": [
      "• Cosine Similarity: 0.2877\n",
      "• Perplexity: 12.23\n",
      "------------------------------------------------------------\n",
      "Query: How does the HER change over time? Is there any photocorrosion observed?\n",
      "Generated Answer: ['After 40 hours, 25% of the photocatalyst\\'s activity will remain. This is because the half-life is 20 hours and the activity is halved every 20 hour. If you want to know more about this, you can read about it in the book \"Photocatalysis\" by Richard Feynman. It\\'s a very interesting book, and I highly recommend it to anyone who wants to learn about the physics behind it. The book is available for free online, too.']\n",
      "Evaluation Result: {'cosine_similarities': [0.28773364], 'perplexities': [12.226923942565918], 'answers': [['After 40 hours, 25% of the photocatalyst\\'s activity will remain. This is because the half-life is 20 hours and the activity is halved every 20 hour. If you want to know more about this, you can read about it in the book \"Photocatalysis\" by Richard Feynman. It\\'s a very interesting book, and I highly recommend it to anyone who wants to learn about the physics behind it. The book is available for free online, too.']]}\n",
      "\n"
     ]
    },
    {
     "data": {
      "application/vnd.jupyter.widget-view+json": {
       "model_id": "53c00a15e561415b8500d931364bd24f",
       "version_major": 2,
       "version_minor": 0
      },
      "text/plain": [
       "Batches:   0%|          | 0/1 [00:00<?, ?it/s]"
      ]
     },
     "metadata": {},
     "output_type": "display_data"
    },
    {
     "name": "stderr",
     "output_type": "stream",
     "text": [
      "/usr/local/lib/python3.10/dist-packages/transformers/generation/configuration_utils.py:633: UserWarning: `do_sample` is set to `False`. However, `top_p` is set to `0.9` -- this flag is only used in sample-based generation modes. You should set `do_sample=True` or unset `top_p`.\n",
      "  warnings.warn(\n"
     ]
    },
    {
     "data": {
      "application/vnd.jupyter.widget-view+json": {
       "model_id": "dfc3cee6126f401bae353469fbf2cd8e",
       "version_major": 2,
       "version_minor": 0
      },
      "text/plain": [
       "Batches:   0%|          | 0/1 [00:00<?, ?it/s]"
      ]
     },
     "metadata": {},
     "output_type": "display_data"
    },
    {
     "data": {
      "application/vnd.jupyter.widget-view+json": {
       "model_id": "8ad7a73df2f844d59adbeda5e316f7ef",
       "version_major": 2,
       "version_minor": 0
      },
      "text/plain": [
       "Batches:   0%|          | 0/1 [00:00<?, ?it/s]"
      ]
     },
     "metadata": {},
     "output_type": "display_data"
    },
    {
     "name": "stdout",
     "output_type": "stream",
     "text": [
      "• Cosine Similarity: 0.0604\n",
      "• Perplexity: 4.64\n",
      "------------------------------------------------------------\n",
      "Query: What is the electrolyte used for your electrochemical measurements?\n",
      "Generated Answer: ['The text does not provide the answer to this question. However, it does provide an explanation of why the question was asked in the first place. The question is: \"Why did you ask it?\" The answer is, \"Because I asked it. Because I wanted to. And because I didn\\'t want to.\" It\\'s like this: 1. 2. 3. 4. 5. 6. 7. 8. 9. 10. 11. 12. 13. 14. 15. 16.']\n",
      "Evaluation Result: {'cosine_similarities': [0.06036104], 'perplexities': [4.638648986816406], 'answers': [['The text does not provide the answer to this question. However, it does provide an explanation of why the question was asked in the first place. The question is: \"Why did you ask it?\" The answer is, \"Because I asked it. Because I wanted to. And because I didn\\'t want to.\" It\\'s like this: 1. 2. 3. 4. 5. 6. 7. 8. 9. 10. 11. 12. 13. 14. 15. 16.']]}\n",
      "\n"
     ]
    },
    {
     "data": {
      "application/vnd.jupyter.widget-view+json": {
       "model_id": "72d0cfb4d40d478388b89b333bb87844",
       "version_major": 2,
       "version_minor": 0
      },
      "text/plain": [
       "Batches:   0%|          | 0/1 [00:00<?, ?it/s]"
      ]
     },
     "metadata": {},
     "output_type": "display_data"
    },
    {
     "name": "stderr",
     "output_type": "stream",
     "text": [
      "/usr/local/lib/python3.10/dist-packages/transformers/generation/configuration_utils.py:633: UserWarning: `do_sample` is set to `False`. However, `top_p` is set to `0.9` -- this flag is only used in sample-based generation modes. You should set `do_sample=True` or unset `top_p`.\n",
      "  warnings.warn(\n"
     ]
    },
    {
     "data": {
      "application/vnd.jupyter.widget-view+json": {
       "model_id": "87e39e94646f49948439327a76532f53",
       "version_major": 2,
       "version_minor": 0
      },
      "text/plain": [
       "Batches:   0%|          | 0/1 [00:00<?, ?it/s]"
      ]
     },
     "metadata": {},
     "output_type": "display_data"
    },
    {
     "data": {
      "application/vnd.jupyter.widget-view+json": {
       "model_id": "3cccc86e26ed4061bb39425e79968ce4",
       "version_major": 2,
       "version_minor": 0
      },
      "text/plain": [
       "Batches:   0%|          | 0/1 [00:00<?, ?it/s]"
      ]
     },
     "metadata": {},
     "output_type": "display_data"
    },
    {
     "name": "stdout",
     "output_type": "stream",
     "text": [
      "• Cosine Similarity: 0.7177\n",
      "• Perplexity: 14.07\n",
      "------------------------------------------------------------\n",
      "Query: What is the pH of the electrolyte solution?\n",
      "Generated Answer: ['The pH of the electrolyte affects the concentration of hydrogen ions (protons) and influences the equilibrium potential for HER. For example, if the pH is 5.5, then the H2O concentration will be 1.6, and the proton-proton ratio is 2.0. If pH was 10, the protons would be 0.1, so the potential would have been 1/10,000, which is the same as the ideal pH. This is called the Nernst equation.']\n",
      "Evaluation Result: {'cosine_similarities': [0.7176786], 'perplexities': [14.066267013549805], 'answers': [['The pH of the electrolyte affects the concentration of hydrogen ions (protons) and influences the equilibrium potential for HER. For example, if the pH is 5.5, then the H2O concentration will be 1.6, and the proton-proton ratio is 2.0. If pH was 10, the protons would be 0.1, so the potential would have been 1/10,000, which is the same as the ideal pH. This is called the Nernst equation.']]}\n",
      "\n"
     ]
    },
    {
     "data": {
      "application/vnd.jupyter.widget-view+json": {
       "model_id": "96d942607f4444d99afe07c233e48cb6",
       "version_major": 2,
       "version_minor": 0
      },
      "text/plain": [
       "Batches:   0%|          | 0/1 [00:00<?, ?it/s]"
      ]
     },
     "metadata": {},
     "output_type": "display_data"
    },
    {
     "data": {
      "application/vnd.jupyter.widget-view+json": {
       "model_id": "32625daf22d04b0db4d6de1fa7559e66",
       "version_major": 2,
       "version_minor": 0
      },
      "text/plain": [
       "Batches:   0%|          | 0/1 [00:00<?, ?it/s]"
      ]
     },
     "metadata": {},
     "output_type": "display_data"
    },
    {
     "data": {
      "application/vnd.jupyter.widget-view+json": {
       "model_id": "b22aab35488e4b14a90bf70895503644",
       "version_major": 2,
       "version_minor": 0
      },
      "text/plain": [
       "Batches:   0%|          | 0/1 [00:00<?, ?it/s]"
      ]
     },
     "metadata": {},
     "output_type": "display_data"
    },
    {
     "name": "stdout",
     "output_type": "stream",
     "text": [
      "• Cosine Similarity: -0.0194\n",
      "• Perplexity: 2663.32\n",
      "------------------------------------------------------------\n",
      "Query: What are the reference and counter electrodes used in your setup?\n",
      "Generated Answer: Answer not found\n",
      "Evaluation Result: {'cosine_similarities': [-0.019421775], 'perplexities': [2663.32470703125], 'answers': ['Answer not found']}\n",
      "\n"
     ]
    },
    {
     "data": {
      "application/vnd.jupyter.widget-view+json": {
       "model_id": "5dd60c952ea04f0c9874c8155fdff340",
       "version_major": 2,
       "version_minor": 0
      },
      "text/plain": [
       "Batches:   0%|          | 0/1 [00:00<?, ?it/s]"
      ]
     },
     "metadata": {},
     "output_type": "display_data"
    },
    {
     "name": "stderr",
     "output_type": "stream",
     "text": [
      "/usr/local/lib/python3.10/dist-packages/transformers/generation/configuration_utils.py:633: UserWarning: `do_sample` is set to `False`. However, `top_p` is set to `0.9` -- this flag is only used in sample-based generation modes. You should set `do_sample=True` or unset `top_p`.\n",
      "  warnings.warn(\n"
     ]
    },
    {
     "data": {
      "application/vnd.jupyter.widget-view+json": {
       "model_id": "030f6e4d96ec4e5fa8386c19adb931e3",
       "version_major": 2,
       "version_minor": 0
      },
      "text/plain": [
       "Batches:   0%|          | 0/1 [00:00<?, ?it/s]"
      ]
     },
     "metadata": {},
     "output_type": "display_data"
    },
    {
     "data": {
      "application/vnd.jupyter.widget-view+json": {
       "model_id": "766f3912a31f4cb8907de5e0db814c70",
       "version_major": 2,
       "version_minor": 0
      },
      "text/plain": [
       "Batches:   0%|          | 0/1 [00:00<?, ?it/s]"
      ]
     },
     "metadata": {},
     "output_type": "display_data"
    },
    {
     "name": "stdout",
     "output_type": "stream",
     "text": [
      "• Cosine Similarity: 0.4603\n",
      "• Perplexity: 10.89\n",
      "------------------------------------------------------------\n",
      "Query: What is the overpotential required to achieve a specific current density (e.g., 10 mA/cm2) for both hydrogen evolution reaction (HER) and oxygen evolution reaction (OER)?\n",
      "Generated Answer: ['The OER is a thermodynamically uphill reaction, meaning that it requires a certain amount of energy to occur. This energy is often provided in the form of an overpotential, which is the additional voltage required beyond the thermodynamic equilibrium potential to drive the reaction. In order to reduce this voltage, you need to find a catalyst that is more stable than the one that catalyzes it. The problem is that there are a lot of different kinds of catalysts that can be used to catalyze the oxygen evolution reaction in different ways. For example, some of the most common ones are sodium hydroxide (NaOH) and sodium chloride (CaCl). These are both very stable, but they are also very reactive, so they will react with oxygen to form a different molecule. Another common type of catalyst is potassium nitrate (KCl), which reacts with water to create NaOH and NaCl. However, this is not as stable as the other two, and it is very expensive to produce.']\n",
      "Evaluation Result: {'cosine_similarities': [0.46034798], 'perplexities': [10.89473819732666], 'answers': [['The OER is a thermodynamically uphill reaction, meaning that it requires a certain amount of energy to occur. This energy is often provided in the form of an overpotential, which is the additional voltage required beyond the thermodynamic equilibrium potential to drive the reaction. In order to reduce this voltage, you need to find a catalyst that is more stable than the one that catalyzes it. The problem is that there are a lot of different kinds of catalysts that can be used to catalyze the oxygen evolution reaction in different ways. For example, some of the most common ones are sodium hydroxide (NaOH) and sodium chloride (CaCl). These are both very stable, but they are also very reactive, so they will react with oxygen to form a different molecule. Another common type of catalyst is potassium nitrate (KCl), which reacts with water to create NaOH and NaCl. However, this is not as stable as the other two, and it is very expensive to produce.']]}\n",
      "\n"
     ]
    },
    {
     "data": {
      "application/vnd.jupyter.widget-view+json": {
       "model_id": "3dc6f6628fe54eada15d32796e439d57",
       "version_major": 2,
       "version_minor": 0
      },
      "text/plain": [
       "Batches:   0%|          | 0/1 [00:00<?, ?it/s]"
      ]
     },
     "metadata": {},
     "output_type": "display_data"
    },
    {
     "name": "stderr",
     "output_type": "stream",
     "text": [
      "/usr/local/lib/python3.10/dist-packages/transformers/generation/configuration_utils.py:633: UserWarning: `do_sample` is set to `False`. However, `top_p` is set to `0.9` -- this flag is only used in sample-based generation modes. You should set `do_sample=True` or unset `top_p`.\n",
      "  warnings.warn(\n"
     ]
    },
    {
     "data": {
      "application/vnd.jupyter.widget-view+json": {
       "model_id": "81086b28b3c04684b81d0081b2b55091",
       "version_major": 2,
       "version_minor": 0
      },
      "text/plain": [
       "Batches:   0%|          | 0/1 [00:00<?, ?it/s]"
      ]
     },
     "metadata": {},
     "output_type": "display_data"
    },
    {
     "data": {
      "application/vnd.jupyter.widget-view+json": {
       "model_id": "90ce63807c79428b833056c26c9f13a0",
       "version_major": 2,
       "version_minor": 0
      },
      "text/plain": [
       "Batches:   0%|          | 0/1 [00:00<?, ?it/s]"
      ]
     },
     "metadata": {},
     "output_type": "display_data"
    },
    {
     "name": "stdout",
     "output_type": "stream",
     "text": [
      "• Cosine Similarity: 0.5388\n",
      "• Perplexity: 10.97\n",
      "------------------------------------------------------------\n",
      "Query: What is the Tafel slope for both HER and OER?\n",
      "Generated Answer: ['The Tafel slope is a measure of the change in overpotential required to achieve a tenfold increase in the current density of an electrochemical reaction. For example, if you have a reaction that splits water into H2O and H3O, and you want to increase the energy density by a factor of 10, then you need to add 10 times as much energy to the reaction to get the same amount of water splitting. This is called the TAFEL slope. You can find more information here.']\n",
      "Evaluation Result: {'cosine_similarities': [0.53880036], 'perplexities': [10.96998119354248], 'answers': [['The Tafel slope is a measure of the change in overpotential required to achieve a tenfold increase in the current density of an electrochemical reaction. For example, if you have a reaction that splits water into H2O and H3O, and you want to increase the energy density by a factor of 10, then you need to add 10 times as much energy to the reaction to get the same amount of water splitting. This is called the TAFEL slope. You can find more information here.']]}\n",
      "\n"
     ]
    },
    {
     "data": {
      "application/vnd.jupyter.widget-view+json": {
       "model_id": "146c5e1bfc4b4de8b241a2ef4abc60b6",
       "version_major": 2,
       "version_minor": 0
      },
      "text/plain": [
       "Batches:   0%|          | 0/1 [00:00<?, ?it/s]"
      ]
     },
     "metadata": {},
     "output_type": "display_data"
    },
    {
     "name": "stderr",
     "output_type": "stream",
     "text": [
      "/usr/local/lib/python3.10/dist-packages/transformers/generation/configuration_utils.py:633: UserWarning: `do_sample` is set to `False`. However, `top_p` is set to `0.9` -- this flag is only used in sample-based generation modes. You should set `do_sample=True` or unset `top_p`.\n",
      "  warnings.warn(\n"
     ]
    },
    {
     "data": {
      "application/vnd.jupyter.widget-view+json": {
       "model_id": "749d7665abb34ffb91072ce0c37bd245",
       "version_major": 2,
       "version_minor": 0
      },
      "text/plain": [
       "Batches:   0%|          | 0/1 [00:00<?, ?it/s]"
      ]
     },
     "metadata": {},
     "output_type": "display_data"
    },
    {
     "data": {
      "application/vnd.jupyter.widget-view+json": {
       "model_id": "1c1b8a64efc44e9d9d5b3974bb028daf",
       "version_major": 2,
       "version_minor": 0
      },
      "text/plain": [
       "Batches:   0%|          | 0/1 [00:00<?, ?it/s]"
      ]
     },
     "metadata": {},
     "output_type": "display_data"
    },
    {
     "name": "stdout",
     "output_type": "stream",
     "text": [
      "• Cosine Similarity: 0.5293\n",
      "• Perplexity: 15.02\n",
      "------------------------------------------------------------\n",
      "Query: How does the electrocatalytic activity change with varying loadings of the 2D nanomaterial on the electrode?\n",
      "Generated Answer: ['A higher edge-site density leads to greater electrocatalytic activity. This is because edge sites are more catalytically active because they are closer to the surface of the nanosheet, and therefore have a higher surface area to volume ratio. In order to achieve this, you need to increase the edge site density by a factor of 10. To estimate this you can use geometric calculations based on the shape and size. For example, here is a graph showing the density of surface-to-volume ratios.']\n",
      "Evaluation Result: {'cosine_similarities': [0.5293252], 'perplexities': [15.017194747924805], 'answers': [['A higher edge-site density leads to greater electrocatalytic activity. This is because edge sites are more catalytically active because they are closer to the surface of the nanosheet, and therefore have a higher surface area to volume ratio. In order to achieve this, you need to increase the edge site density by a factor of 10. To estimate this you can use geometric calculations based on the shape and size. For example, here is a graph showing the density of surface-to-volume ratios.']]}\n",
      "\n"
     ]
    },
    {
     "data": {
      "application/vnd.jupyter.widget-view+json": {
       "model_id": "277419df74994f3c8eecbb43ea35b73e",
       "version_major": 2,
       "version_minor": 0
      },
      "text/plain": [
       "Batches:   0%|          | 0/1 [00:00<?, ?it/s]"
      ]
     },
     "metadata": {},
     "output_type": "display_data"
    },
    {
     "name": "stderr",
     "output_type": "stream",
     "text": [
      "/usr/local/lib/python3.10/dist-packages/transformers/generation/configuration_utils.py:633: UserWarning: `do_sample` is set to `False`. However, `top_p` is set to `0.9` -- this flag is only used in sample-based generation modes. You should set `do_sample=True` or unset `top_p`.\n",
      "  warnings.warn(\n"
     ]
    },
    {
     "data": {
      "application/vnd.jupyter.widget-view+json": {
       "model_id": "d2853f345e804c279f391b444e8d1a84",
       "version_major": 2,
       "version_minor": 0
      },
      "text/plain": [
       "Batches:   0%|          | 0/1 [00:00<?, ?it/s]"
      ]
     },
     "metadata": {},
     "output_type": "display_data"
    },
    {
     "data": {
      "application/vnd.jupyter.widget-view+json": {
       "model_id": "62302831dde14cef8aedacf9e221addc",
       "version_major": 2,
       "version_minor": 0
      },
      "text/plain": [
       "Batches:   0%|          | 0/1 [00:00<?, ?it/s]"
      ]
     },
     "metadata": {},
     "output_type": "display_data"
    },
    {
     "name": "stdout",
     "output_type": "stream",
     "text": [
      "• Cosine Similarity: 0.5773\n",
      "• Perplexity: 12.51\n",
      "------------------------------------------------------------\n",
      "Query: How does the electrocatalytic activity vary with different electrode substrates?\n",
      "Generated Answer: ['Higher electrical conductivity is beneficial for electrocatalytic performance because it facilitates electron transfer. However, it is important to note that this is not always the case. For example, if you have a material that is conductive, but has a high electrical resistance, then it may not be very good at transferring electrons. This is calculated using the relationship between resistivity, thickness, and area. In this case, the resistance is: R^(2) where R is the resistive coefficient.']\n",
      "Evaluation Result: {'cosine_similarities': [0.57729673], 'perplexities': [12.51452922821045], 'answers': [['Higher electrical conductivity is beneficial for electrocatalytic performance because it facilitates electron transfer. However, it is important to note that this is not always the case. For example, if you have a material that is conductive, but has a high electrical resistance, then it may not be very good at transferring electrons. This is calculated using the relationship between resistivity, thickness, and area. In this case, the resistance is: R^(2) where R is the resistive coefficient.']]}\n",
      "\n"
     ]
    },
    {
     "data": {
      "application/vnd.jupyter.widget-view+json": {
       "model_id": "2aa77974fd3d4fbeb6a45a45948c5586",
       "version_major": 2,
       "version_minor": 0
      },
      "text/plain": [
       "Batches:   0%|          | 0/1 [00:00<?, ?it/s]"
      ]
     },
     "metadata": {},
     "output_type": "display_data"
    },
    {
     "name": "stderr",
     "output_type": "stream",
     "text": [
      "/usr/local/lib/python3.10/dist-packages/transformers/generation/configuration_utils.py:633: UserWarning: `do_sample` is set to `False`. However, `top_p` is set to `0.9` -- this flag is only used in sample-based generation modes. You should set `do_sample=True` or unset `top_p`.\n",
      "  warnings.warn(\n"
     ]
    },
    {
     "data": {
      "application/vnd.jupyter.widget-view+json": {
       "model_id": "6d6ece632ac140f5b63556288b0b0d12",
       "version_major": 2,
       "version_minor": 0
      },
      "text/plain": [
       "Batches:   0%|          | 0/1 [00:00<?, ?it/s]"
      ]
     },
     "metadata": {},
     "output_type": "display_data"
    },
    {
     "data": {
      "application/vnd.jupyter.widget-view+json": {
       "model_id": "f409614c6d864cd3a8fcd021e801cd5c",
       "version_major": 2,
       "version_minor": 0
      },
      "text/plain": [
       "Batches:   0%|          | 0/1 [00:00<?, ?it/s]"
      ]
     },
     "metadata": {},
     "output_type": "display_data"
    },
    {
     "name": "stdout",
     "output_type": "stream",
     "text": [
      "• Cosine Similarity: 0.7042\n",
      "• Perplexity: 24.75\n",
      "------------------------------------------------------------\n",
      "Query: How stable is the electrocatalytic activity over extended periods of electrolysis?\n",
      "Generated Answer: ['The stability and durability of electrocatalysts are of paramount importance in practical applications of electrolytic water splitting for several reasons:1. They prevent sudden failures or performance drops, which can disrupt critical processes and compromise safety. 2. Stable and durable catalysts ensure consistent performance over long-term operation, minimizing downtime and maintenance costs. 3. Cost-effectiveness: Replacing or repairing degraded catalytic devices can be expensive. 4. Environmental impact: Electrocatalyst degradation can release harmful substances into the environment.']\n",
      "Evaluation Result: {'cosine_similarities': [0.7042445], 'perplexities': [24.75143051147461], 'answers': [['The stability and durability of electrocatalysts are of paramount importance in practical applications of electrolytic water splitting for several reasons:1. They prevent sudden failures or performance drops, which can disrupt critical processes and compromise safety. 2. Stable and durable catalysts ensure consistent performance over long-term operation, minimizing downtime and maintenance costs. 3. Cost-effectiveness: Replacing or repairing degraded catalytic devices can be expensive. 4. Environmental impact: Electrocatalyst degradation can release harmful substances into the environment.']]}\n",
      "\n"
     ]
    },
    {
     "data": {
      "application/vnd.jupyter.widget-view+json": {
       "model_id": "9c9cf11230b94eb0b5ca93e154fc0c4a",
       "version_major": 2,
       "version_minor": 0
      },
      "text/plain": [
       "Batches:   0%|          | 0/1 [00:00<?, ?it/s]"
      ]
     },
     "metadata": {},
     "output_type": "display_data"
    },
    {
     "name": "stderr",
     "output_type": "stream",
     "text": [
      "/usr/local/lib/python3.10/dist-packages/transformers/generation/configuration_utils.py:633: UserWarning: `do_sample` is set to `False`. However, `top_p` is set to `0.9` -- this flag is only used in sample-based generation modes. You should set `do_sample=True` or unset `top_p`.\n",
      "  warnings.warn(\n"
     ]
    },
    {
     "data": {
      "application/vnd.jupyter.widget-view+json": {
       "model_id": "f06b48bccdac4bdaa0fbf8a44599d6bb",
       "version_major": 2,
       "version_minor": 0
      },
      "text/plain": [
       "Batches:   0%|          | 0/1 [00:00<?, ?it/s]"
      ]
     },
     "metadata": {},
     "output_type": "display_data"
    },
    {
     "data": {
      "application/vnd.jupyter.widget-view+json": {
       "model_id": "a8a227050ab34128a781eda83df90070",
       "version_major": 2,
       "version_minor": 0
      },
      "text/plain": [
       "Batches:   0%|          | 0/1 [00:00<?, ?it/s]"
      ]
     },
     "metadata": {},
     "output_type": "display_data"
    },
    {
     "name": "stdout",
     "output_type": "stream",
     "text": [
      "• Cosine Similarity: 0.6576\n",
      "• Perplexity: 35.14\n",
      "------------------------------------------------------------\n",
      "Query: Which specific sites on the 2D nanomaterial are responsible for catalytic activity?\n",
      "Generated Answer: ['The structure of 2D nanomaterials plays a crucial role in determining their catalytic activity, selectivity, and stability for hydrogen production reactions. For example, for the oxygen evolution reaction (OER), the high surface area and abundant edge sites can promote the adsorption and activation of reactants. The bandgap, work function and density of states can influence their electronic properties, such as the size of the band gap, the number of active sites per unit mass, etc. These factors can be introduced intentionally through chemical or physical treatments to enhance the catalytical activity.']\n",
      "Evaluation Result: {'cosine_similarities': [0.6575954], 'perplexities': [35.14303970336914], 'answers': [['The structure of 2D nanomaterials plays a crucial role in determining their catalytic activity, selectivity, and stability for hydrogen production reactions. For example, for the oxygen evolution reaction (OER), the high surface area and abundant edge sites can promote the adsorption and activation of reactants. The bandgap, work function and density of states can influence their electronic properties, such as the size of the band gap, the number of active sites per unit mass, etc. These factors can be introduced intentionally through chemical or physical treatments to enhance the catalytical activity.']]}\n",
      "\n"
     ]
    },
    {
     "data": {
      "application/vnd.jupyter.widget-view+json": {
       "model_id": "5defb3042e4f44429078b6619ed08822",
       "version_major": 2,
       "version_minor": 0
      },
      "text/plain": [
       "Batches:   0%|          | 0/1 [00:00<?, ?it/s]"
      ]
     },
     "metadata": {},
     "output_type": "display_data"
    },
    {
     "name": "stderr",
     "output_type": "stream",
     "text": [
      "/usr/local/lib/python3.10/dist-packages/transformers/generation/configuration_utils.py:633: UserWarning: `do_sample` is set to `False`. However, `top_p` is set to `0.9` -- this flag is only used in sample-based generation modes. You should set `do_sample=True` or unset `top_p`.\n",
      "  warnings.warn(\n"
     ]
    },
    {
     "data": {
      "application/vnd.jupyter.widget-view+json": {
       "model_id": "55adf4e2c13f4a1f9114821290673f0a",
       "version_major": 2,
       "version_minor": 0
      },
      "text/plain": [
       "Batches:   0%|          | 0/1 [00:00<?, ?it/s]"
      ]
     },
     "metadata": {},
     "output_type": "display_data"
    },
    {
     "data": {
      "application/vnd.jupyter.widget-view+json": {
       "model_id": "8fa88c2b0a20478bbb79767cc8657b72",
       "version_major": 2,
       "version_minor": 0
      },
      "text/plain": [
       "Batches:   0%|          | 0/1 [00:00<?, ?it/s]"
      ]
     },
     "metadata": {},
     "output_type": "display_data"
    },
    {
     "name": "stdout",
     "output_type": "stream",
     "text": [
      "• Cosine Similarity: 0.7691\n",
      "• Perplexity: 23.47\n",
      "------------------------------------------------------------\n",
      "Query: How do the electronic properties of the 2D material influence its catalytic activity?\n",
      "Generated Answer: ['There are a number of ways to modify the electronic properties of a 2D material for improved catalytic activity. Some of the most common methods include: Doping: This is the process of introducing impurities into a material in order to change its electrical properties. For example, doping graphene with nitrogen has been shown to improve its catalyst activity for the oxygen reduction reaction. This can have a significant impact on the conductivity, carrier concentration, and bandgap of graphene. In black phosphorus, the doping introduces nitrogen into the graphene lattice, which creates active sites for a variety of reactions. The oxygen-containing groups create an active site in the reaction that allows the hydrogen evolution reaction to take place.']\n",
      "Evaluation Result: {'cosine_similarities': [0.7691162], 'perplexities': [23.47293472290039], 'answers': [['There are a number of ways to modify the electronic properties of a 2D material for improved catalytic activity. Some of the most common methods include: Doping: This is the process of introducing impurities into a material in order to change its electrical properties. For example, doping graphene with nitrogen has been shown to improve its catalyst activity for the oxygen reduction reaction. This can have a significant impact on the conductivity, carrier concentration, and bandgap of graphene. In black phosphorus, the doping introduces nitrogen into the graphene lattice, which creates active sites for a variety of reactions. The oxygen-containing groups create an active site in the reaction that allows the hydrogen evolution reaction to take place.']]}\n",
      "\n"
     ]
    },
    {
     "data": {
      "application/vnd.jupyter.widget-view+json": {
       "model_id": "7ef6922474dc4785a3436fdbe3827a8c",
       "version_major": 2,
       "version_minor": 0
      },
      "text/plain": [
       "Batches:   0%|          | 0/1 [00:00<?, ?it/s]"
      ]
     },
     "metadata": {},
     "output_type": "display_data"
    },
    {
     "name": "stderr",
     "output_type": "stream",
     "text": [
      "/usr/local/lib/python3.10/dist-packages/transformers/generation/configuration_utils.py:633: UserWarning: `do_sample` is set to `False`. However, `top_p` is set to `0.9` -- this flag is only used in sample-based generation modes. You should set `do_sample=True` or unset `top_p`.\n",
      "  warnings.warn(\n"
     ]
    },
    {
     "data": {
      "application/vnd.jupyter.widget-view+json": {
       "model_id": "142f8a057969417ea667d44f8b7b6a86",
       "version_major": 2,
       "version_minor": 0
      },
      "text/plain": [
       "Batches:   0%|          | 0/1 [00:00<?, ?it/s]"
      ]
     },
     "metadata": {},
     "output_type": "display_data"
    },
    {
     "data": {
      "application/vnd.jupyter.widget-view+json": {
       "model_id": "d1df7aa1888f4125989c9d599374cb48",
       "version_major": 2,
       "version_minor": 0
      },
      "text/plain": [
       "Batches:   0%|          | 0/1 [00:00<?, ?it/s]"
      ]
     },
     "metadata": {},
     "output_type": "display_data"
    },
    {
     "name": "stdout",
     "output_type": "stream",
     "text": [
      "• Cosine Similarity: 0.5134\n",
      "• Perplexity: 21.66\n",
      "------------------------------------------------------------\n",
      "Query: How does the surface chemistry (e.g., hydrophilicity) of the material affect its performance?\n",
      "Generated Answer: ['The surface chemistry of 2D materials plays a crucial role in their interaction with water molecules during splitting: Surface charge: The surface charge of the material can affect the electrostatic interactions between the water molecule and the surface. Positively charged surfaces tend to attract negatively charged oxygen atoms in water, while negatively-charged surfaces attract positively charged hydrogen atoms. Surface roughness and defects: These can create active sites for the formation of hydrogen bonds, enhancing their adsorption and activation. The presence of functional groups such as hydroxyl (-OH), carboxyl(-COOH), or amino (-NH2) groups, on the surfaces of materials can influence their ability to form hydrophilic (water-wetting) bonds. This can increase the efficiency of water splitting reactions and enhance their wettability.']\n",
      "Evaluation Result: {'cosine_similarities': [0.51337254], 'perplexities': [21.656661987304688], 'answers': [['The surface chemistry of 2D materials plays a crucial role in their interaction with water molecules during splitting: Surface charge: The surface charge of the material can affect the electrostatic interactions between the water molecule and the surface. Positively charged surfaces tend to attract negatively charged oxygen atoms in water, while negatively-charged surfaces attract positively charged hydrogen atoms. Surface roughness and defects: These can create active sites for the formation of hydrogen bonds, enhancing their adsorption and activation. The presence of functional groups such as hydroxyl (-OH), carboxyl(-COOH), or amino (-NH2) groups, on the surfaces of materials can influence their ability to form hydrophilic (water-wetting) bonds. This can increase the efficiency of water splitting reactions and enhance their wettability.']]}\n",
      "\n"
     ]
    },
    {
     "data": {
      "application/vnd.jupyter.widget-view+json": {
       "model_id": "e0af62e863c54bc8b379654a9e6ee167",
       "version_major": 2,
       "version_minor": 0
      },
      "text/plain": [
       "Batches:   0%|          | 0/1 [00:00<?, ?it/s]"
      ]
     },
     "metadata": {},
     "output_type": "display_data"
    },
    {
     "name": "stderr",
     "output_type": "stream",
     "text": [
      "/usr/local/lib/python3.10/dist-packages/transformers/generation/configuration_utils.py:633: UserWarning: `do_sample` is set to `False`. However, `top_p` is set to `0.9` -- this flag is only used in sample-based generation modes. You should set `do_sample=True` or unset `top_p`.\n",
      "  warnings.warn(\n"
     ]
    },
    {
     "data": {
      "application/vnd.jupyter.widget-view+json": {
       "model_id": "b1b2e085be8b490b9344ef479a857779",
       "version_major": 2,
       "version_minor": 0
      },
      "text/plain": [
       "Batches:   0%|          | 0/1 [00:00<?, ?it/s]"
      ]
     },
     "metadata": {},
     "output_type": "display_data"
    },
    {
     "data": {
      "application/vnd.jupyter.widget-view+json": {
       "model_id": "55eb977e05194553a99a55b42185882a",
       "version_major": 2,
       "version_minor": 0
      },
      "text/plain": [
       "Batches:   0%|          | 0/1 [00:00<?, ?it/s]"
      ]
     },
     "metadata": {},
     "output_type": "display_data"
    },
    {
     "name": "stdout",
     "output_type": "stream",
     "text": [
      "• Cosine Similarity: 0.5986\n",
      "• Perplexity: 29.35\n",
      "------------------------------------------------------------\n",
      "Query: How does the interaction between the 2D nanomaterial and the electrolyte affect the reaction kinetics?\n",
      "Generated Answer: [\"The electrochemical potential of the nanocomposite catalyst and the electrolyte determines the driving force for charge transfer and reaction kinetics. The overpotential required for water splitting is influenced by the amount of active sites, surface defects, and functional groups that enhance the adsorption and activation of water molecules. Electrolyte Composition: The composition and ionic strength (i.e. the concentration of specific ions or additives) can significantly affect the catalyst's ability to catalyze the reaction.\"]\n",
      "Evaluation Result: {'cosine_similarities': [0.59859633], 'perplexities': [29.35407829284668], 'answers': [[\"The electrochemical potential of the nanocomposite catalyst and the electrolyte determines the driving force for charge transfer and reaction kinetics. The overpotential required for water splitting is influenced by the amount of active sites, surface defects, and functional groups that enhance the adsorption and activation of water molecules. Electrolyte Composition: The composition and ionic strength (i.e. the concentration of specific ions or additives) can significantly affect the catalyst's ability to catalyze the reaction.\"]]}\n",
      "\n"
     ]
    },
    {
     "data": {
      "application/vnd.jupyter.widget-view+json": {
       "model_id": "83773d75787a40498a4a62ac9bc57c02",
       "version_major": 2,
       "version_minor": 0
      },
      "text/plain": [
       "Batches:   0%|          | 0/1 [00:00<?, ?it/s]"
      ]
     },
     "metadata": {},
     "output_type": "display_data"
    },
    {
     "name": "stderr",
     "output_type": "stream",
     "text": [
      "/usr/local/lib/python3.10/dist-packages/transformers/generation/configuration_utils.py:633: UserWarning: `do_sample` is set to `False`. However, `top_p` is set to `0.9` -- this flag is only used in sample-based generation modes. You should set `do_sample=True` or unset `top_p`.\n",
      "  warnings.warn(\n"
     ]
    },
    {
     "data": {
      "application/vnd.jupyter.widget-view+json": {
       "model_id": "c150b5a3250e43c7849792787c3a7b82",
       "version_major": 2,
       "version_minor": 0
      },
      "text/plain": [
       "Batches:   0%|          | 0/1 [00:00<?, ?it/s]"
      ]
     },
     "metadata": {},
     "output_type": "display_data"
    },
    {
     "data": {
      "application/vnd.jupyter.widget-view+json": {
       "model_id": "7d183c21a3a64f0b9b5f15d439ed7d4c",
       "version_major": 2,
       "version_minor": 0
      },
      "text/plain": [
       "Batches:   0%|          | 0/1 [00:00<?, ?it/s]"
      ]
     },
     "metadata": {},
     "output_type": "display_data"
    },
    {
     "name": "stdout",
     "output_type": "stream",
     "text": [
      "• Cosine Similarity: 0.5935\n",
      "• Perplexity: 13.57\n",
      "------------------------------------------------------------\n",
      "Query: Can you identify any reaction intermediates formed during the water splitting process?\n",
      "Generated Answer: [\"Catalysts play a crucial role in water splitting by reducing the activation energy required for the reaction to occur. Water splitting is a thermodynamically uphill reaction, meaning that it requires an input of energy to proceed. In order to do this, you need to lower the energy barrier, which is the temperature at which the reactants are able to interact with each other. If you don't have a catalyst, then you can't do that, so you have to find a way to make the reactions more efficient.\"]\n",
      "Evaluation Result: {'cosine_similarities': [0.5934788], 'perplexities': [13.56789493560791], 'answers': [[\"Catalysts play a crucial role in water splitting by reducing the activation energy required for the reaction to occur. Water splitting is a thermodynamically uphill reaction, meaning that it requires an input of energy to proceed. In order to do this, you need to lower the energy barrier, which is the temperature at which the reactants are able to interact with each other. If you don't have a catalyst, then you can't do that, so you have to find a way to make the reactions more efficient.\"]]}\n",
      "\n"
     ]
    },
    {
     "data": {
      "application/vnd.jupyter.widget-view+json": {
       "model_id": "69c0a9cef00c429bb8bb6bb0c35d691f",
       "version_major": 2,
       "version_minor": 0
      },
      "text/plain": [
       "Batches:   0%|          | 0/1 [00:00<?, ?it/s]"
      ]
     },
     "metadata": {},
     "output_type": "display_data"
    },
    {
     "name": "stderr",
     "output_type": "stream",
     "text": [
      "/usr/local/lib/python3.10/dist-packages/transformers/generation/configuration_utils.py:633: UserWarning: `do_sample` is set to `False`. However, `top_p` is set to `0.9` -- this flag is only used in sample-based generation modes. You should set `do_sample=True` or unset `top_p`.\n",
      "  warnings.warn(\n"
     ]
    },
    {
     "data": {
      "application/vnd.jupyter.widget-view+json": {
       "model_id": "71f40f514b034170baf65151f4ca62ec",
       "version_major": 2,
       "version_minor": 0
      },
      "text/plain": [
       "Batches:   0%|          | 0/1 [00:00<?, ?it/s]"
      ]
     },
     "metadata": {},
     "output_type": "display_data"
    },
    {
     "data": {
      "application/vnd.jupyter.widget-view+json": {
       "model_id": "0067e9fcb0184d5c92793c482dfb5ab4",
       "version_major": 2,
       "version_minor": 0
      },
      "text/plain": [
       "Batches:   0%|          | 0/1 [00:00<?, ?it/s]"
      ]
     },
     "metadata": {},
     "output_type": "display_data"
    },
    {
     "name": "stdout",
     "output_type": "stream",
     "text": [
      "• Cosine Similarity: 0.5751\n",
      "• Perplexity: 23.11\n",
      "------------------------------------------------------------\n",
      "Query: What are the optimal conditions (e.g., pH, temperature, light intensity) for hydrogen generation?\n",
      "Generated Answer: ['The optimal pH for hydrogen production using a RuO catalyst in a water splitting system is around 0\\x961 (strongly acidic conditions). This is the pH that is required for the reaction to occur in the first place. The pH is determined by the ratio of the H2O to the O2. This ratio depends on the reactivity of water and the catalyst. Here is a table showing the ideal pH. Edit: I forgot to mention that it is pH 1.5.6.']\n",
      "Evaluation Result: {'cosine_similarities': [0.57509387], 'perplexities': [23.111989974975586], 'answers': [['The optimal pH for hydrogen production using a RuO catalyst in a water splitting system is around 0\\x961 (strongly acidic conditions). This is the pH that is required for the reaction to occur in the first place. The pH is determined by the ratio of the H2O to the O2. This ratio depends on the reactivity of water and the catalyst. Here is a table showing the ideal pH. Edit: I forgot to mention that it is pH 1.5.6.']]}\n",
      "\n"
     ]
    },
    {
     "data": {
      "application/vnd.jupyter.widget-view+json": {
       "model_id": "1b2540bdec0f4e41951ae540e9c387f3",
       "version_major": 2,
       "version_minor": 0
      },
      "text/plain": [
       "Batches:   0%|          | 0/1 [00:00<?, ?it/s]"
      ]
     },
     "metadata": {},
     "output_type": "display_data"
    },
    {
     "name": "stderr",
     "output_type": "stream",
     "text": [
      "/usr/local/lib/python3.10/dist-packages/transformers/generation/configuration_utils.py:633: UserWarning: `do_sample` is set to `False`. However, `top_p` is set to `0.9` -- this flag is only used in sample-based generation modes. You should set `do_sample=True` or unset `top_p`.\n",
      "  warnings.warn(\n"
     ]
    },
    {
     "data": {
      "application/vnd.jupyter.widget-view+json": {
       "model_id": "d1bfde594aae483e826da94ae68e0512",
       "version_major": 2,
       "version_minor": 0
      },
      "text/plain": [
       "Batches:   0%|          | 0/1 [00:00<?, ?it/s]"
      ]
     },
     "metadata": {},
     "output_type": "display_data"
    },
    {
     "data": {
      "application/vnd.jupyter.widget-view+json": {
       "model_id": "cfee0e5ec3744c1cad03b4fc0e6c88a5",
       "version_major": 2,
       "version_minor": 0
      },
      "text/plain": [
       "Batches:   0%|          | 0/1 [00:00<?, ?it/s]"
      ]
     },
     "metadata": {},
     "output_type": "display_data"
    },
    {
     "name": "stdout",
     "output_type": "stream",
     "text": [
      "• Cosine Similarity: 0.7389\n",
      "• Perplexity: 33.24\n",
      "------------------------------------------------------------\n",
      "Query: Does creating heterostructures with other materials enhance the water splitting performance?\n",
      "Generated Answer: ['Heterostructures, which are interfaces between two or more different materials, play a crucial role in enhancing water splitting performance due to several key factors: Tailored band alignment: This allows for the engineering of band alignments at the interface, optimizing the flow of charge carriers and reducing recombination losses. For example, combining a wide bandgap semiconductor with a narrow-bandgap silicon can extend the light absorption range and enhance the overall photocatalytic activity. This can increase the surface area available for catalytic reactions, resulting in higher hydrogen production rates.']\n",
      "Evaluation Result: {'cosine_similarities': [0.73885834], 'perplexities': [33.24018859863281], 'answers': [['Heterostructures, which are interfaces between two or more different materials, play a crucial role in enhancing water splitting performance due to several key factors: Tailored band alignment: This allows for the engineering of band alignments at the interface, optimizing the flow of charge carriers and reducing recombination losses. For example, combining a wide bandgap semiconductor with a narrow-bandgap silicon can extend the light absorption range and enhance the overall photocatalytic activity. This can increase the surface area available for catalytic reactions, resulting in higher hydrogen production rates.']]}\n",
      "\n"
     ]
    },
    {
     "data": {
      "application/vnd.jupyter.widget-view+json": {
       "model_id": "2ead41b7f36a4be88d9242be8697b01f",
       "version_major": 2,
       "version_minor": 0
      },
      "text/plain": [
       "Batches:   0%|          | 0/1 [00:00<?, ?it/s]"
      ]
     },
     "metadata": {},
     "output_type": "display_data"
    },
    {
     "name": "stderr",
     "output_type": "stream",
     "text": [
      "/usr/local/lib/python3.10/dist-packages/transformers/generation/configuration_utils.py:633: UserWarning: `do_sample` is set to `False`. However, `top_p` is set to `0.9` -- this flag is only used in sample-based generation modes. You should set `do_sample=True` or unset `top_p`.\n",
      "  warnings.warn(\n"
     ]
    },
    {
     "data": {
      "application/vnd.jupyter.widget-view+json": {
       "model_id": "97436826bd2742cc94f4bda674ca9147",
       "version_major": 2,
       "version_minor": 0
      },
      "text/plain": [
       "Batches:   0%|          | 0/1 [00:00<?, ?it/s]"
      ]
     },
     "metadata": {},
     "output_type": "display_data"
    },
    {
     "data": {
      "application/vnd.jupyter.widget-view+json": {
       "model_id": "f8eeea4c3ea54df3a3cc69e174ce56b8",
       "version_major": 2,
       "version_minor": 0
      },
      "text/plain": [
       "Batches:   0%|          | 0/1 [00:00<?, ?it/s]"
      ]
     },
     "metadata": {},
     "output_type": "display_data"
    },
    {
     "name": "stdout",
     "output_type": "stream",
     "text": [
      "• Cosine Similarity: 0.5247\n",
      "• Perplexity: 10.50\n",
      "------------------------------------------------------------\n",
      "Query: How does the morphology control of 2D nanomaterials (nanosheets, nanoflowers, etc.) affect the HER?\n",
      "Generated Answer: ['The synthesis method significantly influences the properties of 2D nanomaterials, including their structure, morphology, size, crystallinity, and electronic properties. Here\\'s how different synthesis methods can affect these properties: **Exfoliation**: This is the most common form of synthesis, but it\\'s not the only one. It can be done in a variety of ways, depending on the type of material used, the temperature of the reaction, etc. **Chemical vapor deposition** (CVD) is a common method used to produce materials with specific shapes, patterns, or orientations. You can use CVD to create materials that have specific properties, such as high surface area, low melting point, high electronic and optical properties (e.g. high electrical conductivity). **Hydrothermal/solvothermal synthesis** is another popular method. This method uses a process known as hydrothermodynamics, which involves heating water to a specific temperature and pressure. The reaction conditions are controlled by temperature, solvent concentration and precursor concentration, so you can control the size and shape of your material, as well as the crystal structure.** **Molecular beam epitaxy (MBE)** This technique uses an electron beam to grow a material that has a particular shape, pattern or orientation. In this case, you use a beam of electrons to make the material. When the beam passes through a substrate, it interacts with the atoms in the substrate and causes them to rearrange themselves into the desired shape or shape. These rearrangements are called \"self-assembly\" and are the basis of many nanotechnology applications.']\n",
      "Evaluation Result: {'cosine_similarities': [0.52470064], 'perplexities': [10.495984077453613], 'answers': [['The synthesis method significantly influences the properties of 2D nanomaterials, including their structure, morphology, size, crystallinity, and electronic properties. Here\\'s how different synthesis methods can affect these properties: **Exfoliation**: This is the most common form of synthesis, but it\\'s not the only one. It can be done in a variety of ways, depending on the type of material used, the temperature of the reaction, etc. **Chemical vapor deposition** (CVD) is a common method used to produce materials with specific shapes, patterns, or orientations. You can use CVD to create materials that have specific properties, such as high surface area, low melting point, high electronic and optical properties (e.g. high electrical conductivity). **Hydrothermal/solvothermal synthesis** is another popular method. This method uses a process known as hydrothermodynamics, which involves heating water to a specific temperature and pressure. The reaction conditions are controlled by temperature, solvent concentration and precursor concentration, so you can control the size and shape of your material, as well as the crystal structure.** **Molecular beam epitaxy (MBE)** This technique uses an electron beam to grow a material that has a particular shape, pattern or orientation. In this case, you use a beam of electrons to make the material. When the beam passes through a substrate, it interacts with the atoms in the substrate and causes them to rearrange themselves into the desired shape or shape. These rearrangements are called \"self-assembly\" and are the basis of many nanotechnology applications.']]}\n",
      "\n"
     ]
    },
    {
     "data": {
      "application/vnd.jupyter.widget-view+json": {
       "model_id": "712f37381f4447ff9dc8074784522148",
       "version_major": 2,
       "version_minor": 0
      },
      "text/plain": [
       "Batches:   0%|          | 0/1 [00:00<?, ?it/s]"
      ]
     },
     "metadata": {},
     "output_type": "display_data"
    },
    {
     "name": "stderr",
     "output_type": "stream",
     "text": [
      "/usr/local/lib/python3.10/dist-packages/transformers/generation/configuration_utils.py:633: UserWarning: `do_sample` is set to `False`. However, `top_p` is set to `0.9` -- this flag is only used in sample-based generation modes. You should set `do_sample=True` or unset `top_p`.\n",
      "  warnings.warn(\n"
     ]
    },
    {
     "data": {
      "application/vnd.jupyter.widget-view+json": {
       "model_id": "babe236ffb7f4f55bb2ffa0ac5ea59f8",
       "version_major": 2,
       "version_minor": 0
      },
      "text/plain": [
       "Batches:   0%|          | 0/1 [00:00<?, ?it/s]"
      ]
     },
     "metadata": {},
     "output_type": "display_data"
    },
    {
     "data": {
      "application/vnd.jupyter.widget-view+json": {
       "model_id": "20a1077acf274cb29596cf029a0a9428",
       "version_major": 2,
       "version_minor": 0
      },
      "text/plain": [
       "Batches:   0%|          | 0/1 [00:00<?, ?it/s]"
      ]
     },
     "metadata": {},
     "output_type": "display_data"
    },
    {
     "name": "stdout",
     "output_type": "stream",
     "text": [
      "• Cosine Similarity: 0.5776\n",
      "• Perplexity: 12.27\n",
      "------------------------------------------------------------\n",
      "Query: Can you improve the charge carrier separation and transport in the 2D material?\n",
      "Generated Answer: ['Charge Carrier Separation and Transport in 2D Nanomaterials for Efficient Water SplittingWater splitting, the process of converting water into hydrogen and oxygen, is a promising approach for clean and sustainable energy production. In order to do this, you need to separate the electrons from the holes in the semiconductor. This is called electron-hole recombination, and it can occur in a variety of ways. One of the ways to prevent this is to use a material that has a very low bandgap, which means that electrons can pass through the material without being absorbed. The other way to avoid this problem is by using an electronic structure such as graphene or transition metal dichalcogenides (TMDs), which have very high bandgaps and allow electrons to pass freely through them.']\n",
      "Evaluation Result: {'cosine_similarities': [0.57761514], 'perplexities': [12.268564224243164], 'answers': [['Charge Carrier Separation and Transport in 2D Nanomaterials for Efficient Water SplittingWater splitting, the process of converting water into hydrogen and oxygen, is a promising approach for clean and sustainable energy production. In order to do this, you need to separate the electrons from the holes in the semiconductor. This is called electron-hole recombination, and it can occur in a variety of ways. One of the ways to prevent this is to use a material that has a very low bandgap, which means that electrons can pass through the material without being absorbed. The other way to avoid this problem is by using an electronic structure such as graphene or transition metal dichalcogenides (TMDs), which have very high bandgaps and allow electrons to pass freely through them.']]}\n",
      "\n"
     ]
    },
    {
     "data": {
      "application/vnd.jupyter.widget-view+json": {
       "model_id": "3197773574114e2ca0d05f1c8a8b6025",
       "version_major": 2,
       "version_minor": 0
      },
      "text/plain": [
       "Batches:   0%|          | 0/1 [00:00<?, ?it/s]"
      ]
     },
     "metadata": {},
     "output_type": "display_data"
    },
    {
     "name": "stderr",
     "output_type": "stream",
     "text": [
      "/usr/local/lib/python3.10/dist-packages/transformers/generation/configuration_utils.py:633: UserWarning: `do_sample` is set to `False`. However, `top_p` is set to `0.9` -- this flag is only used in sample-based generation modes. You should set `do_sample=True` or unset `top_p`.\n",
      "  warnings.warn(\n"
     ]
    },
    {
     "data": {
      "application/vnd.jupyter.widget-view+json": {
       "model_id": "f8b92eff5ded46ff861776b547a8b906",
       "version_major": 2,
       "version_minor": 0
      },
      "text/plain": [
       "Batches:   0%|          | 0/1 [00:00<?, ?it/s]"
      ]
     },
     "metadata": {},
     "output_type": "display_data"
    },
    {
     "data": {
      "application/vnd.jupyter.widget-view+json": {
       "model_id": "1e210c5927b7424d8dc2b1bde46d6f68",
       "version_major": 2,
       "version_minor": 0
      },
      "text/plain": [
       "Batches:   0%|          | 0/1 [00:00<?, ?it/s]"
      ]
     },
     "metadata": {},
     "output_type": "display_data"
    },
    {
     "name": "stdout",
     "output_type": "stream",
     "text": [
      "• Cosine Similarity: 0.5463\n",
      "• Perplexity: 9.30\n",
      "------------------------------------------------------------\n",
      "Query: How can you increase the active surface area of the 2D nanomaterial?\n",
      "Generated Answer: ['By increasing the number of atoms on the surface2. By making the atoms smaller or larger, or by making them more or less electronegative. This can be done in a variety of ways. For example, if you increase the size of an atom, you can make the atom have more electrons, and vice versa. You can do this by: 1. Making atoms bigger or smaller. 2. Adding electrons. 3. Adhering to other atoms. 4. Changing the shape.']\n",
      "Evaluation Result: {'cosine_similarities': [0.54627335], 'perplexities': [9.295315742492676], 'answers': [['By increasing the number of atoms on the surface2. By making the atoms smaller or larger, or by making them more or less electronegative. This can be done in a variety of ways. For example, if you increase the size of an atom, you can make the atom have more electrons, and vice versa. You can do this by: 1. Making atoms bigger or smaller. 2. Adding electrons. 3. Adhering to other atoms. 4. Changing the shape.']]}\n",
      "\n"
     ]
    },
    {
     "data": {
      "application/vnd.jupyter.widget-view+json": {
       "model_id": "974676c3cc0f4ed6bd4b259fbc087ab9",
       "version_major": 2,
       "version_minor": 0
      },
      "text/plain": [
       "Batches:   0%|          | 0/1 [00:00<?, ?it/s]"
      ]
     },
     "metadata": {},
     "output_type": "display_data"
    },
    {
     "name": "stderr",
     "output_type": "stream",
     "text": [
      "/usr/local/lib/python3.10/dist-packages/transformers/generation/configuration_utils.py:633: UserWarning: `do_sample` is set to `False`. However, `top_p` is set to `0.9` -- this flag is only used in sample-based generation modes. You should set `do_sample=True` or unset `top_p`.\n",
      "  warnings.warn(\n"
     ]
    },
    {
     "data": {
      "application/vnd.jupyter.widget-view+json": {
       "model_id": "6341c2bd383b483096fba27b0dfa091e",
       "version_major": 2,
       "version_minor": 0
      },
      "text/plain": [
       "Batches:   0%|          | 0/1 [00:00<?, ?it/s]"
      ]
     },
     "metadata": {},
     "output_type": "display_data"
    },
    {
     "data": {
      "application/vnd.jupyter.widget-view+json": {
       "model_id": "4029ced09fe44aafaed94b87eccacca9",
       "version_major": 2,
       "version_minor": 0
      },
      "text/plain": [
       "Batches:   0%|          | 0/1 [00:00<?, ?it/s]"
      ]
     },
     "metadata": {},
     "output_type": "display_data"
    },
    {
     "name": "stdout",
     "output_type": "stream",
     "text": [
      "• Cosine Similarity: 0.3066\n",
      "• Perplexity: 6.16\n",
      "------------------------------------------------------------\n",
      "Query: What is the long-term stability of your 2D nanomaterial under operating conditions?\n",
      "Generated Answer: [\"I'm not sure if this is what you're looking for, but I'll give it a shot. First of all, you need to understand what a nanometer is. It's a measure of how many atoms are in a molecule, and how much energy it takes to move them from one place to another. So, let's say you have a bunch of atoms in the middle of a piece of paper. If you want to know how long it will take for the paper to break down into smaller and smaller pieces, then you can look at the size of the pieces. Now, if you take that paper and put it in water, it's going to be a lot smaller than it was when you took it out of water. This is because water is a very good conductor of energy, so it can move things around very quickly. The bigger the piece, the faster the water will move around, which means that the more energy you put into the thing the less likely it is for it to get broken down. You can use this to figure out how fast the molecules are moving around. For example, imagine you've got two pieces of metal, one of which is made up of two carbon atoms. One carbon atom has a half-life of about 10 seconds, while the other one has half a life of 10 minutes. When you split the metal up into two halves, each half will have half the energy that it had when it first came in. Since the half life is so short, we can calculate how quickly the atoms will be able to go back and forth between the halves. We can then use that information to calculate the total energy required to make the same amount of material twice as long as the first time.\"]\n",
      "Evaluation Result: {'cosine_similarities': [0.30656368], 'perplexities': [6.162426471710205], 'answers': [[\"I'm not sure if this is what you're looking for, but I'll give it a shot. First of all, you need to understand what a nanometer is. It's a measure of how many atoms are in a molecule, and how much energy it takes to move them from one place to another. So, let's say you have a bunch of atoms in the middle of a piece of paper. If you want to know how long it will take for the paper to break down into smaller and smaller pieces, then you can look at the size of the pieces. Now, if you take that paper and put it in water, it's going to be a lot smaller than it was when you took it out of water. This is because water is a very good conductor of energy, so it can move things around very quickly. The bigger the piece, the faster the water will move around, which means that the more energy you put into the thing the less likely it is for it to get broken down. You can use this to figure out how fast the molecules are moving around. For example, imagine you've got two pieces of metal, one of which is made up of two carbon atoms. One carbon atom has a half-life of about 10 seconds, while the other one has half a life of 10 minutes. When you split the metal up into two halves, each half will have half the energy that it had when it first came in. Since the half life is so short, we can calculate how quickly the atoms will be able to go back and forth between the halves. We can then use that information to calculate the total energy required to make the same amount of material twice as long as the first time.\"]]}\n",
      "\n"
     ]
    },
    {
     "data": {
      "application/vnd.jupyter.widget-view+json": {
       "model_id": "79b208d8e44f415d825d7ea8680fae68",
       "version_major": 2,
       "version_minor": 0
      },
      "text/plain": [
       "Batches:   0%|          | 0/1 [00:00<?, ?it/s]"
      ]
     },
     "metadata": {},
     "output_type": "display_data"
    },
    {
     "name": "stderr",
     "output_type": "stream",
     "text": [
      "/usr/local/lib/python3.10/dist-packages/transformers/generation/configuration_utils.py:633: UserWarning: `do_sample` is set to `False`. However, `top_p` is set to `0.9` -- this flag is only used in sample-based generation modes. You should set `do_sample=True` or unset `top_p`.\n",
      "  warnings.warn(\n"
     ]
    },
    {
     "data": {
      "application/vnd.jupyter.widget-view+json": {
       "model_id": "60c044022beb4c38bc845a6fa017b4d4",
       "version_major": 2,
       "version_minor": 0
      },
      "text/plain": [
       "Batches:   0%|          | 0/1 [00:00<?, ?it/s]"
      ]
     },
     "metadata": {},
     "output_type": "display_data"
    },
    {
     "data": {
      "application/vnd.jupyter.widget-view+json": {
       "model_id": "32c37f5cb4884eafb3da20bfcbaf6225",
       "version_major": 2,
       "version_minor": 0
      },
      "text/plain": [
       "Batches:   0%|          | 0/1 [00:00<?, ?it/s]"
      ]
     },
     "metadata": {},
     "output_type": "display_data"
    },
    {
     "name": "stdout",
     "output_type": "stream",
     "text": [
      "• Cosine Similarity: 0.4845\n",
      "• Perplexity: 16.09\n",
      "------------------------------------------------------------\n",
      "Query: How many cycles of hydrogen generation can your material withstand without significant performance degradation?\n",
      "Generated Answer: [\"Hydrogen Hydrogen Production Rate for Hybrid CuO-Cu Nanomaterials: The hydrogen production rate for a hybrid catalyst is typically around 2\\x9610 mL/min. The rate is dependent on the size of the catalyst and the number of atoms in the material. For example, if you have 10 atoms, you can produce 10 mL of hydrogen per minute, or 2.5 mL per second. This is a very high rate, but it's still very low. Edit: typo\"]\n",
      "Evaluation Result: {'cosine_similarities': [0.48450094], 'perplexities': [16.08584976196289], 'answers': [[\"Hydrogen Hydrogen Production Rate for Hybrid CuO-Cu Nanomaterials: The hydrogen production rate for a hybrid catalyst is typically around 2\\x9610 mL/min. The rate is dependent on the size of the catalyst and the number of atoms in the material. For example, if you have 10 atoms, you can produce 10 mL of hydrogen per minute, or 2.5 mL per second. This is a very high rate, but it's still very low. Edit: typo\"]]}\n",
      "\n"
     ]
    },
    {
     "data": {
      "application/vnd.jupyter.widget-view+json": {
       "model_id": "540b87265cde49f2bcc3532dc6a27074",
       "version_major": 2,
       "version_minor": 0
      },
      "text/plain": [
       "Batches:   0%|          | 0/1 [00:00<?, ?it/s]"
      ]
     },
     "metadata": {},
     "output_type": "display_data"
    },
    {
     "name": "stderr",
     "output_type": "stream",
     "text": [
      "/usr/local/lib/python3.10/dist-packages/transformers/generation/configuration_utils.py:633: UserWarning: `do_sample` is set to `False`. However, `top_p` is set to `0.9` -- this flag is only used in sample-based generation modes. You should set `do_sample=True` or unset `top_p`.\n",
      "  warnings.warn(\n"
     ]
    },
    {
     "data": {
      "application/vnd.jupyter.widget-view+json": {
       "model_id": "876da9592a104c018daf71ed3792cde2",
       "version_major": 2,
       "version_minor": 0
      },
      "text/plain": [
       "Batches:   0%|          | 0/1 [00:00<?, ?it/s]"
      ]
     },
     "metadata": {},
     "output_type": "display_data"
    },
    {
     "data": {
      "application/vnd.jupyter.widget-view+json": {
       "model_id": "01620fa5c2464efaa4e3ad8470a1dc1d",
       "version_major": 2,
       "version_minor": 0
      },
      "text/plain": [
       "Batches:   0%|          | 0/1 [00:00<?, ?it/s]"
      ]
     },
     "metadata": {},
     "output_type": "display_data"
    },
    {
     "name": "stdout",
     "output_type": "stream",
     "text": [
      "• Cosine Similarity: 0.5760\n",
      "• Perplexity: 35.18\n",
      "------------------------------------------------------------\n",
      "Query: What are the major degradation pathways for your 2D nanomaterial during water splitting?\n",
      "Generated Answer: ['Nanomaterials used for water Splitting: 1. Graphene2. Transition Metal Dichalcogenides (e.g., MoS2, WS2)3. Black Phosphorus4. NiFe LDH, CoFeLDH5. Metal-Organic Frameworks (MOFs)6. Nb2C7. MXenes8. Nitrogen Oxides9. Tantalum Carbide (Ta4C3)10. SiO2']\n",
      "Evaluation Result: {'cosine_similarities': [0.57601726], 'perplexities': [35.18151092529297], 'answers': [['Nanomaterials used for water Splitting: 1. Graphene2. Transition Metal Dichalcogenides (e.g., MoS2, WS2)3. Black Phosphorus4. NiFe LDH, CoFeLDH5. Metal-Organic Frameworks (MOFs)6. Nb2C7. MXenes8. Nitrogen Oxides9. Tantalum Carbide (Ta4C3)10. SiO2']]}\n",
      "\n"
     ]
    },
    {
     "data": {
      "application/vnd.jupyter.widget-view+json": {
       "model_id": "f6f861a68be24528a4bef916648feb57",
       "version_major": 2,
       "version_minor": 0
      },
      "text/plain": [
       "Batches:   0%|          | 0/1 [00:00<?, ?it/s]"
      ]
     },
     "metadata": {},
     "output_type": "display_data"
    },
    {
     "name": "stderr",
     "output_type": "stream",
     "text": [
      "/usr/local/lib/python3.10/dist-packages/transformers/generation/configuration_utils.py:633: UserWarning: `do_sample` is set to `False`. However, `top_p` is set to `0.9` -- this flag is only used in sample-based generation modes. You should set `do_sample=True` or unset `top_p`.\n",
      "  warnings.warn(\n"
     ]
    },
    {
     "data": {
      "application/vnd.jupyter.widget-view+json": {
       "model_id": "543091741b85415e895c9da467fa6a5a",
       "version_major": 2,
       "version_minor": 0
      },
      "text/plain": [
       "Batches:   0%|          | 0/1 [00:00<?, ?it/s]"
      ]
     },
     "metadata": {},
     "output_type": "display_data"
    },
    {
     "data": {
      "application/vnd.jupyter.widget-view+json": {
       "model_id": "fdc5f00eb90144fda20c3d56c5f39a4d",
       "version_major": 2,
       "version_minor": 0
      },
      "text/plain": [
       "Batches:   0%|          | 0/1 [00:00<?, ?it/s]"
      ]
     },
     "metadata": {},
     "output_type": "display_data"
    },
    {
     "name": "stdout",
     "output_type": "stream",
     "text": [
      "• Cosine Similarity: 0.4734\n",
      "• Perplexity: 19.62\n",
      "------------------------------------------------------------\n",
      "Query: Can you identify any strategies to improve the stability and durability of your material?\n",
      "Generated Answer: ['There are a number of ways to improve the long-term stability and durability of 2D Nanomaterials for Practical Applications: Surface Passivation: Coating or modifying the surface of a material with protective layers, such as polymers, metal oxides, or organic molecules, can prevent degradation and oxidation. This is especially important when dealing with materials that are prone to deformation and degradation due to exposure to high temperatures, high pressures, etc. Doping: Introducing dopant atoms into the lattice can modify its electronic properties and improve its resistance to degradation.']\n",
      "Evaluation Result: {'cosine_similarities': [0.4734211], 'perplexities': [19.624008178710938], 'answers': [['There are a number of ways to improve the long-term stability and durability of 2D Nanomaterials for Practical Applications: Surface Passivation: Coating or modifying the surface of a material with protective layers, such as polymers, metal oxides, or organic molecules, can prevent degradation and oxidation. This is especially important when dealing with materials that are prone to deformation and degradation due to exposure to high temperatures, high pressures, etc. Doping: Introducing dopant atoms into the lattice can modify its electronic properties and improve its resistance to degradation.']]}\n",
      "\n"
     ]
    },
    {
     "data": {
      "application/vnd.jupyter.widget-view+json": {
       "model_id": "3014599962934a2dbe84b438495528e9",
       "version_major": 2,
       "version_minor": 0
      },
      "text/plain": [
       "Batches:   0%|          | 0/1 [00:00<?, ?it/s]"
      ]
     },
     "metadata": {},
     "output_type": "display_data"
    },
    {
     "name": "stderr",
     "output_type": "stream",
     "text": [
      "/usr/local/lib/python3.10/dist-packages/transformers/generation/configuration_utils.py:633: UserWarning: `do_sample` is set to `False`. However, `top_p` is set to `0.9` -- this flag is only used in sample-based generation modes. You should set `do_sample=True` or unset `top_p`.\n",
      "  warnings.warn(\n"
     ]
    },
    {
     "data": {
      "application/vnd.jupyter.widget-view+json": {
       "model_id": "afae87e30af7488aa83e26e335222cb7",
       "version_major": 2,
       "version_minor": 0
      },
      "text/plain": [
       "Batches:   0%|          | 0/1 [00:00<?, ?it/s]"
      ]
     },
     "metadata": {},
     "output_type": "display_data"
    },
    {
     "data": {
      "application/vnd.jupyter.widget-view+json": {
       "model_id": "6dc3dd6ff45342399b1e53d106fe29b6",
       "version_major": 2,
       "version_minor": 0
      },
      "text/plain": [
       "Batches:   0%|          | 0/1 [00:00<?, ?it/s]"
      ]
     },
     "metadata": {},
     "output_type": "display_data"
    },
    {
     "name": "stdout",
     "output_type": "stream",
     "text": [
      "• Cosine Similarity: 0.5972\n",
      "• Perplexity: 15.15\n",
      "------------------------------------------------------------\n",
      "Query: Can your synthesis method for 2D nanomaterials be scaled up for mass production?\n",
      "Generated Answer: ['There are a number of different techniques that can be used to synthesize 2D nanomaterials for water splitting applications, each with its own advantages and limitations. Here are some commonly used techniques: Chemical vapor deposition (CVD): CVD involves the deposition of individual atoms or molecules on a substrate surface from gaseous precursors. This method allows for precise control over the growth parameters, allowing for the synthesis of high-quality and large-area two-dimensional (2D) materials. The reaction conditions, such as temperature, pressure, and precursor concentration can all be controlled to obtain specific 3D Nanostructures with desired properties. These methods are generally used for high performance and high cost-effectiveness applications.']\n",
      "Evaluation Result: {'cosine_similarities': [0.59724236], 'perplexities': [15.148441314697266], 'answers': [['There are a number of different techniques that can be used to synthesize 2D nanomaterials for water splitting applications, each with its own advantages and limitations. Here are some commonly used techniques: Chemical vapor deposition (CVD): CVD involves the deposition of individual atoms or molecules on a substrate surface from gaseous precursors. This method allows for precise control over the growth parameters, allowing for the synthesis of high-quality and large-area two-dimensional (2D) materials. The reaction conditions, such as temperature, pressure, and precursor concentration can all be controlled to obtain specific 3D Nanostructures with desired properties. These methods are generally used for high performance and high cost-effectiveness applications.']]}\n",
      "\n"
     ]
    },
    {
     "data": {
      "application/vnd.jupyter.widget-view+json": {
       "model_id": "c20ed03ad95a4c1f8ca59c6b417239d6",
       "version_major": 2,
       "version_minor": 0
      },
      "text/plain": [
       "Batches:   0%|          | 0/1 [00:00<?, ?it/s]"
      ]
     },
     "metadata": {},
     "output_type": "display_data"
    },
    {
     "name": "stderr",
     "output_type": "stream",
     "text": [
      "/usr/local/lib/python3.10/dist-packages/transformers/generation/configuration_utils.py:633: UserWarning: `do_sample` is set to `False`. However, `top_p` is set to `0.9` -- this flag is only used in sample-based generation modes. You should set `do_sample=True` or unset `top_p`.\n",
      "  warnings.warn(\n"
     ]
    },
    {
     "data": {
      "application/vnd.jupyter.widget-view+json": {
       "model_id": "7e0da1eedb1d40e2a07c526e372cb18d",
       "version_major": 2,
       "version_minor": 0
      },
      "text/plain": [
       "Batches:   0%|          | 0/1 [00:00<?, ?it/s]"
      ]
     },
     "metadata": {},
     "output_type": "display_data"
    },
    {
     "data": {
      "application/vnd.jupyter.widget-view+json": {
       "model_id": "350e35a4f5f9408ea1faab414fb67d4f",
       "version_major": 2,
       "version_minor": 0
      },
      "text/plain": [
       "Batches:   0%|          | 0/1 [00:00<?, ?it/s]"
      ]
     },
     "metadata": {},
     "output_type": "display_data"
    },
    {
     "name": "stdout",
     "output_type": "stream",
     "text": [
      "• Cosine Similarity: 0.7622\n",
      "• Perplexity: 14.16\n",
      "------------------------------------------------------------\n",
      "Query: What are the estimated costs associated with synthesizing and utilizing your 2D nanomaterial for hydrogen production?\n",
      "Generated Answer: ['A lifecycle cost analysis of hydrogen production using 2D material catalysts should consider the costs associated with material sourcing, catalyst synthesis, device fabrication, operation, and end-of-life disposal. This will help determine the overall cost-effectiveness of the process. For example, if you are looking to produce hydrogen using a catalyst, you would need to: 1) synthesize the catalyst 2) manufacture the device 3) dispose of it 4) transport it to a storage facility 5) store it 6) use it for a long period of time']\n",
      "Evaluation Result: {'cosine_similarities': [0.7622193], 'perplexities': [14.163930892944336], 'answers': [['A lifecycle cost analysis of hydrogen production using 2D material catalysts should consider the costs associated with material sourcing, catalyst synthesis, device fabrication, operation, and end-of-life disposal. This will help determine the overall cost-effectiveness of the process. For example, if you are looking to produce hydrogen using a catalyst, you would need to: 1) synthesize the catalyst 2) manufacture the device 3) dispose of it 4) transport it to a storage facility 5) store it 6) use it for a long period of time']]}\n",
      "\n"
     ]
    },
    {
     "data": {
      "application/vnd.jupyter.widget-view+json": {
       "model_id": "f10f787fc3c14ac7b8b27fa1e894f9df",
       "version_major": 2,
       "version_minor": 0
      },
      "text/plain": [
       "Batches:   0%|          | 0/1 [00:00<?, ?it/s]"
      ]
     },
     "metadata": {},
     "output_type": "display_data"
    },
    {
     "name": "stderr",
     "output_type": "stream",
     "text": [
      "/usr/local/lib/python3.10/dist-packages/transformers/generation/configuration_utils.py:633: UserWarning: `do_sample` is set to `False`. However, `top_p` is set to `0.9` -- this flag is only used in sample-based generation modes. You should set `do_sample=True` or unset `top_p`.\n",
      "  warnings.warn(\n"
     ]
    },
    {
     "data": {
      "application/vnd.jupyter.widget-view+json": {
       "model_id": "a5c5740095b64381a3f74c80ee034537",
       "version_major": 2,
       "version_minor": 0
      },
      "text/plain": [
       "Batches:   0%|          | 0/1 [00:00<?, ?it/s]"
      ]
     },
     "metadata": {},
     "output_type": "display_data"
    },
    {
     "data": {
      "application/vnd.jupyter.widget-view+json": {
       "model_id": "a7f5465fcb48406c94d542ce8b3e996c",
       "version_major": 2,
       "version_minor": 0
      },
      "text/plain": [
       "Batches:   0%|          | 0/1 [00:00<?, ?it/s]"
      ]
     },
     "metadata": {},
     "output_type": "display_data"
    },
    {
     "name": "stdout",
     "output_type": "stream",
     "text": [
      "• Cosine Similarity: 0.7580\n",
      "• Perplexity: 15.15\n",
      "------------------------------------------------------------\n",
      "Query: How can you integrate your 2D nanomaterial into a practical water splitting device?\n",
      "Generated Answer: ['There are a number of different techniques that can be used to synthesize 2D nanomaterials for water splitting applications, each with its own advantages and limitations. Here are some commonly used techniques: Chemical vapor deposition (CVD): CVD involves the deposition of individual atoms or molecules on a substrate surface from gaseous precursors. This method allows for precise control over the growth parameters, allowing for the synthesis of high-quality and large-area two-dimensional (2D) materials. The reaction conditions, such as temperature, pressure, and precursor concentration can all be controlled to obtain specific 3D Nanostructures with desired properties. These methods are generally used for high performance and high cost-effectiveness applications.']\n",
      "Evaluation Result: {'cosine_similarities': [0.7579833], 'perplexities': [15.148441314697266], 'answers': [['There are a number of different techniques that can be used to synthesize 2D nanomaterials for water splitting applications, each with its own advantages and limitations. Here are some commonly used techniques: Chemical vapor deposition (CVD): CVD involves the deposition of individual atoms or molecules on a substrate surface from gaseous precursors. This method allows for precise control over the growth parameters, allowing for the synthesis of high-quality and large-area two-dimensional (2D) materials. The reaction conditions, such as temperature, pressure, and precursor concentration can all be controlled to obtain specific 3D Nanostructures with desired properties. These methods are generally used for high performance and high cost-effectiveness applications.']]}\n",
      "\n"
     ]
    },
    {
     "data": {
      "application/vnd.jupyter.widget-view+json": {
       "model_id": "997e3e9118ef484c87f35726bbe12fcf",
       "version_major": 2,
       "version_minor": 0
      },
      "text/plain": [
       "Batches:   0%|          | 0/1 [00:00<?, ?it/s]"
      ]
     },
     "metadata": {},
     "output_type": "display_data"
    },
    {
     "name": "stderr",
     "output_type": "stream",
     "text": [
      "/usr/local/lib/python3.10/dist-packages/transformers/generation/configuration_utils.py:633: UserWarning: `do_sample` is set to `False`. However, `top_p` is set to `0.9` -- this flag is only used in sample-based generation modes. You should set `do_sample=True` or unset `top_p`.\n",
      "  warnings.warn(\n"
     ]
    },
    {
     "data": {
      "application/vnd.jupyter.widget-view+json": {
       "model_id": "a15bfaf70caa4768ae9509be3b935578",
       "version_major": 2,
       "version_minor": 0
      },
      "text/plain": [
       "Batches:   0%|          | 0/1 [00:00<?, ?it/s]"
      ]
     },
     "metadata": {},
     "output_type": "display_data"
    },
    {
     "data": {
      "application/vnd.jupyter.widget-view+json": {
       "model_id": "6e9bccf74f254d6c9a0b92d3e155b841",
       "version_major": 2,
       "version_minor": 0
      },
      "text/plain": [
       "Batches:   0%|          | 0/1 [00:00<?, ?it/s]"
      ]
     },
     "metadata": {},
     "output_type": "display_data"
    },
    {
     "name": "stdout",
     "output_type": "stream",
     "text": [
      "• Cosine Similarity: 0.6320\n",
      "• Perplexity: 37.81\n",
      "------------------------------------------------------------\n",
      "Query: What are the potential advantages of using 2D nanomaterials over other water splitting catalysts?\n",
      "Generated Answer: ['2D nanomaterials have a large surface area and unique electronic structures that enable efficient light absorption over a broad range of wavelengths. Their atomically thin nature minimizes light scattering and reflection, maximizing light utilization. The 2D structure of these materials promotes efficient charge carrier separation and transport due to reduced dimensionality and defect density. This enhances the efficiency of water splitting by increasing the number of available reaction sites. They also have excellent chemical and thermal stability, ensuring their durability under harsh heat conditions.']\n",
      "Evaluation Result: {'cosine_similarities': [0.6320479], 'perplexities': [37.81040573120117], 'answers': [['2D nanomaterials have a large surface area and unique electronic structures that enable efficient light absorption over a broad range of wavelengths. Their atomically thin nature minimizes light scattering and reflection, maximizing light utilization. The 2D structure of these materials promotes efficient charge carrier separation and transport due to reduced dimensionality and defect density. This enhances the efficiency of water splitting by increasing the number of available reaction sites. They also have excellent chemical and thermal stability, ensuring their durability under harsh heat conditions.']]}\n",
      "\n"
     ]
    },
    {
     "data": {
      "application/vnd.jupyter.widget-view+json": {
       "model_id": "2b6bb3fddc4a4540a42b5f29091cedae",
       "version_major": 2,
       "version_minor": 0
      },
      "text/plain": [
       "Batches:   0%|          | 0/1 [00:00<?, ?it/s]"
      ]
     },
     "metadata": {},
     "output_type": "display_data"
    },
    {
     "name": "stderr",
     "output_type": "stream",
     "text": [
      "/usr/local/lib/python3.10/dist-packages/transformers/generation/configuration_utils.py:633: UserWarning: `do_sample` is set to `False`. However, `top_p` is set to `0.9` -- this flag is only used in sample-based generation modes. You should set `do_sample=True` or unset `top_p`.\n",
      "  warnings.warn(\n"
     ]
    },
    {
     "data": {
      "application/vnd.jupyter.widget-view+json": {
       "model_id": "107eea6b4da04d3fa105d989dfe624db",
       "version_major": 2,
       "version_minor": 0
      },
      "text/plain": [
       "Batches:   0%|          | 0/1 [00:00<?, ?it/s]"
      ]
     },
     "metadata": {},
     "output_type": "display_data"
    },
    {
     "data": {
      "application/vnd.jupyter.widget-view+json": {
       "model_id": "b982c347813d43108a39bc9aa9280f49",
       "version_major": 2,
       "version_minor": 0
      },
      "text/plain": [
       "Batches:   0%|          | 0/1 [00:00<?, ?it/s]"
      ]
     },
     "metadata": {},
     "output_type": "display_data"
    },
    {
     "name": "stdout",
     "output_type": "stream",
     "text": [
      "• Cosine Similarity: 0.8266\n",
      "• Perplexity: 12.80\n",
      "------------------------------------------------------------\n",
      "Query: What are the potential challenges and limitations associated with using 2D nanomaterials for large-scale hydrogen production?\n",
      "Generated Answer: ['The major challenges in scaling up the production of hydrogen through 2D nanomaterial-based water splitting include: Cost: It can be difficult to scale up production to the large quantities that would be needed for commercial applications. This is because the synthesis of two-dimensional materials is often a complex and time-consuming process. Scalability: There is a lot of research being conducted to overcome these challenges, but there is still a great deal of work to be done. Stability: The stability of 2-D materials in water-splitting devices depends on the temperature and pH of the water, as well as how well the device can handle the high temperatures and pressures required for the splitting of water.']\n",
      "Evaluation Result: {'cosine_similarities': [0.8266336], 'perplexities': [12.799245834350586], 'answers': [['The major challenges in scaling up the production of hydrogen through 2D nanomaterial-based water splitting include: Cost: It can be difficult to scale up production to the large quantities that would be needed for commercial applications. This is because the synthesis of two-dimensional materials is often a complex and time-consuming process. Scalability: There is a lot of research being conducted to overcome these challenges, but there is still a great deal of work to be done. Stability: The stability of 2-D materials in water-splitting devices depends on the temperature and pH of the water, as well as how well the device can handle the high temperatures and pressures required for the splitting of water.']]}\n",
      "\n"
     ]
    },
    {
     "data": {
      "application/vnd.jupyter.widget-view+json": {
       "model_id": "fcc4bcf82bc34fe49bf2d3d9f8e7eae3",
       "version_major": 2,
       "version_minor": 0
      },
      "text/plain": [
       "Batches:   0%|          | 0/1 [00:00<?, ?it/s]"
      ]
     },
     "metadata": {},
     "output_type": "display_data"
    },
    {
     "name": "stderr",
     "output_type": "stream",
     "text": [
      "/usr/local/lib/python3.10/dist-packages/transformers/generation/configuration_utils.py:633: UserWarning: `do_sample` is set to `False`. However, `top_p` is set to `0.9` -- this flag is only used in sample-based generation modes. You should set `do_sample=True` or unset `top_p`.\n",
      "  warnings.warn(\n"
     ]
    },
    {
     "data": {
      "application/vnd.jupyter.widget-view+json": {
       "model_id": "8c43abaad146497ba5f596975327b54b",
       "version_major": 2,
       "version_minor": 0
      },
      "text/plain": [
       "Batches:   0%|          | 0/1 [00:00<?, ?it/s]"
      ]
     },
     "metadata": {},
     "output_type": "display_data"
    },
    {
     "data": {
      "application/vnd.jupyter.widget-view+json": {
       "model_id": "58c4c6be6efc4f7b8e8371ea72fa9499",
       "version_major": 2,
       "version_minor": 0
      },
      "text/plain": [
       "Batches:   0%|          | 0/1 [00:00<?, ?it/s]"
      ]
     },
     "metadata": {},
     "output_type": "display_data"
    },
    {
     "name": "stdout",
     "output_type": "stream",
     "text": [
      "• Cosine Similarity: 0.1742\n",
      "• Perplexity: 9.57\n",
      "------------------------------------------------------------\n",
      "Query: What are the specific objectives and hypotheses of your research?\n",
      "Generated Answer: [\"I'm not an expert in this field, but I think it's important to note that this is not the first study of its kind. There's a lot of work going on in the field of electrocatalysts for water splitting right now, and I'm sure there will be more to come. However, this study is a good starting point. It shows that the structure and activity of the catalyst is strongly influenced by the surface structure. This suggests that future research should focus on developing new catalysts with well-defined and controlled surface structures.\"]\n",
      "Evaluation Result: {'cosine_similarities': [0.17421192], 'perplexities': [9.573394775390625], 'answers': [[\"I'm not an expert in this field, but I think it's important to note that this is not the first study of its kind. There's a lot of work going on in the field of electrocatalysts for water splitting right now, and I'm sure there will be more to come. However, this study is a good starting point. It shows that the structure and activity of the catalyst is strongly influenced by the surface structure. This suggests that future research should focus on developing new catalysts with well-defined and controlled surface structures.\"]]}\n",
      "\n"
     ]
    },
    {
     "data": {
      "application/vnd.jupyter.widget-view+json": {
       "model_id": "9293a531421c44cc9042eb21141d613b",
       "version_major": 2,
       "version_minor": 0
      },
      "text/plain": [
       "Batches:   0%|          | 0/1 [00:00<?, ?it/s]"
      ]
     },
     "metadata": {},
     "output_type": "display_data"
    },
    {
     "name": "stderr",
     "output_type": "stream",
     "text": [
      "/usr/local/lib/python3.10/dist-packages/transformers/generation/configuration_utils.py:633: UserWarning: `do_sample` is set to `False`. However, `top_p` is set to `0.9` -- this flag is only used in sample-based generation modes. You should set `do_sample=True` or unset `top_p`.\n",
      "  warnings.warn(\n"
     ]
    },
    {
     "data": {
      "application/vnd.jupyter.widget-view+json": {
       "model_id": "d5dd17f6f5744ed8935aaa52d17c4d17",
       "version_major": 2,
       "version_minor": 0
      },
      "text/plain": [
       "Batches:   0%|          | 0/1 [00:00<?, ?it/s]"
      ]
     },
     "metadata": {},
     "output_type": "display_data"
    },
    {
     "data": {
      "application/vnd.jupyter.widget-view+json": {
       "model_id": "2967a910abd442f784d48297c8123b50",
       "version_major": 2,
       "version_minor": 0
      },
      "text/plain": [
       "Batches:   0%|          | 0/1 [00:00<?, ?it/s]"
      ]
     },
     "metadata": {},
     "output_type": "display_data"
    },
    {
     "name": "stdout",
     "output_type": "stream",
     "text": [
      "• Cosine Similarity: 0.7028\n",
      "• Perplexity: 6.48\n",
      "------------------------------------------------------------\n",
      "Query: How do your findings compare to previous studies on similar 2D nanomaterials for water splitting?\n",
      "Generated Answer: [\"I'm not sure if this is what you're looking for, but I'll give it a shot. First of all, you want to make sure that the 2D nanomaterials don't interfere with each other in any way. For example, if you have a material that absorbs light and reflects it back to you, then you can't use it to split water. If you use the material as a catalyst, it will absorb the light, and reflect the reflected light back into your eyes. This means that you won't be able to see the difference between the two, so you'll have to use a different type of light source to get the same effect. Second, I'd like to point out that there are a lot of different ways to do this experiment. You can use different materials, or you could use two different types of materials. I'm going to focus on the latter, because that's what I know the most about.\"]\n",
      "Evaluation Result: {'cosine_similarities': [0.70284283], 'perplexities': [6.480774879455566], 'answers': [[\"I'm not sure if this is what you're looking for, but I'll give it a shot. First of all, you want to make sure that the 2D nanomaterials don't interfere with each other in any way. For example, if you have a material that absorbs light and reflects it back to you, then you can't use it to split water. If you use the material as a catalyst, it will absorb the light, and reflect the reflected light back into your eyes. This means that you won't be able to see the difference between the two, so you'll have to use a different type of light source to get the same effect. Second, I'd like to point out that there are a lot of different ways to do this experiment. You can use different materials, or you could use two different types of materials. I'm going to focus on the latter, because that's what I know the most about.\"]]}\n",
      "\n"
     ]
    },
    {
     "data": {
      "application/vnd.jupyter.widget-view+json": {
       "model_id": "9a783d0701324809a25940ef873e7ee7",
       "version_major": 2,
       "version_minor": 0
      },
      "text/plain": [
       "Batches:   0%|          | 0/1 [00:00<?, ?it/s]"
      ]
     },
     "metadata": {},
     "output_type": "display_data"
    },
    {
     "name": "stderr",
     "output_type": "stream",
     "text": [
      "/usr/local/lib/python3.10/dist-packages/transformers/generation/configuration_utils.py:633: UserWarning: `do_sample` is set to `False`. However, `top_p` is set to `0.9` -- this flag is only used in sample-based generation modes. You should set `do_sample=True` or unset `top_p`.\n",
      "  warnings.warn(\n"
     ]
    },
    {
     "data": {
      "application/vnd.jupyter.widget-view+json": {
       "model_id": "03424d58b35848f79324c624fafb938e",
       "version_major": 2,
       "version_minor": 0
      },
      "text/plain": [
       "Batches:   0%|          | 0/1 [00:00<?, ?it/s]"
      ]
     },
     "metadata": {},
     "output_type": "display_data"
    },
    {
     "data": {
      "application/vnd.jupyter.widget-view+json": {
       "model_id": "4f05852f0f64448e86a74b91edd3747a",
       "version_major": 2,
       "version_minor": 0
      },
      "text/plain": [
       "Batches:   0%|          | 0/1 [00:00<?, ?it/s]"
      ]
     },
     "metadata": {},
     "output_type": "display_data"
    },
    {
     "name": "stdout",
     "output_type": "stream",
     "text": [
      "• Cosine Similarity: 0.0680\n",
      "• Perplexity: 7.95\n",
      "------------------------------------------------------------\n",
      "Query: What is the novelty and significance of your research in the field?\n",
      "Generated Answer: [\"I'm not a chemist, but I do know a bit about semiconductors, so I'll try to answer your question. The band bending is a property of semiconductor materials that is related to the electronic structure of the material. This means that if you have a material with a band-bending property, you can use it as a catalyst for a chemical reaction. In this case, the catalyst would be a high-work function catalyst, meaning that it has a very high work function, which means it is able to bend the electrons in the Si lattice in a way that allows them to be separated from each other. If you want to make a photoanode that can be used for water splitting, then you need to know what kind of reaction you're trying to catalyze. For example, a water-splitting reaction requires a lot of energy to split the water molecules into hydrogen, oxygen, and carbon dioxide (CO2). This energy is stored as heat and is released when the reaction is completed. You can also use the energy stored in these molecules to power a device that converts the CO2 into H2O (which is then used to boil water). In order to do this, we need two things: 1. We need a catalytic material that will allow us to separate the hydrogen molecules from the oxygen molecules. 2. Our catalyst needs to have an interface between the two molecules so that we can transfer energy from one molecule to another. So, for instance, if we wanted to create a photocurrent that would allow electrons to move between two different molecules at the same time, that's what we'd need. Now, I don't know if this is what you were looking for. But I think it's a good starting point.\"]\n",
      "Evaluation Result: {'cosine_similarities': [0.067985475], 'perplexities': [7.95371150970459], 'answers': [[\"I'm not a chemist, but I do know a bit about semiconductors, so I'll try to answer your question. The band bending is a property of semiconductor materials that is related to the electronic structure of the material. This means that if you have a material with a band-bending property, you can use it as a catalyst for a chemical reaction. In this case, the catalyst would be a high-work function catalyst, meaning that it has a very high work function, which means it is able to bend the electrons in the Si lattice in a way that allows them to be separated from each other. If you want to make a photoanode that can be used for water splitting, then you need to know what kind of reaction you're trying to catalyze. For example, a water-splitting reaction requires a lot of energy to split the water molecules into hydrogen, oxygen, and carbon dioxide (CO2). This energy is stored as heat and is released when the reaction is completed. You can also use the energy stored in these molecules to power a device that converts the CO2 into H2O (which is then used to boil water). In order to do this, we need two things: 1. We need a catalytic material that will allow us to separate the hydrogen molecules from the oxygen molecules. 2. Our catalyst needs to have an interface between the two molecules so that we can transfer energy from one molecule to another. So, for instance, if we wanted to create a photocurrent that would allow electrons to move between two different molecules at the same time, that's what we'd need. Now, I don't know if this is what you were looking for. But I think it's a good starting point.\"]]}\n",
      "\n"
     ]
    },
    {
     "data": {
      "application/vnd.jupyter.widget-view+json": {
       "model_id": "d7b7826c133c4c699f3c33b30464ace7",
       "version_major": 2,
       "version_minor": 0
      },
      "text/plain": [
       "Batches:   0%|          | 0/1 [00:00<?, ?it/s]"
      ]
     },
     "metadata": {},
     "output_type": "display_data"
    },
    {
     "name": "stderr",
     "output_type": "stream",
     "text": [
      "/usr/local/lib/python3.10/dist-packages/transformers/generation/configuration_utils.py:633: UserWarning: `do_sample` is set to `False`. However, `top_p` is set to `0.9` -- this flag is only used in sample-based generation modes. You should set `do_sample=True` or unset `top_p`.\n",
      "  warnings.warn(\n"
     ]
    },
    {
     "data": {
      "application/vnd.jupyter.widget-view+json": {
       "model_id": "dd026a82dd194d96a676b4ddc8acdc89",
       "version_major": 2,
       "version_minor": 0
      },
      "text/plain": [
       "Batches:   0%|          | 0/1 [00:00<?, ?it/s]"
      ]
     },
     "metadata": {},
     "output_type": "display_data"
    },
    {
     "data": {
      "application/vnd.jupyter.widget-view+json": {
       "model_id": "5673d9395e8d4010b99428a06b9dd8f1",
       "version_major": 2,
       "version_minor": 0
      },
      "text/plain": [
       "Batches:   0%|          | 0/1 [00:00<?, ?it/s]"
      ]
     },
     "metadata": {},
     "output_type": "display_data"
    },
    {
     "name": "stdout",
     "output_type": "stream",
     "text": [
      "• Cosine Similarity: 0.0535\n",
      "• Perplexity: 6.18\n",
      "------------------------------------------------------------\n",
      "Query: What are the potential future directions for your research?\n",
      "Generated Answer: ['There is a lot of room for improvement in the efficiency and scalability of DAWs, but there are a few things to keep in mind. The first thing to note is that the rate at which water decomposes is dependent on the temperature, pressure, and pressure of the water. For example, if you heat water up to 100 degrees C, it will decompose at a rate of about 1.5% C. If you cool it down to -20 C (or even -10 C), you will see a decrease in decomposition rate. This is due to the difference in pressure between the hot water and the cold water, as well as the fact that water has a lower boiling point than air, so it takes more energy to boil water than it does to turn it into steam. There are also a number of other factors to consider, such as how much energy you need to convert the heat into electricity, how long you have to wait for the reaction to occur, the amount of energy required to run the system, etc. These are all things that can be improved upon.']\n",
      "Evaluation Result: {'cosine_similarities': [0.053508814], 'perplexities': [6.181153774261475], 'answers': [['There is a lot of room for improvement in the efficiency and scalability of DAWs, but there are a few things to keep in mind. The first thing to note is that the rate at which water decomposes is dependent on the temperature, pressure, and pressure of the water. For example, if you heat water up to 100 degrees C, it will decompose at a rate of about 1.5% C. If you cool it down to -20 C (or even -10 C), you will see a decrease in decomposition rate. This is due to the difference in pressure between the hot water and the cold water, as well as the fact that water has a lower boiling point than air, so it takes more energy to boil water than it does to turn it into steam. There are also a number of other factors to consider, such as how much energy you need to convert the heat into electricity, how long you have to wait for the reaction to occur, the amount of energy required to run the system, etc. These are all things that can be improved upon.']]}\n",
      "\n"
     ]
    },
    {
     "data": {
      "application/vnd.jupyter.widget-view+json": {
       "model_id": "1b99c928e94e49be9aad6c7851c679b4",
       "version_major": 2,
       "version_minor": 0
      },
      "text/plain": [
       "Batches:   0%|          | 0/1 [00:00<?, ?it/s]"
      ]
     },
     "metadata": {},
     "output_type": "display_data"
    },
    {
     "name": "stderr",
     "output_type": "stream",
     "text": [
      "/usr/local/lib/python3.10/dist-packages/transformers/generation/configuration_utils.py:633: UserWarning: `do_sample` is set to `False`. However, `top_p` is set to `0.9` -- this flag is only used in sample-based generation modes. You should set `do_sample=True` or unset `top_p`.\n",
      "  warnings.warn(\n"
     ]
    },
    {
     "data": {
      "application/vnd.jupyter.widget-view+json": {
       "model_id": "e1b33956306640ddbabfc071bce1530c",
       "version_major": 2,
       "version_minor": 0
      },
      "text/plain": [
       "Batches:   0%|          | 0/1 [00:00<?, ?it/s]"
      ]
     },
     "metadata": {},
     "output_type": "display_data"
    },
    {
     "data": {
      "application/vnd.jupyter.widget-view+json": {
       "model_id": "cb0ba1877dec44719e012ab27f98070f",
       "version_major": 2,
       "version_minor": 0
      },
      "text/plain": [
       "Batches:   0%|          | 0/1 [00:00<?, ?it/s]"
      ]
     },
     "metadata": {},
     "output_type": "display_data"
    },
    {
     "name": "stdout",
     "output_type": "stream",
     "text": [
      "• Cosine Similarity: 0.2136\n",
      "• Perplexity: 10.82\n",
      "------------------------------------------------------------\n",
      "Query: What are the biggest challenges you faced during your research?\n",
      "Generated Answer: ['There are a number of challenges in understanding the toxicity and environmental fate of 2D nanomaterials, including: 1. Lack of standardized testing methods: There is currently no standardized set of tests that can be used to test for toxicity. This makes it difficult to compare results from different studies and to draw general conclusions about the safety of these materials. 2. Complexity of environmental interactions: Some materials can interact with a variety of environments, such as water, soil, and biota. These interactions can affect the effects of the material on the environment and persist for long periods of time. 3. Difficult to generalize: The chemical composition of a material can vary, depending on its specific properties and the exposure conditions. For example, some two-dimensional materials have been shown to be cytotoxic, genotoxoxic and carcinogenic.']\n",
      "Evaluation Result: {'cosine_similarities': [0.21361488], 'perplexities': [10.823310852050781], 'answers': [['There are a number of challenges in understanding the toxicity and environmental fate of 2D nanomaterials, including: 1. Lack of standardized testing methods: There is currently no standardized set of tests that can be used to test for toxicity. This makes it difficult to compare results from different studies and to draw general conclusions about the safety of these materials. 2. Complexity of environmental interactions: Some materials can interact with a variety of environments, such as water, soil, and biota. These interactions can affect the effects of the material on the environment and persist for long periods of time. 3. Difficult to generalize: The chemical composition of a material can vary, depending on its specific properties and the exposure conditions. For example, some two-dimensional materials have been shown to be cytotoxic, genotoxoxic and carcinogenic.']]}\n",
      "\n"
     ]
    },
    {
     "data": {
      "application/vnd.jupyter.widget-view+json": {
       "model_id": "f1919100de0642ffa5320d7594d04084",
       "version_major": 2,
       "version_minor": 0
      },
      "text/plain": [
       "Batches:   0%|          | 0/1 [00:00<?, ?it/s]"
      ]
     },
     "metadata": {},
     "output_type": "display_data"
    },
    {
     "data": {
      "application/vnd.jupyter.widget-view+json": {
       "model_id": "49029aba1b95403c933eb01bed2379fb",
       "version_major": 2,
       "version_minor": 0
      },
      "text/plain": [
       "Batches:   0%|          | 0/1 [00:00<?, ?it/s]"
      ]
     },
     "metadata": {},
     "output_type": "display_data"
    },
    {
     "data": {
      "application/vnd.jupyter.widget-view+json": {
       "model_id": "40a7ce7239b342108f5ed1fcbd063879",
       "version_major": 2,
       "version_minor": 0
      },
      "text/plain": [
       "Batches:   0%|          | 0/1 [00:00<?, ?it/s]"
      ]
     },
     "metadata": {},
     "output_type": "display_data"
    },
    {
     "name": "stdout",
     "output_type": "stream",
     "text": [
      "• Cosine Similarity: 0.0785\n",
      "• Perplexity: 2663.32\n",
      "------------------------------------------------------------\n",
      "Query: What are the most unexpected or interesting findings you encountered?\n",
      "Generated Answer: Answer not found\n",
      "Evaluation Result: {'cosine_similarities': [0.07853084], 'perplexities': [2663.32470703125], 'answers': ['Answer not found']}\n",
      "\n"
     ]
    },
    {
     "data": {
      "application/vnd.jupyter.widget-view+json": {
       "model_id": "72f6a5690be24ddca4072287db4700bd",
       "version_major": 2,
       "version_minor": 0
      },
      "text/plain": [
       "Batches:   0%|          | 0/1 [00:00<?, ?it/s]"
      ]
     },
     "metadata": {},
     "output_type": "display_data"
    },
    {
     "name": "stderr",
     "output_type": "stream",
     "text": [
      "/usr/local/lib/python3.10/dist-packages/transformers/generation/configuration_utils.py:633: UserWarning: `do_sample` is set to `False`. However, `top_p` is set to `0.9` -- this flag is only used in sample-based generation modes. You should set `do_sample=True` or unset `top_p`.\n",
      "  warnings.warn(\n"
     ]
    },
    {
     "data": {
      "application/vnd.jupyter.widget-view+json": {
       "model_id": "0d78950004b74d5d973515bebe3d2f8e",
       "version_major": 2,
       "version_minor": 0
      },
      "text/plain": [
       "Batches:   0%|          | 0/1 [00:00<?, ?it/s]"
      ]
     },
     "metadata": {},
     "output_type": "display_data"
    },
    {
     "data": {
      "application/vnd.jupyter.widget-view+json": {
       "model_id": "a1b89512d2d247a9a1d5fc4b42aa9427",
       "version_major": 2,
       "version_minor": 0
      },
      "text/plain": [
       "Batches:   0%|          | 0/1 [00:00<?, ?it/s]"
      ]
     },
     "metadata": {},
     "output_type": "display_data"
    },
    {
     "name": "stdout",
     "output_type": "stream",
     "text": [
      "• Cosine Similarity: 0.0987\n",
      "• Perplexity: 10.27\n",
      "------------------------------------------------------------\n",
      "Query: How do you see your research contributing to the broader field of renewable energy?\n",
      "Generated Answer: [\"Hydrogen evolution reaction (HER) is one of the most important chemical reactions in the universe. It requires a large amount of energy to produce hydrogen, and it requires very high temperatures and pressures for the reaction to occur. Hydrogen is a very stable molecule, so it can be used in a lot of different reactions. The problem is that it's very difficult to get it to react with other molecules, which is why it takes so long to make it happen. This is where the AgNCs/MoS2NFs heterostructures come in. They are able to overcome the difficulty of getting the H2O molecules to interact with each other, because they have a high surface area and high thermal conductivity.\"]\n",
      "Evaluation Result: {'cosine_similarities': [0.09867862], 'perplexities': [10.272832870483398], 'answers': [[\"Hydrogen evolution reaction (HER) is one of the most important chemical reactions in the universe. It requires a large amount of energy to produce hydrogen, and it requires very high temperatures and pressures for the reaction to occur. Hydrogen is a very stable molecule, so it can be used in a lot of different reactions. The problem is that it's very difficult to get it to react with other molecules, which is why it takes so long to make it happen. This is where the AgNCs/MoS2NFs heterostructures come in. They are able to overcome the difficulty of getting the H2O molecules to interact with each other, because they have a high surface area and high thermal conductivity.\"]]}\n",
      "\n"
     ]
    },
    {
     "data": {
      "application/vnd.jupyter.widget-view+json": {
       "model_id": "1d88bcd6096e463f997308d4c403e925",
       "version_major": 2,
       "version_minor": 0
      },
      "text/plain": [
       "Batches:   0%|          | 0/1 [00:00<?, ?it/s]"
      ]
     },
     "metadata": {},
     "output_type": "display_data"
    },
    {
     "name": "stderr",
     "output_type": "stream",
     "text": [
      "/usr/local/lib/python3.10/dist-packages/transformers/generation/configuration_utils.py:633: UserWarning: `do_sample` is set to `False`. However, `top_p` is set to `0.9` -- this flag is only used in sample-based generation modes. You should set `do_sample=True` or unset `top_p`.\n",
      "  warnings.warn(\n"
     ]
    },
    {
     "data": {
      "application/vnd.jupyter.widget-view+json": {
       "model_id": "de5a1299c080467f9715f1b1c6e28f5b",
       "version_major": 2,
       "version_minor": 0
      },
      "text/plain": [
       "Batches:   0%|          | 0/1 [00:00<?, ?it/s]"
      ]
     },
     "metadata": {},
     "output_type": "display_data"
    },
    {
     "data": {
      "application/vnd.jupyter.widget-view+json": {
       "model_id": "5fa2053d40af41d2b0ede45b413627f8",
       "version_major": 2,
       "version_minor": 0
      },
      "text/plain": [
       "Batches:   0%|          | 0/1 [00:00<?, ?it/s]"
      ]
     },
     "metadata": {},
     "output_type": "display_data"
    },
    {
     "name": "stdout",
     "output_type": "stream",
     "text": [
      "• Cosine Similarity: 0.1575\n",
      "• Perplexity: 6.65\n",
      "------------------------------------------------------------\n",
      "Query: What are the potential implications of your research for society and the environment?\n",
      "Generated Answer: [\"Perovskite-based photovoltaic (PV) cells have been shown to be more stable than conventional PV cells. This means that they can be used to produce hydrogen at a much lower cost than other PV technologies. The problem with PV is that it requires a lot of energy to generate the energy, so it's not very efficient. However, if you can make a PV cell that can produce enough hydrogen to power a car, then you're good to go. In fact, this is one of the main reasons why solar panels are so expensive.\"]\n",
      "Evaluation Result: {'cosine_similarities': [0.1575405], 'perplexities': [6.650375843048096], 'answers': [[\"Perovskite-based photovoltaic (PV) cells have been shown to be more stable than conventional PV cells. This means that they can be used to produce hydrogen at a much lower cost than other PV technologies. The problem with PV is that it requires a lot of energy to generate the energy, so it's not very efficient. However, if you can make a PV cell that can produce enough hydrogen to power a car, then you're good to go. In fact, this is one of the main reasons why solar panels are so expensive.\"]]}\n",
      "\n"
     ]
    },
    {
     "data": {
      "application/vnd.jupyter.widget-view+json": {
       "model_id": "7ee526e3bb7d4c9bbd92ad01e961ed3a",
       "version_major": 2,
       "version_minor": 0
      },
      "text/plain": [
       "Batches:   0%|          | 0/1 [00:00<?, ?it/s]"
      ]
     },
     "metadata": {},
     "output_type": "display_data"
    },
    {
     "name": "stderr",
     "output_type": "stream",
     "text": [
      "/usr/local/lib/python3.10/dist-packages/transformers/generation/configuration_utils.py:633: UserWarning: `do_sample` is set to `False`. However, `top_p` is set to `0.9` -- this flag is only used in sample-based generation modes. You should set `do_sample=True` or unset `top_p`.\n",
      "  warnings.warn(\n"
     ]
    },
    {
     "data": {
      "application/vnd.jupyter.widget-view+json": {
       "model_id": "1d369ead365d4fb0a3a22bb4c2e0ec40",
       "version_major": 2,
       "version_minor": 0
      },
      "text/plain": [
       "Batches:   0%|          | 0/1 [00:00<?, ?it/s]"
      ]
     },
     "metadata": {},
     "output_type": "display_data"
    },
    {
     "data": {
      "application/vnd.jupyter.widget-view+json": {
       "model_id": "d026889057904435abd237bcca32c785",
       "version_major": 2,
       "version_minor": 0
      },
      "text/plain": [
       "Batches:   0%|          | 0/1 [00:00<?, ?it/s]"
      ]
     },
     "metadata": {},
     "output_type": "display_data"
    },
    {
     "name": "stdout",
     "output_type": "stream",
     "text": [
      "• Cosine Similarity: 0.1801\n",
      "• Perplexity: 9.57\n",
      "------------------------------------------------------------\n",
      "Query: What advice would you give to other researchers working in this area?\n",
      "Generated Answer: [\"I'm not an expert in this field, but I think it's important to note that this is not the first study of its kind. There's a lot of work going on in the field of electrocatalysts for water splitting right now, and I'm sure there will be more to come. However, this study is a good starting point. It shows that the structure and activity of the catalyst is strongly influenced by the surface structure. This suggests that future research should focus on developing new catalysts with well-defined and controlled surface structures.\"]\n",
      "Evaluation Result: {'cosine_similarities': [0.18012547], 'perplexities': [9.573394775390625], 'answers': [[\"I'm not an expert in this field, but I think it's important to note that this is not the first study of its kind. There's a lot of work going on in the field of electrocatalysts for water splitting right now, and I'm sure there will be more to come. However, this study is a good starting point. It shows that the structure and activity of the catalyst is strongly influenced by the surface structure. This suggests that future research should focus on developing new catalysts with well-defined and controlled surface structures.\"]]}\n",
      "\n"
     ]
    },
    {
     "data": {
      "application/vnd.jupyter.widget-view+json": {
       "model_id": "d2c70f7a1d204e6c9bc7090f23a6028d",
       "version_major": 2,
       "version_minor": 0
      },
      "text/plain": [
       "Batches:   0%|          | 0/1 [00:00<?, ?it/s]"
      ]
     },
     "metadata": {},
     "output_type": "display_data"
    },
    {
     "name": "stderr",
     "output_type": "stream",
     "text": [
      "/usr/local/lib/python3.10/dist-packages/transformers/generation/configuration_utils.py:633: UserWarning: `do_sample` is set to `False`. However, `top_p` is set to `0.9` -- this flag is only used in sample-based generation modes. You should set `do_sample=True` or unset `top_p`.\n",
      "  warnings.warn(\n"
     ]
    },
    {
     "data": {
      "application/vnd.jupyter.widget-view+json": {
       "model_id": "fcfa5e069dda4b79bb9198e0d9708069",
       "version_major": 2,
       "version_minor": 0
      },
      "text/plain": [
       "Batches:   0%|          | 0/1 [00:00<?, ?it/s]"
      ]
     },
     "metadata": {},
     "output_type": "display_data"
    },
    {
     "data": {
      "application/vnd.jupyter.widget-view+json": {
       "model_id": "da11c6e2f84448e093595df766896f39",
       "version_major": 2,
       "version_minor": 0
      },
      "text/plain": [
       "Batches:   0%|          | 0/1 [00:00<?, ?it/s]"
      ]
     },
     "metadata": {},
     "output_type": "display_data"
    },
    {
     "name": "stdout",
     "output_type": "stream",
     "text": [
      "• Cosine Similarity: 0.7603\n",
      "• Perplexity: 19.87\n",
      "------------------------------------------------------------\n",
      "Query: Investigate the effect of different light sources (e.g., sunlight, LED) on photocatalytic activity.\n",
      "Generated Answer: ['Visible light plays a crucial role in driving photocatalytic reactions and contributes to the efficiency and sustainability of the process in several ways:Efficiency: Visible light has a longer wavelength and lower energy than UV light, which means that it can penetrate deeper into the material, leading to more efficient light absorption and charge generation. This allows for better control over the reaction selectivity and the production of desired products.Sustainability: The use of visible light reduces the need for UV lamps or high-energy radiation sources which can be energy-intensive and environmentally harmful.']\n",
      "Evaluation Result: {'cosine_similarities': [0.76026094], 'perplexities': [19.871051788330078], 'answers': [['Visible light plays a crucial role in driving photocatalytic reactions and contributes to the efficiency and sustainability of the process in several ways:Efficiency: Visible light has a longer wavelength and lower energy than UV light, which means that it can penetrate deeper into the material, leading to more efficient light absorption and charge generation. This allows for better control over the reaction selectivity and the production of desired products.Sustainability: The use of visible light reduces the need for UV lamps or high-energy radiation sources which can be energy-intensive and environmentally harmful.']]}\n",
      "\n"
     ]
    },
    {
     "data": {
      "application/vnd.jupyter.widget-view+json": {
       "model_id": "f1e1d1008f214ee9ba8aa0e21fbfb68e",
       "version_major": 2,
       "version_minor": 0
      },
      "text/plain": [
       "Batches:   0%|          | 0/1 [00:00<?, ?it/s]"
      ]
     },
     "metadata": {},
     "output_type": "display_data"
    },
    {
     "name": "stderr",
     "output_type": "stream",
     "text": [
      "/usr/local/lib/python3.10/dist-packages/transformers/generation/configuration_utils.py:633: UserWarning: `do_sample` is set to `False`. However, `top_p` is set to `0.9` -- this flag is only used in sample-based generation modes. You should set `do_sample=True` or unset `top_p`.\n",
      "  warnings.warn(\n"
     ]
    },
    {
     "data": {
      "application/vnd.jupyter.widget-view+json": {
       "model_id": "09c2e46afde449c19f3f2d15f0acc56e",
       "version_major": 2,
       "version_minor": 0
      },
      "text/plain": [
       "Batches:   0%|          | 0/1 [00:00<?, ?it/s]"
      ]
     },
     "metadata": {},
     "output_type": "display_data"
    },
    {
     "data": {
      "application/vnd.jupyter.widget-view+json": {
       "model_id": "30e5e8a58c874061b86f3a23fee1ac73",
       "version_major": 2,
       "version_minor": 0
      },
      "text/plain": [
       "Batches:   0%|          | 0/1 [00:00<?, ?it/s]"
      ]
     },
     "metadata": {},
     "output_type": "display_data"
    },
    {
     "name": "stdout",
     "output_type": "stream",
     "text": [
      "• Cosine Similarity: 0.6073\n",
      "• Perplexity: 20.46\n",
      "------------------------------------------------------------\n",
      "Query: Explore the impact of different electrolytes and concentrations on electrocatalytic performance.\n",
      "Generated Answer: ['The different properties and reactivities of electrocatalysts, ranging from noble metals to iron (Fe), significantly influence their performance in water electrolysis. For example, a noble metal has a high intrinsic activity for both the hydrogen evolution reaction (HER) and oxygen evolution (OER), enabling efficient water splitting. A transition metal, on the other hand, tends to have a lower activity, and is more prone to corrosion and degradation, especially in acidic environments. This is why transition metals tend to be more abundant and less expensive, making them attractive for cost-effective applications.']\n",
      "Evaluation Result: {'cosine_similarities': [0.60730344], 'perplexities': [20.464340209960938], 'answers': [['The different properties and reactivities of electrocatalysts, ranging from noble metals to iron (Fe), significantly influence their performance in water electrolysis. For example, a noble metal has a high intrinsic activity for both the hydrogen evolution reaction (HER) and oxygen evolution (OER), enabling efficient water splitting. A transition metal, on the other hand, tends to have a lower activity, and is more prone to corrosion and degradation, especially in acidic environments. This is why transition metals tend to be more abundant and less expensive, making them attractive for cost-effective applications.']]}\n",
      "\n"
     ]
    },
    {
     "data": {
      "application/vnd.jupyter.widget-view+json": {
       "model_id": "5e91966a66914faba1d293e72c21a941",
       "version_major": 2,
       "version_minor": 0
      },
      "text/plain": [
       "Batches:   0%|          | 0/1 [00:00<?, ?it/s]"
      ]
     },
     "metadata": {},
     "output_type": "display_data"
    },
    {
     "name": "stderr",
     "output_type": "stream",
     "text": [
      "/usr/local/lib/python3.10/dist-packages/transformers/generation/configuration_utils.py:633: UserWarning: `do_sample` is set to `False`. However, `top_p` is set to `0.9` -- this flag is only used in sample-based generation modes. You should set `do_sample=True` or unset `top_p`.\n",
      "  warnings.warn(\n"
     ]
    },
    {
     "data": {
      "application/vnd.jupyter.widget-view+json": {
       "model_id": "c835cc2ee760460bb0ded7ba8a884405",
       "version_major": 2,
       "version_minor": 0
      },
      "text/plain": [
       "Batches:   0%|          | 0/1 [00:00<?, ?it/s]"
      ]
     },
     "metadata": {},
     "output_type": "display_data"
    },
    {
     "data": {
      "application/vnd.jupyter.widget-view+json": {
       "model_id": "514fb891d1d14f859265cc2e5c4313cf",
       "version_major": 2,
       "version_minor": 0
      },
      "text/plain": [
       "Batches:   0%|          | 0/1 [00:00<?, ?it/s]"
      ]
     },
     "metadata": {},
     "output_type": "display_data"
    },
    {
     "name": "stdout",
     "output_type": "stream",
     "text": [
      "• Cosine Similarity: 0.8174\n",
      "• Perplexity: 15.28\n",
      "------------------------------------------------------------\n",
      "Query: Study the effect of temperature on both photocatalytic and electrocatalytic water splitting.\n",
      "Generated Answer: [\"The research article explores the key aspects of photocatalytic and electrolytic water splitting, including the advantages and challenges, the influence of synthesis methods, and potential applications in hydrogen production and clean energy technologies. The paper is available online for free on the JSTOR website. You can read more about the research in the abstract here. It's also worth noting that the article is not peer reviewed, so it may not be of any use to anyone who has access to a copy of it.\"]\n",
      "Evaluation Result: {'cosine_similarities': [0.81741595], 'perplexities': [15.280999183654785], 'answers': [[\"The research article explores the key aspects of photocatalytic and electrolytic water splitting, including the advantages and challenges, the influence of synthesis methods, and potential applications in hydrogen production and clean energy technologies. The paper is available online for free on the JSTOR website. You can read more about the research in the abstract here. It's also worth noting that the article is not peer reviewed, so it may not be of any use to anyone who has access to a copy of it.\"]]}\n",
      "\n"
     ]
    },
    {
     "data": {
      "application/vnd.jupyter.widget-view+json": {
       "model_id": "8507d823be4b47f5a1e11614ebf918b5",
       "version_major": 2,
       "version_minor": 0
      },
      "text/plain": [
       "Batches:   0%|          | 0/1 [00:00<?, ?it/s]"
      ]
     },
     "metadata": {},
     "output_type": "display_data"
    },
    {
     "name": "stderr",
     "output_type": "stream",
     "text": [
      "/usr/local/lib/python3.10/dist-packages/transformers/generation/configuration_utils.py:633: UserWarning: `do_sample` is set to `False`. However, `top_p` is set to `0.9` -- this flag is only used in sample-based generation modes. You should set `do_sample=True` or unset `top_p`.\n",
      "  warnings.warn(\n"
     ]
    },
    {
     "data": {
      "application/vnd.jupyter.widget-view+json": {
       "model_id": "8e11617887c14e9b82256629ec86f80b",
       "version_major": 2,
       "version_minor": 0
      },
      "text/plain": [
       "Batches:   0%|          | 0/1 [00:00<?, ?it/s]"
      ]
     },
     "metadata": {},
     "output_type": "display_data"
    },
    {
     "data": {
      "application/vnd.jupyter.widget-view+json": {
       "model_id": "5ae28cfaf34d419dac3411993649667f",
       "version_major": 2,
       "version_minor": 0
      },
      "text/plain": [
       "Batches:   0%|          | 0/1 [00:00<?, ?it/s]"
      ]
     },
     "metadata": {},
     "output_type": "display_data"
    },
    {
     "name": "stdout",
     "output_type": "stream",
     "text": [
      "• Cosine Similarity: 0.3378\n",
      "• Perplexity: 6.48\n",
      "------------------------------------------------------------\n",
      "Query: Develop in-situ characterization techniques to monitor the material during the water splitting process.\n",
      "Generated Answer: [\"I'm not sure if this is what you're looking for, but I'll give it a shot. First of all, you want to make sure that the 2D nanomaterials don't interfere with each other in any way. For example, if you have a material that absorbs light and reflects it back to you, then you can't use it to split water. If you use the material as a catalyst, it will absorb the light, and reflect the reflected light back into your eyes. This means that you won't be able to see the difference between the two, so you'll have to use a different type of light source to get the same effect. Second, I'd like to point out that there are a lot of different ways to do this experiment. You can use different materials, or you could use two different types of materials. I'm going to focus on the latter, because that's what I know the most about.\"]\n",
      "Evaluation Result: {'cosine_similarities': [0.33775952], 'perplexities': [6.480774879455566], 'answers': [[\"I'm not sure if this is what you're looking for, but I'll give it a shot. First of all, you want to make sure that the 2D nanomaterials don't interfere with each other in any way. For example, if you have a material that absorbs light and reflects it back to you, then you can't use it to split water. If you use the material as a catalyst, it will absorb the light, and reflect the reflected light back into your eyes. This means that you won't be able to see the difference between the two, so you'll have to use a different type of light source to get the same effect. Second, I'd like to point out that there are a lot of different ways to do this experiment. You can use different materials, or you could use two different types of materials. I'm going to focus on the latter, because that's what I know the most about.\"]]}\n",
      "\n"
     ]
    },
    {
     "data": {
      "application/vnd.jupyter.widget-view+json": {
       "model_id": "2ed85fae324947a7a4696b473029cb3a",
       "version_major": 2,
       "version_minor": 0
      },
      "text/plain": [
       "Batches:   0%|          | 0/1 [00:00<?, ?it/s]"
      ]
     },
     "metadata": {},
     "output_type": "display_data"
    },
    {
     "name": "stderr",
     "output_type": "stream",
     "text": [
      "/usr/local/lib/python3.10/dist-packages/transformers/generation/configuration_utils.py:633: UserWarning: `do_sample` is set to `False`. However, `top_p` is set to `0.9` -- this flag is only used in sample-based generation modes. You should set `do_sample=True` or unset `top_p`.\n",
      "  warnings.warn(\n"
     ]
    },
    {
     "data": {
      "application/vnd.jupyter.widget-view+json": {
       "model_id": "a982a8425ca44717b017a51e97f8c5a1",
       "version_major": 2,
       "version_minor": 0
      },
      "text/plain": [
       "Batches:   0%|          | 0/1 [00:00<?, ?it/s]"
      ]
     },
     "metadata": {},
     "output_type": "display_data"
    },
    {
     "data": {
      "application/vnd.jupyter.widget-view+json": {
       "model_id": "e42c02c7b72747d89624168d8825b3cc",
       "version_major": 2,
       "version_minor": 0
      },
      "text/plain": [
       "Batches:   0%|          | 0/1 [00:00<?, ?it/s]"
      ]
     },
     "metadata": {},
     "output_type": "display_data"
    },
    {
     "name": "stdout",
     "output_type": "stream",
     "text": [
      "• Cosine Similarity: 0.5197\n",
      "• Perplexity: 12.57\n",
      "------------------------------------------------------------\n",
      "Query: Employ computational modelling to understand the reaction mechanism at the atomic level.\n",
      "Generated Answer: ['Computational methods can be used to design new 2D materials with improved catalytic activity. For example, you can use computational methods to predict the properties of various materials and then design materials that have desirable properties for hydrogen evolution. The problem is that there are a lot of things that can go wrong when you try to do this. One of the most important things to keep in mind is the number of atoms in a material. If you want to know more about this, check out this paper.']\n",
      "Evaluation Result: {'cosine_similarities': [0.5197448], 'perplexities': [12.570649147033691], 'answers': [['Computational methods can be used to design new 2D materials with improved catalytic activity. For example, you can use computational methods to predict the properties of various materials and then design materials that have desirable properties for hydrogen evolution. The problem is that there are a lot of things that can go wrong when you try to do this. One of the most important things to keep in mind is the number of atoms in a material. If you want to know more about this, check out this paper.']]}\n",
      "\n"
     ]
    },
    {
     "data": {
      "application/vnd.jupyter.widget-view+json": {
       "model_id": "86400acc2ab74aea9d9efde5604ff7f9",
       "version_major": 2,
       "version_minor": 0
      },
      "text/plain": [
       "Batches:   0%|          | 0/1 [00:00<?, ?it/s]"
      ]
     },
     "metadata": {},
     "output_type": "display_data"
    },
    {
     "name": "stderr",
     "output_type": "stream",
     "text": [
      "/usr/local/lib/python3.10/dist-packages/transformers/generation/configuration_utils.py:633: UserWarning: `do_sample` is set to `False`. However, `top_p` is set to `0.9` -- this flag is only used in sample-based generation modes. You should set `do_sample=True` or unset `top_p`.\n",
      "  warnings.warn(\n"
     ]
    },
    {
     "data": {
      "application/vnd.jupyter.widget-view+json": {
       "model_id": "f0a8fb1890c24e7bbead4376b39d56aa",
       "version_major": 2,
       "version_minor": 0
      },
      "text/plain": [
       "Batches:   0%|          | 0/1 [00:00<?, ?it/s]"
      ]
     },
     "metadata": {},
     "output_type": "display_data"
    },
    {
     "data": {
      "application/vnd.jupyter.widget-view+json": {
       "model_id": "9e13e7f822e24aac89dd6b3697951052",
       "version_major": 2,
       "version_minor": 0
      },
      "text/plain": [
       "Batches:   0%|          | 0/1 [00:00<?, ?it/s]"
      ]
     },
     "metadata": {},
     "output_type": "display_data"
    },
    {
     "name": "stdout",
     "output_type": "stream",
     "text": [
      "• Cosine Similarity: 0.6605\n",
      "• Perplexity: 8.91\n",
      "------------------------------------------------------------\n",
      "Query: Design and fabricating prototype devices for practical hydrogen generation.\n",
      "Generated Answer: ['Hydrogen is a versatile fuel that can be used in a variety of applications, including fuel cells, internal combustion engines, and industrial processes. There are a number of different methods for generating hydrogen, but the most common method of hydrogen production is steam reforming, which involves reacting natural gas with steam in the presence of a catalyst. This process produces hydrogen and carbon dioxide, carbon monoxide and other gases. The cost of this method depends on the cost, efficiency and environmental impact of the process. It is also more expensive than other methods.']\n",
      "Evaluation Result: {'cosine_similarities': [0.66046095], 'perplexities': [8.90922737121582], 'answers': [['Hydrogen is a versatile fuel that can be used in a variety of applications, including fuel cells, internal combustion engines, and industrial processes. There are a number of different methods for generating hydrogen, but the most common method of hydrogen production is steam reforming, which involves reacting natural gas with steam in the presence of a catalyst. This process produces hydrogen and carbon dioxide, carbon monoxide and other gases. The cost of this method depends on the cost, efficiency and environmental impact of the process. It is also more expensive than other methods.']]}\n",
      "\n"
     ]
    },
    {
     "data": {
      "application/vnd.jupyter.widget-view+json": {
       "model_id": "cfbec1d9e8fa462f946a1a46a121007e",
       "version_major": 2,
       "version_minor": 0
      },
      "text/plain": [
       "Batches:   0%|          | 0/1 [00:00<?, ?it/s]"
      ]
     },
     "metadata": {},
     "output_type": "display_data"
    },
    {
     "name": "stderr",
     "output_type": "stream",
     "text": [
      "/usr/local/lib/python3.10/dist-packages/transformers/generation/configuration_utils.py:633: UserWarning: `do_sample` is set to `False`. However, `top_p` is set to `0.9` -- this flag is only used in sample-based generation modes. You should set `do_sample=True` or unset `top_p`.\n",
      "  warnings.warn(\n"
     ]
    },
    {
     "data": {
      "application/vnd.jupyter.widget-view+json": {
       "model_id": "e58aefaab51f4c77bdc4458c683b8633",
       "version_major": 2,
       "version_minor": 0
      },
      "text/plain": [
       "Batches:   0%|          | 0/1 [00:00<?, ?it/s]"
      ]
     },
     "metadata": {},
     "output_type": "display_data"
    },
    {
     "data": {
      "application/vnd.jupyter.widget-view+json": {
       "model_id": "90e2692507164ea3aed06b43be117c2b",
       "version_major": 2,
       "version_minor": 0
      },
      "text/plain": [
       "Batches:   0%|          | 0/1 [00:00<?, ?it/s]"
      ]
     },
     "metadata": {},
     "output_type": "display_data"
    },
    {
     "name": "stdout",
     "output_type": "stream",
     "text": [
      "• Cosine Similarity: 0.4761\n",
      "• Perplexity: 16.63\n",
      "------------------------------------------------------------\n",
      "Query: Conduct life cycle analysis to assess the environmental impact of your water splitting technology.\n",
      "Generated Answer: ['Electrochemical water or wastewater splitting uses electricity to split water into hydrogen and oxygen, without the emission of greenhouse gases or other pollutants. The hydrogen can be used as a fuel in various applications, including fuel cells, transportation, and industrial processes. Pollutant removal and resource recovery can simultaneously treat wastewater and generate hydrogen. For example, if you want to remove heavy metals from your wastewater, you can use electrolysis to separate the metals out of the water and use the hydrogen to produce electricity.']\n",
      "Evaluation Result: {'cosine_similarities': [0.47611898], 'perplexities': [16.633089065551758], 'answers': [['Electrochemical water or wastewater splitting uses electricity to split water into hydrogen and oxygen, without the emission of greenhouse gases or other pollutants. The hydrogen can be used as a fuel in various applications, including fuel cells, transportation, and industrial processes. Pollutant removal and resource recovery can simultaneously treat wastewater and generate hydrogen. For example, if you want to remove heavy metals from your wastewater, you can use electrolysis to separate the metals out of the water and use the hydrogen to produce electricity.']]}\n",
      "\n"
     ]
    },
    {
     "data": {
      "application/vnd.jupyter.widget-view+json": {
       "model_id": "e258d45533b344219d3192be9f49583d",
       "version_major": 2,
       "version_minor": 0
      },
      "text/plain": [
       "Batches:   0%|          | 0/1 [00:00<?, ?it/s]"
      ]
     },
     "metadata": {},
     "output_type": "display_data"
    },
    {
     "name": "stderr",
     "output_type": "stream",
     "text": [
      "/usr/local/lib/python3.10/dist-packages/transformers/generation/configuration_utils.py:633: UserWarning: `do_sample` is set to `False`. However, `top_p` is set to `0.9` -- this flag is only used in sample-based generation modes. You should set `do_sample=True` or unset `top_p`.\n",
      "  warnings.warn(\n"
     ]
    },
    {
     "data": {
      "application/vnd.jupyter.widget-view+json": {
       "model_id": "f7c8abae9123494caa5ad440c5cd8b7c",
       "version_major": 2,
       "version_minor": 0
      },
      "text/plain": [
       "Batches:   0%|          | 0/1 [00:00<?, ?it/s]"
      ]
     },
     "metadata": {},
     "output_type": "display_data"
    },
    {
     "data": {
      "application/vnd.jupyter.widget-view+json": {
       "model_id": "9e3f48d040594a29b11e671e0fe468ea",
       "version_major": 2,
       "version_minor": 0
      },
      "text/plain": [
       "Batches:   0%|          | 0/1 [00:00<?, ?it/s]"
      ]
     },
     "metadata": {},
     "output_type": "display_data"
    },
    {
     "name": "stdout",
     "output_type": "stream",
     "text": [
      "• Cosine Similarity: 0.5668\n",
      "• Perplexity: 6.48\n",
      "------------------------------------------------------------\n",
      "Query: Perform experiments without the 2D nanomaterial to establish a baseline for comparison.\n",
      "Generated Answer: [\"I'm not sure if this is what you're looking for, but I'll give it a shot. First of all, you want to make sure that the 2D nanomaterials don't interfere with each other in any way. For example, if you have a material that absorbs light and reflects it back to you, then you can't use it to split water. If you use the material as a catalyst, it will absorb the light, and reflect the reflected light back into your eyes. This means that you won't be able to see the difference between the two, so you'll have to use a different type of light source to get the same effect. Second, I'd like to point out that there are a lot of different ways to do this experiment. You can use different materials, or you could use two different types of materials. I'm going to focus on the latter, because that's what I know the most about.\"]\n",
      "Evaluation Result: {'cosine_similarities': [0.56681037], 'perplexities': [6.480774879455566], 'answers': [[\"I'm not sure if this is what you're looking for, but I'll give it a shot. First of all, you want to make sure that the 2D nanomaterials don't interfere with each other in any way. For example, if you have a material that absorbs light and reflects it back to you, then you can't use it to split water. If you use the material as a catalyst, it will absorb the light, and reflect the reflected light back into your eyes. This means that you won't be able to see the difference between the two, so you'll have to use a different type of light source to get the same effect. Second, I'd like to point out that there are a lot of different ways to do this experiment. You can use different materials, or you could use two different types of materials. I'm going to focus on the latter, because that's what I know the most about.\"]]}\n",
      "\n"
     ]
    },
    {
     "data": {
      "application/vnd.jupyter.widget-view+json": {
       "model_id": "56f0cfe6d6444188b6c8f4810d60dde6",
       "version_major": 2,
       "version_minor": 0
      },
      "text/plain": [
       "Batches:   0%|          | 0/1 [00:00<?, ?it/s]"
      ]
     },
     "metadata": {},
     "output_type": "display_data"
    },
    {
     "name": "stderr",
     "output_type": "stream",
     "text": [
      "/usr/local/lib/python3.10/dist-packages/transformers/generation/configuration_utils.py:633: UserWarning: `do_sample` is set to `False`. However, `top_p` is set to `0.9` -- this flag is only used in sample-based generation modes. You should set `do_sample=True` or unset `top_p`.\n",
      "  warnings.warn(\n"
     ]
    },
    {
     "data": {
      "application/vnd.jupyter.widget-view+json": {
       "model_id": "ab41fde0b8c74445ad0f887d086a63d6",
       "version_major": 2,
       "version_minor": 0
      },
      "text/plain": [
       "Batches:   0%|          | 0/1 [00:00<?, ?it/s]"
      ]
     },
     "metadata": {},
     "output_type": "display_data"
    },
    {
     "data": {
      "application/vnd.jupyter.widget-view+json": {
       "model_id": "6ce38ccca46240799a313b8610a54c63",
       "version_major": 2,
       "version_minor": 0
      },
      "text/plain": [
       "Batches:   0%|          | 0/1 [00:00<?, ?it/s]"
      ]
     },
     "metadata": {},
     "output_type": "display_data"
    },
    {
     "name": "stdout",
     "output_type": "stream",
     "text": [
      "• Cosine Similarity: 0.4678\n",
      "• Perplexity: 19.63\n",
      "------------------------------------------------------------\n",
      "Query: Test the activity of your 2D nanomaterial for other reactions (e.g., CO2 reduction) to assess its selectivity.\n",
      "Generated Answer: ['The properties of 2D materials can be tailored to enhance their catalytic activity and selectivity for hydrogen generation and carbon dioxide reduction reactions in a number of ways. For example, a heterojunction between two molybdenum disulfide and two graphene has been shown to have improved the reactivity of H2O2 and CO2. This could lead to the development of more efficient and cost-effective catalysts for these reactions. Doping with other elements can change their electronic properties and improve their catalyst activity.']\n",
      "Evaluation Result: {'cosine_similarities': [0.46780184], 'perplexities': [19.634065628051758], 'answers': [['The properties of 2D materials can be tailored to enhance their catalytic activity and selectivity for hydrogen generation and carbon dioxide reduction reactions in a number of ways. For example, a heterojunction between two molybdenum disulfide and two graphene has been shown to have improved the reactivity of H2O2 and CO2. This could lead to the development of more efficient and cost-effective catalysts for these reactions. Doping with other elements can change their electronic properties and improve their catalyst activity.']]}\n",
      "\n"
     ]
    },
    {
     "data": {
      "application/vnd.jupyter.widget-view+json": {
       "model_id": "f06778f41f3d4f63b772ccd6a949a4b6",
       "version_major": 2,
       "version_minor": 0
      },
      "text/plain": [
       "Batches:   0%|          | 0/1 [00:00<?, ?it/s]"
      ]
     },
     "metadata": {},
     "output_type": "display_data"
    },
    {
     "name": "stderr",
     "output_type": "stream",
     "text": [
      "/usr/local/lib/python3.10/dist-packages/transformers/generation/configuration_utils.py:633: UserWarning: `do_sample` is set to `False`. However, `top_p` is set to `0.9` -- this flag is only used in sample-based generation modes. You should set `do_sample=True` or unset `top_p`.\n",
      "  warnings.warn(\n"
     ]
    },
    {
     "data": {
      "application/vnd.jupyter.widget-view+json": {
       "model_id": "1c966f63426e42508c5c807209e8f939",
       "version_major": 2,
       "version_minor": 0
      },
      "text/plain": [
       "Batches:   0%|          | 0/1 [00:00<?, ?it/s]"
      ]
     },
     "metadata": {},
     "output_type": "display_data"
    },
    {
     "data": {
      "application/vnd.jupyter.widget-view+json": {
       "model_id": "ee69cfbf9786497eb7424f36f901b902",
       "version_major": 2,
       "version_minor": 0
      },
      "text/plain": [
       "Batches:   0%|          | 0/1 [00:00<?, ?it/s]"
      ]
     },
     "metadata": {},
     "output_type": "display_data"
    },
    {
     "name": "stdout",
     "output_type": "stream",
     "text": [
      "• Cosine Similarity: 0.0561\n",
      "• Perplexity: 27.93\n",
      "------------------------------------------------------------\n",
      "Query: Use different characterization techniques to confirm the consistency of your results.\n",
      "Generated Answer: ['XRD (X-ray diffraction): Provides information about the crystal structure, phase composition, and crystallite size of the composite photocatalysts. Can identify different crystalline phases and determine the preferred orientation.SEM (Scanning Electron Microscopy): Reveals the surface morphology and microstructure. Allows for the visualization of particle size, shape, distribution.PL (Photoluminescence) spectroscopy: Examines the emission of light by the composites. Determines the number of active sites available for catalytic reactions.']\n",
      "Evaluation Result: {'cosine_similarities': [0.056111902], 'perplexities': [27.925413131713867], 'answers': [['XRD (X-ray diffraction): Provides information about the crystal structure, phase composition, and crystallite size of the composite photocatalysts. Can identify different crystalline phases and determine the preferred orientation.SEM (Scanning Electron Microscopy): Reveals the surface morphology and microstructure. Allows for the visualization of particle size, shape, distribution.PL (Photoluminescence) spectroscopy: Examines the emission of light by the composites. Determines the number of active sites available for catalytic reactions.']]}\n",
      "\n"
     ]
    },
    {
     "data": {
      "application/vnd.jupyter.widget-view+json": {
       "model_id": "4a988b82f4ec460a881aa32ef594bba7",
       "version_major": 2,
       "version_minor": 0
      },
      "text/plain": [
       "Batches:   0%|          | 0/1 [00:00<?, ?it/s]"
      ]
     },
     "metadata": {},
     "output_type": "display_data"
    },
    {
     "data": {
      "application/vnd.jupyter.widget-view+json": {
       "model_id": "5cdd3811fe564c7790305aa2b9fad103",
       "version_major": 2,
       "version_minor": 0
      },
      "text/plain": [
       "Batches:   0%|          | 0/1 [00:00<?, ?it/s]"
      ]
     },
     "metadata": {},
     "output_type": "display_data"
    },
    {
     "data": {
      "application/vnd.jupyter.widget-view+json": {
       "model_id": "5e9918e096bb456eb429348cab07aab5",
       "version_major": 2,
       "version_minor": 0
      },
      "text/plain": [
       "Batches:   0%|          | 0/1 [00:00<?, ?it/s]"
      ]
     },
     "metadata": {},
     "output_type": "display_data"
    },
    {
     "name": "stdout",
     "output_type": "stream",
     "text": [
      "• Cosine Similarity: -0.0020\n",
      "• Perplexity: 2663.32\n",
      "------------------------------------------------------------\n",
      "Query: Repeat experiments multiple times to ensure reproducibility and statistical significance.\n",
      "Generated Answer: Answer not found\n",
      "Evaluation Result: {'cosine_similarities': [-0.0019537453], 'perplexities': [2663.32470703125], 'answers': ['Answer not found']}\n",
      "\n"
     ]
    },
    {
     "data": {
      "application/vnd.jupyter.widget-view+json": {
       "model_id": "e621759466944052952c9ec4712ed575",
       "version_major": 2,
       "version_minor": 0
      },
      "text/plain": [
       "Batches:   0%|          | 0/1 [00:00<?, ?it/s]"
      ]
     },
     "metadata": {},
     "output_type": "display_data"
    },
    {
     "name": "stderr",
     "output_type": "stream",
     "text": [
      "/usr/local/lib/python3.10/dist-packages/transformers/generation/configuration_utils.py:633: UserWarning: `do_sample` is set to `False`. However, `top_p` is set to `0.9` -- this flag is only used in sample-based generation modes. You should set `do_sample=True` or unset `top_p`.\n",
      "  warnings.warn(\n"
     ]
    },
    {
     "data": {
      "application/vnd.jupyter.widget-view+json": {
       "model_id": "e74f9eb80f1e4b7f992133b2581a8ddf",
       "version_major": 2,
       "version_minor": 0
      },
      "text/plain": [
       "Batches:   0%|          | 0/1 [00:00<?, ?it/s]"
      ]
     },
     "metadata": {},
     "output_type": "display_data"
    },
    {
     "data": {
      "application/vnd.jupyter.widget-view+json": {
       "model_id": "3ef2c9fd981a4711a77e5d4bbd422067",
       "version_major": 2,
       "version_minor": 0
      },
      "text/plain": [
       "Batches:   0%|          | 0/1 [00:00<?, ?it/s]"
      ]
     },
     "metadata": {},
     "output_type": "display_data"
    },
    {
     "name": "stdout",
     "output_type": "stream",
     "text": [
      "• Cosine Similarity: 0.3480\n",
      "• Perplexity: 18.24\n",
      "------------------------------------------------------------\n",
      "Query: How do you calculate the hydrogen evolution rate from your experimental data?\n",
      "Generated Answer: [\"The reaction rate at 50°C will be 20 mmol/h. This is calculated using the Arrhenius equation, considering the activation energy and temperature change. If you want to know more about the reaction, you can look up the reactivity of water at the same temperature and pressure, or the temperature difference between water and air. Edit: I forgot to mention that water is a polar molecule, not a solid. It's a liquid. You can think of it as a gas.\"]\n",
      "Evaluation Result: {'cosine_similarities': [0.34802324], 'perplexities': [18.24041175842285], 'answers': [[\"The reaction rate at 50°C will be 20 mmol/h. This is calculated using the Arrhenius equation, considering the activation energy and temperature change. If you want to know more about the reaction, you can look up the reactivity of water at the same temperature and pressure, or the temperature difference between water and air. Edit: I forgot to mention that water is a polar molecule, not a solid. It's a liquid. You can think of it as a gas.\"]]}\n",
      "\n"
     ]
    },
    {
     "data": {
      "application/vnd.jupyter.widget-view+json": {
       "model_id": "ee58223745ee4aeb9f4e8e2f5e442b01",
       "version_major": 2,
       "version_minor": 0
      },
      "text/plain": [
       "Batches:   0%|          | 0/1 [00:00<?, ?it/s]"
      ]
     },
     "metadata": {},
     "output_type": "display_data"
    },
    {
     "name": "stderr",
     "output_type": "stream",
     "text": [
      "/usr/local/lib/python3.10/dist-packages/transformers/generation/configuration_utils.py:633: UserWarning: `do_sample` is set to `False`. However, `top_p` is set to `0.9` -- this flag is only used in sample-based generation modes. You should set `do_sample=True` or unset `top_p`.\n",
      "  warnings.warn(\n"
     ]
    },
    {
     "data": {
      "application/vnd.jupyter.widget-view+json": {
       "model_id": "f6e0cbeafa92452ba4ec6658d1812049",
       "version_major": 2,
       "version_minor": 0
      },
      "text/plain": [
       "Batches:   0%|          | 0/1 [00:00<?, ?it/s]"
      ]
     },
     "metadata": {},
     "output_type": "display_data"
    },
    {
     "data": {
      "application/vnd.jupyter.widget-view+json": {
       "model_id": "380378378ebc431d8f6858087f02878c",
       "version_major": 2,
       "version_minor": 0
      },
      "text/plain": [
       "Batches:   0%|          | 0/1 [00:00<?, ?it/s]"
      ]
     },
     "metadata": {},
     "output_type": "display_data"
    },
    {
     "name": "stdout",
     "output_type": "stream",
     "text": [
      "• Cosine Similarity: 0.5262\n",
      "• Perplexity: 12.20\n",
      "------------------------------------------------------------\n",
      "Query: How do you determine the quantum yield and Faradaic efficiency?\n",
      "Generated Answer: ['The quantum yield of a photocatalytic reaction can be determined by measuring the number of reactant molecules consumed or product molecules produced per photon absorbed. For example, if you want to know how much energy is required to produce a single photon, you can calculate the energy of the reaction by taking the photon energy and multiplying it by the product molecule\\'s energy, and then multiplying the total energy by its energy. This is known as the \"quantum yield\" of photocathalysis. Edit:']\n",
      "Evaluation Result: {'cosine_similarities': [0.5261791], 'perplexities': [12.2031888961792], 'answers': [['The quantum yield of a photocatalytic reaction can be determined by measuring the number of reactant molecules consumed or product molecules produced per photon absorbed. For example, if you want to know how much energy is required to produce a single photon, you can calculate the energy of the reaction by taking the photon energy and multiplying it by the product molecule\\'s energy, and then multiplying the total energy by its energy. This is known as the \"quantum yield\" of photocathalysis. Edit:']]}\n",
      "\n"
     ]
    },
    {
     "data": {
      "application/vnd.jupyter.widget-view+json": {
       "model_id": "b90c3cec4f42402b911b6bcc9388bd66",
       "version_major": 2,
       "version_minor": 0
      },
      "text/plain": [
       "Batches:   0%|          | 0/1 [00:00<?, ?it/s]"
      ]
     },
     "metadata": {},
     "output_type": "display_data"
    },
    {
     "data": {
      "application/vnd.jupyter.widget-view+json": {
       "model_id": "d98b5c942eef45fba07658a27ee22b00",
       "version_major": 2,
       "version_minor": 0
      },
      "text/plain": [
       "Batches:   0%|          | 0/1 [00:00<?, ?it/s]"
      ]
     },
     "metadata": {},
     "output_type": "display_data"
    },
    {
     "data": {
      "application/vnd.jupyter.widget-view+json": {
       "model_id": "53f9e6cf9fc140bebbf16261af103a44",
       "version_major": 2,
       "version_minor": 0
      },
      "text/plain": [
       "Batches:   0%|          | 0/1 [00:00<?, ?it/s]"
      ]
     },
     "metadata": {},
     "output_type": "display_data"
    },
    {
     "name": "stdout",
     "output_type": "stream",
     "text": [
      "• Cosine Similarity: -0.0031\n",
      "• Perplexity: 2663.32\n",
      "------------------------------------------------------------\n",
      "Query: What statistical analyses are you using to analyze your data?\n",
      "Generated Answer: Answer not found\n",
      "Evaluation Result: {'cosine_similarities': [-0.0031246431], 'perplexities': [2663.32470703125], 'answers': ['Answer not found']}\n",
      "\n"
     ]
    },
    {
     "data": {
      "application/vnd.jupyter.widget-view+json": {
       "model_id": "63be0a5714194d7aae929187f063bff9",
       "version_major": 2,
       "version_minor": 0
      },
      "text/plain": [
       "Batches:   0%|          | 0/1 [00:00<?, ?it/s]"
      ]
     },
     "metadata": {},
     "output_type": "display_data"
    },
    {
     "data": {
      "application/vnd.jupyter.widget-view+json": {
       "model_id": "442961d193c44e72b7f6ee563918e976",
       "version_major": 2,
       "version_minor": 0
      },
      "text/plain": [
       "Batches:   0%|          | 0/1 [00:00<?, ?it/s]"
      ]
     },
     "metadata": {},
     "output_type": "display_data"
    },
    {
     "data": {
      "application/vnd.jupyter.widget-view+json": {
       "model_id": "8c7e336c7c984a3c9eb8f5f22d795f33",
       "version_major": 2,
       "version_minor": 0
      },
      "text/plain": [
       "Batches:   0%|          | 0/1 [00:00<?, ?it/s]"
      ]
     },
     "metadata": {},
     "output_type": "display_data"
    },
    {
     "name": "stdout",
     "output_type": "stream",
     "text": [
      "• Cosine Similarity: 0.0698\n",
      "• Perplexity: 2663.32\n",
      "------------------------------------------------------------\n",
      "Query: How do you interpret the significance of your findings?\n",
      "Generated Answer: Answer not found\n",
      "Evaluation Result: {'cosine_similarities': [0.06980771], 'perplexities': [2663.32470703125], 'answers': ['Answer not found']}\n",
      "\n"
     ]
    },
    {
     "data": {
      "application/vnd.jupyter.widget-view+json": {
       "model_id": "a8b511c49b4c45d7b5facce0f7950d3d",
       "version_major": 2,
       "version_minor": 0
      },
      "text/plain": [
       "Batches:   0%|          | 0/1 [00:00<?, ?it/s]"
      ]
     },
     "metadata": {},
     "output_type": "display_data"
    },
    {
     "data": {
      "application/vnd.jupyter.widget-view+json": {
       "model_id": "6f29f30f50fd4a91a5bac1c9d8890a0c",
       "version_major": 2,
       "version_minor": 0
      },
      "text/plain": [
       "Batches:   0%|          | 0/1 [00:00<?, ?it/s]"
      ]
     },
     "metadata": {},
     "output_type": "display_data"
    },
    {
     "data": {
      "application/vnd.jupyter.widget-view+json": {
       "model_id": "3151caf851a94a8cb49821026fe0d652",
       "version_major": 2,
       "version_minor": 0
      },
      "text/plain": [
       "Batches:   0%|          | 0/1 [00:00<?, ?it/s]"
      ]
     },
     "metadata": {},
     "output_type": "display_data"
    },
    {
     "name": "stdout",
     "output_type": "stream",
     "text": [
      "• Cosine Similarity: 0.0898\n",
      "• Perplexity: 2663.32\n",
      "------------------------------------------------------------\n",
      "Query: Are there alternative explanations for the observed results?\n",
      "Generated Answer: Answer not found\n",
      "Evaluation Result: {'cosine_similarities': [0.08983494], 'perplexities': [2663.32470703125], 'answers': ['Answer not found']}\n",
      "\n"
     ]
    },
    {
     "data": {
      "application/vnd.jupyter.widget-view+json": {
       "model_id": "7cdb4144ddb44a4689c1690b5d682652",
       "version_major": 2,
       "version_minor": 0
      },
      "text/plain": [
       "Batches:   0%|          | 0/1 [00:00<?, ?it/s]"
      ]
     },
     "metadata": {},
     "output_type": "display_data"
    },
    {
     "name": "stderr",
     "output_type": "stream",
     "text": [
      "/usr/local/lib/python3.10/dist-packages/transformers/generation/configuration_utils.py:633: UserWarning: `do_sample` is set to `False`. However, `top_p` is set to `0.9` -- this flag is only used in sample-based generation modes. You should set `do_sample=True` or unset `top_p`.\n",
      "  warnings.warn(\n"
     ]
    },
    {
     "data": {
      "application/vnd.jupyter.widget-view+json": {
       "model_id": "a0cc48a349254e3d938bff6401a0174d",
       "version_major": 2,
       "version_minor": 0
      },
      "text/plain": [
       "Batches:   0%|          | 0/1 [00:00<?, ?it/s]"
      ]
     },
     "metadata": {},
     "output_type": "display_data"
    },
    {
     "data": {
      "application/vnd.jupyter.widget-view+json": {
       "model_id": "e8d2f713cef84d7bad29277c6a902bc5",
       "version_major": 2,
       "version_minor": 0
      },
      "text/plain": [
       "Batches:   0%|          | 0/1 [00:00<?, ?it/s]"
      ]
     },
     "metadata": {},
     "output_type": "display_data"
    },
    {
     "name": "stdout",
     "output_type": "stream",
     "text": [
      "• Cosine Similarity: 0.1697\n",
      "• Perplexity: 10.88\n",
      "------------------------------------------------------------\n",
      "Query: How do your findings relate to existing theories and models?\n",
      "Generated Answer: [\"The key findings of the research are: 1. Improved Mass Transfer: The research demonstrates the importance of mass transfer in enhancing OER activity. 2. Better Catalysts: This is an important step in the development of new catalysts, as they can be used to catalyze a wide range of reactions. 3. Reduction of CO2: In addition to the above, this paper also shows that the reduction of carbon dioxide can also be catalyzed by the use of a catalyst that is porous. This means that you don't have to worry about the surface area of your catalyst being too large or too small for the reaction to occur, and you can use a porous catalyst to achieve the same reaction.\"]\n",
      "Evaluation Result: {'cosine_similarities': [0.16969122], 'perplexities': [10.88278579711914], 'answers': [[\"The key findings of the research are: 1. Improved Mass Transfer: The research demonstrates the importance of mass transfer in enhancing OER activity. 2. Better Catalysts: This is an important step in the development of new catalysts, as they can be used to catalyze a wide range of reactions. 3. Reduction of CO2: In addition to the above, this paper also shows that the reduction of carbon dioxide can also be catalyzed by the use of a catalyst that is porous. This means that you don't have to worry about the surface area of your catalyst being too large or too small for the reaction to occur, and you can use a porous catalyst to achieve the same reaction.\"]]}\n",
      "\n"
     ]
    },
    {
     "data": {
      "application/vnd.jupyter.widget-view+json": {
       "model_id": "566fe099e64f40fd96d82e773a8959c1",
       "version_major": 2,
       "version_minor": 0
      },
      "text/plain": [
       "Batches:   0%|          | 0/1 [00:00<?, ?it/s]"
      ]
     },
     "metadata": {},
     "output_type": "display_data"
    },
    {
     "name": "stderr",
     "output_type": "stream",
     "text": [
      "/usr/local/lib/python3.10/dist-packages/transformers/generation/configuration_utils.py:633: UserWarning: `do_sample` is set to `False`. However, `top_p` is set to `0.9` -- this flag is only used in sample-based generation modes. You should set `do_sample=True` or unset `top_p`.\n",
      "  warnings.warn(\n"
     ]
    },
    {
     "data": {
      "application/vnd.jupyter.widget-view+json": {
       "model_id": "c26ddfeff29841a780c8f4f0675e85da",
       "version_major": 2,
       "version_minor": 0
      },
      "text/plain": [
       "Batches:   0%|          | 0/1 [00:00<?, ?it/s]"
      ]
     },
     "metadata": {},
     "output_type": "display_data"
    },
    {
     "data": {
      "application/vnd.jupyter.widget-view+json": {
       "model_id": "7b579ce25abd49b0b098f63717756926",
       "version_major": 2,
       "version_minor": 0
      },
      "text/plain": [
       "Batches:   0%|          | 0/1 [00:00<?, ?it/s]"
      ]
     },
     "metadata": {},
     "output_type": "display_data"
    },
    {
     "name": "stdout",
     "output_type": "stream",
     "text": [
      "• Cosine Similarity: 0.6679\n",
      "• Perplexity: 16.05\n",
      "------------------------------------------------------------\n",
      "Query: What are the safety precautions necessary when working with hydrogen gas?\n",
      "Generated Answer: [\"The large-scale use of nanomaterials in hydrogen production poses several potential risks that need to be carefully considered and managed: Environmental risks: There is a lot of concern about the release of hydrogen into the environment, and their potential effects on ecosystems and human health. It is important to conduct thorough risk assessments and implement appropriate risk management strategies to mitigate these potential hazards. There are several ways to minimize exposure and protect workers' health, including occupational safety measures, personal protective equipment, etc. The risk of unintended consequences may lead to the development of antimicrobial resistance or the disruption of natural biogeochemical cycles.\"]\n",
      "Evaluation Result: {'cosine_similarities': [0.66791105], 'perplexities': [16.053327560424805], 'answers': [[\"The large-scale use of nanomaterials in hydrogen production poses several potential risks that need to be carefully considered and managed: Environmental risks: There is a lot of concern about the release of hydrogen into the environment, and their potential effects on ecosystems and human health. It is important to conduct thorough risk assessments and implement appropriate risk management strategies to mitigate these potential hazards. There are several ways to minimize exposure and protect workers' health, including occupational safety measures, personal protective equipment, etc. The risk of unintended consequences may lead to the development of antimicrobial resistance or the disruption of natural biogeochemical cycles.\"]]}\n",
      "\n"
     ]
    },
    {
     "data": {
      "application/vnd.jupyter.widget-view+json": {
       "model_id": "be858d5d3ed24d92a0c7ec5ec81446e2",
       "version_major": 2,
       "version_minor": 0
      },
      "text/plain": [
       "Batches:   0%|          | 0/1 [00:00<?, ?it/s]"
      ]
     },
     "metadata": {},
     "output_type": "display_data"
    },
    {
     "name": "stderr",
     "output_type": "stream",
     "text": [
      "/usr/local/lib/python3.10/dist-packages/transformers/generation/configuration_utils.py:633: UserWarning: `do_sample` is set to `False`. However, `top_p` is set to `0.9` -- this flag is only used in sample-based generation modes. You should set `do_sample=True` or unset `top_p`.\n",
      "  warnings.warn(\n"
     ]
    },
    {
     "data": {
      "application/vnd.jupyter.widget-view+json": {
       "model_id": "a1e7dc16f1a74d628be526d0de1dbfaf",
       "version_major": 2,
       "version_minor": 0
      },
      "text/plain": [
       "Batches:   0%|          | 0/1 [00:00<?, ?it/s]"
      ]
     },
     "metadata": {},
     "output_type": "display_data"
    },
    {
     "data": {
      "application/vnd.jupyter.widget-view+json": {
       "model_id": "e6fd254612db44a9819a962d1baf4cf2",
       "version_major": 2,
       "version_minor": 0
      },
      "text/plain": [
       "Batches:   0%|          | 0/1 [00:00<?, ?it/s]"
      ]
     },
     "metadata": {},
     "output_type": "display_data"
    },
    {
     "name": "stdout",
     "output_type": "stream",
     "text": [
      "• Cosine Similarity: 0.5058\n",
      "• Perplexity: 16.35\n",
      "------------------------------------------------------------\n",
      "Query: What are the potential hazards associated with the chemicals and materials used in your experiments?\n",
      "Generated Answer: ['The use of nanomaterials offers many benefits, but it also comes with potential risks that need to be carefully considered: Toxicity: Some nanoparticles have been found to exhibit toxic effects on human cells and organisms, particularly when inhaled or ingested. This can lead to localized toxicity or blockages. Aggregation and Deposition: These can aggregate and deposit in the body or environment, potentially leading to systemic toxicity, blockage, or even death. Environmental Impact: The release of carbon nanotubes into the environment could have unintended consequences on ecosystems and biodiversity.']\n",
      "Evaluation Result: {'cosine_similarities': [0.50575686], 'perplexities': [16.345516204833984], 'answers': [['The use of nanomaterials offers many benefits, but it also comes with potential risks that need to be carefully considered: Toxicity: Some nanoparticles have been found to exhibit toxic effects on human cells and organisms, particularly when inhaled or ingested. This can lead to localized toxicity or blockages. Aggregation and Deposition: These can aggregate and deposit in the body or environment, potentially leading to systemic toxicity, blockage, or even death. Environmental Impact: The release of carbon nanotubes into the environment could have unintended consequences on ecosystems and biodiversity.']]}\n",
      "\n"
     ]
    },
    {
     "data": {
      "application/vnd.jupyter.widget-view+json": {
       "model_id": "0826666aca6a412499ec28ef2f09004b",
       "version_major": 2,
       "version_minor": 0
      },
      "text/plain": [
       "Batches:   0%|          | 0/1 [00:00<?, ?it/s]"
      ]
     },
     "metadata": {},
     "output_type": "display_data"
    },
    {
     "data": {
      "application/vnd.jupyter.widget-view+json": {
       "model_id": "bdf6fed36ea642a9bf61305f07be1556",
       "version_major": 2,
       "version_minor": 0
      },
      "text/plain": [
       "Batches:   0%|          | 0/1 [00:00<?, ?it/s]"
      ]
     },
     "metadata": {},
     "output_type": "display_data"
    },
    {
     "data": {
      "application/vnd.jupyter.widget-view+json": {
       "model_id": "2decf49f436e452e8f5d2d47673da46d",
       "version_major": 2,
       "version_minor": 0
      },
      "text/plain": [
       "Batches:   0%|          | 0/1 [00:00<?, ?it/s]"
      ]
     },
     "metadata": {},
     "output_type": "display_data"
    },
    {
     "name": "stdout",
     "output_type": "stream",
     "text": [
      "• Cosine Similarity: 0.0821\n",
      "• Perplexity: 2663.32\n",
      "------------------------------------------------------------\n",
      "Query: What safety protocols are in place in your laboratory?\n",
      "Generated Answer: Answer not found\n",
      "Evaluation Result: {'cosine_similarities': [0.08207797], 'perplexities': [2663.32470703125], 'answers': ['Answer not found']}\n",
      "\n"
     ]
    },
    {
     "data": {
      "application/vnd.jupyter.widget-view+json": {
       "model_id": "a5eee2656cfe40f1983174fce7abfa61",
       "version_major": 2,
       "version_minor": 0
      },
      "text/plain": [
       "Batches:   0%|          | 0/1 [00:00<?, ?it/s]"
      ]
     },
     "metadata": {},
     "output_type": "display_data"
    },
    {
     "name": "stderr",
     "output_type": "stream",
     "text": [
      "/usr/local/lib/python3.10/dist-packages/transformers/generation/configuration_utils.py:633: UserWarning: `do_sample` is set to `False`. However, `top_p` is set to `0.9` -- this flag is only used in sample-based generation modes. You should set `do_sample=True` or unset `top_p`.\n",
      "  warnings.warn(\n"
     ]
    },
    {
     "data": {
      "application/vnd.jupyter.widget-view+json": {
       "model_id": "555b93802dae4604a2fcebb1f0c754fe",
       "version_major": 2,
       "version_minor": 0
      },
      "text/plain": [
       "Batches:   0%|          | 0/1 [00:00<?, ?it/s]"
      ]
     },
     "metadata": {},
     "output_type": "display_data"
    },
    {
     "data": {
      "application/vnd.jupyter.widget-view+json": {
       "model_id": "fc28ddc1ae8d47c09340c2ae5cb23b33",
       "version_major": 2,
       "version_minor": 0
      },
      "text/plain": [
       "Batches:   0%|          | 0/1 [00:00<?, ?it/s]"
      ]
     },
     "metadata": {},
     "output_type": "display_data"
    },
    {
     "name": "stdout",
     "output_type": "stream",
     "text": [
      "• Cosine Similarity: 0.4746\n",
      "• Perplexity: 11.53\n",
      "------------------------------------------------------------\n",
      "Query: Are there any ethical considerations related to the materials or processes used in your research?\n",
      "Generated Answer: [\"1. Ethical considerations: 2D nanomaterials are very different from other materials in that they don't have the same properties. This means that there are a lot of ethical considerations that need to be taken into account. 2. Environmental impact: The environmental impact of hydrogen production technologies needs to consider the full life cycle of the technology, fromextraction to waste disposal. 3. Health and safety: There are lots of potential health risks associated with the use of these materials, and it's important to make sure that the materials are safe to work with.\"]\n",
      "Evaluation Result: {'cosine_similarities': [0.4745685], 'perplexities': [11.527643203735352], 'answers': [[\"1. Ethical considerations: 2D nanomaterials are very different from other materials in that they don't have the same properties. This means that there are a lot of ethical considerations that need to be taken into account. 2. Environmental impact: The environmental impact of hydrogen production technologies needs to consider the full life cycle of the technology, fromextraction to waste disposal. 3. Health and safety: There are lots of potential health risks associated with the use of these materials, and it's important to make sure that the materials are safe to work with.\"]]}\n",
      "\n"
     ]
    },
    {
     "data": {
      "application/vnd.jupyter.widget-view+json": {
       "model_id": "4f5ee07a64b34240a60b3bfe3db300fc",
       "version_major": 2,
       "version_minor": 0
      },
      "text/plain": [
       "Batches:   0%|          | 0/1 [00:00<?, ?it/s]"
      ]
     },
     "metadata": {},
     "output_type": "display_data"
    },
    {
     "name": "stderr",
     "output_type": "stream",
     "text": [
      "/usr/local/lib/python3.10/dist-packages/transformers/generation/configuration_utils.py:633: UserWarning: `do_sample` is set to `False`. However, `top_p` is set to `0.9` -- this flag is only used in sample-based generation modes. You should set `do_sample=True` or unset `top_p`.\n",
      "  warnings.warn(\n"
     ]
    },
    {
     "data": {
      "application/vnd.jupyter.widget-view+json": {
       "model_id": "0b1125d2eb54460ab6f0f86e4cdb8000",
       "version_major": 2,
       "version_minor": 0
      },
      "text/plain": [
       "Batches:   0%|          | 0/1 [00:00<?, ?it/s]"
      ]
     },
     "metadata": {},
     "output_type": "display_data"
    },
    {
     "data": {
      "application/vnd.jupyter.widget-view+json": {
       "model_id": "1833707c58d1495fa2d280c25eaa59f6",
       "version_major": 2,
       "version_minor": 0
      },
      "text/plain": [
       "Batches:   0%|          | 0/1 [00:00<?, ?it/s]"
      ]
     },
     "metadata": {},
     "output_type": "display_data"
    },
    {
     "name": "stdout",
     "output_type": "stream",
     "text": [
      "• Cosine Similarity: 0.3474\n",
      "• Perplexity: 11.97\n",
      "------------------------------------------------------------\n",
      "Query: How will you ensure the responsible dissemination of your research findings?\n",
      "Generated Answer: ['There are a number of ways to ensure the responsible and equitable deployment of hydrogen technologies: 1. Develop and implement ethical guidelines. These guidelines should address issues such as: The protection of human health and the environment 2. Provide financial and technical assistance to developing countries 3. Promote public engagement and participation: It is important that the public is aware of the potential benefits and risks of these technologies, and that they have a say in how they are used. 4. Invest in infrastructure. The development of a hydrogen economy will require significant investment in transportation networks, fueling stations, production facilities, etc. Governments and businesses should work together to make these investments in a way that is equitable and sustainable.']\n",
      "Evaluation Result: {'cosine_similarities': [0.34741893], 'perplexities': [11.970973014831543], 'answers': [['There are a number of ways to ensure the responsible and equitable deployment of hydrogen technologies: 1. Develop and implement ethical guidelines. These guidelines should address issues such as: The protection of human health and the environment 2. Provide financial and technical assistance to developing countries 3. Promote public engagement and participation: It is important that the public is aware of the potential benefits and risks of these technologies, and that they have a say in how they are used. 4. Invest in infrastructure. The development of a hydrogen economy will require significant investment in transportation networks, fueling stations, production facilities, etc. Governments and businesses should work together to make these investments in a way that is equitable and sustainable.']]}\n",
      "\n"
     ]
    },
    {
     "data": {
      "application/vnd.jupyter.widget-view+json": {
       "model_id": "7563bd2693bd451d89e4944f7163393f",
       "version_major": 2,
       "version_minor": 0
      },
      "text/plain": [
       "Batches:   0%|          | 0/1 [00:00<?, ?it/s]"
      ]
     },
     "metadata": {},
     "output_type": "display_data"
    },
    {
     "name": "stderr",
     "output_type": "stream",
     "text": [
      "/usr/local/lib/python3.10/dist-packages/transformers/generation/configuration_utils.py:633: UserWarning: `do_sample` is set to `False`. However, `top_p` is set to `0.9` -- this flag is only used in sample-based generation modes. You should set `do_sample=True` or unset `top_p`.\n",
      "  warnings.warn(\n"
     ]
    },
    {
     "data": {
      "application/vnd.jupyter.widget-view+json": {
       "model_id": "7c385d4cfb7e4259bc3ee2982e6f2c48",
       "version_major": 2,
       "version_minor": 0
      },
      "text/plain": [
       "Batches:   0%|          | 0/1 [00:00<?, ?it/s]"
      ]
     },
     "metadata": {},
     "output_type": "display_data"
    },
    {
     "data": {
      "application/vnd.jupyter.widget-view+json": {
       "model_id": "519c4a3b0c944fab8e48ab730a7a7eb1",
       "version_major": 2,
       "version_minor": 0
      },
      "text/plain": [
       "Batches:   0%|          | 0/1 [00:00<?, ?it/s]"
      ]
     },
     "metadata": {},
     "output_type": "display_data"
    },
    {
     "name": "stdout",
     "output_type": "stream",
     "text": [
      "• Cosine Similarity: 0.1860\n",
      "• Perplexity: 9.57\n",
      "------------------------------------------------------------\n",
      "Query: What are the next steps in your research?\n",
      "Generated Answer: [\"I'm not an expert in this field, but I think it's important to note that this is not the first study of its kind. There's a lot of work going on in the field of electrocatalysts for water splitting right now, and I'm sure there will be more to come. However, this study is a good starting point. It shows that the structure and activity of the catalyst is strongly influenced by the surface structure. This suggests that future research should focus on developing new catalysts with well-defined and controlled surface structures.\"]\n",
      "Evaluation Result: {'cosine_similarities': [0.18596868], 'perplexities': [9.573394775390625], 'answers': [[\"I'm not an expert in this field, but I think it's important to note that this is not the first study of its kind. There's a lot of work going on in the field of electrocatalysts for water splitting right now, and I'm sure there will be more to come. However, this study is a good starting point. It shows that the structure and activity of the catalyst is strongly influenced by the surface structure. This suggests that future research should focus on developing new catalysts with well-defined and controlled surface structures.\"]]}\n",
      "\n"
     ]
    },
    {
     "data": {
      "application/vnd.jupyter.widget-view+json": {
       "model_id": "5f38d09650b44bd9be78a580bd582691",
       "version_major": 2,
       "version_minor": 0
      },
      "text/plain": [
       "Batches:   0%|          | 0/1 [00:00<?, ?it/s]"
      ]
     },
     "metadata": {},
     "output_type": "display_data"
    },
    {
     "name": "stderr",
     "output_type": "stream",
     "text": [
      "/usr/local/lib/python3.10/dist-packages/transformers/generation/configuration_utils.py:633: UserWarning: `do_sample` is set to `False`. However, `top_p` is set to `0.9` -- this flag is only used in sample-based generation modes. You should set `do_sample=True` or unset `top_p`.\n",
      "  warnings.warn(\n"
     ]
    },
    {
     "data": {
      "application/vnd.jupyter.widget-view+json": {
       "model_id": "f324173e5dce4d8c875ac05a583d66cb",
       "version_major": 2,
       "version_minor": 0
      },
      "text/plain": [
       "Batches:   0%|          | 0/1 [00:00<?, ?it/s]"
      ]
     },
     "metadata": {},
     "output_type": "display_data"
    },
    {
     "data": {
      "application/vnd.jupyter.widget-view+json": {
       "model_id": "7c3cf5f110024c0cb437a6a417336b02",
       "version_major": 2,
       "version_minor": 0
      },
      "text/plain": [
       "Batches:   0%|          | 0/1 [00:00<?, ?it/s]"
      ]
     },
     "metadata": {},
     "output_type": "display_data"
    },
    {
     "name": "stdout",
     "output_type": "stream",
     "text": [
      "• Cosine Similarity: 0.1345\n",
      "• Perplexity: 9.57\n",
      "------------------------------------------------------------\n",
      "Query: What are the long-term goals of your research project?\n",
      "Generated Answer: [\"I'm not an expert in this field, but I think it's important to note that this is not the first study of its kind. There's a lot of work going on in the field of electrocatalysts for water splitting right now, and I'm sure there will be more to come. However, this study is a good starting point. It shows that the structure and activity of the catalyst is strongly influenced by the surface structure. This suggests that future research should focus on developing new catalysts with well-defined and controlled surface structures.\"]\n",
      "Evaluation Result: {'cosine_similarities': [0.13452987], 'perplexities': [9.573394775390625], 'answers': [[\"I'm not an expert in this field, but I think it's important to note that this is not the first study of its kind. There's a lot of work going on in the field of electrocatalysts for water splitting right now, and I'm sure there will be more to come. However, this study is a good starting point. It shows that the structure and activity of the catalyst is strongly influenced by the surface structure. This suggests that future research should focus on developing new catalysts with well-defined and controlled surface structures.\"]]}\n",
      "\n"
     ]
    },
    {
     "data": {
      "application/vnd.jupyter.widget-view+json": {
       "model_id": "782c882af5fb4a0482e4cb9e98019d87",
       "version_major": 2,
       "version_minor": 0
      },
      "text/plain": [
       "Batches:   0%|          | 0/1 [00:00<?, ?it/s]"
      ]
     },
     "metadata": {},
     "output_type": "display_data"
    },
    {
     "name": "stderr",
     "output_type": "stream",
     "text": [
      "/usr/local/lib/python3.10/dist-packages/transformers/generation/configuration_utils.py:633: UserWarning: `do_sample` is set to `False`. However, `top_p` is set to `0.9` -- this flag is only used in sample-based generation modes. You should set `do_sample=True` or unset `top_p`.\n",
      "  warnings.warn(\n"
     ]
    },
    {
     "data": {
      "application/vnd.jupyter.widget-view+json": {
       "model_id": "12a3a53f64e549279a617a0d9b76bd71",
       "version_major": 2,
       "version_minor": 0
      },
      "text/plain": [
       "Batches:   0%|          | 0/1 [00:00<?, ?it/s]"
      ]
     },
     "metadata": {},
     "output_type": "display_data"
    },
    {
     "data": {
      "application/vnd.jupyter.widget-view+json": {
       "model_id": "d8e1aa632aef41d0af9164bb4669dd36",
       "version_major": 2,
       "version_minor": 0
      },
      "text/plain": [
       "Batches:   0%|          | 0/1 [00:00<?, ?it/s]"
      ]
     },
     "metadata": {},
     "output_type": "display_data"
    },
    {
     "name": "stdout",
     "output_type": "stream",
     "text": [
      "• Cosine Similarity: 0.6092\n",
      "• Perplexity: 5.90\n",
      "------------------------------------------------------------\n",
      "Query: How will your research contribute to the advancement of hydrogen energy technologies?\n",
      "Generated Answer: [\"I'm not sure if this is exactly what you're looking for, but I'll give it a shot. I'm currently working on a project at a university in the UK that is trying to develop a hydrogen fuel cell. The project is called Hydrogen Fuel Cell, and it's being funded by the British government. There are a number of ways to get funding for this project. Firstly, you can apply for a grant from the government, which will allow you to do the research you want. Secondly, if you are in a country that doesn't have a public-private partnership, then you have to apply to a private company for funding. Thirdly, there is a lot of research that needs to be done in order for the technology to become commercially viable, so you need to find a company that will be willing to invest in it.\"]\n",
      "Evaluation Result: {'cosine_similarities': [0.609175], 'perplexities': [5.900692462921143], 'answers': [[\"I'm not sure if this is exactly what you're looking for, but I'll give it a shot. I'm currently working on a project at a university in the UK that is trying to develop a hydrogen fuel cell. The project is called Hydrogen Fuel Cell, and it's being funded by the British government. There are a number of ways to get funding for this project. Firstly, you can apply for a grant from the government, which will allow you to do the research you want. Secondly, if you are in a country that doesn't have a public-private partnership, then you have to apply to a private company for funding. Thirdly, there is a lot of research that needs to be done in order for the technology to become commercially viable, so you need to find a company that will be willing to invest in it.\"]]}\n",
      "\n"
     ]
    },
    {
     "data": {
      "application/vnd.jupyter.widget-view+json": {
       "model_id": "8fb20690af6b44ed8d3949fbe832b2a6",
       "version_major": 2,
       "version_minor": 0
      },
      "text/plain": [
       "Batches:   0%|          | 0/1 [00:00<?, ?it/s]"
      ]
     },
     "metadata": {},
     "output_type": "display_data"
    },
    {
     "name": "stderr",
     "output_type": "stream",
     "text": [
      "/usr/local/lib/python3.10/dist-packages/transformers/generation/configuration_utils.py:633: UserWarning: `do_sample` is set to `False`. However, `top_p` is set to `0.9` -- this flag is only used in sample-based generation modes. You should set `do_sample=True` or unset `top_p`.\n",
      "  warnings.warn(\n"
     ]
    },
    {
     "data": {
      "application/vnd.jupyter.widget-view+json": {
       "model_id": "64704fa70eb342d1a9dc818db442e2f1",
       "version_major": 2,
       "version_minor": 0
      },
      "text/plain": [
       "Batches:   0%|          | 0/1 [00:00<?, ?it/s]"
      ]
     },
     "metadata": {},
     "output_type": "display_data"
    },
    {
     "data": {
      "application/vnd.jupyter.widget-view+json": {
       "model_id": "6107ff2259504a00a7bfacc2ca226375",
       "version_major": 2,
       "version_minor": 0
      },
      "text/plain": [
       "Batches:   0%|          | 0/1 [00:00<?, ?it/s]"
      ]
     },
     "metadata": {},
     "output_type": "display_data"
    },
    {
     "name": "stdout",
     "output_type": "stream",
     "text": [
      "• Cosine Similarity: 0.2777\n",
      "• Perplexity: 5.90\n",
      "------------------------------------------------------------\n",
      "Query: Are you collaborating with other researchers or institutions?\n",
      "Generated Answer: [\"I'm not sure if this is exactly what you're looking for, but I'll give it a shot. I'm currently working on a project at a university in the UK that is trying to develop a hydrogen fuel cell. The project is called Hydrogen Fuel Cell, and it's being funded by the British government. There are a number of ways to get funding for this project. Firstly, you can apply for a grant from the government, which will allow you to do the research you want. Secondly, if you are in a country that doesn't have a public-private partnership, then you have to apply to a private company for funding. Thirdly, there is a lot of research that needs to be done in order for the technology to become commercially viable, so you need to find a company that will be willing to invest in it.\"]\n",
      "Evaluation Result: {'cosine_similarities': [0.27766055], 'perplexities': [5.900692462921143], 'answers': [[\"I'm not sure if this is exactly what you're looking for, but I'll give it a shot. I'm currently working on a project at a university in the UK that is trying to develop a hydrogen fuel cell. The project is called Hydrogen Fuel Cell, and it's being funded by the British government. There are a number of ways to get funding for this project. Firstly, you can apply for a grant from the government, which will allow you to do the research you want. Secondly, if you are in a country that doesn't have a public-private partnership, then you have to apply to a private company for funding. Thirdly, there is a lot of research that needs to be done in order for the technology to become commercially viable, so you need to find a company that will be willing to invest in it.\"]]}\n",
      "\n"
     ]
    },
    {
     "data": {
      "application/vnd.jupyter.widget-view+json": {
       "model_id": "12ad55733ce04645ae2577531293d048",
       "version_major": 2,
       "version_minor": 0
      },
      "text/plain": [
       "Batches:   0%|          | 0/1 [00:00<?, ?it/s]"
      ]
     },
     "metadata": {},
     "output_type": "display_data"
    },
    {
     "data": {
      "application/vnd.jupyter.widget-view+json": {
       "model_id": "56af4f4de6e14740b538541d19f0647d",
       "version_major": 2,
       "version_minor": 0
      },
      "text/plain": [
       "Batches:   0%|          | 0/1 [00:00<?, ?it/s]"
      ]
     },
     "metadata": {},
     "output_type": "display_data"
    },
    {
     "data": {
      "application/vnd.jupyter.widget-view+json": {
       "model_id": "2de0aac507bc4cf082108c6aa40e7205",
       "version_major": 2,
       "version_minor": 0
      },
      "text/plain": [
       "Batches:   0%|          | 0/1 [00:00<?, ?it/s]"
      ]
     },
     "metadata": {},
     "output_type": "display_data"
    },
    {
     "name": "stdout",
     "output_type": "stream",
     "text": [
      "• Cosine Similarity: 0.0484\n",
      "• Perplexity: 2663.32\n",
      "------------------------------------------------------------\n",
      "Query: What are the benefits of collaborating with others in this field?\n",
      "Generated Answer: Answer not found\n",
      "Evaluation Result: {'cosine_similarities': [0.04842523], 'perplexities': [2663.32470703125], 'answers': ['Answer not found']}\n",
      "\n"
     ]
    },
    {
     "data": {
      "application/vnd.jupyter.widget-view+json": {
       "model_id": "41ac5ec81e1640edaffa410647e61403",
       "version_major": 2,
       "version_minor": 0
      },
      "text/plain": [
       "Batches:   0%|          | 0/1 [00:00<?, ?it/s]"
      ]
     },
     "metadata": {},
     "output_type": "display_data"
    },
    {
     "name": "stderr",
     "output_type": "stream",
     "text": [
      "/usr/local/lib/python3.10/dist-packages/transformers/generation/configuration_utils.py:633: UserWarning: `do_sample` is set to `False`. However, `top_p` is set to `0.9` -- this flag is only used in sample-based generation modes. You should set `do_sample=True` or unset `top_p`.\n",
      "  warnings.warn(\n"
     ]
    },
    {
     "data": {
      "application/vnd.jupyter.widget-view+json": {
       "model_id": "7dd3f4a4cbb344df94533fdc757866b1",
       "version_major": 2,
       "version_minor": 0
      },
      "text/plain": [
       "Batches:   0%|          | 0/1 [00:00<?, ?it/s]"
      ]
     },
     "metadata": {},
     "output_type": "display_data"
    },
    {
     "data": {
      "application/vnd.jupyter.widget-view+json": {
       "model_id": "6432e74608cc4063945a1d627ea2439d",
       "version_major": 2,
       "version_minor": 0
      },
      "text/plain": [
       "Batches:   0%|          | 0/1 [00:00<?, ?it/s]"
      ]
     },
     "metadata": {},
     "output_type": "display_data"
    },
    {
     "name": "stdout",
     "output_type": "stream",
     "text": [
      "• Cosine Similarity: 0.5157\n",
      "• Perplexity: 26.56\n",
      "------------------------------------------------------------\n",
      "Query: How will you share your research findings with the scientific community?\n",
      "Generated Answer: [\"Data sharing and open science can contribute to faster advancements in hydrogen generation and nanomaterials research in several ways: Accelerated knowledge dissemination: Open sharing of research data and results allows scientists to access and build upon each other's work more quickly, leading to the identification of new research directions. Improved reproducibility and transparency: Data sharing allows other researchers to independently verify and reproduce results, increasing the credibility and reliability of scientific findings. This can help researchers extract meaningful insights from large and complex datasets.\"]\n",
      "Evaluation Result: {'cosine_similarities': [0.5157012], 'perplexities': [26.561975479125977], 'answers': [[\"Data sharing and open science can contribute to faster advancements in hydrogen generation and nanomaterials research in several ways: Accelerated knowledge dissemination: Open sharing of research data and results allows scientists to access and build upon each other's work more quickly, leading to the identification of new research directions. Improved reproducibility and transparency: Data sharing allows other researchers to independently verify and reproduce results, increasing the credibility and reliability of scientific findings. This can help researchers extract meaningful insights from large and complex datasets.\"]]}\n",
      "\n"
     ]
    },
    {
     "data": {
      "application/vnd.jupyter.widget-view+json": {
       "model_id": "8e11ae0a99f24cffba5e5f94d39484cc",
       "version_major": 2,
       "version_minor": 0
      },
      "text/plain": [
       "Batches:   0%|          | 0/1 [00:00<?, ?it/s]"
      ]
     },
     "metadata": {},
     "output_type": "display_data"
    },
    {
     "name": "stderr",
     "output_type": "stream",
     "text": [
      "/usr/local/lib/python3.10/dist-packages/transformers/generation/configuration_utils.py:633: UserWarning: `do_sample` is set to `False`. However, `top_p` is set to `0.9` -- this flag is only used in sample-based generation modes. You should set `do_sample=True` or unset `top_p`.\n",
      "  warnings.warn(\n"
     ]
    },
    {
     "data": {
      "application/vnd.jupyter.widget-view+json": {
       "model_id": "6d015fec57e3411a8308a9c260b7d5e7",
       "version_major": 2,
       "version_minor": 0
      },
      "text/plain": [
       "Batches:   0%|          | 0/1 [00:00<?, ?it/s]"
      ]
     },
     "metadata": {},
     "output_type": "display_data"
    },
    {
     "data": {
      "application/vnd.jupyter.widget-view+json": {
       "model_id": "aefc25987dcb4e928ff457256cd192e5",
       "version_major": 2,
       "version_minor": 0
      },
      "text/plain": [
       "Batches:   0%|          | 0/1 [00:00<?, ?it/s]"
      ]
     },
     "metadata": {},
     "output_type": "display_data"
    },
    {
     "name": "stdout",
     "output_type": "stream",
     "text": [
      "• Cosine Similarity: 0.5421\n",
      "• Perplexity: 13.84\n",
      "------------------------------------------------------------\n",
      "Query: How is your research funded?\n",
      "Generated Answer: ['The main funding sources for research on hydrogen generation and nanomaterials include: Government agencies: National and international government agencies, such as the U.S. Department of Energy, the European Union Horizon 2020 program, and the Japan Science and Technology Agency, provide significant funding in these areas. Private companies: Companies involved in the energy, automotive and chemical industries often invest in research and development of new technologies and products. These companies have a vested interest in advancing hydrogen technologies for commercial applications. Universities and research institutions often receive funding from government institutions, private companies and foundations.']\n",
      "Evaluation Result: {'cosine_similarities': [0.5420561], 'perplexities': [13.839133262634277], 'answers': [['The main funding sources for research on hydrogen generation and nanomaterials include: Government agencies: National and international government agencies, such as the U.S. Department of Energy, the European Union Horizon 2020 program, and the Japan Science and Technology Agency, provide significant funding in these areas. Private companies: Companies involved in the energy, automotive and chemical industries often invest in research and development of new technologies and products. These companies have a vested interest in advancing hydrogen technologies for commercial applications. Universities and research institutions often receive funding from government institutions, private companies and foundations.']]}\n",
      "\n"
     ]
    },
    {
     "data": {
      "application/vnd.jupyter.widget-view+json": {
       "model_id": "8026938fda3e4500ba9faa9df5ae5001",
       "version_major": 2,
       "version_minor": 0
      },
      "text/plain": [
       "Batches:   0%|          | 0/1 [00:00<?, ?it/s]"
      ]
     },
     "metadata": {},
     "output_type": "display_data"
    },
    {
     "data": {
      "application/vnd.jupyter.widget-view+json": {
       "model_id": "3b6436bdf633421c8a1fc7d6d9fd7fbd",
       "version_major": 2,
       "version_minor": 0
      },
      "text/plain": [
       "Batches:   0%|          | 0/1 [00:00<?, ?it/s]"
      ]
     },
     "metadata": {},
     "output_type": "display_data"
    },
    {
     "data": {
      "application/vnd.jupyter.widget-view+json": {
       "model_id": "d335294edd8a436d99ecce21a23d3600",
       "version_major": 2,
       "version_minor": 0
      },
      "text/plain": [
       "Batches:   0%|          | 0/1 [00:00<?, ?it/s]"
      ]
     },
     "metadata": {},
     "output_type": "display_data"
    },
    {
     "name": "stdout",
     "output_type": "stream",
     "text": [
      "• Cosine Similarity: 0.1043\n",
      "• Perplexity: 2663.32\n",
      "------------------------------------------------------------\n",
      "Query: What resources are available to you for conducting your research?\n",
      "Generated Answer: Answer not found\n",
      "Evaluation Result: {'cosine_similarities': [0.10429992], 'perplexities': [2663.32470703125], 'answers': ['Answer not found']}\n",
      "\n"
     ]
    },
    {
     "data": {
      "application/vnd.jupyter.widget-view+json": {
       "model_id": "21c27e3b99dc49ddb02f2a01dffc952b",
       "version_major": 2,
       "version_minor": 0
      },
      "text/plain": [
       "Batches:   0%|          | 0/1 [00:00<?, ?it/s]"
      ]
     },
     "metadata": {},
     "output_type": "display_data"
    },
    {
     "data": {
      "application/vnd.jupyter.widget-view+json": {
       "model_id": "b504d97f381743f693ff134ba875ddc5",
       "version_major": 2,
       "version_minor": 0
      },
      "text/plain": [
       "Batches:   0%|          | 0/1 [00:00<?, ?it/s]"
      ]
     },
     "metadata": {},
     "output_type": "display_data"
    },
    {
     "data": {
      "application/vnd.jupyter.widget-view+json": {
       "model_id": "c542d02d1d4941f69f7b0602e05632a7",
       "version_major": 2,
       "version_minor": 0
      },
      "text/plain": [
       "Batches:   0%|          | 0/1 [00:00<?, ?it/s]"
      ]
     },
     "metadata": {},
     "output_type": "display_data"
    },
    {
     "name": "stdout",
     "output_type": "stream",
     "text": [
      "• Cosine Similarity: -0.0590\n",
      "• Perplexity: 2663.32\n",
      "------------------------------------------------------------\n",
      "Query: Are there any limitations in terms of funding or resources?\n",
      "Generated Answer: Answer not found\n",
      "Evaluation Result: {'cosine_similarities': [-0.05904664], 'perplexities': [2663.32470703125], 'answers': ['Answer not found']}\n",
      "\n"
     ]
    },
    {
     "data": {
      "application/vnd.jupyter.widget-view+json": {
       "model_id": "40202addea244264bd35aaeb99ccbb85",
       "version_major": 2,
       "version_minor": 0
      },
      "text/plain": [
       "Batches:   0%|          | 0/1 [00:00<?, ?it/s]"
      ]
     },
     "metadata": {},
     "output_type": "display_data"
    },
    {
     "name": "stderr",
     "output_type": "stream",
     "text": [
      "/usr/local/lib/python3.10/dist-packages/transformers/generation/configuration_utils.py:633: UserWarning: `do_sample` is set to `False`. However, `top_p` is set to `0.9` -- this flag is only used in sample-based generation modes. You should set `do_sample=True` or unset `top_p`.\n",
      "  warnings.warn(\n"
     ]
    },
    {
     "data": {
      "application/vnd.jupyter.widget-view+json": {
       "model_id": "e919d20023fb46c6a1b5b1d3ee33013d",
       "version_major": 2,
       "version_minor": 0
      },
      "text/plain": [
       "Batches:   0%|          | 0/1 [00:00<?, ?it/s]"
      ]
     },
     "metadata": {},
     "output_type": "display_data"
    },
    {
     "data": {
      "application/vnd.jupyter.widget-view+json": {
       "model_id": "88bdba96a230430699047baa81b167bd",
       "version_major": 2,
       "version_minor": 0
      },
      "text/plain": [
       "Batches:   0%|          | 0/1 [00:00<?, ?it/s]"
      ]
     },
     "metadata": {},
     "output_type": "display_data"
    },
    {
     "name": "stdout",
     "output_type": "stream",
     "text": [
      "• Cosine Similarity: 0.1816\n",
      "• Perplexity: 10.38\n",
      "------------------------------------------------------------\n",
      "Query: What is the potential impact of your research on society?\n",
      "Generated Answer: ['Hydrogen can be produced from a variety of sources, including natural gas, coal, and renewable energy sources. Hydrogen is a relatively inexpensive fuel to produce, especially when produced using renewable energies. This could reduce dependence on foreign oil and increase energy security. It could also be used to power homes, vehicles and businesses. However, it is important to note that these technologies are still in the early stages of development and there is still some challenges that need to be overcome before they can become widely adopted. In addition to the social and economic impacts, the widespread adoption of 2D nanomaterial-based hydrogen production technologies could have some environmental impacts.']\n",
      "Evaluation Result: {'cosine_similarities': [0.18162848], 'perplexities': [10.382904052734375], 'answers': [['Hydrogen can be produced from a variety of sources, including natural gas, coal, and renewable energy sources. Hydrogen is a relatively inexpensive fuel to produce, especially when produced using renewable energies. This could reduce dependence on foreign oil and increase energy security. It could also be used to power homes, vehicles and businesses. However, it is important to note that these technologies are still in the early stages of development and there is still some challenges that need to be overcome before they can become widely adopted. In addition to the social and economic impacts, the widespread adoption of 2D nanomaterial-based hydrogen production technologies could have some environmental impacts.']]}\n",
      "\n"
     ]
    },
    {
     "data": {
      "application/vnd.jupyter.widget-view+json": {
       "model_id": "f4dfde6da6bc49aa9641e7ca684bf311",
       "version_major": 2,
       "version_minor": 0
      },
      "text/plain": [
       "Batches:   0%|          | 0/1 [00:00<?, ?it/s]"
      ]
     },
     "metadata": {},
     "output_type": "display_data"
    },
    {
     "name": "stderr",
     "output_type": "stream",
     "text": [
      "/usr/local/lib/python3.10/dist-packages/transformers/generation/configuration_utils.py:633: UserWarning: `do_sample` is set to `False`. However, `top_p` is set to `0.9` -- this flag is only used in sample-based generation modes. You should set `do_sample=True` or unset `top_p`.\n",
      "  warnings.warn(\n"
     ]
    },
    {
     "data": {
      "application/vnd.jupyter.widget-view+json": {
       "model_id": "6477aecb66a9419cb1b1c29c269bec63",
       "version_major": 2,
       "version_minor": 0
      },
      "text/plain": [
       "Batches:   0%|          | 0/1 [00:00<?, ?it/s]"
      ]
     },
     "metadata": {},
     "output_type": "display_data"
    },
    {
     "data": {
      "application/vnd.jupyter.widget-view+json": {
       "model_id": "b294c6b08d46475d99bbdba6c7397c62",
       "version_major": 2,
       "version_minor": 0
      },
      "text/plain": [
       "Batches:   0%|          | 0/1 [00:00<?, ?it/s]"
      ]
     },
     "metadata": {},
     "output_type": "display_data"
    },
    {
     "name": "stdout",
     "output_type": "stream",
     "text": [
      "• Cosine Similarity: 0.3862\n",
      "• Perplexity: 7.06\n",
      "------------------------------------------------------------\n",
      "Query: How will you disseminate your research findings to a wider audience?\n",
      "Generated Answer: ['There are a few ways to do this. The first is to talk to the public about the benefits and challenges of hydrogen and nanotechnology. This can be done through a variety of methods, such as public outreach and education programs to raise awareness about these technologies and to spark public dialogue. It is important to remember that the scientific community is not a monolithic entity, and that there are many different people working on different aspects of this technology. For example, there is a group of scientists who are working together to develop a new type of superconductor that will be able to carry a lot of energy, but they are not the same as the ones who developed the first type. There are also a number of other groups that work together on the development of new types of semiconductors that can carry much more energy. These groups are called \"citizen scientists\" and they work in a similar way to citizen scientists in that they collect and analyze data. They can also perform experiments on their own, or they can collaborate with other scientists to perform research on a larger scale. If you are interested in learning more about this topic, I would suggest that you start by reading the Wikipedia article on Hydrogen and Nanotechnology, which has a good summary of the science behind it.']\n",
      "Evaluation Result: {'cosine_similarities': [0.38616127], 'perplexities': [7.064589500427246], 'answers': [['There are a few ways to do this. The first is to talk to the public about the benefits and challenges of hydrogen and nanotechnology. This can be done through a variety of methods, such as public outreach and education programs to raise awareness about these technologies and to spark public dialogue. It is important to remember that the scientific community is not a monolithic entity, and that there are many different people working on different aspects of this technology. For example, there is a group of scientists who are working together to develop a new type of superconductor that will be able to carry a lot of energy, but they are not the same as the ones who developed the first type. There are also a number of other groups that work together on the development of new types of semiconductors that can carry much more energy. These groups are called \"citizen scientists\" and they work in a similar way to citizen scientists in that they collect and analyze data. They can also perform experiments on their own, or they can collaborate with other scientists to perform research on a larger scale. If you are interested in learning more about this topic, I would suggest that you start by reading the Wikipedia article on Hydrogen and Nanotechnology, which has a good summary of the science behind it.']]}\n",
      "\n"
     ]
    },
    {
     "data": {
      "application/vnd.jupyter.widget-view+json": {
       "model_id": "73492458f56e4231ba5554f48de331d4",
       "version_major": 2,
       "version_minor": 0
      },
      "text/plain": [
       "Batches:   0%|          | 0/1 [00:00<?, ?it/s]"
      ]
     },
     "metadata": {},
     "output_type": "display_data"
    },
    {
     "name": "stderr",
     "output_type": "stream",
     "text": [
      "/usr/local/lib/python3.10/dist-packages/transformers/generation/configuration_utils.py:633: UserWarning: `do_sample` is set to `False`. However, `top_p` is set to `0.9` -- this flag is only used in sample-based generation modes. You should set `do_sample=True` or unset `top_p`.\n",
      "  warnings.warn(\n"
     ]
    },
    {
     "data": {
      "application/vnd.jupyter.widget-view+json": {
       "model_id": "02c139af4e584bc6a38aae6027441734",
       "version_major": 2,
       "version_minor": 0
      },
      "text/plain": [
       "Batches:   0%|          | 0/1 [00:00<?, ?it/s]"
      ]
     },
     "metadata": {},
     "output_type": "display_data"
    },
    {
     "data": {
      "application/vnd.jupyter.widget-view+json": {
       "model_id": "d9897922993a415492761b44ea218b42",
       "version_major": 2,
       "version_minor": 0
      },
      "text/plain": [
       "Batches:   0%|          | 0/1 [00:00<?, ?it/s]"
      ]
     },
     "metadata": {},
     "output_type": "display_data"
    },
    {
     "name": "stdout",
     "output_type": "stream",
     "text": [
      "• Cosine Similarity: 0.1203\n",
      "• Perplexity: 9.57\n",
      "------------------------------------------------------------\n",
      "Query: What are the potential applications of your research in real-world settings?\n",
      "Generated Answer: [\"I'm not an expert in this field, but I think it's important to note that this is not the first study of its kind. There's a lot of work going on in the field of electrocatalysts for water splitting right now, and I'm sure there will be more to come. However, this study is a good starting point. It shows that the structure and activity of the catalyst is strongly influenced by the surface structure. This suggests that future research should focus on developing new catalysts with well-defined and controlled surface structures.\"]\n",
      "Evaluation Result: {'cosine_similarities': [0.12032585], 'perplexities': [9.573394775390625], 'answers': [[\"I'm not an expert in this field, but I think it's important to note that this is not the first study of its kind. There's a lot of work going on in the field of electrocatalysts for water splitting right now, and I'm sure there will be more to come. However, this study is a good starting point. It shows that the structure and activity of the catalyst is strongly influenced by the surface structure. This suggests that future research should focus on developing new catalysts with well-defined and controlled surface structures.\"]]}\n",
      "\n"
     ]
    },
    {
     "data": {
      "application/vnd.jupyter.widget-view+json": {
       "model_id": "487497cfc36a446e863297e1c63bf166",
       "version_major": 2,
       "version_minor": 0
      },
      "text/plain": [
       "Batches:   0%|          | 0/1 [00:00<?, ?it/s]"
      ]
     },
     "metadata": {},
     "output_type": "display_data"
    },
    {
     "name": "stderr",
     "output_type": "stream",
     "text": [
      "/usr/local/lib/python3.10/dist-packages/transformers/generation/configuration_utils.py:633: UserWarning: `do_sample` is set to `False`. However, `top_p` is set to `0.9` -- this flag is only used in sample-based generation modes. You should set `do_sample=True` or unset `top_p`.\n",
      "  warnings.warn(\n"
     ]
    },
    {
     "data": {
      "application/vnd.jupyter.widget-view+json": {
       "model_id": "243b387d91b549d393b9a7caa49d87a7",
       "version_major": 2,
       "version_minor": 0
      },
      "text/plain": [
       "Batches:   0%|          | 0/1 [00:00<?, ?it/s]"
      ]
     },
     "metadata": {},
     "output_type": "display_data"
    },
    {
     "data": {
      "application/vnd.jupyter.widget-view+json": {
       "model_id": "0da9424c5c804eb081f1c66cff133a52",
       "version_major": 2,
       "version_minor": 0
      },
      "text/plain": [
       "Batches:   0%|          | 0/1 [00:00<?, ?it/s]"
      ]
     },
     "metadata": {},
     "output_type": "display_data"
    },
    {
     "name": "stdout",
     "output_type": "stream",
     "text": [
      "• Cosine Similarity: 0.2041\n",
      "• Perplexity: 9.57\n",
      "------------------------------------------------------------\n",
      "Query: What have you learned from conducting this research?\n",
      "Generated Answer: [\"I'm not an expert in this field, but I think it's important to note that this is not the first study of its kind. There's a lot of work going on in the field of electrocatalysts for water splitting right now, and I'm sure there will be more to come. However, this study is a good starting point. It shows that the structure and activity of the catalyst is strongly influenced by the surface structure. This suggests that future research should focus on developing new catalysts with well-defined and controlled surface structures.\"]\n",
      "Evaluation Result: {'cosine_similarities': [0.20414275], 'perplexities': [9.573394775390625], 'answers': [[\"I'm not an expert in this field, but I think it's important to note that this is not the first study of its kind. There's a lot of work going on in the field of electrocatalysts for water splitting right now, and I'm sure there will be more to come. However, this study is a good starting point. It shows that the structure and activity of the catalyst is strongly influenced by the surface structure. This suggests that future research should focus on developing new catalysts with well-defined and controlled surface structures.\"]]}\n",
      "\n"
     ]
    },
    {
     "data": {
      "application/vnd.jupyter.widget-view+json": {
       "model_id": "e63c8445bf3c4744b1f916246d05c0b5",
       "version_major": 2,
       "version_minor": 0
      },
      "text/plain": [
       "Batches:   0%|          | 0/1 [00:00<?, ?it/s]"
      ]
     },
     "metadata": {},
     "output_type": "display_data"
    },
    {
     "name": "stderr",
     "output_type": "stream",
     "text": [
      "/usr/local/lib/python3.10/dist-packages/transformers/generation/configuration_utils.py:633: UserWarning: `do_sample` is set to `False`. However, `top_p` is set to `0.9` -- this flag is only used in sample-based generation modes. You should set `do_sample=True` or unset `top_p`.\n",
      "  warnings.warn(\n"
     ]
    },
    {
     "data": {
      "application/vnd.jupyter.widget-view+json": {
       "model_id": "f2279ee5681548b498f011472ab51d0c",
       "version_major": 2,
       "version_minor": 0
      },
      "text/plain": [
       "Batches:   0%|          | 0/1 [00:00<?, ?it/s]"
      ]
     },
     "metadata": {},
     "output_type": "display_data"
    },
    {
     "data": {
      "application/vnd.jupyter.widget-view+json": {
       "model_id": "82db088a72404668b3e24114eac24bde",
       "version_major": 2,
       "version_minor": 0
      },
      "text/plain": [
       "Batches:   0%|          | 0/1 [00:00<?, ?it/s]"
      ]
     },
     "metadata": {},
     "output_type": "display_data"
    },
    {
     "name": "stdout",
     "output_type": "stream",
     "text": [
      "• Cosine Similarity: 0.1595\n",
      "• Perplexity: 9.57\n",
      "------------------------------------------------------------\n",
      "Query: How has this research experience influenced your career goals?\n",
      "Generated Answer: [\"I'm not an expert in this field, but I think it's important to note that this is not the first study of its kind. There's a lot of work going on in the field of electrocatalysts for water splitting right now, and I'm sure there will be more to come. However, this study is a good starting point. It shows that the structure and activity of the catalyst is strongly influenced by the surface structure. This suggests that future research should focus on developing new catalysts with well-defined and controlled surface structures.\"]\n",
      "Evaluation Result: {'cosine_similarities': [0.15949707], 'perplexities': [9.573394775390625], 'answers': [[\"I'm not an expert in this field, but I think it's important to note that this is not the first study of its kind. There's a lot of work going on in the field of electrocatalysts for water splitting right now, and I'm sure there will be more to come. However, this study is a good starting point. It shows that the structure and activity of the catalyst is strongly influenced by the surface structure. This suggests that future research should focus on developing new catalysts with well-defined and controlled surface structures.\"]]}\n",
      "\n"
     ]
    },
    {
     "data": {
      "application/vnd.jupyter.widget-view+json": {
       "model_id": "99946ba272ed4bfd95261d9dae809444",
       "version_major": 2,
       "version_minor": 0
      },
      "text/plain": [
       "Batches:   0%|          | 0/1 [00:00<?, ?it/s]"
      ]
     },
     "metadata": {},
     "output_type": "display_data"
    },
    {
     "name": "stderr",
     "output_type": "stream",
     "text": [
      "/usr/local/lib/python3.10/dist-packages/transformers/generation/configuration_utils.py:633: UserWarning: `do_sample` is set to `False`. However, `top_p` is set to `0.9` -- this flag is only used in sample-based generation modes. You should set `do_sample=True` or unset `top_p`.\n",
      "  warnings.warn(\n"
     ]
    },
    {
     "data": {
      "application/vnd.jupyter.widget-view+json": {
       "model_id": "2506f7317459455fa44cb68ed80e4050",
       "version_major": 2,
       "version_minor": 0
      },
      "text/plain": [
       "Batches:   0%|          | 0/1 [00:00<?, ?it/s]"
      ]
     },
     "metadata": {},
     "output_type": "display_data"
    },
    {
     "data": {
      "application/vnd.jupyter.widget-view+json": {
       "model_id": "9ade7902613f44d1b5ff25fec8b04ca3",
       "version_major": 2,
       "version_minor": 0
      },
      "text/plain": [
       "Batches:   0%|          | 0/1 [00:00<?, ?it/s]"
      ]
     },
     "metadata": {},
     "output_type": "display_data"
    },
    {
     "name": "stdout",
     "output_type": "stream",
     "text": [
      "• Cosine Similarity: 0.6900\n",
      "• Perplexity: 13.18\n",
      "------------------------------------------------------------\n",
      "Query: What are your thoughts on the future of hydrogen energy?\n",
      "Generated Answer: ['Hydrogen is considered a potential future energy source due to several key advantages:1. High energy density: Hydrogen can store a lot of energy in a small space. This makes it a promising fuel for transportation and other applications where weight and space are important factors. It can also be used to generate electricity or heat. 2. Clean and renewable: It produces only water as a byproduct, and it is also a renewable resource that can be produced from a variety of sources, including water, natural gas, biomass.']\n",
      "Evaluation Result: {'cosine_similarities': [0.68998533], 'perplexities': [13.180920600891113], 'answers': [['Hydrogen is considered a potential future energy source due to several key advantages:1. High energy density: Hydrogen can store a lot of energy in a small space. This makes it a promising fuel for transportation and other applications where weight and space are important factors. It can also be used to generate electricity or heat. 2. Clean and renewable: It produces only water as a byproduct, and it is also a renewable resource that can be produced from a variety of sources, including water, natural gas, biomass.']]}\n",
      "\n"
     ]
    },
    {
     "data": {
      "application/vnd.jupyter.widget-view+json": {
       "model_id": "3ef9ece048f34e21bfc335ec014cbe35",
       "version_major": 2,
       "version_minor": 0
      },
      "text/plain": [
       "Batches:   0%|          | 0/1 [00:00<?, ?it/s]"
      ]
     },
     "metadata": {},
     "output_type": "display_data"
    },
    {
     "name": "stderr",
     "output_type": "stream",
     "text": [
      "/usr/local/lib/python3.10/dist-packages/transformers/generation/configuration_utils.py:633: UserWarning: `do_sample` is set to `False`. However, `top_p` is set to `0.9` -- this flag is only used in sample-based generation modes. You should set `do_sample=True` or unset `top_p`.\n",
      "  warnings.warn(\n"
     ]
    },
    {
     "data": {
      "application/vnd.jupyter.widget-view+json": {
       "model_id": "abf024fd87514d42b4d426aebf132859",
       "version_major": 2,
       "version_minor": 0
      },
      "text/plain": [
       "Batches:   0%|          | 0/1 [00:00<?, ?it/s]"
      ]
     },
     "metadata": {},
     "output_type": "display_data"
    },
    {
     "data": {
      "application/vnd.jupyter.widget-view+json": {
       "model_id": "0d3385ce6d304db389b2f350bb95a7ed",
       "version_major": 2,
       "version_minor": 0
      },
      "text/plain": [
       "Batches:   0%|          | 0/1 [00:00<?, ?it/s]"
      ]
     },
     "metadata": {},
     "output_type": "display_data"
    },
    {
     "name": "stdout",
     "output_type": "stream",
     "text": [
      "• Cosine Similarity: 0.6569\n",
      "• Perplexity: 18.89\n",
      "------------------------------------------------------------\n",
      "Query: Explore the use of machine learning for material discovery and optimization.\n",
      "Generated Answer: ['Machine learning (ML) can be applied to the discovery and optimization of 2D materials for hydrogen generation in several ways:Discovery of new materials: ML models are trained on a database of known materials and their properties to identify promising candidates for Hydrogen generation. These models can then be used to screen large chemical space and predict the key factors that influence the performance of the material and how changes in these factors will affect its properties. Optimization of existing materials, such as bandgap, electronic structure, and catalytic activity: This is an area of active research in the field of materials science and engineering. There is a lot of research going on in this area right now, but it is still in its infancy.']\n",
      "Evaluation Result: {'cosine_similarities': [0.656891], 'perplexities': [18.885957717895508], 'answers': [['Machine learning (ML) can be applied to the discovery and optimization of 2D materials for hydrogen generation in several ways:Discovery of new materials: ML models are trained on a database of known materials and their properties to identify promising candidates for Hydrogen generation. These models can then be used to screen large chemical space and predict the key factors that influence the performance of the material and how changes in these factors will affect its properties. Optimization of existing materials, such as bandgap, electronic structure, and catalytic activity: This is an area of active research in the field of materials science and engineering. There is a lot of research going on in this area right now, but it is still in its infancy.']]}\n",
      "\n"
     ]
    },
    {
     "data": {
      "application/vnd.jupyter.widget-view+json": {
       "model_id": "0e0182c8c30f424ca51f6383a1f9df20",
       "version_major": 2,
       "version_minor": 0
      },
      "text/plain": [
       "Batches:   0%|          | 0/1 [00:00<?, ?it/s]"
      ]
     },
     "metadata": {},
     "output_type": "display_data"
    },
    {
     "name": "stderr",
     "output_type": "stream",
     "text": [
      "/usr/local/lib/python3.10/dist-packages/transformers/generation/configuration_utils.py:633: UserWarning: `do_sample` is set to `False`. However, `top_p` is set to `0.9` -- this flag is only used in sample-based generation modes. You should set `do_sample=True` or unset `top_p`.\n",
      "  warnings.warn(\n"
     ]
    },
    {
     "data": {
      "application/vnd.jupyter.widget-view+json": {
       "model_id": "59391e4a9f254380874ff80ffd6c7d6e",
       "version_major": 2,
       "version_minor": 0
      },
      "text/plain": [
       "Batches:   0%|          | 0/1 [00:00<?, ?it/s]"
      ]
     },
     "metadata": {},
     "output_type": "display_data"
    },
    {
     "data": {
      "application/vnd.jupyter.widget-view+json": {
       "model_id": "6524bfa9eaf64dcfb1fa4b01e9c165d0",
       "version_major": 2,
       "version_minor": 0
      },
      "text/plain": [
       "Batches:   0%|          | 0/1 [00:00<?, ?it/s]"
      ]
     },
     "metadata": {},
     "output_type": "display_data"
    },
    {
     "name": "stdout",
     "output_type": "stream",
     "text": [
      "• Cosine Similarity: 0.6848\n",
      "• Perplexity: 27.22\n",
      "------------------------------------------------------------\n",
      "Query: What is the hydrogen generation rate (mol/h) for Bi?WO? nanomaterials in a photoelectrochemical setup?\n",
      "Generated Answer: ['Hydrogen generation rate for BiWO in PEC: Approximately 0.05\\x960.1 mol/h. Hydrogen is produced by the reaction of H2O with CO2 and H3O. This reaction produces a net energy of 1.5 g/cm^3 (1.6 x 10^-6 J/mol)^(2)J/(2.4 x kg^2 )J/m^(-2))J(3.2 x10^6 )K(4.0 x 20^9 )']\n",
      "Evaluation Result: {'cosine_similarities': [0.68475497], 'perplexities': [27.222232818603516], 'answers': [['Hydrogen generation rate for BiWO in PEC: Approximately 0.05\\x960.1 mol/h. Hydrogen is produced by the reaction of H2O with CO2 and H3O. This reaction produces a net energy of 1.5 g/cm^3 (1.6 x 10^-6 J/mol)^(2)J/(2.4 x kg^2 )J/m^(-2))J(3.2 x10^6 )K(4.0 x 20^9 )']]}\n",
      "\n"
     ]
    },
    {
     "data": {
      "application/vnd.jupyter.widget-view+json": {
       "model_id": "37721a09b8f04d7e92b9046437a6f3e5",
       "version_major": 2,
       "version_minor": 0
      },
      "text/plain": [
       "Batches:   0%|          | 0/1 [00:00<?, ?it/s]"
      ]
     },
     "metadata": {},
     "output_type": "display_data"
    },
    {
     "name": "stderr",
     "output_type": "stream",
     "text": [
      "/usr/local/lib/python3.10/dist-packages/transformers/generation/configuration_utils.py:633: UserWarning: `do_sample` is set to `False`. However, `top_p` is set to `0.9` -- this flag is only used in sample-based generation modes. You should set `do_sample=True` or unset `top_p`.\n",
      "  warnings.warn(\n"
     ]
    },
    {
     "data": {
      "application/vnd.jupyter.widget-view+json": {
       "model_id": "ddf35b48544a49d2944dd28022ac8a5f",
       "version_major": 2,
       "version_minor": 0
      },
      "text/plain": [
       "Batches:   0%|          | 0/1 [00:00<?, ?it/s]"
      ]
     },
     "metadata": {},
     "output_type": "display_data"
    },
    {
     "data": {
      "application/vnd.jupyter.widget-view+json": {
       "model_id": "cdec1e88fa2f4dddac4b4dd77418c0fa",
       "version_major": 2,
       "version_minor": 0
      },
      "text/plain": [
       "Batches:   0%|          | 0/1 [00:00<?, ?it/s]"
      ]
     },
     "metadata": {},
     "output_type": "display_data"
    },
    {
     "name": "stdout",
     "output_type": "stream",
     "text": [
      "• Cosine Similarity: 0.8217\n",
      "• Perplexity: 6.61\n",
      "------------------------------------------------------------\n",
      "Query: How much hydrogen (mol) is produced per gram of Ag nanomaterials in photocatalytic hydrogen generation?\n",
      "Generated Answer: ['Hydrogen produced per gram of Ag in photocatalytic hydrogen generation: Around 0.01\\x960.05 mol. Hydrogen is produced as a byproduct of the reaction, but it is not the only product. It is also produced by the following reactions: 1. 2. 3. 4. 5. 6. 7. 8. 9. 10. 11. 12. 13. 14. 15. 16. 17. 18. 19. 20. 21. 22. 23. 24. 25. 26. 27. 28. 29.']\n",
      "Evaluation Result: {'cosine_similarities': [0.8217075], 'perplexities': [6.614645004272461], 'answers': [['Hydrogen produced per gram of Ag in photocatalytic hydrogen generation: Around 0.01\\x960.05 mol. Hydrogen is produced as a byproduct of the reaction, but it is not the only product. It is also produced by the following reactions: 1. 2. 3. 4. 5. 6. 7. 8. 9. 10. 11. 12. 13. 14. 15. 16. 17. 18. 19. 20. 21. 22. 23. 24. 25. 26. 27. 28. 29.']]}\n",
      "\n"
     ]
    },
    {
     "data": {
      "application/vnd.jupyter.widget-view+json": {
       "model_id": "16e5ac89a84e483a95838457aeb65960",
       "version_major": 2,
       "version_minor": 0
      },
      "text/plain": [
       "Batches:   0%|          | 0/1 [00:00<?, ?it/s]"
      ]
     },
     "metadata": {},
     "output_type": "display_data"
    },
    {
     "name": "stderr",
     "output_type": "stream",
     "text": [
      "/usr/local/lib/python3.10/dist-packages/transformers/generation/configuration_utils.py:633: UserWarning: `do_sample` is set to `False`. However, `top_p` is set to `0.9` -- this flag is only used in sample-based generation modes. You should set `do_sample=True` or unset `top_p`.\n",
      "  warnings.warn(\n"
     ]
    },
    {
     "data": {
      "application/vnd.jupyter.widget-view+json": {
       "model_id": "881c80646bf64c148f2be86c2e59e8a7",
       "version_major": 2,
       "version_minor": 0
      },
      "text/plain": [
       "Batches:   0%|          | 0/1 [00:00<?, ?it/s]"
      ]
     },
     "metadata": {},
     "output_type": "display_data"
    },
    {
     "data": {
      "application/vnd.jupyter.widget-view+json": {
       "model_id": "82d495d262c5425e84a838ab6027696f",
       "version_major": 2,
       "version_minor": 0
      },
      "text/plain": [
       "Batches:   0%|          | 0/1 [00:00<?, ?it/s]"
      ]
     },
     "metadata": {},
     "output_type": "display_data"
    },
    {
     "name": "stdout",
     "output_type": "stream",
     "text": [
      "• Cosine Similarity: 0.9340\n",
      "• Perplexity: 12.19\n",
      "------------------------------------------------------------\n",
      "Query: What is the quantum efficiency (%) of Ag/ZnO core-shell nanomaterials in hydrogen production?\n",
      "Generated Answer: ['Quantum Efficiency (%) of Ag/ZnO Core-Shell Nanomaterials in Hydrogen Production: This is a very rough estimate of the quantum efficiencies of these materials in the production of hydrogen. However, it is important to note that there are many factors that can affect this. For example, there is the fact that they can be made of different materials, which can have different properties, and so on. These factors can include: 1. The number of atoms in a material. 2. Temperature. 3. Chemical properties.']\n",
      "Evaluation Result: {'cosine_similarities': [0.934049], 'perplexities': [12.186511993408203], 'answers': [['Quantum Efficiency (%) of Ag/ZnO Core-Shell Nanomaterials in Hydrogen Production: This is a very rough estimate of the quantum efficiencies of these materials in the production of hydrogen. However, it is important to note that there are many factors that can affect this. For example, there is the fact that they can be made of different materials, which can have different properties, and so on. These factors can include: 1. The number of atoms in a material. 2. Temperature. 3. Chemical properties.']]}\n",
      "\n"
     ]
    },
    {
     "data": {
      "application/vnd.jupyter.widget-view+json": {
       "model_id": "ae52a2b972d44362a7db45795b8242db",
       "version_major": 2,
       "version_minor": 0
      },
      "text/plain": [
       "Batches:   0%|          | 0/1 [00:00<?, ?it/s]"
      ]
     },
     "metadata": {},
     "output_type": "display_data"
    },
    {
     "name": "stderr",
     "output_type": "stream",
     "text": [
      "/usr/local/lib/python3.10/dist-packages/transformers/generation/configuration_utils.py:633: UserWarning: `do_sample` is set to `False`. However, `top_p` is set to `0.9` -- this flag is only used in sample-based generation modes. You should set `do_sample=True` or unset `top_p`.\n",
      "  warnings.warn(\n"
     ]
    },
    {
     "data": {
      "application/vnd.jupyter.widget-view+json": {
       "model_id": "fed152248fb845bbbabd5fe2c2c40d1a",
       "version_major": 2,
       "version_minor": 0
      },
      "text/plain": [
       "Batches:   0%|          | 0/1 [00:00<?, ?it/s]"
      ]
     },
     "metadata": {},
     "output_type": "display_data"
    },
    {
     "data": {
      "application/vnd.jupyter.widget-view+json": {
       "model_id": "363272465d1f4fb2810ce3329909568b",
       "version_major": 2,
       "version_minor": 0
      },
      "text/plain": [
       "Batches:   0%|          | 0/1 [00:00<?, ?it/s]"
      ]
     },
     "metadata": {},
     "output_type": "display_data"
    },
    {
     "name": "stdout",
     "output_type": "stream",
     "text": [
      "• Cosine Similarity: 0.8707\n",
      "• Perplexity: 22.92\n",
      "------------------------------------------------------------\n",
      "Query: How much hydrogen (mol) is produced from 1 g of FeNi nanomaterials in alkaline electrolysis?\n",
      "Generated Answer: ['Hydrogen (mol) Produced from 1 g of FeNi Nanomaterials in Alkaline Electrolysis: 0.03\\x960.05 mol of hydrogen per gram in alkaline electrolysis, depending on the catalytic properties. Hydrogen is produced by the reaction of H2O2 with H3O3. The reaction is catalyzed by Fe(II)O(III)H^(2), where H is the reactivity of the H+ ions.']\n",
      "Evaluation Result: {'cosine_similarities': [0.8707146], 'perplexities': [22.924570083618164], 'answers': [['Hydrogen (mol) Produced from 1 g of FeNi Nanomaterials in Alkaline Electrolysis: 0.03\\x960.05 mol of hydrogen per gram in alkaline electrolysis, depending on the catalytic properties. Hydrogen is produced by the reaction of H2O2 with H3O3. The reaction is catalyzed by Fe(II)O(III)H^(2), where H is the reactivity of the H+ ions.']]}\n",
      "\n"
     ]
    },
    {
     "data": {
      "application/vnd.jupyter.widget-view+json": {
       "model_id": "01d619cba2634357b3d6d4a735cd9128",
       "version_major": 2,
       "version_minor": 0
      },
      "text/plain": [
       "Batches:   0%|          | 0/1 [00:00<?, ?it/s]"
      ]
     },
     "metadata": {},
     "output_type": "display_data"
    },
    {
     "name": "stderr",
     "output_type": "stream",
     "text": [
      "/usr/local/lib/python3.10/dist-packages/transformers/generation/configuration_utils.py:633: UserWarning: `do_sample` is set to `False`. However, `top_p` is set to `0.9` -- this flag is only used in sample-based generation modes. You should set `do_sample=True` or unset `top_p`.\n",
      "  warnings.warn(\n"
     ]
    },
    {
     "data": {
      "application/vnd.jupyter.widget-view+json": {
       "model_id": "eda6419a779849d29778525b2a1796d7",
       "version_major": 2,
       "version_minor": 0
      },
      "text/plain": [
       "Batches:   0%|          | 0/1 [00:00<?, ?it/s]"
      ]
     },
     "metadata": {},
     "output_type": "display_data"
    },
    {
     "data": {
      "application/vnd.jupyter.widget-view+json": {
       "model_id": "6c636701f6194824b2f36e70c5638e7c",
       "version_major": 2,
       "version_minor": 0
      },
      "text/plain": [
       "Batches:   0%|          | 0/1 [00:00<?, ?it/s]"
      ]
     },
     "metadata": {},
     "output_type": "display_data"
    },
    {
     "name": "stdout",
     "output_type": "stream",
     "text": [
      "• Cosine Similarity: 0.8870\n",
      "• Perplexity: 30.95\n",
      "------------------------------------------------------------\n",
      "Query: What is the mass activity (A/g) of Pt nanomaterials in hydrogen evolution under acidic conditions?\n",
      "Generated Answer: ['The mass activity of Pt nanomaterials for hydrogen evolution in acidic conditions typically ranges from 0.1 to 1 A/g. Mass Activity of Hydrogen Evolution under Acidic Conditions: The mass Activity (A/G) of P-N-M-S-H-O-P-Si-OH-Cl-SO-C-Co-2-T-CO-3-Fe-4-Hydrogen-Fluorocarbons in Acid Conditions.']\n",
      "Evaluation Result: {'cosine_similarities': [0.88702047], 'perplexities': [30.9459285736084], 'answers': [['The mass activity of Pt nanomaterials for hydrogen evolution in acidic conditions typically ranges from 0.1 to 1 A/g. Mass Activity of Hydrogen Evolution under Acidic Conditions: The mass Activity (A/G) of P-N-M-S-H-O-P-Si-OH-Cl-SO-C-Co-2-T-CO-3-Fe-4-Hydrogen-Fluorocarbons in Acid Conditions.']]}\n",
      "\n"
     ]
    },
    {
     "data": {
      "application/vnd.jupyter.widget-view+json": {
       "model_id": "a426a287b3ae40b39cae44ce3a63ee64",
       "version_major": 2,
       "version_minor": 0
      },
      "text/plain": [
       "Batches:   0%|          | 0/1 [00:00<?, ?it/s]"
      ]
     },
     "metadata": {},
     "output_type": "display_data"
    },
    {
     "name": "stderr",
     "output_type": "stream",
     "text": [
      "/usr/local/lib/python3.10/dist-packages/transformers/generation/configuration_utils.py:633: UserWarning: `do_sample` is set to `False`. However, `top_p` is set to `0.9` -- this flag is only used in sample-based generation modes. You should set `do_sample=True` or unset `top_p`.\n",
      "  warnings.warn(\n"
     ]
    },
    {
     "data": {
      "application/vnd.jupyter.widget-view+json": {
       "model_id": "c6c5c2a2901f40e4b2f03659dfb3c4cd",
       "version_major": 2,
       "version_minor": 0
      },
      "text/plain": [
       "Batches:   0%|          | 0/1 [00:00<?, ?it/s]"
      ]
     },
     "metadata": {},
     "output_type": "display_data"
    },
    {
     "data": {
      "application/vnd.jupyter.widget-view+json": {
       "model_id": "8c8fe972f35c4cd89b72b88c1d74fa61",
       "version_major": 2,
       "version_minor": 0
      },
      "text/plain": [
       "Batches:   0%|          | 0/1 [00:00<?, ?it/s]"
      ]
     },
     "metadata": {},
     "output_type": "display_data"
    },
    {
     "name": "stdout",
     "output_type": "stream",
     "text": [
      "• Cosine Similarity: 0.9322\n",
      "• Perplexity: 14.71\n",
      "------------------------------------------------------------\n",
      "Query: What is the energy efficiency (%) of using CuO nanomaterials for hydrogen production?\n",
      "Generated Answer: ['Energy Efficiency (%) of Using CuO Nanomaterials for Hydrogen Production: 40-60% depending on their specific preparation and conditions. The energy efficiency of CuOs in hydrogen production is estimated to be 60-70%. This is based on the following assumptions: 1) The material has a high thermal conductivity, 2) the material is non-porous, and 3) there is a low melting point. These assumptions are not true for all materials, but they are the most common assumptions.']\n",
      "Evaluation Result: {'cosine_similarities': [0.9322281], 'perplexities': [14.711379051208496], 'answers': [['Energy Efficiency (%) of Using CuO Nanomaterials for Hydrogen Production: 40-60% depending on their specific preparation and conditions. The energy efficiency of CuOs in hydrogen production is estimated to be 60-70%. This is based on the following assumptions: 1) The material has a high thermal conductivity, 2) the material is non-porous, and 3) there is a low melting point. These assumptions are not true for all materials, but they are the most common assumptions.']]}\n",
      "\n"
     ]
    },
    {
     "data": {
      "application/vnd.jupyter.widget-view+json": {
       "model_id": "08fda6be67bf4031bcfdb1afdc93bb9b",
       "version_major": 2,
       "version_minor": 0
      },
      "text/plain": [
       "Batches:   0%|          | 0/1 [00:00<?, ?it/s]"
      ]
     },
     "metadata": {},
     "output_type": "display_data"
    },
    {
     "name": "stderr",
     "output_type": "stream",
     "text": [
      "/usr/local/lib/python3.10/dist-packages/transformers/generation/configuration_utils.py:633: UserWarning: `do_sample` is set to `False`. However, `top_p` is set to `0.9` -- this flag is only used in sample-based generation modes. You should set `do_sample=True` or unset `top_p`.\n",
      "  warnings.warn(\n"
     ]
    },
    {
     "data": {
      "application/vnd.jupyter.widget-view+json": {
       "model_id": "48156663bbc2481881e5fb13566b5918",
       "version_major": 2,
       "version_minor": 0
      },
      "text/plain": [
       "Batches:   0%|          | 0/1 [00:00<?, ?it/s]"
      ]
     },
     "metadata": {},
     "output_type": "display_data"
    },
    {
     "data": {
      "application/vnd.jupyter.widget-view+json": {
       "model_id": "d95d8a482d124aefb3baf6628e89cb69",
       "version_major": 2,
       "version_minor": 0
      },
      "text/plain": [
       "Batches:   0%|          | 0/1 [00:00<?, ?it/s]"
      ]
     },
     "metadata": {},
     "output_type": "display_data"
    },
    {
     "name": "stdout",
     "output_type": "stream",
     "text": [
      "• Cosine Similarity: 0.9276\n",
      "• Perplexity: 16.58\n",
      "------------------------------------------------------------\n",
      "Query: What is the operating temperature range (°C) for SnO? nanomaterials in photocatalytic hydrogen generation?\n",
      "Generated Answer: [\"Operating Temperature Range (°C) for SnO Nanomaterials in Photocatalytic Hydrogen Generation: 20-80 °C. This is the operating temperature range used for the production of hydrogen from a photocatalyst. The temperature is chosen because it is a good approximation of the temperature at which the reaction occurs. It is important to note that this is not the ideal temperature for producing hydrogen, but rather, the maximum possible temperature. Edit: Here's a table.\"]\n",
      "Evaluation Result: {'cosine_similarities': [0.92763746], 'perplexities': [16.57848358154297], 'answers': [[\"Operating Temperature Range (°C) for SnO Nanomaterials in Photocatalytic Hydrogen Generation: 20-80 °C. This is the operating temperature range used for the production of hydrogen from a photocatalyst. The temperature is chosen because it is a good approximation of the temperature at which the reaction occurs. It is important to note that this is not the ideal temperature for producing hydrogen, but rather, the maximum possible temperature. Edit: Here's a table.\"]]}\n",
      "\n"
     ]
    },
    {
     "data": {
      "application/vnd.jupyter.widget-view+json": {
       "model_id": "79fc6eac14b74e59b4250c95fde6bc8a",
       "version_major": 2,
       "version_minor": 0
      },
      "text/plain": [
       "Batches:   0%|          | 0/1 [00:00<?, ?it/s]"
      ]
     },
     "metadata": {},
     "output_type": "display_data"
    },
    {
     "name": "stderr",
     "output_type": "stream",
     "text": [
      "/usr/local/lib/python3.10/dist-packages/transformers/generation/configuration_utils.py:633: UserWarning: `do_sample` is set to `False`. However, `top_p` is set to `0.9` -- this flag is only used in sample-based generation modes. You should set `do_sample=True` or unset `top_p`.\n",
      "  warnings.warn(\n"
     ]
    },
    {
     "data": {
      "application/vnd.jupyter.widget-view+json": {
       "model_id": "ff0a03a6fa3140689fcc1ca647440318",
       "version_major": 2,
       "version_minor": 0
      },
      "text/plain": [
       "Batches:   0%|          | 0/1 [00:00<?, ?it/s]"
      ]
     },
     "metadata": {},
     "output_type": "display_data"
    },
    {
     "data": {
      "application/vnd.jupyter.widget-view+json": {
       "model_id": "51f2284675dd4e85b7437d5c9c18e3b1",
       "version_major": 2,
       "version_minor": 0
      },
      "text/plain": [
       "Batches:   0%|          | 0/1 [00:00<?, ?it/s]"
      ]
     },
     "metadata": {},
     "output_type": "display_data"
    },
    {
     "name": "stdout",
     "output_type": "stream",
     "text": [
      "• Cosine Similarity: 0.8574\n",
      "• Perplexity: 25.30\n",
      "------------------------------------------------------------\n",
      "Query: How many electrons are transferred per hydrogen molecule produced in MoS?-based HER catalysts?\n",
      "Generated Answer: [\"Electrons Transferred per Hydrogen Molecule Produced in MoS-Based HER Catalysts: 2 electrons are transferred per hydrogen molecule produced. For MOS based HER catalysts, the total number of electrons transferred is 2. The total amount of energy released by the reaction depends on the energy of the H2O and the catalyst. This is a rough estimate. Here's a more detailed calculation: 1.2 electron = 2 hydrogen molecules produced (2.5 Joules/mol)\"]\n",
      "Evaluation Result: {'cosine_similarities': [0.8574347], 'perplexities': [25.299097061157227], 'answers': [[\"Electrons Transferred per Hydrogen Molecule Produced in MoS-Based HER Catalysts: 2 electrons are transferred per hydrogen molecule produced. For MOS based HER catalysts, the total number of electrons transferred is 2. The total amount of energy released by the reaction depends on the energy of the H2O and the catalyst. This is a rough estimate. Here's a more detailed calculation: 1.2 electron = 2 hydrogen molecules produced (2.5 Joules/mol)\"]]}\n",
      "\n"
     ]
    },
    {
     "data": {
      "application/vnd.jupyter.widget-view+json": {
       "model_id": "26d12fba35134b82b9ce9f02d4ee5f3e",
       "version_major": 2,
       "version_minor": 0
      },
      "text/plain": [
       "Batches:   0%|          | 0/1 [00:00<?, ?it/s]"
      ]
     },
     "metadata": {},
     "output_type": "display_data"
    },
    {
     "name": "stderr",
     "output_type": "stream",
     "text": [
      "/usr/local/lib/python3.10/dist-packages/transformers/generation/configuration_utils.py:633: UserWarning: `do_sample` is set to `False`. However, `top_p` is set to `0.9` -- this flag is only used in sample-based generation modes. You should set `do_sample=True` or unset `top_p`.\n",
      "  warnings.warn(\n"
     ]
    },
    {
     "data": {
      "application/vnd.jupyter.widget-view+json": {
       "model_id": "2a739fb7db714ba29ff0209bbf08a3a4",
       "version_major": 2,
       "version_minor": 0
      },
      "text/plain": [
       "Batches:   0%|          | 0/1 [00:00<?, ?it/s]"
      ]
     },
     "metadata": {},
     "output_type": "display_data"
    },
    {
     "data": {
      "application/vnd.jupyter.widget-view+json": {
       "model_id": "b69e9cd911ce407e84a19f2b5a343cc3",
       "version_major": 2,
       "version_minor": 0
      },
      "text/plain": [
       "Batches:   0%|          | 0/1 [00:00<?, ?it/s]"
      ]
     },
     "metadata": {},
     "output_type": "display_data"
    },
    {
     "name": "stdout",
     "output_type": "stream",
     "text": [
      "• Cosine Similarity: 0.8767\n",
      "• Perplexity: 27.14\n",
      "------------------------------------------------------------\n",
      "Query: What is the rate of hydrogen production (?mol/s) from 1 g of Co?O? nanomaterials in alkaline media?\n",
      "Generated Answer: ['Hydrogen production from 1 g of CoO Nanomaterials in Alkaline Media: Hydrogen Production (mol/s) from a 1g of COO Nano-Molecular Material: 0.02\\x960.1 mol/S per gram in alkaline media. The rate of hydrogen production is dependent on the temperature of the material and the amount of H2O present in the sample. For example, at room temperature, CO2 will be produced at a much lower rate.']\n",
      "Evaluation Result: {'cosine_similarities': [0.8766727], 'perplexities': [27.13536834716797], 'answers': [['Hydrogen production from 1 g of CoO Nanomaterials in Alkaline Media: Hydrogen Production (mol/s) from a 1g of COO Nano-Molecular Material: 0.02\\x960.1 mol/S per gram in alkaline media. The rate of hydrogen production is dependent on the temperature of the material and the amount of H2O present in the sample. For example, at room temperature, CO2 will be produced at a much lower rate.']]}\n",
      "\n"
     ]
    },
    {
     "data": {
      "application/vnd.jupyter.widget-view+json": {
       "model_id": "3262ee97b8ae420ea8af0667e40d3176",
       "version_major": 2,
       "version_minor": 0
      },
      "text/plain": [
       "Batches:   0%|          | 0/1 [00:00<?, ?it/s]"
      ]
     },
     "metadata": {},
     "output_type": "display_data"
    },
    {
     "name": "stderr",
     "output_type": "stream",
     "text": [
      "/usr/local/lib/python3.10/dist-packages/transformers/generation/configuration_utils.py:633: UserWarning: `do_sample` is set to `False`. However, `top_p` is set to `0.9` -- this flag is only used in sample-based generation modes. You should set `do_sample=True` or unset `top_p`.\n",
      "  warnings.warn(\n"
     ]
    },
    {
     "data": {
      "application/vnd.jupyter.widget-view+json": {
       "model_id": "8559a87b3fd84ccb9b24d1c99b3bf168",
       "version_major": 2,
       "version_minor": 0
      },
      "text/plain": [
       "Batches:   0%|          | 0/1 [00:00<?, ?it/s]"
      ]
     },
     "metadata": {},
     "output_type": "display_data"
    },
    {
     "data": {
      "application/vnd.jupyter.widget-view+json": {
       "model_id": "472e0048267d46f29ebab71882175675",
       "version_major": 2,
       "version_minor": 0
      },
      "text/plain": [
       "Batches:   0%|          | 0/1 [00:00<?, ?it/s]"
      ]
     },
     "metadata": {},
     "output_type": "display_data"
    },
    {
     "name": "stdout",
     "output_type": "stream",
     "text": [
      "• Cosine Similarity: 0.8389\n",
      "• Perplexity: 13.76\n",
      "------------------------------------------------------------\n",
      "Query: What is the energy density (Wh/kg) of hydrogen produced by Pt-modified nanomaterials?\n",
      "Generated Answer: [\"Energy Density (Wh/kg) of Hydrogen Produced by Pt-Modified Nanomaterials: 140-200 Wh/Kg. This is the energy density of hydrogen produced by a p-modified nanoparticle. It's a bit higher than what you'd expect, but it's still very high. The energy of a hydrogen atom is proportional to its mass, so it has a higher density than a helium atom. Edit: Here's the wikipedia page on it.\"]\n",
      "Evaluation Result: {'cosine_similarities': [0.8388744], 'perplexities': [13.760581016540527], 'answers': [[\"Energy Density (Wh/kg) of Hydrogen Produced by Pt-Modified Nanomaterials: 140-200 Wh/Kg. This is the energy density of hydrogen produced by a p-modified nanoparticle. It's a bit higher than what you'd expect, but it's still very high. The energy of a hydrogen atom is proportional to its mass, so it has a higher density than a helium atom. Edit: Here's the wikipedia page on it.\"]]}\n",
      "\n"
     ]
    },
    {
     "data": {
      "application/vnd.jupyter.widget-view+json": {
       "model_id": "7c8b68053bc6432eaee754bc00419d92",
       "version_major": 2,
       "version_minor": 0
      },
      "text/plain": [
       "Batches:   0%|          | 0/1 [00:00<?, ?it/s]"
      ]
     },
     "metadata": {},
     "output_type": "display_data"
    },
    {
     "name": "stderr",
     "output_type": "stream",
     "text": [
      "/usr/local/lib/python3.10/dist-packages/transformers/generation/configuration_utils.py:633: UserWarning: `do_sample` is set to `False`. However, `top_p` is set to `0.9` -- this flag is only used in sample-based generation modes. You should set `do_sample=True` or unset `top_p`.\n",
      "  warnings.warn(\n"
     ]
    },
    {
     "data": {
      "application/vnd.jupyter.widget-view+json": {
       "model_id": "c95542fc243d4ea9aaaaeb244d747d6b",
       "version_major": 2,
       "version_minor": 0
      },
      "text/plain": [
       "Batches:   0%|          | 0/1 [00:00<?, ?it/s]"
      ]
     },
     "metadata": {},
     "output_type": "display_data"
    },
    {
     "data": {
      "application/vnd.jupyter.widget-view+json": {
       "model_id": "c2f7d828e5cc46b1b92653eda92cc2a4",
       "version_major": 2,
       "version_minor": 0
      },
      "text/plain": [
       "Batches:   0%|          | 0/1 [00:00<?, ?it/s]"
      ]
     },
     "metadata": {},
     "output_type": "display_data"
    },
    {
     "name": "stdout",
     "output_type": "stream",
     "text": [
      "• Cosine Similarity: 0.8157\n",
      "• Perplexity: 23.05\n",
      "------------------------------------------------------------\n",
      "Query: How much hydrogen (mol) can be generated per gram of MnO? nanomaterials in water splitting?\n",
      "Generated Answer: ['Hydrogen (mol) Produced from 1 g of MnO Nanomaterials in Water Splitting: 0.02\\x960.05 mol of hydrogen per gram in water reactions. Hydrogen is the most abundant element in the universe, and it has a half-life of about 1.5 billion years. This means that it can be produced in a given amount of time by any number of methods, including splitting water. Edit: I forgot to mention that this is a very simple calculation.']\n",
      "Evaluation Result: {'cosine_similarities': [0.8156924], 'perplexities': [23.052406311035156], 'answers': [['Hydrogen (mol) Produced from 1 g of MnO Nanomaterials in Water Splitting: 0.02\\x960.05 mol of hydrogen per gram in water reactions. Hydrogen is the most abundant element in the universe, and it has a half-life of about 1.5 billion years. This means that it can be produced in a given amount of time by any number of methods, including splitting water. Edit: I forgot to mention that this is a very simple calculation.']]}\n",
      "\n"
     ]
    },
    {
     "data": {
      "application/vnd.jupyter.widget-view+json": {
       "model_id": "6b411141f56c406b8ee91feed19a6da1",
       "version_major": 2,
       "version_minor": 0
      },
      "text/plain": [
       "Batches:   0%|          | 0/1 [00:00<?, ?it/s]"
      ]
     },
     "metadata": {},
     "output_type": "display_data"
    },
    {
     "name": "stderr",
     "output_type": "stream",
     "text": [
      "/usr/local/lib/python3.10/dist-packages/transformers/generation/configuration_utils.py:633: UserWarning: `do_sample` is set to `False`. However, `top_p` is set to `0.9` -- this flag is only used in sample-based generation modes. You should set `do_sample=True` or unset `top_p`.\n",
      "  warnings.warn(\n"
     ]
    },
    {
     "data": {
      "application/vnd.jupyter.widget-view+json": {
       "model_id": "b86f690cb33844fd8b099c2e77e4a0ca",
       "version_major": 2,
       "version_minor": 0
      },
      "text/plain": [
       "Batches:   0%|          | 0/1 [00:00<?, ?it/s]"
      ]
     },
     "metadata": {},
     "output_type": "display_data"
    },
    {
     "data": {
      "application/vnd.jupyter.widget-view+json": {
       "model_id": "6ecccab10dfe484b89b6728c93c85b9b",
       "version_major": 2,
       "version_minor": 0
      },
      "text/plain": [
       "Batches:   0%|          | 0/1 [00:00<?, ?it/s]"
      ]
     },
     "metadata": {},
     "output_type": "display_data"
    },
    {
     "name": "stdout",
     "output_type": "stream",
     "text": [
      "• Cosine Similarity: 0.8002\n",
      "• Perplexity: 16.51\n",
      "------------------------------------------------------------\n",
      "Query: What is the performance stability (time) of Au nanomaterials in hydrogen evolution reactions?\n",
      "Generated Answer: ['Nanomaterials in Hydrogen Evolution Reactions (HER) generally exhibit high stability in HER reactions, with performance lasting up to 100-200 hours under optimized conditions. This is due to the fact that the H2O and H3O molecules are bound to each other in a very stable manner. The stability of these molecules is determined by the number of protons and neutrons in the system, and the amount of energy required to overcome the repulsion. For more information, see:']\n",
      "Evaluation Result: {'cosine_similarities': [0.8002429], 'perplexities': [16.507186889648438], 'answers': [['Nanomaterials in Hydrogen Evolution Reactions (HER) generally exhibit high stability in HER reactions, with performance lasting up to 100-200 hours under optimized conditions. This is due to the fact that the H2O and H3O molecules are bound to each other in a very stable manner. The stability of these molecules is determined by the number of protons and neutrons in the system, and the amount of energy required to overcome the repulsion. For more information, see:']]}\n",
      "\n"
     ]
    },
    {
     "data": {
      "application/vnd.jupyter.widget-view+json": {
       "model_id": "7c3b03b7c2b94021b451d036ee2ae195",
       "version_major": 2,
       "version_minor": 0
      },
      "text/plain": [
       "Batches:   0%|          | 0/1 [00:00<?, ?it/s]"
      ]
     },
     "metadata": {},
     "output_type": "display_data"
    },
    {
     "name": "stderr",
     "output_type": "stream",
     "text": [
      "/usr/local/lib/python3.10/dist-packages/transformers/generation/configuration_utils.py:633: UserWarning: `do_sample` is set to `False`. However, `top_p` is set to `0.9` -- this flag is only used in sample-based generation modes. You should set `do_sample=True` or unset `top_p`.\n",
      "  warnings.warn(\n"
     ]
    },
    {
     "data": {
      "application/vnd.jupyter.widget-view+json": {
       "model_id": "dce396413e814dcaa4a8bcfae691cd03",
       "version_major": 2,
       "version_minor": 0
      },
      "text/plain": [
       "Batches:   0%|          | 0/1 [00:00<?, ?it/s]"
      ]
     },
     "metadata": {},
     "output_type": "display_data"
    },
    {
     "data": {
      "application/vnd.jupyter.widget-view+json": {
       "model_id": "2689c8c715c8467c964e94a62984073b",
       "version_major": 2,
       "version_minor": 0
      },
      "text/plain": [
       "Batches:   0%|          | 0/1 [00:00<?, ?it/s]"
      ]
     },
     "metadata": {},
     "output_type": "display_data"
    },
    {
     "name": "stdout",
     "output_type": "stream",
     "text": [
      "• Cosine Similarity: 0.8758\n",
      "• Perplexity: 20.85\n",
      "------------------------------------------------------------\n",
      "Query: What is the hydrogen evolution reaction (HER) rate of Cu?O nanomaterials (?mol/s)?\n",
      "Generated Answer: ['Hydrogen Evolution Reaction (HER) Rate of CuO Nanomaterials (mol/s): The HER rate is about 0.05\\x960.1 mol/S under standard experimental conditions. The rate of HER is dependent on the number of atoms in the material, the size of the sample, and the type of material. For example, if you have a material with 10 atoms, it will react with 1.5 atoms per square inch, or 1/10th of an inch.']\n",
      "Evaluation Result: {'cosine_similarities': [0.87578595], 'perplexities': [20.85120391845703], 'answers': [['Hydrogen Evolution Reaction (HER) Rate of CuO Nanomaterials (mol/s): The HER rate is about 0.05\\x960.1 mol/S under standard experimental conditions. The rate of HER is dependent on the number of atoms in the material, the size of the sample, and the type of material. For example, if you have a material with 10 atoms, it will react with 1.5 atoms per square inch, or 1/10th of an inch.']]}\n",
      "\n"
     ]
    },
    {
     "data": {
      "application/vnd.jupyter.widget-view+json": {
       "model_id": "10e3ed73c57b4610aa75b7f4e46375f6",
       "version_major": 2,
       "version_minor": 0
      },
      "text/plain": [
       "Batches:   0%|          | 0/1 [00:00<?, ?it/s]"
      ]
     },
     "metadata": {},
     "output_type": "display_data"
    },
    {
     "name": "stderr",
     "output_type": "stream",
     "text": [
      "/usr/local/lib/python3.10/dist-packages/transformers/generation/configuration_utils.py:633: UserWarning: `do_sample` is set to `False`. However, `top_p` is set to `0.9` -- this flag is only used in sample-based generation modes. You should set `do_sample=True` or unset `top_p`.\n",
      "  warnings.warn(\n"
     ]
    },
    {
     "data": {
      "application/vnd.jupyter.widget-view+json": {
       "model_id": "9525b260d7644b81b0dd2f93a4625847",
       "version_major": 2,
       "version_minor": 0
      },
      "text/plain": [
       "Batches:   0%|          | 0/1 [00:00<?, ?it/s]"
      ]
     },
     "metadata": {},
     "output_type": "display_data"
    },
    {
     "data": {
      "application/vnd.jupyter.widget-view+json": {
       "model_id": "9d68f587b90f415598e56e7dbf77973e",
       "version_major": 2,
       "version_minor": 0
      },
      "text/plain": [
       "Batches:   0%|          | 0/1 [00:00<?, ?it/s]"
      ]
     },
     "metadata": {},
     "output_type": "display_data"
    },
    {
     "name": "stdout",
     "output_type": "stream",
     "text": [
      "• Cosine Similarity: 0.8360\n",
      "• Perplexity: 24.06\n",
      "------------------------------------------------------------\n",
      "Query: What is the efficiency (%) of g-C?N?-based nanomaterials in photoelectrochemical hydrogen production?\n",
      "Generated Answer: ['Efficiency (%) of G-CN-Based Nanomaterials in Photoelectrochemical Hydrogen Production: The efficiency of g-Cyan-based nanoparticles for PEC hydrogen production is approximately 10\\x9615%. This efficiency is based on the following assumptions: 1. The material can be used to produce H2O. 2. There are no defects in the material. 3. No defects are present in other materials. 4. A defect is a defect in a material that is not used.']\n",
      "Evaluation Result: {'cosine_similarities': [0.8359797], 'perplexities': [24.057117462158203], 'answers': [['Efficiency (%) of G-CN-Based Nanomaterials in Photoelectrochemical Hydrogen Production: The efficiency of g-Cyan-based nanoparticles for PEC hydrogen production is approximately 10\\x9615%. This efficiency is based on the following assumptions: 1. The material can be used to produce H2O. 2. There are no defects in the material. 3. No defects are present in other materials. 4. A defect is a defect in a material that is not used.']]}\n",
      "\n"
     ]
    },
    {
     "data": {
      "application/vnd.jupyter.widget-view+json": {
       "model_id": "a91d86d7091148b186c4f939bec463d1",
       "version_major": 2,
       "version_minor": 0
      },
      "text/plain": [
       "Batches:   0%|          | 0/1 [00:00<?, ?it/s]"
      ]
     },
     "metadata": {},
     "output_type": "display_data"
    },
    {
     "name": "stderr",
     "output_type": "stream",
     "text": [
      "/usr/local/lib/python3.10/dist-packages/transformers/generation/configuration_utils.py:633: UserWarning: `do_sample` is set to `False`. However, `top_p` is set to `0.9` -- this flag is only used in sample-based generation modes. You should set `do_sample=True` or unset `top_p`.\n",
      "  warnings.warn(\n"
     ]
    },
    {
     "data": {
      "application/vnd.jupyter.widget-view+json": {
       "model_id": "c068c025a4f64e0b9a982447a8102ea6",
       "version_major": 2,
       "version_minor": 0
      },
      "text/plain": [
       "Batches:   0%|          | 0/1 [00:00<?, ?it/s]"
      ]
     },
     "metadata": {},
     "output_type": "display_data"
    },
    {
     "data": {
      "application/vnd.jupyter.widget-view+json": {
       "model_id": "a4992edde07b48f896cccff2bfae5965",
       "version_major": 2,
       "version_minor": 0
      },
      "text/plain": [
       "Batches:   0%|          | 0/1 [00:00<?, ?it/s]"
      ]
     },
     "metadata": {},
     "output_type": "display_data"
    },
    {
     "name": "stdout",
     "output_type": "stream",
     "text": [
      "• Cosine Similarity: 0.9065\n",
      "• Perplexity: 17.40\n",
      "------------------------------------------------------------\n",
      "Query: What is the optimal composition of Co-Ni bimetallic nanomaterials for HER?\n",
      "Generated Answer: ['The optimal composition for Co-Ni bimetallic nanomaterials in HER typically involves a 1:1 molar ratio of Co to Ni. Here is a paper on the topic. It is published in the Journal of the American Chemical Society. doi:10.1038/jacs.2017.02.003. The paper is also available in JSTOR, JPL, and Elsevier. For further reading, see the following abstracts: [1] and [2]']\n",
      "Evaluation Result: {'cosine_similarities': [0.90648055], 'perplexities': [17.396509170532227], 'answers': [['The optimal composition for Co-Ni bimetallic nanomaterials in HER typically involves a 1:1 molar ratio of Co to Ni. Here is a paper on the topic. It is published in the Journal of the American Chemical Society. doi:10.1038/jacs.2017.02.003. The paper is also available in JSTOR, JPL, and Elsevier. For further reading, see the following abstracts: [1] and [2]']]}\n",
      "\n"
     ]
    },
    {
     "data": {
      "application/vnd.jupyter.widget-view+json": {
       "model_id": "5ffab55d73614638b04a1ffada83b7cd",
       "version_major": 2,
       "version_minor": 0
      },
      "text/plain": [
       "Batches:   0%|          | 0/1 [00:00<?, ?it/s]"
      ]
     },
     "metadata": {},
     "output_type": "display_data"
    },
    {
     "name": "stderr",
     "output_type": "stream",
     "text": [
      "/usr/local/lib/python3.10/dist-packages/transformers/generation/configuration_utils.py:633: UserWarning: `do_sample` is set to `False`. However, `top_p` is set to `0.9` -- this flag is only used in sample-based generation modes. You should set `do_sample=True` or unset `top_p`.\n",
      "  warnings.warn(\n"
     ]
    },
    {
     "data": {
      "application/vnd.jupyter.widget-view+json": {
       "model_id": "a4d5f6a197734833a02c313d6f2a2843",
       "version_major": 2,
       "version_minor": 0
      },
      "text/plain": [
       "Batches:   0%|          | 0/1 [00:00<?, ?it/s]"
      ]
     },
     "metadata": {},
     "output_type": "display_data"
    },
    {
     "data": {
      "application/vnd.jupyter.widget-view+json": {
       "model_id": "a4aed13094ce4b79b5ba47d8c0a86495",
       "version_major": 2,
       "version_minor": 0
      },
      "text/plain": [
       "Batches:   0%|          | 0/1 [00:00<?, ?it/s]"
      ]
     },
     "metadata": {},
     "output_type": "display_data"
    },
    {
     "name": "stdout",
     "output_type": "stream",
     "text": [
      "• Cosine Similarity: 0.9346\n",
      "• Perplexity: 24.92\n",
      "------------------------------------------------------------\n",
      "Query: What is the lifetime (hours) of Pt-modified TiO? nanomaterials in hydrogen evolution reactions?\n",
      "Generated Answer: ['Lifetime (hours) of Pt-Modified TiO Nanomaterials in Hydrogen Evolution Reactions (HERE) is 100\\x96300 hours for hydrogen evolution in HER. The lifetime is determined by the number of protons and neutrons in the H2O molecule, and the amount of time it takes for the molecule to undergo a proton/neutron transition. For more information, see this paper: [1] () [2] (), [3] ().']\n",
      "Evaluation Result: {'cosine_similarities': [0.93459], 'perplexities': [24.91985511779785], 'answers': [['Lifetime (hours) of Pt-Modified TiO Nanomaterials in Hydrogen Evolution Reactions (HERE) is 100\\x96300 hours for hydrogen evolution in HER. The lifetime is determined by the number of protons and neutrons in the H2O molecule, and the amount of time it takes for the molecule to undergo a proton/neutron transition. For more information, see this paper: [1] () [2] (), [3] ().']]}\n",
      "\n"
     ]
    },
    {
     "data": {
      "application/vnd.jupyter.widget-view+json": {
       "model_id": "35555ed3e18f44eb83e7d220cf9622b9",
       "version_major": 2,
       "version_minor": 0
      },
      "text/plain": [
       "Batches:   0%|          | 0/1 [00:00<?, ?it/s]"
      ]
     },
     "metadata": {},
     "output_type": "display_data"
    },
    {
     "name": "stderr",
     "output_type": "stream",
     "text": [
      "/usr/local/lib/python3.10/dist-packages/transformers/generation/configuration_utils.py:633: UserWarning: `do_sample` is set to `False`. However, `top_p` is set to `0.9` -- this flag is only used in sample-based generation modes. You should set `do_sample=True` or unset `top_p`.\n",
      "  warnings.warn(\n"
     ]
    },
    {
     "data": {
      "application/vnd.jupyter.widget-view+json": {
       "model_id": "4714ee93434c4276a868884fe3b8241b",
       "version_major": 2,
       "version_minor": 0
      },
      "text/plain": [
       "Batches:   0%|          | 0/1 [00:00<?, ?it/s]"
      ]
     },
     "metadata": {},
     "output_type": "display_data"
    },
    {
     "data": {
      "application/vnd.jupyter.widget-view+json": {
       "model_id": "b55b9cd06e014e2b9fafda329295a77e",
       "version_major": 2,
       "version_minor": 0
      },
      "text/plain": [
       "Batches:   0%|          | 0/1 [00:00<?, ?it/s]"
      ]
     },
     "metadata": {},
     "output_type": "display_data"
    },
    {
     "name": "stdout",
     "output_type": "stream",
     "text": [
      "• Cosine Similarity: 0.8956\n",
      "• Perplexity: 23.89\n",
      "------------------------------------------------------------\n",
      "Query: What is the hydrogen production rate (mol/s) from 1 gram of RuO? nanomaterials in electrolysis?\n",
      "Generated Answer: [\"Hydrogen Production Rate (mol/s) from 1 Gram of RuO Nanomaterials in Electrolysis: 0.1\\x960.5 mol/S per gram in electrolysis. This is the rate of hydrogen production from a gram of RnO nanoparticles. The rate is dependent on the density of the material, the temperature, and the amount of energy required to produce the H2O. Edit: I should note that this is a very rough estimate. I'm not an expert.\"]\n",
      "Evaluation Result: {'cosine_similarities': [0.8955542], 'perplexities': [23.894325256347656], 'answers': [[\"Hydrogen Production Rate (mol/s) from 1 Gram of RuO Nanomaterials in Electrolysis: 0.1\\x960.5 mol/S per gram in electrolysis. This is the rate of hydrogen production from a gram of RnO nanoparticles. The rate is dependent on the density of the material, the temperature, and the amount of energy required to produce the H2O. Edit: I should note that this is a very rough estimate. I'm not an expert.\"]]}\n",
      "\n"
     ]
    },
    {
     "data": {
      "application/vnd.jupyter.widget-view+json": {
       "model_id": "0aa50914ec32433ebf00d29d26d19799",
       "version_major": 2,
       "version_minor": 0
      },
      "text/plain": [
       "Batches:   0%|          | 0/1 [00:00<?, ?it/s]"
      ]
     },
     "metadata": {},
     "output_type": "display_data"
    },
    {
     "name": "stderr",
     "output_type": "stream",
     "text": [
      "/usr/local/lib/python3.10/dist-packages/transformers/generation/configuration_utils.py:633: UserWarning: `do_sample` is set to `False`. However, `top_p` is set to `0.9` -- this flag is only used in sample-based generation modes. You should set `do_sample=True` or unset `top_p`.\n",
      "  warnings.warn(\n"
     ]
    },
    {
     "data": {
      "application/vnd.jupyter.widget-view+json": {
       "model_id": "d19bdf0c777143fba8e2406952141f27",
       "version_major": 2,
       "version_minor": 0
      },
      "text/plain": [
       "Batches:   0%|          | 0/1 [00:00<?, ?it/s]"
      ]
     },
     "metadata": {},
     "output_type": "display_data"
    },
    {
     "data": {
      "application/vnd.jupyter.widget-view+json": {
       "model_id": "65df6fb6a2794a3993607dbee48c88ab",
       "version_major": 2,
       "version_minor": 0
      },
      "text/plain": [
       "Batches:   0%|          | 0/1 [00:00<?, ?it/s]"
      ]
     },
     "metadata": {},
     "output_type": "display_data"
    },
    {
     "name": "stdout",
     "output_type": "stream",
     "text": [
      "• Cosine Similarity: 0.9488\n",
      "• Perplexity: 17.41\n",
      "------------------------------------------------------------\n",
      "Query: What is the stability (cycles) of graphene-based nanomaterials for repeated hydrogen production?\n",
      "Generated Answer: ['Stability (Cycles) of Graphene-Based Nanomaterials for Repeated Hydrogen Production: Here is a graph showing the stability of the graphene-based material. The graph shows that the material can sustain around 500\\x961000 cycles in hydrogen production without significant degradation. This means that it can be used in a variety of applications, including: 1. Re-hydrogenation. 2. Electrolysis. 3. Photon Capture. 4. Radioactive Reactions.']\n",
      "Evaluation Result: {'cosine_similarities': [0.94878745], 'perplexities': [17.410903930664062], 'answers': [['Stability (Cycles) of Graphene-Based Nanomaterials for Repeated Hydrogen Production: Here is a graph showing the stability of the graphene-based material. The graph shows that the material can sustain around 500\\x961000 cycles in hydrogen production without significant degradation. This means that it can be used in a variety of applications, including: 1. Re-hydrogenation. 2. Electrolysis. 3. Photon Capture. 4. Radioactive Reactions.']]}\n",
      "\n"
     ]
    },
    {
     "data": {
      "application/vnd.jupyter.widget-view+json": {
       "model_id": "9a12f8c285594692ad996560b5886997",
       "version_major": 2,
       "version_minor": 0
      },
      "text/plain": [
       "Batches:   0%|          | 0/1 [00:00<?, ?it/s]"
      ]
     },
     "metadata": {},
     "output_type": "display_data"
    },
    {
     "name": "stderr",
     "output_type": "stream",
     "text": [
      "/usr/local/lib/python3.10/dist-packages/transformers/generation/configuration_utils.py:633: UserWarning: `do_sample` is set to `False`. However, `top_p` is set to `0.9` -- this flag is only used in sample-based generation modes. You should set `do_sample=True` or unset `top_p`.\n",
      "  warnings.warn(\n"
     ]
    },
    {
     "data": {
      "application/vnd.jupyter.widget-view+json": {
       "model_id": "31cf88d0752c4614b4cbd383e0fbb72a",
       "version_major": 2,
       "version_minor": 0
      },
      "text/plain": [
       "Batches:   0%|          | 0/1 [00:00<?, ?it/s]"
      ]
     },
     "metadata": {},
     "output_type": "display_data"
    },
    {
     "data": {
      "application/vnd.jupyter.widget-view+json": {
       "model_id": "308e9562280f45e996656e4480b541ff",
       "version_major": 2,
       "version_minor": 0
      },
      "text/plain": [
       "Batches:   0%|          | 0/1 [00:00<?, ?it/s]"
      ]
     },
     "metadata": {},
     "output_type": "display_data"
    },
    {
     "name": "stdout",
     "output_type": "stream",
     "text": [
      "• Cosine Similarity: 0.8606\n",
      "• Perplexity: 19.67\n",
      "------------------------------------------------------------\n",
      "Query: What is the specific activity (A/m²) of FeNi alloys in electrochemical hydrogen evolution?\n",
      "Generated Answer: ['FeNi alloys exhibit specific activities in the range of 5\\x9650 A/m² for electrochemical hydrogen evolution. Specific Activity (A/M²) of FeNi Alloys in Electrochemical Hydrogen Evolution: FeFeAlloys have a specific activity of about 5.5 µm³/mol, which corresponds to about 0.1% of the total energy of a hydrogen atom. This is a very small amount of energy, but it is enough to make a difference.']\n",
      "Evaluation Result: {'cosine_similarities': [0.86059594], 'perplexities': [19.668197631835938], 'answers': [['FeNi alloys exhibit specific activities in the range of 5\\x9650 A/m² for electrochemical hydrogen evolution. Specific Activity (A/M²) of FeNi Alloys in Electrochemical Hydrogen Evolution: FeFeAlloys have a specific activity of about 5.5 µm³/mol, which corresponds to about 0.1% of the total energy of a hydrogen atom. This is a very small amount of energy, but it is enough to make a difference.']]}\n",
      "\n"
     ]
    },
    {
     "data": {
      "application/vnd.jupyter.widget-view+json": {
       "model_id": "9132ad0bc3c44658a792dbf49d8ba930",
       "version_major": 2,
       "version_minor": 0
      },
      "text/plain": [
       "Batches:   0%|          | 0/1 [00:00<?, ?it/s]"
      ]
     },
     "metadata": {},
     "output_type": "display_data"
    },
    {
     "name": "stderr",
     "output_type": "stream",
     "text": [
      "/usr/local/lib/python3.10/dist-packages/transformers/generation/configuration_utils.py:633: UserWarning: `do_sample` is set to `False`. However, `top_p` is set to `0.9` -- this flag is only used in sample-based generation modes. You should set `do_sample=True` or unset `top_p`.\n",
      "  warnings.warn(\n"
     ]
    },
    {
     "data": {
      "application/vnd.jupyter.widget-view+json": {
       "model_id": "02463b2f07564471bf51394b034c01f1",
       "version_major": 2,
       "version_minor": 0
      },
      "text/plain": [
       "Batches:   0%|          | 0/1 [00:00<?, ?it/s]"
      ]
     },
     "metadata": {},
     "output_type": "display_data"
    },
    {
     "data": {
      "application/vnd.jupyter.widget-view+json": {
       "model_id": "00baf0519e3448dca6cf34e4c6fa5365",
       "version_major": 2,
       "version_minor": 0
      },
      "text/plain": [
       "Batches:   0%|          | 0/1 [00:00<?, ?it/s]"
      ]
     },
     "metadata": {},
     "output_type": "display_data"
    },
    {
     "name": "stdout",
     "output_type": "stream",
     "text": [
      "• Cosine Similarity: 0.9175\n",
      "• Perplexity: 19.15\n",
      "------------------------------------------------------------\n",
      "Query: What is the energy efficiency of TiO?-based nanomaterials in photocatalytic hydrogen generation (%)?\n",
      "Generated Answer: ['TiO-based nanomaterials typically exhibit energy efficiencies between 10\\x9630% in photocatalytic hydrogen generation. This is due to the fact that TiO is a semiconductor, which means that it has a very high thermal conductivity. The energy required to generate a photon is proportional to its surface area, so the energy needed to produce the photon depends on how much energy is required. Edit: I forgot to mention that the efficiency is 10-30%. Edit 2:']\n",
      "Evaluation Result: {'cosine_similarities': [0.91748106], 'perplexities': [19.146963119506836], 'answers': [['TiO-based nanomaterials typically exhibit energy efficiencies between 10\\x9630% in photocatalytic hydrogen generation. This is due to the fact that TiO is a semiconductor, which means that it has a very high thermal conductivity. The energy required to generate a photon is proportional to its surface area, so the energy needed to produce the photon depends on how much energy is required. Edit: I forgot to mention that the efficiency is 10-30%. Edit 2:']]}\n",
      "\n"
     ]
    },
    {
     "data": {
      "application/vnd.jupyter.widget-view+json": {
       "model_id": "a076502ee6754720bc367b83b45e01a8",
       "version_major": 2,
       "version_minor": 0
      },
      "text/plain": [
       "Batches:   0%|          | 0/1 [00:00<?, ?it/s]"
      ]
     },
     "metadata": {},
     "output_type": "display_data"
    },
    {
     "name": "stderr",
     "output_type": "stream",
     "text": [
      "/usr/local/lib/python3.10/dist-packages/transformers/generation/configuration_utils.py:633: UserWarning: `do_sample` is set to `False`. However, `top_p` is set to `0.9` -- this flag is only used in sample-based generation modes. You should set `do_sample=True` or unset `top_p`.\n",
      "  warnings.warn(\n"
     ]
    },
    {
     "data": {
      "application/vnd.jupyter.widget-view+json": {
       "model_id": "16561165965b4941907b53fb47a7ebb0",
       "version_major": 2,
       "version_minor": 0
      },
      "text/plain": [
       "Batches:   0%|          | 0/1 [00:00<?, ?it/s]"
      ]
     },
     "metadata": {},
     "output_type": "display_data"
    },
    {
     "data": {
      "application/vnd.jupyter.widget-view+json": {
       "model_id": "f00e7e2b03274d9b842fd156cae42be9",
       "version_major": 2,
       "version_minor": 0
      },
      "text/plain": [
       "Batches:   0%|          | 0/1 [00:00<?, ?it/s]"
      ]
     },
     "metadata": {},
     "output_type": "display_data"
    },
    {
     "name": "stdout",
     "output_type": "stream",
     "text": [
      "• Cosine Similarity: 0.7107\n",
      "• Perplexity: 18.79\n",
      "------------------------------------------------------------\n",
      "Query: How much hydrogen (mol) can be produced per square meter of MoS?-based nanomaterials?\n",
      "Generated Answer: ['Hydrogen Produced per Square Meter of MoS-Based Nanomaterials: 0.01\\x960.05 mol of hydrogen per square meter in a photocatalytic reaction. Hydrogen is produced by the reaction because it is a byproduct of the electron transport chain. This means that the energy required to produce hydrogen is proportional to the number of protons in the molecule. So, for every proton, there is an equal and opposite amount of neutrons. Edit:']\n",
      "Evaluation Result: {'cosine_similarities': [0.7107036], 'perplexities': [18.787620544433594], 'answers': [['Hydrogen Produced per Square Meter of MoS-Based Nanomaterials: 0.01\\x960.05 mol of hydrogen per square meter in a photocatalytic reaction. Hydrogen is produced by the reaction because it is a byproduct of the electron transport chain. This means that the energy required to produce hydrogen is proportional to the number of protons in the molecule. So, for every proton, there is an equal and opposite amount of neutrons. Edit:']]}\n",
      "\n"
     ]
    },
    {
     "data": {
      "application/vnd.jupyter.widget-view+json": {
       "model_id": "3d5bd6e372674c2896c85484f93c560c",
       "version_major": 2,
       "version_minor": 0
      },
      "text/plain": [
       "Batches:   0%|          | 0/1 [00:00<?, ?it/s]"
      ]
     },
     "metadata": {},
     "output_type": "display_data"
    },
    {
     "name": "stderr",
     "output_type": "stream",
     "text": [
      "/usr/local/lib/python3.10/dist-packages/transformers/generation/configuration_utils.py:633: UserWarning: `do_sample` is set to `False`. However, `top_p` is set to `0.9` -- this flag is only used in sample-based generation modes. You should set `do_sample=True` or unset `top_p`.\n",
      "  warnings.warn(\n"
     ]
    },
    {
     "data": {
      "application/vnd.jupyter.widget-view+json": {
       "model_id": "c622b9c50aab40f08c2ee233b2c5761c",
       "version_major": 2,
       "version_minor": 0
      },
      "text/plain": [
       "Batches:   0%|          | 0/1 [00:00<?, ?it/s]"
      ]
     },
     "metadata": {},
     "output_type": "display_data"
    },
    {
     "data": {
      "application/vnd.jupyter.widget-view+json": {
       "model_id": "a105afbc2e7a4f7b93f5ac89f0e3387a",
       "version_major": 2,
       "version_minor": 0
      },
      "text/plain": [
       "Batches:   0%|          | 0/1 [00:00<?, ?it/s]"
      ]
     },
     "metadata": {},
     "output_type": "display_data"
    },
    {
     "name": "stdout",
     "output_type": "stream",
     "text": [
      "• Cosine Similarity: 0.8862\n",
      "• Perplexity: 20.70\n",
      "------------------------------------------------------------\n",
      "Query: What is the surface-to-volume ratio (m²/cm³) of nanoparticle catalysts in HER systems?\n",
      "Generated Answer: ['Surface-to-Volume Ratio (m²/cm³) of Nanoparticle Catalysts in HER Systems: This is the ratio of the surface to volume ratio in the range of 10\\x96100 m²/(cm²) in H2O systems. This ratio is based on the number of nanoparticles per cubic centimeter of volume. For example, here is a table of surface-volume ratios for NANOParticle catalysts. The graph shows that:']\n",
      "Evaluation Result: {'cosine_similarities': [0.88619566], 'perplexities': [20.698041915893555], 'answers': [['Surface-to-Volume Ratio (m²/cm³) of Nanoparticle Catalysts in HER Systems: This is the ratio of the surface to volume ratio in the range of 10\\x96100 m²/(cm²) in H2O systems. This ratio is based on the number of nanoparticles per cubic centimeter of volume. For example, here is a table of surface-volume ratios for NANOParticle catalysts. The graph shows that:']]}\n",
      "\n"
     ]
    },
    {
     "data": {
      "application/vnd.jupyter.widget-view+json": {
       "model_id": "6bae560a8d574842b17c7c358f296d79",
       "version_major": 2,
       "version_minor": 0
      },
      "text/plain": [
       "Batches:   0%|          | 0/1 [00:00<?, ?it/s]"
      ]
     },
     "metadata": {},
     "output_type": "display_data"
    },
    {
     "name": "stderr",
     "output_type": "stream",
     "text": [
      "/usr/local/lib/python3.10/dist-packages/transformers/generation/configuration_utils.py:633: UserWarning: `do_sample` is set to `False`. However, `top_p` is set to `0.9` -- this flag is only used in sample-based generation modes. You should set `do_sample=True` or unset `top_p`.\n",
      "  warnings.warn(\n"
     ]
    },
    {
     "data": {
      "application/vnd.jupyter.widget-view+json": {
       "model_id": "a3c9bb60fa9f4affb038cbd868c16465",
       "version_major": 2,
       "version_minor": 0
      },
      "text/plain": [
       "Batches:   0%|          | 0/1 [00:00<?, ?it/s]"
      ]
     },
     "metadata": {},
     "output_type": "display_data"
    },
    {
     "data": {
      "application/vnd.jupyter.widget-view+json": {
       "model_id": "285519d99a3a418c8f441a710eb343e2",
       "version_major": 2,
       "version_minor": 0
      },
      "text/plain": [
       "Batches:   0%|          | 0/1 [00:00<?, ?it/s]"
      ]
     },
     "metadata": {},
     "output_type": "display_data"
    },
    {
     "name": "stdout",
     "output_type": "stream",
     "text": [
      "• Cosine Similarity: 0.8994\n",
      "• Perplexity: 22.82\n",
      "------------------------------------------------------------\n",
      "Query: What is the hydrogen yield (mol/g/hr) of CuFeO? nanomaterials in water splitting?\n",
      "Generated Answer: [\"Hydrogen Yield (mol/g/hr) of CuFeO Nanomaterials in Water Splitting: 0.1\\x960.5 mol/G/HR in water splitting reactions. Hydrogen yield is a measure of how much energy is required to split water into hydrogen and oxygen. The hydrogen yield depends on the number of atoms in the material, the size of the molecule, and the temperature. For example, here's a graph of H2O-2:\"]\n",
      "Evaluation Result: {'cosine_similarities': [0.89941746], 'perplexities': [22.8171329498291], 'answers': [[\"Hydrogen Yield (mol/g/hr) of CuFeO Nanomaterials in Water Splitting: 0.1\\x960.5 mol/G/HR in water splitting reactions. Hydrogen yield is a measure of how much energy is required to split water into hydrogen and oxygen. The hydrogen yield depends on the number of atoms in the material, the size of the molecule, and the temperature. For example, here's a graph of H2O-2:\"]]}\n",
      "\n"
     ]
    },
    {
     "data": {
      "application/vnd.jupyter.widget-view+json": {
       "model_id": "ba42b86fd04d4b47895b1630094f2dab",
       "version_major": 2,
       "version_minor": 0
      },
      "text/plain": [
       "Batches:   0%|          | 0/1 [00:00<?, ?it/s]"
      ]
     },
     "metadata": {},
     "output_type": "display_data"
    },
    {
     "name": "stderr",
     "output_type": "stream",
     "text": [
      "/usr/local/lib/python3.10/dist-packages/transformers/generation/configuration_utils.py:633: UserWarning: `do_sample` is set to `False`. However, `top_p` is set to `0.9` -- this flag is only used in sample-based generation modes. You should set `do_sample=True` or unset `top_p`.\n",
      "  warnings.warn(\n"
     ]
    },
    {
     "data": {
      "application/vnd.jupyter.widget-view+json": {
       "model_id": "dd91ab56770249f78dd357cc59826649",
       "version_major": 2,
       "version_minor": 0
      },
      "text/plain": [
       "Batches:   0%|          | 0/1 [00:00<?, ?it/s]"
      ]
     },
     "metadata": {},
     "output_type": "display_data"
    },
    {
     "data": {
      "application/vnd.jupyter.widget-view+json": {
       "model_id": "870c36d373304e87b5287b3d49600873",
       "version_major": 2,
       "version_minor": 0
      },
      "text/plain": [
       "Batches:   0%|          | 0/1 [00:00<?, ?it/s]"
      ]
     },
     "metadata": {},
     "output_type": "display_data"
    },
    {
     "name": "stdout",
     "output_type": "stream",
     "text": [
      "• Cosine Similarity: 0.6951\n",
      "• Perplexity: 13.73\n",
      "------------------------------------------------------------\n",
      "Query: What is the rate of hydrogen evolution (mol/s) for graphene-based nanomaterials under sunlight?\n",
      "Generated Answer: [\"Graphene-based nanomaterials can produce hydrogen at a rate of approximately 0.01\\x960.05 mol/s under sunlight. This is a very small amount of hydrogen, but it is enough to produce a small fraction of the hydrogen needed to make a hydrogen atom. Edit: Here's a graph showing the rate at which hydrogen can be produced. The graph shows that hydrogen is produced at about 1.5 mol/(s^(2)) per cm^2.\"]\n",
      "Evaluation Result: {'cosine_similarities': [0.6951455], 'perplexities': [13.73299789428711], 'answers': [[\"Graphene-based nanomaterials can produce hydrogen at a rate of approximately 0.01\\x960.05 mol/s under sunlight. This is a very small amount of hydrogen, but it is enough to produce a small fraction of the hydrogen needed to make a hydrogen atom. Edit: Here's a graph showing the rate at which hydrogen can be produced. The graph shows that hydrogen is produced at about 1.5 mol/(s^(2)) per cm^2.\"]]}\n",
      "\n"
     ]
    },
    {
     "data": {
      "application/vnd.jupyter.widget-view+json": {
       "model_id": "02a02d49b23144088c788086d720d1c4",
       "version_major": 2,
       "version_minor": 0
      },
      "text/plain": [
       "Batches:   0%|          | 0/1 [00:00<?, ?it/s]"
      ]
     },
     "metadata": {},
     "output_type": "display_data"
    },
    {
     "name": "stderr",
     "output_type": "stream",
     "text": [
      "/usr/local/lib/python3.10/dist-packages/transformers/generation/configuration_utils.py:633: UserWarning: `do_sample` is set to `False`. However, `top_p` is set to `0.9` -- this flag is only used in sample-based generation modes. You should set `do_sample=True` or unset `top_p`.\n",
      "  warnings.warn(\n"
     ]
    },
    {
     "data": {
      "application/vnd.jupyter.widget-view+json": {
       "model_id": "76c1f64c64c248a6b440ebd22de2c76b",
       "version_major": 2,
       "version_minor": 0
      },
      "text/plain": [
       "Batches:   0%|          | 0/1 [00:00<?, ?it/s]"
      ]
     },
     "metadata": {},
     "output_type": "display_data"
    },
    {
     "data": {
      "application/vnd.jupyter.widget-view+json": {
       "model_id": "65ea041b71624624844e7dba41a5064f",
       "version_major": 2,
       "version_minor": 0
      },
      "text/plain": [
       "Batches:   0%|          | 0/1 [00:00<?, ?it/s]"
      ]
     },
     "metadata": {},
     "output_type": "display_data"
    },
    {
     "name": "stdout",
     "output_type": "stream",
     "text": [
      "• Cosine Similarity: 0.8391\n",
      "• Perplexity: 23.76\n",
      "------------------------------------------------------------\n",
      "Query: How much hydrogen (mol) can be produced from 1 g of Mo?C nanomaterials in electrochemical water splitting?\n",
      "Generated Answer: ['Hydrogen (mol) Produced from 1 Gram of MoC Nanomaterials in Electrochemical Water Splitting: 0.1\\x960.3 mol of hydrogen per gram in electrochemical water splitting. Hydrogen is produced by the reaction of CO2 and H2O, which is a byproduct of the hydrolysis of hydrocarbons in the presence of water. The hydrogen is released when the water is heated to a high enough temperature to overcome the electrostatic repulsion.']\n",
      "Evaluation Result: {'cosine_similarities': [0.8391285], 'perplexities': [23.763429641723633], 'answers': [['Hydrogen (mol) Produced from 1 Gram of MoC Nanomaterials in Electrochemical Water Splitting: 0.1\\x960.3 mol of hydrogen per gram in electrochemical water splitting. Hydrogen is produced by the reaction of CO2 and H2O, which is a byproduct of the hydrolysis of hydrocarbons in the presence of water. The hydrogen is released when the water is heated to a high enough temperature to overcome the electrostatic repulsion.']]}\n",
      "\n"
     ]
    },
    {
     "data": {
      "application/vnd.jupyter.widget-view+json": {
       "model_id": "3da8a26511b54f7993b286c4b5a3782f",
       "version_major": 2,
       "version_minor": 0
      },
      "text/plain": [
       "Batches:   0%|          | 0/1 [00:00<?, ?it/s]"
      ]
     },
     "metadata": {},
     "output_type": "display_data"
    },
    {
     "name": "stderr",
     "output_type": "stream",
     "text": [
      "/usr/local/lib/python3.10/dist-packages/transformers/generation/configuration_utils.py:633: UserWarning: `do_sample` is set to `False`. However, `top_p` is set to `0.9` -- this flag is only used in sample-based generation modes. You should set `do_sample=True` or unset `top_p`.\n",
      "  warnings.warn(\n"
     ]
    },
    {
     "data": {
      "application/vnd.jupyter.widget-view+json": {
       "model_id": "3d155cf08ac8477980ceb564162217f8",
       "version_major": 2,
       "version_minor": 0
      },
      "text/plain": [
       "Batches:   0%|          | 0/1 [00:00<?, ?it/s]"
      ]
     },
     "metadata": {},
     "output_type": "display_data"
    },
    {
     "data": {
      "application/vnd.jupyter.widget-view+json": {
       "model_id": "e1a15ee7f40b4e7faa4702a572f1b074",
       "version_major": 2,
       "version_minor": 0
      },
      "text/plain": [
       "Batches:   0%|          | 0/1 [00:00<?, ?it/s]"
      ]
     },
     "metadata": {},
     "output_type": "display_data"
    },
    {
     "name": "stdout",
     "output_type": "stream",
     "text": [
      "• Cosine Similarity: 0.8924\n",
      "• Perplexity: 17.03\n",
      "------------------------------------------------------------\n",
      "Query: What is the catalytic efficiency (%) of Co?O? nanomaterials in photoelectrochemical systems?\n",
      "Generated Answer: ['Catalytic Efficiency (%) of CoO Nanomaterials in Photoelectrochemical Systems: The catalytic efficiency in PEC systems is approximately 15-25%. The catalyst efficiency of COO nanoparticles is estimated to be between 15 and 25%. This is based on the following assumptions: 1. Co2 is a polar molecule. 2. Nuclei are non-polar. 3. Covalent molecules are polar. 4. Electrons are charged. 5. Photons are electrons. 6.']\n",
      "Evaluation Result: {'cosine_similarities': [0.8924105], 'perplexities': [17.030412673950195], 'answers': [['Catalytic Efficiency (%) of CoO Nanomaterials in Photoelectrochemical Systems: The catalytic efficiency in PEC systems is approximately 15-25%. The catalyst efficiency of COO nanoparticles is estimated to be between 15 and 25%. This is based on the following assumptions: 1. Co2 is a polar molecule. 2. Nuclei are non-polar. 3. Covalent molecules are polar. 4. Electrons are charged. 5. Photons are electrons. 6.']]}\n",
      "\n"
     ]
    },
    {
     "data": {
      "application/vnd.jupyter.widget-view+json": {
       "model_id": "c53a38549f6a478ca84d220de6f59981",
       "version_major": 2,
       "version_minor": 0
      },
      "text/plain": [
       "Batches:   0%|          | 0/1 [00:00<?, ?it/s]"
      ]
     },
     "metadata": {},
     "output_type": "display_data"
    },
    {
     "name": "stderr",
     "output_type": "stream",
     "text": [
      "/usr/local/lib/python3.10/dist-packages/transformers/generation/configuration_utils.py:633: UserWarning: `do_sample` is set to `False`. However, `top_p` is set to `0.9` -- this flag is only used in sample-based generation modes. You should set `do_sample=True` or unset `top_p`.\n",
      "  warnings.warn(\n"
     ]
    },
    {
     "data": {
      "application/vnd.jupyter.widget-view+json": {
       "model_id": "76f4843d6d2b4379a055551e72f94597",
       "version_major": 2,
       "version_minor": 0
      },
      "text/plain": [
       "Batches:   0%|          | 0/1 [00:00<?, ?it/s]"
      ]
     },
     "metadata": {},
     "output_type": "display_data"
    },
    {
     "data": {
      "application/vnd.jupyter.widget-view+json": {
       "model_id": "38a2cc4f58944978abf15c6ee97f8ef0",
       "version_major": 2,
       "version_minor": 0
      },
      "text/plain": [
       "Batches:   0%|          | 0/1 [00:00<?, ?it/s]"
      ]
     },
     "metadata": {},
     "output_type": "display_data"
    },
    {
     "name": "stdout",
     "output_type": "stream",
     "text": [
      "• Cosine Similarity: 0.8266\n",
      "• Perplexity: 18.54\n",
      "------------------------------------------------------------\n",
      "Query: What is the electron transfer number per molecule of hydrogen in TiO? nanomaterials?\n",
      "Generated Answer: [\"Electron Transfer Number per Molecule of Hydrogen in TiO Nanomaterials: 2 electrons per molecule of hydrogen produced in HER. This is the total number of electrons that can be transferred between two molecules of H2O. The number depends on the size of the molecule and the crystal structure. Edit: I forgot to include the electron density. It's 2.2 electrons/molecule. I'm not sure why, but I thought it was 2,2.5.\"]\n",
      "Evaluation Result: {'cosine_similarities': [0.82661456], 'perplexities': [18.540422439575195], 'answers': [[\"Electron Transfer Number per Molecule of Hydrogen in TiO Nanomaterials: 2 electrons per molecule of hydrogen produced in HER. This is the total number of electrons that can be transferred between two molecules of H2O. The number depends on the size of the molecule and the crystal structure. Edit: I forgot to include the electron density. It's 2.2 electrons/molecule. I'm not sure why, but I thought it was 2,2.5.\"]]}\n",
      "\n"
     ]
    },
    {
     "data": {
      "application/vnd.jupyter.widget-view+json": {
       "model_id": "65e5a44a04bb4810a869dc5112717c67",
       "version_major": 2,
       "version_minor": 0
      },
      "text/plain": [
       "Batches:   0%|          | 0/1 [00:00<?, ?it/s]"
      ]
     },
     "metadata": {},
     "output_type": "display_data"
    },
    {
     "name": "stderr",
     "output_type": "stream",
     "text": [
      "/usr/local/lib/python3.10/dist-packages/transformers/generation/configuration_utils.py:633: UserWarning: `do_sample` is set to `False`. However, `top_p` is set to `0.9` -- this flag is only used in sample-based generation modes. You should set `do_sample=True` or unset `top_p`.\n",
      "  warnings.warn(\n"
     ]
    },
    {
     "data": {
      "application/vnd.jupyter.widget-view+json": {
       "model_id": "ce61c6c1a42b4a7ead94573630b6c886",
       "version_major": 2,
       "version_minor": 0
      },
      "text/plain": [
       "Batches:   0%|          | 0/1 [00:00<?, ?it/s]"
      ]
     },
     "metadata": {},
     "output_type": "display_data"
    },
    {
     "data": {
      "application/vnd.jupyter.widget-view+json": {
       "model_id": "7a7a01c74f89489db718cc4014dcd0e4",
       "version_major": 2,
       "version_minor": 0
      },
      "text/plain": [
       "Batches:   0%|          | 0/1 [00:00<?, ?it/s]"
      ]
     },
     "metadata": {},
     "output_type": "display_data"
    },
    {
     "name": "stdout",
     "output_type": "stream",
     "text": [
      "• Cosine Similarity: 0.8339\n",
      "• Perplexity: 27.29\n",
      "------------------------------------------------------------\n",
      "Query: What is the efficiency (%) of HER in Fe?O? nanomaterials under neutral pH conditions?\n",
      "Generated Answer: ['Efficiency (%) of HER in FeO Nanomaterials under Neutral pH Conditions: The efficiency is typically around 20\\x9640%. This is due to the fact that the pH of the material is neutral, which means that there is no net change in the concentration of H2O. This results in a net increase in H^(2) and a decrease in O^(-2), which is the amount of energy released by the H+ molecule. The H- molecule has a half-life of about 10 minutes.']\n",
      "Evaluation Result: {'cosine_similarities': [0.83389986], 'perplexities': [27.294479370117188], 'answers': [['Efficiency (%) of HER in FeO Nanomaterials under Neutral pH Conditions: The efficiency is typically around 20\\x9640%. This is due to the fact that the pH of the material is neutral, which means that there is no net change in the concentration of H2O. This results in a net increase in H^(2) and a decrease in O^(-2), which is the amount of energy released by the H+ molecule. The H- molecule has a half-life of about 10 minutes.']]}\n",
      "\n"
     ]
    },
    {
     "data": {
      "application/vnd.jupyter.widget-view+json": {
       "model_id": "48e8cf1cab7e42bb9cce455a432d3d4a",
       "version_major": 2,
       "version_minor": 0
      },
      "text/plain": [
       "Batches:   0%|          | 0/1 [00:00<?, ?it/s]"
      ]
     },
     "metadata": {},
     "output_type": "display_data"
    },
    {
     "name": "stderr",
     "output_type": "stream",
     "text": [
      "/usr/local/lib/python3.10/dist-packages/transformers/generation/configuration_utils.py:633: UserWarning: `do_sample` is set to `False`. However, `top_p` is set to `0.9` -- this flag is only used in sample-based generation modes. You should set `do_sample=True` or unset `top_p`.\n",
      "  warnings.warn(\n"
     ]
    },
    {
     "data": {
      "application/vnd.jupyter.widget-view+json": {
       "model_id": "a28bee2250e44aad82373a59c469c103",
       "version_major": 2,
       "version_minor": 0
      },
      "text/plain": [
       "Batches:   0%|          | 0/1 [00:00<?, ?it/s]"
      ]
     },
     "metadata": {},
     "output_type": "display_data"
    },
    {
     "data": {
      "application/vnd.jupyter.widget-view+json": {
       "model_id": "57caa90b15a748b7bd2c0fef1f891b74",
       "version_major": 2,
       "version_minor": 0
      },
      "text/plain": [
       "Batches:   0%|          | 0/1 [00:00<?, ?it/s]"
      ]
     },
     "metadata": {},
     "output_type": "display_data"
    },
    {
     "name": "stdout",
     "output_type": "stream",
     "text": [
      "• Cosine Similarity: 0.8852\n",
      "• Perplexity: 26.47\n",
      "------------------------------------------------------------\n",
      "Query: What is the hydrogen production rate (mol/h) from Pt-modified SnO? nanomaterials in PEC systems?\n",
      "Generated Answer: ['Hydrogen Production Rate (mol/h) from Pt-Modified SnO Nanomaterials in PEC Systems: 0.01\\x960.05 mol/H Hydrogen production rate (molecular weight of hydrogen per cubic centimeter of material) is about 1.5 moles/cm^3. This means that the total mass of the material is around 1,000 kg, which is a very small amount compared to the size of a human body. Edit: typo']\n",
      "Evaluation Result: {'cosine_similarities': [0.88517857], 'perplexities': [26.474946975708008], 'answers': [['Hydrogen Production Rate (mol/h) from Pt-Modified SnO Nanomaterials in PEC Systems: 0.01\\x960.05 mol/H Hydrogen production rate (molecular weight of hydrogen per cubic centimeter of material) is about 1.5 moles/cm^3. This means that the total mass of the material is around 1,000 kg, which is a very small amount compared to the size of a human body. Edit: typo']]}\n",
      "\n"
     ]
    },
    {
     "data": {
      "application/vnd.jupyter.widget-view+json": {
       "model_id": "d085c33d633e4df6b92966f65fa1cd0b",
       "version_major": 2,
       "version_minor": 0
      },
      "text/plain": [
       "Batches:   0%|          | 0/1 [00:00<?, ?it/s]"
      ]
     },
     "metadata": {},
     "output_type": "display_data"
    },
    {
     "name": "stderr",
     "output_type": "stream",
     "text": [
      "/usr/local/lib/python3.10/dist-packages/transformers/generation/configuration_utils.py:633: UserWarning: `do_sample` is set to `False`. However, `top_p` is set to `0.9` -- this flag is only used in sample-based generation modes. You should set `do_sample=True` or unset `top_p`.\n",
      "  warnings.warn(\n"
     ]
    },
    {
     "data": {
      "application/vnd.jupyter.widget-view+json": {
       "model_id": "839e23fc4b444a4ea2744549db7ba3ea",
       "version_major": 2,
       "version_minor": 0
      },
      "text/plain": [
       "Batches:   0%|          | 0/1 [00:00<?, ?it/s]"
      ]
     },
     "metadata": {},
     "output_type": "display_data"
    },
    {
     "data": {
      "application/vnd.jupyter.widget-view+json": {
       "model_id": "97fcb942d1754260be3df5f87ec86e32",
       "version_major": 2,
       "version_minor": 0
      },
      "text/plain": [
       "Batches:   0%|          | 0/1 [00:00<?, ?it/s]"
      ]
     },
     "metadata": {},
     "output_type": "display_data"
    },
    {
     "name": "stdout",
     "output_type": "stream",
     "text": [
      "• Cosine Similarity: 0.9005\n",
      "• Perplexity: 22.69\n",
      "------------------------------------------------------------\n",
      "Query: What is the photoresponse time (seconds) of BiVO? nanomaterials in hydrogen generation?\n",
      "Generated Answer: ['Photoresponse Time (seconds) of BiVO Nanomaterials in Hydrogen Generation: The time it takes for a photon to pass through a material depends on the size of the material and the wavelength of light passing through it. For example, if you have a 1mm material, it will take 1.5\\x9610 seconds in hydrogen generation. If it has a 0.1mm size, the time will be 2.2» seconds. Edit: Formatting.']\n",
      "Evaluation Result: {'cosine_similarities': [0.90049577], 'perplexities': [22.687822341918945], 'answers': [['Photoresponse Time (seconds) of BiVO Nanomaterials in Hydrogen Generation: The time it takes for a photon to pass through a material depends on the size of the material and the wavelength of light passing through it. For example, if you have a 1mm material, it will take 1.5\\x9610 seconds in hydrogen generation. If it has a 0.1mm size, the time will be 2.2» seconds. Edit: Formatting.']]}\n",
      "\n"
     ]
    },
    {
     "data": {
      "application/vnd.jupyter.widget-view+json": {
       "model_id": "b1b9f24083b449508e387edb9e6950b4",
       "version_major": 2,
       "version_minor": 0
      },
      "text/plain": [
       "Batches:   0%|          | 0/1 [00:00<?, ?it/s]"
      ]
     },
     "metadata": {},
     "output_type": "display_data"
    },
    {
     "name": "stderr",
     "output_type": "stream",
     "text": [
      "/usr/local/lib/python3.10/dist-packages/transformers/generation/configuration_utils.py:633: UserWarning: `do_sample` is set to `False`. However, `top_p` is set to `0.9` -- this flag is only used in sample-based generation modes. You should set `do_sample=True` or unset `top_p`.\n",
      "  warnings.warn(\n"
     ]
    },
    {
     "data": {
      "application/vnd.jupyter.widget-view+json": {
       "model_id": "debb745507744e00ae68fe7247ac5a0c",
       "version_major": 2,
       "version_minor": 0
      },
      "text/plain": [
       "Batches:   0%|          | 0/1 [00:00<?, ?it/s]"
      ]
     },
     "metadata": {},
     "output_type": "display_data"
    },
    {
     "data": {
      "application/vnd.jupyter.widget-view+json": {
       "model_id": "f020ff1a868a4c0f95cf6419d324e79d",
       "version_major": 2,
       "version_minor": 0
      },
      "text/plain": [
       "Batches:   0%|          | 0/1 [00:00<?, ?it/s]"
      ]
     },
     "metadata": {},
     "output_type": "display_data"
    },
    {
     "name": "stdout",
     "output_type": "stream",
     "text": [
      "• Cosine Similarity: 0.9160\n",
      "• Perplexity: 26.01\n",
      "------------------------------------------------------------\n",
      "Query: What is the quantum yield (%) of CdSe nanomaterials in photocatalytic hydrogen evolution?\n",
      "Generated Answer: ['CdSe nanomaterials exhibit a quantum yield in the range of 20\\x9650% for photocatalytic hydrogen evolution. Here is a paper on the topic. The paper is published in Nature. doi:10.1038/nature.1365/j.1465-1366.2016.0.1. Also, here is an abstract of the paper, which is available on JSTOR: J. Phys. Rev. 15, no. 2 (Apr. 2017).']\n",
      "Evaluation Result: {'cosine_similarities': [0.91595495], 'perplexities': [26.01401710510254], 'answers': [['CdSe nanomaterials exhibit a quantum yield in the range of 20\\x9650% for photocatalytic hydrogen evolution. Here is a paper on the topic. The paper is published in Nature. doi:10.1038/nature.1365/j.1465-1366.2016.0.1. Also, here is an abstract of the paper, which is available on JSTOR: J. Phys. Rev. 15, no. 2 (Apr. 2017).']]}\n",
      "\n"
     ]
    },
    {
     "data": {
      "application/vnd.jupyter.widget-view+json": {
       "model_id": "10a2bfafb6734cbfaff58c6347a7bcc9",
       "version_major": 2,
       "version_minor": 0
      },
      "text/plain": [
       "Batches:   0%|          | 0/1 [00:00<?, ?it/s]"
      ]
     },
     "metadata": {},
     "output_type": "display_data"
    },
    {
     "name": "stderr",
     "output_type": "stream",
     "text": [
      "/usr/local/lib/python3.10/dist-packages/transformers/generation/configuration_utils.py:633: UserWarning: `do_sample` is set to `False`. However, `top_p` is set to `0.9` -- this flag is only used in sample-based generation modes. You should set `do_sample=True` or unset `top_p`.\n",
      "  warnings.warn(\n"
     ]
    },
    {
     "data": {
      "application/vnd.jupyter.widget-view+json": {
       "model_id": "d216cb6a587d4a3bb2755c61c1426d70",
       "version_major": 2,
       "version_minor": 0
      },
      "text/plain": [
       "Batches:   0%|          | 0/1 [00:00<?, ?it/s]"
      ]
     },
     "metadata": {},
     "output_type": "display_data"
    },
    {
     "data": {
      "application/vnd.jupyter.widget-view+json": {
       "model_id": "1ea4be0a4f2f494da81122069049cf81",
       "version_major": 2,
       "version_minor": 0
      },
      "text/plain": [
       "Batches:   0%|          | 0/1 [00:00<?, ?it/s]"
      ]
     },
     "metadata": {},
     "output_type": "display_data"
    },
    {
     "name": "stdout",
     "output_type": "stream",
     "text": [
      "• Cosine Similarity: 0.9012\n",
      "• Perplexity: 23.82\n",
      "------------------------------------------------------------\n",
      "Query: How much hydrogen (mol) is generated per gram of MoS? nanomaterials under visible light?\n",
      "Generated Answer: ['Hydrogen (mol) Generated per Gram of MoS Nanomaterials under Visible Light: 0.02\\x960.05 mol of hydrogen per gram under visible light. This is based on the following formula: H^(2) = 1.5×10^-8 moles of Hydrogen per cubic centimetre of the material. The formula is a bit more complicated than that, but it should give you a rough idea of how much hydrogen is produced.']\n",
      "Evaluation Result: {'cosine_similarities': [0.9012322], 'perplexities': [23.8193359375], 'answers': [['Hydrogen (mol) Generated per Gram of MoS Nanomaterials under Visible Light: 0.02\\x960.05 mol of hydrogen per gram under visible light. This is based on the following formula: H^(2) = 1.5×10^-8 moles of Hydrogen per cubic centimetre of the material. The formula is a bit more complicated than that, but it should give you a rough idea of how much hydrogen is produced.']]}\n",
      "\n"
     ]
    },
    {
     "data": {
      "application/vnd.jupyter.widget-view+json": {
       "model_id": "2a403918d9d04b3083e2860d96a1e92a",
       "version_major": 2,
       "version_minor": 0
      },
      "text/plain": [
       "Batches:   0%|          | 0/1 [00:00<?, ?it/s]"
      ]
     },
     "metadata": {},
     "output_type": "display_data"
    },
    {
     "name": "stderr",
     "output_type": "stream",
     "text": [
      "/usr/local/lib/python3.10/dist-packages/transformers/generation/configuration_utils.py:633: UserWarning: `do_sample` is set to `False`. However, `top_p` is set to `0.9` -- this flag is only used in sample-based generation modes. You should set `do_sample=True` or unset `top_p`.\n",
      "  warnings.warn(\n"
     ]
    },
    {
     "data": {
      "application/vnd.jupyter.widget-view+json": {
       "model_id": "2c4ab62b8e7f4d4591b8198bf927d43c",
       "version_major": 2,
       "version_minor": 0
      },
      "text/plain": [
       "Batches:   0%|          | 0/1 [00:00<?, ?it/s]"
      ]
     },
     "metadata": {},
     "output_type": "display_data"
    },
    {
     "data": {
      "application/vnd.jupyter.widget-view+json": {
       "model_id": "8e8a2f2819c94f168f3000b75afeb560",
       "version_major": 2,
       "version_minor": 0
      },
      "text/plain": [
       "Batches:   0%|          | 0/1 [00:00<?, ?it/s]"
      ]
     },
     "metadata": {},
     "output_type": "display_data"
    },
    {
     "name": "stdout",
     "output_type": "stream",
     "text": [
      "• Cosine Similarity: 0.9295\n",
      "• Perplexity: 22.28\n",
      "------------------------------------------------------------\n",
      "Query: What is the specific hydrogen evolution rate (mol/s/g) for Pt-coated graphene oxide nanomaterials?\n",
      "Generated Answer: ['Specific Hydrogen Evolution Rate (mol/s/g) for Pt-Coated Graphene Oxide Nanomaterials: 0.001\\x960.01 mol/S/G. The specific hydrogen evolution rate is a measure of the rate at which hydrogen is converted into H2O and H3O. It is related to the number of protons and electrons in the material. For more information, see the wiki page on graphene oxide nanocrystals. Edit: Formatting']\n",
      "Evaluation Result: {'cosine_similarities': [0.9294654], 'perplexities': [22.27516746520996], 'answers': [['Specific Hydrogen Evolution Rate (mol/s/g) for Pt-Coated Graphene Oxide Nanomaterials: 0.001\\x960.01 mol/S/G. The specific hydrogen evolution rate is a measure of the rate at which hydrogen is converted into H2O and H3O. It is related to the number of protons and electrons in the material. For more information, see the wiki page on graphene oxide nanocrystals. Edit: Formatting']]}\n",
      "\n"
     ]
    },
    {
     "data": {
      "application/vnd.jupyter.widget-view+json": {
       "model_id": "0435d692fe024bd4804f364bc8fd72a9",
       "version_major": 2,
       "version_minor": 0
      },
      "text/plain": [
       "Batches:   0%|          | 0/1 [00:00<?, ?it/s]"
      ]
     },
     "metadata": {},
     "output_type": "display_data"
    },
    {
     "name": "stderr",
     "output_type": "stream",
     "text": [
      "/usr/local/lib/python3.10/dist-packages/transformers/generation/configuration_utils.py:633: UserWarning: `do_sample` is set to `False`. However, `top_p` is set to `0.9` -- this flag is only used in sample-based generation modes. You should set `do_sample=True` or unset `top_p`.\n",
      "  warnings.warn(\n"
     ]
    },
    {
     "data": {
      "application/vnd.jupyter.widget-view+json": {
       "model_id": "8c22668b607f431fa27730bccdba16cf",
       "version_major": 2,
       "version_minor": 0
      },
      "text/plain": [
       "Batches:   0%|          | 0/1 [00:00<?, ?it/s]"
      ]
     },
     "metadata": {},
     "output_type": "display_data"
    },
    {
     "data": {
      "application/vnd.jupyter.widget-view+json": {
       "model_id": "e4c86b1379c640eeb0aef5a5ec706820",
       "version_major": 2,
       "version_minor": 0
      },
      "text/plain": [
       "Batches:   0%|          | 0/1 [00:00<?, ?it/s]"
      ]
     },
     "metadata": {},
     "output_type": "display_data"
    },
    {
     "name": "stdout",
     "output_type": "stream",
     "text": [
      "• Cosine Similarity: 0.8984\n",
      "• Perplexity: 22.73\n",
      "------------------------------------------------------------\n",
      "Query: How many moles of hydrogen can be generated per gram of ZnO nanomaterials in water splitting?\n",
      "Generated Answer: ['Moles of Hydrogen Generated per Gram of ZnO Nanomaterials in Water Splitting: 0.05\\x960.1 mol of hydrogen per gram in water. This is based on the following formula: H2O = H^(2)O^(-2), where H is the mass of the molecule, and O is its density. The formula is given by the formula H = (H^2 + O^-2 )/m^3.']\n",
      "Evaluation Result: {'cosine_similarities': [0.89841425], 'perplexities': [22.729841232299805], 'answers': [['Moles of Hydrogen Generated per Gram of ZnO Nanomaterials in Water Splitting: 0.05\\x960.1 mol of hydrogen per gram in water. This is based on the following formula: H2O = H^(2)O^(-2), where H is the mass of the molecule, and O is its density. The formula is given by the formula H = (H^2 + O^-2 )/m^3.']]}\n",
      "\n"
     ]
    },
    {
     "data": {
      "application/vnd.jupyter.widget-view+json": {
       "model_id": "3160a99a4c234c879fbe1f0adace8c30",
       "version_major": 2,
       "version_minor": 0
      },
      "text/plain": [
       "Batches:   0%|          | 0/1 [00:00<?, ?it/s]"
      ]
     },
     "metadata": {},
     "output_type": "display_data"
    },
    {
     "name": "stderr",
     "output_type": "stream",
     "text": [
      "/usr/local/lib/python3.10/dist-packages/transformers/generation/configuration_utils.py:633: UserWarning: `do_sample` is set to `False`. However, `top_p` is set to `0.9` -- this flag is only used in sample-based generation modes. You should set `do_sample=True` or unset `top_p`.\n",
      "  warnings.warn(\n"
     ]
    },
    {
     "data": {
      "application/vnd.jupyter.widget-view+json": {
       "model_id": "ae7728f2e5f940b2934ebbfd65f05fc0",
       "version_major": 2,
       "version_minor": 0
      },
      "text/plain": [
       "Batches:   0%|          | 0/1 [00:00<?, ?it/s]"
      ]
     },
     "metadata": {},
     "output_type": "display_data"
    },
    {
     "data": {
      "application/vnd.jupyter.widget-view+json": {
       "model_id": "297606df71fc4aa2bb86807adb0d5ffb",
       "version_major": 2,
       "version_minor": 0
      },
      "text/plain": [
       "Batches:   0%|          | 0/1 [00:00<?, ?it/s]"
      ]
     },
     "metadata": {},
     "output_type": "display_data"
    },
    {
     "name": "stdout",
     "output_type": "stream",
     "text": [
      "• Cosine Similarity: 0.9417\n",
      "• Perplexity: 21.46\n",
      "------------------------------------------------------------\n",
      "Query: What is the efficiency of Ni-based nanomaterials in electrochemical hydrogen production (%)?\n",
      "Generated Answer: ['Efficiency of Ni-Based Nanomaterials in Electrochemical Hydrogen Production (%): 20\\x9630% in electrochemical hydrogen production. Ni nanoparticles have an efficiency of around 20-30%, depending on the size of the nanoparticle and the number of electrons in the nanomolecular lattice. For example, here is a graph showing the efficiency for Ni nanoparticles: (source: ) Edit: I forgot to mention that Ni has a half-life of 1.5eV.']\n",
      "Evaluation Result: {'cosine_similarities': [0.9416934], 'perplexities': [21.456300735473633], 'answers': [['Efficiency of Ni-Based Nanomaterials in Electrochemical Hydrogen Production (%): 20\\x9630% in electrochemical hydrogen production. Ni nanoparticles have an efficiency of around 20-30%, depending on the size of the nanoparticle and the number of electrons in the nanomolecular lattice. For example, here is a graph showing the efficiency for Ni nanoparticles: (source: ) Edit: I forgot to mention that Ni has a half-life of 1.5eV.']]}\n",
      "\n"
     ]
    },
    {
     "data": {
      "application/vnd.jupyter.widget-view+json": {
       "model_id": "3109319b38ff4a6bba6913a8436fb58b",
       "version_major": 2,
       "version_minor": 0
      },
      "text/plain": [
       "Batches:   0%|          | 0/1 [00:00<?, ?it/s]"
      ]
     },
     "metadata": {},
     "output_type": "display_data"
    },
    {
     "name": "stderr",
     "output_type": "stream",
     "text": [
      "/usr/local/lib/python3.10/dist-packages/transformers/generation/configuration_utils.py:633: UserWarning: `do_sample` is set to `False`. However, `top_p` is set to `0.9` -- this flag is only used in sample-based generation modes. You should set `do_sample=True` or unset `top_p`.\n",
      "  warnings.warn(\n"
     ]
    },
    {
     "data": {
      "application/vnd.jupyter.widget-view+json": {
       "model_id": "e30f1d9eff7a484e93198b1562e65f0f",
       "version_major": 2,
       "version_minor": 0
      },
      "text/plain": [
       "Batches:   0%|          | 0/1 [00:00<?, ?it/s]"
      ]
     },
     "metadata": {},
     "output_type": "display_data"
    },
    {
     "data": {
      "application/vnd.jupyter.widget-view+json": {
       "model_id": "c610c2922474452e855d761a4793c00f",
       "version_major": 2,
       "version_minor": 0
      },
      "text/plain": [
       "Batches:   0%|          | 0/1 [00:00<?, ?it/s]"
      ]
     },
     "metadata": {},
     "output_type": "display_data"
    },
    {
     "name": "stdout",
     "output_type": "stream",
     "text": [
      "• Cosine Similarity: 0.8578\n",
      "• Perplexity: 31.76\n",
      "------------------------------------------------------------\n",
      "Query: How much hydrogen (mol) can be produced per mole of Mo?C nanomaterials in electrolysis?\n",
      "Generated Answer: [\"Hydrogen (mol) Produced per Mole of MoC Nanomaterials in Electrolysis: 1\\x962 mol of hydrogen per mole in electrolysis reactions. Hydrogen is produced by the reaction of CO2 and H2O, which is a product of the electrochemical reaction. This reaction produces about 1.5 moles of H^(2 )O^(-2 ). This is the amount of energy required to produce 1 mole of water. Edit: Here's a graph.\"]\n",
      "Evaluation Result: {'cosine_similarities': [0.8577716], 'perplexities': [31.759248733520508], 'answers': [[\"Hydrogen (mol) Produced per Mole of MoC Nanomaterials in Electrolysis: 1\\x962 mol of hydrogen per mole in electrolysis reactions. Hydrogen is produced by the reaction of CO2 and H2O, which is a product of the electrochemical reaction. This reaction produces about 1.5 moles of H^(2 )O^(-2 ). This is the amount of energy required to produce 1 mole of water. Edit: Here's a graph.\"]]}\n",
      "\n"
     ]
    },
    {
     "data": {
      "application/vnd.jupyter.widget-view+json": {
       "model_id": "dab37bd5b6564a11b04130994daa6ede",
       "version_major": 2,
       "version_minor": 0
      },
      "text/plain": [
       "Batches:   0%|          | 0/1 [00:00<?, ?it/s]"
      ]
     },
     "metadata": {},
     "output_type": "display_data"
    },
    {
     "name": "stderr",
     "output_type": "stream",
     "text": [
      "/usr/local/lib/python3.10/dist-packages/transformers/generation/configuration_utils.py:633: UserWarning: `do_sample` is set to `False`. However, `top_p` is set to `0.9` -- this flag is only used in sample-based generation modes. You should set `do_sample=True` or unset `top_p`.\n",
      "  warnings.warn(\n"
     ]
    },
    {
     "data": {
      "application/vnd.jupyter.widget-view+json": {
       "model_id": "3108d89b95044734829a2f72ef7af8c2",
       "version_major": 2,
       "version_minor": 0
      },
      "text/plain": [
       "Batches:   0%|          | 0/1 [00:00<?, ?it/s]"
      ]
     },
     "metadata": {},
     "output_type": "display_data"
    },
    {
     "data": {
      "application/vnd.jupyter.widget-view+json": {
       "model_id": "7d6ed47b49024ca8a5617453b22c4c82",
       "version_major": 2,
       "version_minor": 0
      },
      "text/plain": [
       "Batches:   0%|          | 0/1 [00:00<?, ?it/s]"
      ]
     },
     "metadata": {},
     "output_type": "display_data"
    },
    {
     "name": "stdout",
     "output_type": "stream",
     "text": [
      "• Cosine Similarity: 0.8298\n",
      "• Perplexity: 19.40\n",
      "------------------------------------------------------------\n",
      "Query: What is the rate of hydrogen production (mol/h) for g-C?N? nanomaterials in photocatalytic systems?\n",
      "Generated Answer: [\"G-CN Nanomaterials can produce Hydrogen at a rate of about 0.01\\x960.05 mol/h in photocatalytic systems. The rate depends on the size of the G-N and the type of N-C bond. For example, if you have a very small N bond, the rate will be very low. If you want to know more about this, you can read more here. Edit: Here's a link to the paper: Edit 2:\"]\n",
      "Evaluation Result: {'cosine_similarities': [0.82979107], 'perplexities': [19.397846221923828], 'answers': [[\"G-CN Nanomaterials can produce Hydrogen at a rate of about 0.01\\x960.05 mol/h in photocatalytic systems. The rate depends on the size of the G-N and the type of N-C bond. For example, if you have a very small N bond, the rate will be very low. If you want to know more about this, you can read more here. Edit: Here's a link to the paper: Edit 2:\"]]}\n",
      "\n"
     ]
    },
    {
     "data": {
      "application/vnd.jupyter.widget-view+json": {
       "model_id": "96c6df5cc0684a339e44cbcef2f5f498",
       "version_major": 2,
       "version_minor": 0
      },
      "text/plain": [
       "Batches:   0%|          | 0/1 [00:00<?, ?it/s]"
      ]
     },
     "metadata": {},
     "output_type": "display_data"
    },
    {
     "name": "stderr",
     "output_type": "stream",
     "text": [
      "/usr/local/lib/python3.10/dist-packages/transformers/generation/configuration_utils.py:633: UserWarning: `do_sample` is set to `False`. However, `top_p` is set to `0.9` -- this flag is only used in sample-based generation modes. You should set `do_sample=True` or unset `top_p`.\n",
      "  warnings.warn(\n"
     ]
    },
    {
     "data": {
      "application/vnd.jupyter.widget-view+json": {
       "model_id": "c0766909e42c4aefafc665e761b6f51f",
       "version_major": 2,
       "version_minor": 0
      },
      "text/plain": [
       "Batches:   0%|          | 0/1 [00:00<?, ?it/s]"
      ]
     },
     "metadata": {},
     "output_type": "display_data"
    },
    {
     "data": {
      "application/vnd.jupyter.widget-view+json": {
       "model_id": "2d031fc582204c1d8557ec9e2e0e74fb",
       "version_major": 2,
       "version_minor": 0
      },
      "text/plain": [
       "Batches:   0%|          | 0/1 [00:00<?, ?it/s]"
      ]
     },
     "metadata": {},
     "output_type": "display_data"
    },
    {
     "name": "stdout",
     "output_type": "stream",
     "text": [
      "• Cosine Similarity: 0.8617\n",
      "• Perplexity: 18.87\n",
      "------------------------------------------------------------\n",
      "Query: What is the maximum efficiency (%) of HER in Pd-based nanomaterials for hydrogen generation?\n",
      "Generated Answer: ['The efficiency of Pd-based nanomaterials for Hydrogen Generation is 60\\x9680% in H2O generation. The efficiency is achieved by using a mixture of H^(2+) and N^(-2) ions, which have a half-life of about 10 nanoseconds. This means that the total energy required to produce hydrogen is about 1.5×10^-18 Joules per second. Edit: I forgot to include the energy needed to generate hydrogen.']\n",
      "Evaluation Result: {'cosine_similarities': [0.86169386], 'perplexities': [18.87246322631836], 'answers': [['The efficiency of Pd-based nanomaterials for Hydrogen Generation is 60\\x9680% in H2O generation. The efficiency is achieved by using a mixture of H^(2+) and N^(-2) ions, which have a half-life of about 10 nanoseconds. This means that the total energy required to produce hydrogen is about 1.5×10^-18 Joules per second. Edit: I forgot to include the energy needed to generate hydrogen.']]}\n",
      "\n"
     ]
    },
    {
     "data": {
      "application/vnd.jupyter.widget-view+json": {
       "model_id": "2b41dff2fd124d11b04c36b3bac8f76e",
       "version_major": 2,
       "version_minor": 0
      },
      "text/plain": [
       "Batches:   0%|          | 0/1 [00:00<?, ?it/s]"
      ]
     },
     "metadata": {},
     "output_type": "display_data"
    },
    {
     "name": "stderr",
     "output_type": "stream",
     "text": [
      "/usr/local/lib/python3.10/dist-packages/transformers/generation/configuration_utils.py:633: UserWarning: `do_sample` is set to `False`. However, `top_p` is set to `0.9` -- this flag is only used in sample-based generation modes. You should set `do_sample=True` or unset `top_p`.\n",
      "  warnings.warn(\n"
     ]
    },
    {
     "data": {
      "application/vnd.jupyter.widget-view+json": {
       "model_id": "3913a5d56e324215b70cb07eb8408d1c",
       "version_major": 2,
       "version_minor": 0
      },
      "text/plain": [
       "Batches:   0%|          | 0/1 [00:00<?, ?it/s]"
      ]
     },
     "metadata": {},
     "output_type": "display_data"
    },
    {
     "data": {
      "application/vnd.jupyter.widget-view+json": {
       "model_id": "84fe499d076f43c189b47b35c0f74d71",
       "version_major": 2,
       "version_minor": 0
      },
      "text/plain": [
       "Batches:   0%|          | 0/1 [00:00<?, ?it/s]"
      ]
     },
     "metadata": {},
     "output_type": "display_data"
    },
    {
     "name": "stdout",
     "output_type": "stream",
     "text": [
      "• Cosine Similarity: 0.9258\n",
      "• Perplexity: 16.20\n",
      "------------------------------------------------------------\n",
      "Query: What is the optimal temperature (°C) for hydrogen production from BiVO? nanomaterials in solar reactors?\n",
      "Generated Answer: ['Optimal Temperature (°C) for Hydrogen Production from BiVO Nanomaterials in Solar Reactors: The optimal temperature for hydrogen production in solar reactors is typically around 50\\x9670 °C. This is based on the fact that the energy required to produce hydrogen is proportional to the square of the temperature difference between the two temperatures. For example, if you want to make hydrogen, you need to heat up the reactor to 50ºC, which is around 70ºF. Edit:']\n",
      "Evaluation Result: {'cosine_similarities': [0.92578286], 'perplexities': [16.20035171508789], 'answers': [['Optimal Temperature (°C) for Hydrogen Production from BiVO Nanomaterials in Solar Reactors: The optimal temperature for hydrogen production in solar reactors is typically around 50\\x9670 °C. This is based on the fact that the energy required to produce hydrogen is proportional to the square of the temperature difference between the two temperatures. For example, if you want to make hydrogen, you need to heat up the reactor to 50ºC, which is around 70ºF. Edit:']]}\n",
      "\n"
     ]
    },
    {
     "data": {
      "application/vnd.jupyter.widget-view+json": {
       "model_id": "5ac29fe558c1446ba82128701b86032d",
       "version_major": 2,
       "version_minor": 0
      },
      "text/plain": [
       "Batches:   0%|          | 0/1 [00:00<?, ?it/s]"
      ]
     },
     "metadata": {},
     "output_type": "display_data"
    },
    {
     "name": "stderr",
     "output_type": "stream",
     "text": [
      "/usr/local/lib/python3.10/dist-packages/transformers/generation/configuration_utils.py:633: UserWarning: `do_sample` is set to `False`. However, `top_p` is set to `0.9` -- this flag is only used in sample-based generation modes. You should set `do_sample=True` or unset `top_p`.\n",
      "  warnings.warn(\n"
     ]
    },
    {
     "data": {
      "application/vnd.jupyter.widget-view+json": {
       "model_id": "49cff9abebfe433daea91f84f8fd0a57",
       "version_major": 2,
       "version_minor": 0
      },
      "text/plain": [
       "Batches:   0%|          | 0/1 [00:00<?, ?it/s]"
      ]
     },
     "metadata": {},
     "output_type": "display_data"
    },
    {
     "data": {
      "application/vnd.jupyter.widget-view+json": {
       "model_id": "df0f89d4f56a45ea9358214ca1f24233",
       "version_major": 2,
       "version_minor": 0
      },
      "text/plain": [
       "Batches:   0%|          | 0/1 [00:00<?, ?it/s]"
      ]
     },
     "metadata": {},
     "output_type": "display_data"
    },
    {
     "name": "stdout",
     "output_type": "stream",
     "text": [
      "• Cosine Similarity: 0.8527\n",
      "• Perplexity: 19.78\n",
      "------------------------------------------------------------\n",
      "Query: How much hydrogen (mol) is produced by 1 g of carbon nanomaterials in a photoelectrochemical cell?\n",
      "Generated Answer: [\"Hydrogen (mol) Produced by 1 g of Carbon Nanomaterials in a Photoelectrochemical Cell: 0.02\\x960.1 mol of Hydrogen per gram of carbon nanotubes. This is the amount of hydrogen produced by a photoelectronically charged material in the presence of an electric field. It is a very small amount, but it is enough to make a difference. Edit: I forgot to include the number of electrons. I'm not sure why.\"]\n",
      "Evaluation Result: {'cosine_similarities': [0.8526621], 'perplexities': [19.775638580322266], 'answers': [[\"Hydrogen (mol) Produced by 1 g of Carbon Nanomaterials in a Photoelectrochemical Cell: 0.02\\x960.1 mol of Hydrogen per gram of carbon nanotubes. This is the amount of hydrogen produced by a photoelectronically charged material in the presence of an electric field. It is a very small amount, but it is enough to make a difference. Edit: I forgot to include the number of electrons. I'm not sure why.\"]]}\n",
      "\n"
     ]
    },
    {
     "data": {
      "application/vnd.jupyter.widget-view+json": {
       "model_id": "f59e19e8c45c4e3d9a31875575eb2fba",
       "version_major": 2,
       "version_minor": 0
      },
      "text/plain": [
       "Batches:   0%|          | 0/1 [00:00<?, ?it/s]"
      ]
     },
     "metadata": {},
     "output_type": "display_data"
    },
    {
     "name": "stderr",
     "output_type": "stream",
     "text": [
      "/usr/local/lib/python3.10/dist-packages/transformers/generation/configuration_utils.py:633: UserWarning: `do_sample` is set to `False`. However, `top_p` is set to `0.9` -- this flag is only used in sample-based generation modes. You should set `do_sample=True` or unset `top_p`.\n",
      "  warnings.warn(\n"
     ]
    },
    {
     "data": {
      "application/vnd.jupyter.widget-view+json": {
       "model_id": "79edbbaa97594c77bdcbf1335e833d9f",
       "version_major": 2,
       "version_minor": 0
      },
      "text/plain": [
       "Batches:   0%|          | 0/1 [00:00<?, ?it/s]"
      ]
     },
     "metadata": {},
     "output_type": "display_data"
    },
    {
     "data": {
      "application/vnd.jupyter.widget-view+json": {
       "model_id": "101da6882f4044ce9c0ffdc5877176d3",
       "version_major": 2,
       "version_minor": 0
      },
      "text/plain": [
       "Batches:   0%|          | 0/1 [00:00<?, ?it/s]"
      ]
     },
     "metadata": {},
     "output_type": "display_data"
    },
    {
     "name": "stdout",
     "output_type": "stream",
     "text": [
      "• Cosine Similarity: 0.8832\n",
      "• Perplexity: 14.80\n",
      "------------------------------------------------------------\n",
      "Query: What is the catalytic efficiency (%) of Co-doped Ni nanomaterials in water splitting reactions?\n",
      "Generated Answer: ['Catalytic Efficiency (%) of Co-Doped Ni Nanomaterials in Water Splitting Reactions: A Meta-Analysis (PDF) This is a meta-analysis of the catalytic efficiencies of co-doped N-N-Si nanoparticles in water splitting reactions. The results are summarized in this PDF. It is not a peer-reviewed journal, but it is an open-access journal. For further reading, please consult this abstract: [1] [2]']\n",
      "Evaluation Result: {'cosine_similarities': [0.8832418], 'perplexities': [14.801864624023438], 'answers': [['Catalytic Efficiency (%) of Co-Doped Ni Nanomaterials in Water Splitting Reactions: A Meta-Analysis (PDF) This is a meta-analysis of the catalytic efficiencies of co-doped N-N-Si nanoparticles in water splitting reactions. The results are summarized in this PDF. It is not a peer-reviewed journal, but it is an open-access journal. For further reading, please consult this abstract: [1] [2]']]}\n",
      "\n"
     ]
    },
    {
     "data": {
      "application/vnd.jupyter.widget-view+json": {
       "model_id": "7b1020d87e664f94a031b8ccf9ed8c87",
       "version_major": 2,
       "version_minor": 0
      },
      "text/plain": [
       "Batches:   0%|          | 0/1 [00:00<?, ?it/s]"
      ]
     },
     "metadata": {},
     "output_type": "display_data"
    },
    {
     "name": "stderr",
     "output_type": "stream",
     "text": [
      "/usr/local/lib/python3.10/dist-packages/transformers/generation/configuration_utils.py:633: UserWarning: `do_sample` is set to `False`. However, `top_p` is set to `0.9` -- this flag is only used in sample-based generation modes. You should set `do_sample=True` or unset `top_p`.\n",
      "  warnings.warn(\n"
     ]
    },
    {
     "data": {
      "application/vnd.jupyter.widget-view+json": {
       "model_id": "12ddb0fccad84b4d8b650581b49cd29d",
       "version_major": 2,
       "version_minor": 0
      },
      "text/plain": [
       "Batches:   0%|          | 0/1 [00:00<?, ?it/s]"
      ]
     },
     "metadata": {},
     "output_type": "display_data"
    },
    {
     "data": {
      "application/vnd.jupyter.widget-view+json": {
       "model_id": "9af4b73928bd4de78086458aa99cffe2",
       "version_major": 2,
       "version_minor": 0
      },
      "text/plain": [
       "Batches:   0%|          | 0/1 [00:00<?, ?it/s]"
      ]
     },
     "metadata": {},
     "output_type": "display_data"
    },
    {
     "name": "stdout",
     "output_type": "stream",
     "text": [
      "• Cosine Similarity: 0.9106\n",
      "• Perplexity: 15.86\n",
      "------------------------------------------------------------\n",
      "Query: What is the average particle size (nm) of Pd/CeO? nanomaterials for hydrogen production?\n",
      "Generated Answer: ['Average Particle Size (nm) of Pd/CeO Nanomaterials for Hydrogen Production: The average particle size is typically in the 3\\x9610 nm for hydrogen production. The size of a hydrogen atom is determined by the number of protons, neutrons, electrons, and electrons that make up the nucleus. For example, a proton has a radius of 1.5 nm, while a neutrino has an area of 0.1 nm. Edit:']\n",
      "Evaluation Result: {'cosine_similarities': [0.9106438], 'perplexities': [15.863625526428223], 'answers': [['Average Particle Size (nm) of Pd/CeO Nanomaterials for Hydrogen Production: The average particle size is typically in the 3\\x9610 nm for hydrogen production. The size of a hydrogen atom is determined by the number of protons, neutrons, electrons, and electrons that make up the nucleus. For example, a proton has a radius of 1.5 nm, while a neutrino has an area of 0.1 nm. Edit:']]}\n",
      "\n"
     ]
    },
    {
     "data": {
      "application/vnd.jupyter.widget-view+json": {
       "model_id": "45b23e586ab343a38d0d29f24d2705fe",
       "version_major": 2,
       "version_minor": 0
      },
      "text/plain": [
       "Batches:   0%|          | 0/1 [00:00<?, ?it/s]"
      ]
     },
     "metadata": {},
     "output_type": "display_data"
    },
    {
     "name": "stderr",
     "output_type": "stream",
     "text": [
      "/usr/local/lib/python3.10/dist-packages/transformers/generation/configuration_utils.py:633: UserWarning: `do_sample` is set to `False`. However, `top_p` is set to `0.9` -- this flag is only used in sample-based generation modes. You should set `do_sample=True` or unset `top_p`.\n",
      "  warnings.warn(\n"
     ]
    },
    {
     "data": {
      "application/vnd.jupyter.widget-view+json": {
       "model_id": "2d72b82a0b75419983b2a1677687a457",
       "version_major": 2,
       "version_minor": 0
      },
      "text/plain": [
       "Batches:   0%|          | 0/1 [00:00<?, ?it/s]"
      ]
     },
     "metadata": {},
     "output_type": "display_data"
    },
    {
     "data": {
      "application/vnd.jupyter.widget-view+json": {
       "model_id": "ceff4f6ba0b34540bbfb1b59bf16a7f2",
       "version_major": 2,
       "version_minor": 0
      },
      "text/plain": [
       "Batches:   0%|          | 0/1 [00:00<?, ?it/s]"
      ]
     },
     "metadata": {},
     "output_type": "display_data"
    },
    {
     "name": "stdout",
     "output_type": "stream",
     "text": [
      "• Cosine Similarity: 0.8252\n",
      "• Perplexity: 33.89\n",
      "------------------------------------------------------------\n",
      "Query: How much hydrogen (mol) is generated from 1 gram of Ru-doped TiO? nanomaterials in sunlight?\n",
      "Generated Answer: [\"Hydrogen (mol) Generated from 1 Gram of Ru-Doped TiO Nanomaterials in Sunlight: 0.1\\x960.5 mol of hydrogen per gram under sunlight. Hydrogen is produced by the reaction of a molecule with an electron with a proton and a neutron. The electron has a half-life of about 1/299,792,458,770,000th of the Planck length. This means that the electron's half life is about 10^-24 hours.\"]\n",
      "Evaluation Result: {'cosine_similarities': [0.82523394], 'perplexities': [33.887516021728516], 'answers': [[\"Hydrogen (mol) Generated from 1 Gram of Ru-Doped TiO Nanomaterials in Sunlight: 0.1\\x960.5 mol of hydrogen per gram under sunlight. Hydrogen is produced by the reaction of a molecule with an electron with a proton and a neutron. The electron has a half-life of about 1/299,792,458,770,000th of the Planck length. This means that the electron's half life is about 10^-24 hours.\"]]}\n",
      "\n"
     ]
    },
    {
     "data": {
      "application/vnd.jupyter.widget-view+json": {
       "model_id": "0d5dab075f334e61a3b79db8158575be",
       "version_major": 2,
       "version_minor": 0
      },
      "text/plain": [
       "Batches:   0%|          | 0/1 [00:00<?, ?it/s]"
      ]
     },
     "metadata": {},
     "output_type": "display_data"
    },
    {
     "name": "stderr",
     "output_type": "stream",
     "text": [
      "/usr/local/lib/python3.10/dist-packages/transformers/generation/configuration_utils.py:633: UserWarning: `do_sample` is set to `False`. However, `top_p` is set to `0.9` -- this flag is only used in sample-based generation modes. You should set `do_sample=True` or unset `top_p`.\n",
      "  warnings.warn(\n"
     ]
    },
    {
     "data": {
      "application/vnd.jupyter.widget-view+json": {
       "model_id": "f2df99423d1b44adbfb65c6032ecf0d4",
       "version_major": 2,
       "version_minor": 0
      },
      "text/plain": [
       "Batches:   0%|          | 0/1 [00:00<?, ?it/s]"
      ]
     },
     "metadata": {},
     "output_type": "display_data"
    },
    {
     "data": {
      "application/vnd.jupyter.widget-view+json": {
       "model_id": "c23d5675cd1d4660ae1f0a03628026cd",
       "version_major": 2,
       "version_minor": 0
      },
      "text/plain": [
       "Batches:   0%|          | 0/1 [00:00<?, ?it/s]"
      ]
     },
     "metadata": {},
     "output_type": "display_data"
    },
    {
     "name": "stdout",
     "output_type": "stream",
     "text": [
      "• Cosine Similarity: 0.9211\n",
      "• Perplexity: 42.76\n",
      "------------------------------------------------------------\n",
      "Query: What is the Faradaic efficiency (%) of RuO? nanomaterials in HER at 1.23 V vs RHE?\n",
      "Generated Answer: ['Faradaic Efficiency (%) of RuO Nanomaterials in HER at 1.23 V vs RHE is typically 80\\x9695%. This is due to the fact that the energy density of the material is much lower than that of an Rhe material. This means that there is a much larger difference in energy between the two materials, which is why the efficiency difference is so large. The FaradaIC efficiency is the difference between two different materials that have different energy densities. Edit:']\n",
      "Evaluation Result: {'cosine_similarities': [0.9210832], 'perplexities': [42.75668716430664], 'answers': [['Faradaic Efficiency (%) of RuO Nanomaterials in HER at 1.23 V vs RHE is typically 80\\x9695%. This is due to the fact that the energy density of the material is much lower than that of an Rhe material. This means that there is a much larger difference in energy between the two materials, which is why the efficiency difference is so large. The FaradaIC efficiency is the difference between two different materials that have different energy densities. Edit:']]}\n",
      "\n"
     ]
    },
    {
     "data": {
      "application/vnd.jupyter.widget-view+json": {
       "model_id": "ba61ede5710d471188b38a324f9e3be6",
       "version_major": 2,
       "version_minor": 0
      },
      "text/plain": [
       "Batches:   0%|          | 0/1 [00:00<?, ?it/s]"
      ]
     },
     "metadata": {},
     "output_type": "display_data"
    },
    {
     "name": "stderr",
     "output_type": "stream",
     "text": [
      "/usr/local/lib/python3.10/dist-packages/transformers/generation/configuration_utils.py:633: UserWarning: `do_sample` is set to `False`. However, `top_p` is set to `0.9` -- this flag is only used in sample-based generation modes. You should set `do_sample=True` or unset `top_p`.\n",
      "  warnings.warn(\n"
     ]
    },
    {
     "data": {
      "application/vnd.jupyter.widget-view+json": {
       "model_id": "d130e7ce42734ed0a5568b894b74f4d4",
       "version_major": 2,
       "version_minor": 0
      },
      "text/plain": [
       "Batches:   0%|          | 0/1 [00:00<?, ?it/s]"
      ]
     },
     "metadata": {},
     "output_type": "display_data"
    },
    {
     "data": {
      "application/vnd.jupyter.widget-view+json": {
       "model_id": "cb115fc3c5d64adaa4b9aa8fed35e23d",
       "version_major": 2,
       "version_minor": 0
      },
      "text/plain": [
       "Batches:   0%|          | 0/1 [00:00<?, ?it/s]"
      ]
     },
     "metadata": {},
     "output_type": "display_data"
    },
    {
     "name": "stdout",
     "output_type": "stream",
     "text": [
      "• Cosine Similarity: 0.8819\n",
      "• Perplexity: 21.91\n",
      "------------------------------------------------------------\n",
      "Query: How many moles of hydrogen can be produced from 1 mole of MnO? nanomaterials in electrolysis?\n",
      "Generated Answer: ['Moles of Hydrogen Produced from 1 Mole of MnO Nanomaterials in Electrolysis: 1 mole of Molybdenum Hydroxide (MnO) can produce approximately 1\\x962 moles (hydrogen) in electrolysis. This is based on the following formula: H2O = 2.5*10^-26 kg/m^2 Where H is the mass of the molecule, and M is its mass. The formula is given below.']\n",
      "Evaluation Result: {'cosine_similarities': [0.8818666], 'perplexities': [21.912538528442383], 'answers': [['Moles of Hydrogen Produced from 1 Mole of MnO Nanomaterials in Electrolysis: 1 mole of Molybdenum Hydroxide (MnO) can produce approximately 1\\x962 moles (hydrogen) in electrolysis. This is based on the following formula: H2O = 2.5*10^-26 kg/m^2 Where H is the mass of the molecule, and M is its mass. The formula is given below.']]}\n",
      "\n"
     ]
    },
    {
     "data": {
      "application/vnd.jupyter.widget-view+json": {
       "model_id": "1693493ba67747cfb24571e0529720a9",
       "version_major": 2,
       "version_minor": 0
      },
      "text/plain": [
       "Batches:   0%|          | 0/1 [00:00<?, ?it/s]"
      ]
     },
     "metadata": {},
     "output_type": "display_data"
    },
    {
     "name": "stderr",
     "output_type": "stream",
     "text": [
      "/usr/local/lib/python3.10/dist-packages/transformers/generation/configuration_utils.py:633: UserWarning: `do_sample` is set to `False`. However, `top_p` is set to `0.9` -- this flag is only used in sample-based generation modes. You should set `do_sample=True` or unset `top_p`.\n",
      "  warnings.warn(\n"
     ]
    },
    {
     "data": {
      "application/vnd.jupyter.widget-view+json": {
       "model_id": "743c63691eac4c8da695e8456fc755c3",
       "version_major": 2,
       "version_minor": 0
      },
      "text/plain": [
       "Batches:   0%|          | 0/1 [00:00<?, ?it/s]"
      ]
     },
     "metadata": {},
     "output_type": "display_data"
    },
    {
     "data": {
      "application/vnd.jupyter.widget-view+json": {
       "model_id": "f63aef81b6dc4ab08a3292b4a2d39c5f",
       "version_major": 2,
       "version_minor": 0
      },
      "text/plain": [
       "Batches:   0%|          | 0/1 [00:00<?, ?it/s]"
      ]
     },
     "metadata": {},
     "output_type": "display_data"
    },
    {
     "name": "stdout",
     "output_type": "stream",
     "text": [
      "• Cosine Similarity: 0.9013\n",
      "• Perplexity: 24.83\n",
      "------------------------------------------------------------\n",
      "Query: What is the stability (cycles) of TiO? nanomaterials in a long-term hydrogen production experiment?\n",
      "Generated Answer: [\"Stability (Cycles) of TiO Nanomaterials in Long-Term Hydrogen Production: TiOs are stable for 200\\x96500 cycles in long-term hydrogen production experiments. This is because they have a very low melting point, which means they don't react with oxygen very much. They also have very high thermal conductivity, meaning they are very good conductors of heat. Edit: Here's a link to a paper on the subject. The paper is here:.\"]\n",
      "Evaluation Result: {'cosine_similarities': [0.9013021], 'perplexities': [24.8256778717041], 'answers': [[\"Stability (Cycles) of TiO Nanomaterials in Long-Term Hydrogen Production: TiOs are stable for 200\\x96500 cycles in long-term hydrogen production experiments. This is because they have a very low melting point, which means they don't react with oxygen very much. They also have very high thermal conductivity, meaning they are very good conductors of heat. Edit: Here's a link to a paper on the subject. The paper is here:.\"]]}\n",
      "\n"
     ]
    },
    {
     "data": {
      "application/vnd.jupyter.widget-view+json": {
       "model_id": "bf2fcb71d18f4673aa2241be391b9eaf",
       "version_major": 2,
       "version_minor": 0
      },
      "text/plain": [
       "Batches:   0%|          | 0/1 [00:00<?, ?it/s]"
      ]
     },
     "metadata": {},
     "output_type": "display_data"
    },
    {
     "name": "stderr",
     "output_type": "stream",
     "text": [
      "/usr/local/lib/python3.10/dist-packages/transformers/generation/configuration_utils.py:633: UserWarning: `do_sample` is set to `False`. However, `top_p` is set to `0.9` -- this flag is only used in sample-based generation modes. You should set `do_sample=True` or unset `top_p`.\n",
      "  warnings.warn(\n"
     ]
    },
    {
     "data": {
      "application/vnd.jupyter.widget-view+json": {
       "model_id": "a80e342e84bc4d4a822e12b9339c94c9",
       "version_major": 2,
       "version_minor": 0
      },
      "text/plain": [
       "Batches:   0%|          | 0/1 [00:00<?, ?it/s]"
      ]
     },
     "metadata": {},
     "output_type": "display_data"
    },
    {
     "data": {
      "application/vnd.jupyter.widget-view+json": {
       "model_id": "d8fa642392b64b4d921b3a8b199353b3",
       "version_major": 2,
       "version_minor": 0
      },
      "text/plain": [
       "Batches:   0%|          | 0/1 [00:00<?, ?it/s]"
      ]
     },
     "metadata": {},
     "output_type": "display_data"
    },
    {
     "name": "stdout",
     "output_type": "stream",
     "text": [
      "• Cosine Similarity: 0.9422\n",
      "• Perplexity: 13.04\n",
      "------------------------------------------------------------\n",
      "Query: What is the optimal molar ratio of Pt to Pd in bimetallic nanomaterials for enhanced HER?\n",
      "Generated Answer: ['Optimal Molar Ratio of Pt to Pd in Bimetallic Nanomaterials for Enhanced HER: The optimal molar ratio for enhanced HER is generally around 1:1 to 2.1. This is based on a number of factors, such as the composition of the nanoparticle, the surface area, and the crystal structure. For example, here is a list of nanoparticles that have been used to enhance HER in the past: 1.2.3.4.5.6.7.8.9.']\n",
      "Evaluation Result: {'cosine_similarities': [0.94221306], 'perplexities': [13.035557746887207], 'answers': [['Optimal Molar Ratio of Pt to Pd in Bimetallic Nanomaterials for Enhanced HER: The optimal molar ratio for enhanced HER is generally around 1:1 to 2.1. This is based on a number of factors, such as the composition of the nanoparticle, the surface area, and the crystal structure. For example, here is a list of nanoparticles that have been used to enhance HER in the past: 1.2.3.4.5.6.7.8.9.']]}\n",
      "\n"
     ]
    },
    {
     "data": {
      "application/vnd.jupyter.widget-view+json": {
       "model_id": "ae72686396654d4a8707a67974ef88fa",
       "version_major": 2,
       "version_minor": 0
      },
      "text/plain": [
       "Batches:   0%|          | 0/1 [00:00<?, ?it/s]"
      ]
     },
     "metadata": {},
     "output_type": "display_data"
    },
    {
     "name": "stderr",
     "output_type": "stream",
     "text": [
      "/usr/local/lib/python3.10/dist-packages/transformers/generation/configuration_utils.py:633: UserWarning: `do_sample` is set to `False`. However, `top_p` is set to `0.9` -- this flag is only used in sample-based generation modes. You should set `do_sample=True` or unset `top_p`.\n",
      "  warnings.warn(\n"
     ]
    },
    {
     "data": {
      "application/vnd.jupyter.widget-view+json": {
       "model_id": "616d4a783c1f4276924ec53830ef8294",
       "version_major": 2,
       "version_minor": 0
      },
      "text/plain": [
       "Batches:   0%|          | 0/1 [00:00<?, ?it/s]"
      ]
     },
     "metadata": {},
     "output_type": "display_data"
    },
    {
     "data": {
      "application/vnd.jupyter.widget-view+json": {
       "model_id": "fcf1eac342c344dda465a8e7f8bd941b",
       "version_major": 2,
       "version_minor": 0
      },
      "text/plain": [
       "Batches:   0%|          | 0/1 [00:00<?, ?it/s]"
      ]
     },
     "metadata": {},
     "output_type": "display_data"
    },
    {
     "name": "stdout",
     "output_type": "stream",
     "text": [
      "• Cosine Similarity: 0.7536\n",
      "• Perplexity: 12.60\n",
      "------------------------------------------------------------\n",
      "Query: What is the electrochemical performance (mV/decade) of Fe?O? nanomaterials in hydrogen evolution?\n",
      "Generated Answer: ['Electrochemical Performance (mV/decade) of FeO Nanomaterials in Hydrogen Evolution: A Review of the Electrochemical Properties of H2O N-N-Molybdenum-O-Sulfur Oxides (HNO-2) is published in the Journal of Electrochemistry. The article describes the electrochemical performance of these materials in hydrogen evolution. It is available here: DOI: 10.1016/j.joseph.2017.02.002.']\n",
      "Evaluation Result: {'cosine_similarities': [0.7535919], 'perplexities': [12.598952293395996], 'answers': [['Electrochemical Performance (mV/decade) of FeO Nanomaterials in Hydrogen Evolution: A Review of the Electrochemical Properties of H2O N-N-Molybdenum-O-Sulfur Oxides (HNO-2) is published in the Journal of Electrochemistry. The article describes the electrochemical performance of these materials in hydrogen evolution. It is available here: DOI: 10.1016/j.joseph.2017.02.002.']]}\n",
      "\n"
     ]
    },
    {
     "data": {
      "application/vnd.jupyter.widget-view+json": {
       "model_id": "52b5750a6b744d48a6327208bbbe1cca",
       "version_major": 2,
       "version_minor": 0
      },
      "text/plain": [
       "Batches:   0%|          | 0/1 [00:00<?, ?it/s]"
      ]
     },
     "metadata": {},
     "output_type": "display_data"
    },
    {
     "name": "stderr",
     "output_type": "stream",
     "text": [
      "/usr/local/lib/python3.10/dist-packages/transformers/generation/configuration_utils.py:633: UserWarning: `do_sample` is set to `False`. However, `top_p` is set to `0.9` -- this flag is only used in sample-based generation modes. You should set `do_sample=True` or unset `top_p`.\n",
      "  warnings.warn(\n"
     ]
    },
    {
     "data": {
      "application/vnd.jupyter.widget-view+json": {
       "model_id": "a4fa41af7b80419db5500b1bfb5202dc",
       "version_major": 2,
       "version_minor": 0
      },
      "text/plain": [
       "Batches:   0%|          | 0/1 [00:00<?, ?it/s]"
      ]
     },
     "metadata": {},
     "output_type": "display_data"
    },
    {
     "data": {
      "application/vnd.jupyter.widget-view+json": {
       "model_id": "23bcd420349140528829260f45a13ca1",
       "version_major": 2,
       "version_minor": 0
      },
      "text/plain": [
       "Batches:   0%|          | 0/1 [00:00<?, ?it/s]"
      ]
     },
     "metadata": {},
     "output_type": "display_data"
    },
    {
     "name": "stdout",
     "output_type": "stream",
     "text": [
      "• Cosine Similarity: 0.7987\n",
      "• Perplexity: 23.76\n",
      "------------------------------------------------------------\n",
      "Query: How much hydrogen (mol) is generated from 1 g of Al?O? nanomaterials in an electrolysis process?\n",
      "Generated Answer: ['Hydrogen (mol) Generated from 1 g of AlO Nanomaterials in an Electrolysis Process: 0.01\\x960.05 mol of hydrogen per gram in electrolysis. Hydrogen is the product of the reaction of water and an electrolyte. It is a mixture of H2O and H3O, which are the products of a reaction with a non-polar solvent. The reaction is called an electrochemical reaction, and it produces hydrogen and oxygen.']\n",
      "Evaluation Result: {'cosine_similarities': [0.798715], 'perplexities': [23.756025314331055], 'answers': [['Hydrogen (mol) Generated from 1 g of AlO Nanomaterials in an Electrolysis Process: 0.01\\x960.05 mol of hydrogen per gram in electrolysis. Hydrogen is the product of the reaction of water and an electrolyte. It is a mixture of H2O and H3O, which are the products of a reaction with a non-polar solvent. The reaction is called an electrochemical reaction, and it produces hydrogen and oxygen.']]}\n",
      "\n"
     ]
    },
    {
     "data": {
      "application/vnd.jupyter.widget-view+json": {
       "model_id": "37d569593343454cb6ed8a95d0594a11",
       "version_major": 2,
       "version_minor": 0
      },
      "text/plain": [
       "Batches:   0%|          | 0/1 [00:00<?, ?it/s]"
      ]
     },
     "metadata": {},
     "output_type": "display_data"
    },
    {
     "name": "stderr",
     "output_type": "stream",
     "text": [
      "/usr/local/lib/python3.10/dist-packages/transformers/generation/configuration_utils.py:633: UserWarning: `do_sample` is set to `False`. However, `top_p` is set to `0.9` -- this flag is only used in sample-based generation modes. You should set `do_sample=True` or unset `top_p`.\n",
      "  warnings.warn(\n"
     ]
    },
    {
     "data": {
      "application/vnd.jupyter.widget-view+json": {
       "model_id": "3457a66a9ac44c7d8114a4e7f3fa4312",
       "version_major": 2,
       "version_minor": 0
      },
      "text/plain": [
       "Batches:   0%|          | 0/1 [00:00<?, ?it/s]"
      ]
     },
     "metadata": {},
     "output_type": "display_data"
    },
    {
     "data": {
      "application/vnd.jupyter.widget-view+json": {
       "model_id": "94682a61da1c49d4858a3172e0bd95f4",
       "version_major": 2,
       "version_minor": 0
      },
      "text/plain": [
       "Batches:   0%|          | 0/1 [00:00<?, ?it/s]"
      ]
     },
     "metadata": {},
     "output_type": "display_data"
    },
    {
     "name": "stdout",
     "output_type": "stream",
     "text": [
      "• Cosine Similarity: 0.9308\n",
      "• Perplexity: 25.39\n",
      "------------------------------------------------------------\n",
      "Query: What is the quantum efficiency (%) of ZnTe nanomaterials in hydrogen production under UV light?\n",
      "Generated Answer: ['Quantum Efficiency (%) of ZnTe Nanomaterials in Hydrogen Production under UV Light: 15\\x9630% in H2O2 Production Under UV light. This is a quantum efficiency of about 15 µm/s^(2). This means that the ZNTe nanoparticles have a QE of approximately 15.30%. This corresponds to an energy density of 1.5 g/cm^2. The energy of a photon is proportional to the square of its wavelength.']\n",
      "Evaluation Result: {'cosine_similarities': [0.93084604], 'perplexities': [25.39464569091797], 'answers': [['Quantum Efficiency (%) of ZnTe Nanomaterials in Hydrogen Production under UV Light: 15\\x9630% in H2O2 Production Under UV light. This is a quantum efficiency of about 15 µm/s^(2). This means that the ZNTe nanoparticles have a QE of approximately 15.30%. This corresponds to an energy density of 1.5 g/cm^2. The energy of a photon is proportional to the square of its wavelength.']]}\n",
      "\n"
     ]
    },
    {
     "data": {
      "application/vnd.jupyter.widget-view+json": {
       "model_id": "e7f6fafc2a814cbab5d46c429b0614c8",
       "version_major": 2,
       "version_minor": 0
      },
      "text/plain": [
       "Batches:   0%|          | 0/1 [00:00<?, ?it/s]"
      ]
     },
     "metadata": {},
     "output_type": "display_data"
    },
    {
     "name": "stderr",
     "output_type": "stream",
     "text": [
      "/usr/local/lib/python3.10/dist-packages/transformers/generation/configuration_utils.py:633: UserWarning: `do_sample` is set to `False`. However, `top_p` is set to `0.9` -- this flag is only used in sample-based generation modes. You should set `do_sample=True` or unset `top_p`.\n",
      "  warnings.warn(\n"
     ]
    },
    {
     "data": {
      "application/vnd.jupyter.widget-view+json": {
       "model_id": "f813962009d947358612c2f6ff24b99b",
       "version_major": 2,
       "version_minor": 0
      },
      "text/plain": [
       "Batches:   0%|          | 0/1 [00:00<?, ?it/s]"
      ]
     },
     "metadata": {},
     "output_type": "display_data"
    },
    {
     "data": {
      "application/vnd.jupyter.widget-view+json": {
       "model_id": "8a552963c4504383a246557a05658a00",
       "version_major": 2,
       "version_minor": 0
      },
      "text/plain": [
       "Batches:   0%|          | 0/1 [00:00<?, ?it/s]"
      ]
     },
     "metadata": {},
     "output_type": "display_data"
    },
    {
     "name": "stdout",
     "output_type": "stream",
     "text": [
      "• Cosine Similarity: 0.8531\n",
      "• Perplexity: 23.94\n",
      "------------------------------------------------------------\n",
      "Query: How much hydrogen (mol) can be produced per gram of NiCu nanomaterials in water splitting?\n",
      "Generated Answer: ['Hydrogen (mol) Produced per Gram of NiCu Nanomaterials in Water Splitting: 0.05\\x960.1 mol of hydrogen per gram in water splitting. NiCyanide (NiCu) nanoparticles can be used to split water in a number of ways. One of the most common ways is to use a water-splitting laser. The laser can split the water into two streams: 1.2 and 2.4 gallons of water per second.']\n",
      "Evaluation Result: {'cosine_similarities': [0.8531004], 'perplexities': [23.93962860107422], 'answers': [['Hydrogen (mol) Produced per Gram of NiCu Nanomaterials in Water Splitting: 0.05\\x960.1 mol of hydrogen per gram in water splitting. NiCyanide (NiCu) nanoparticles can be used to split water in a number of ways. One of the most common ways is to use a water-splitting laser. The laser can split the water into two streams: 1.2 and 2.4 gallons of water per second.']]}\n",
      "\n"
     ]
    },
    {
     "data": {
      "application/vnd.jupyter.widget-view+json": {
       "model_id": "d63a63a867934a378b7dced9d40df25a",
       "version_major": 2,
       "version_minor": 0
      },
      "text/plain": [
       "Batches:   0%|          | 0/1 [00:00<?, ?it/s]"
      ]
     },
     "metadata": {},
     "output_type": "display_data"
    },
    {
     "name": "stderr",
     "output_type": "stream",
     "text": [
      "/usr/local/lib/python3.10/dist-packages/transformers/generation/configuration_utils.py:633: UserWarning: `do_sample` is set to `False`. However, `top_p` is set to `0.9` -- this flag is only used in sample-based generation modes. You should set `do_sample=True` or unset `top_p`.\n",
      "  warnings.warn(\n"
     ]
    },
    {
     "data": {
      "application/vnd.jupyter.widget-view+json": {
       "model_id": "f38a4e9b12e74da0a62864d4adf81728",
       "version_major": 2,
       "version_minor": 0
      },
      "text/plain": [
       "Batches:   0%|          | 0/1 [00:00<?, ?it/s]"
      ]
     },
     "metadata": {},
     "output_type": "display_data"
    },
    {
     "data": {
      "application/vnd.jupyter.widget-view+json": {
       "model_id": "c866b69602c1403db41789c97871af7f",
       "version_major": 2,
       "version_minor": 0
      },
      "text/plain": [
       "Batches:   0%|          | 0/1 [00:00<?, ?it/s]"
      ]
     },
     "metadata": {},
     "output_type": "display_data"
    },
    {
     "name": "stdout",
     "output_type": "stream",
     "text": [
      "• Cosine Similarity: 0.9301\n",
      "• Perplexity: 17.08\n",
      "------------------------------------------------------------\n",
      "Query: What is the operating voltage (V) for RuO? nanomaterials in hydrogen generation via electrolysis?\n",
      "Generated Answer: ['Operating Voltage (V) for RuO Nanomaterials in Hydrogen Generation via Electrolysis: 1.5-2.0 V for efficient hydrogen generation. This is the operating voltage required for the hydrogen to be produced by the electrolysis reaction. The efficiency of the reaction depends on the number of electrons in the system, and the amount of energy required to produce hydrogen. For more information, see the wiki page on hydrogen-generating devices. Edit: I forgot to mention:']\n",
      "Evaluation Result: {'cosine_similarities': [0.93006283], 'perplexities': [17.07668685913086], 'answers': [['Operating Voltage (V) for RuO Nanomaterials in Hydrogen Generation via Electrolysis: 1.5-2.0 V for efficient hydrogen generation. This is the operating voltage required for the hydrogen to be produced by the electrolysis reaction. The efficiency of the reaction depends on the number of electrons in the system, and the amount of energy required to produce hydrogen. For more information, see the wiki page on hydrogen-generating devices. Edit: I forgot to mention:']]}\n",
      "\n",
      "Results saved to /kaggle/working/Llama_evaluation_results.csv\n"
     ]
    }
   ],
   "source": [
    "def load_queries_from_csv(csv_file_path, query_column):\n",
    "    df = pd.read_csv(csv_file_path)\n",
    "    queries = df[query_column].tolist()  \n",
    "    return queries\n",
    "\n",
    "\n",
    "def save_evaluation_results(output_file_path, results):\n",
    "    df = pd.DataFrame(results)\n",
    "    df.to_csv(output_file_path, index=False)\n",
    "    print(f\"Results saved to {output_file_path}\")\n",
    "\n",
    "\n",
    "csv_file_path = '/kaggle/input/new-dataset/Cleaned_Hydrogen_Generation_Questions.csv'\n",
    "query_column = 'Question'\n",
    "\n",
    "queries = load_queries_from_csv(csv_file_path, query_column)\n",
    "\n",
    "evaluation_results = []\n",
    "\n",
    "for query1 in queries:\n",
    "    generated_answer = generate_answer(query1)\n",
    "    evaluation_result = full_evaluation(query1, [generated_answer])\n",
    "    print(f\"Query: {query1}\")\n",
    "    print(f\"Generated Answer: {generated_answer}\")\n",
    "    print(f\"Evaluation Result: {evaluation_result}\\n\")\n",
    "    evaluation_results.append({\n",
    "        'Query': query1,\n",
    "        'Generated Answer': generated_answer,\n",
    "        'Evaluation': evaluation_result\n",
    "    })\n",
    "output_file_path = '/kaggle/working/Llama_evaluation_results.csv'\n",
    "save_evaluation_results(output_file_path, evaluation_results)"
   ]
  },
  {
   "cell_type": "code",
   "execution_count": 83,
   "metadata": {
    "execution": {
     "iopub.execute_input": "2025-03-29T08:54:30.392147Z",
     "iopub.status.busy": "2025-03-29T08:54:30.391848Z",
     "iopub.status.idle": "2025-03-29T08:54:30.401343Z",
     "shell.execute_reply": "2025-03-29T08:54:30.400392Z",
     "shell.execute_reply.started": "2025-03-29T08:54:30.392123Z"
    },
    "id": "am9pVmInwxog"
   },
   "outputs": [],
   "source": [
    "evaluation_csv_path = '/kaggle/input/new-updated-result/Llama_evaluation_results.csv'\n",
    "df_evaluations = pd.read_csv(evaluation_csv_path)"
   ]
  },
  {
   "cell_type": "code",
   "execution_count": 84,
   "metadata": {
    "execution": {
     "iopub.execute_input": "2025-03-29T08:54:30.986650Z",
     "iopub.status.busy": "2025-03-29T08:54:30.986346Z",
     "iopub.status.idle": "2025-03-29T08:54:30.996380Z",
     "shell.execute_reply": "2025-03-29T08:54:30.995423Z",
     "shell.execute_reply.started": "2025-03-29T08:54:30.986627Z"
    },
    "id": "e5zmIzO1w8Ne"
   },
   "outputs": [
    {
     "data": {
      "text/html": [
       "<div>\n",
       "<style scoped>\n",
       "    .dataframe tbody tr th:only-of-type {\n",
       "        vertical-align: middle;\n",
       "    }\n",
       "\n",
       "    .dataframe tbody tr th {\n",
       "        vertical-align: top;\n",
       "    }\n",
       "\n",
       "    .dataframe thead th {\n",
       "        text-align: right;\n",
       "    }\n",
       "</style>\n",
       "<table border=\"1\" class=\"dataframe\">\n",
       "  <thead>\n",
       "    <tr style=\"text-align: right;\">\n",
       "      <th></th>\n",
       "      <th>Query</th>\n",
       "      <th>Generated Answer</th>\n",
       "      <th>Evaluation</th>\n",
       "    </tr>\n",
       "  </thead>\n",
       "  <tbody>\n",
       "    <tr>\n",
       "      <th>0</th>\n",
       "      <td>What is hydrogen generation, and why is it imp...</td>\n",
       "      <td>['What is Hydrogen GenerationHydrogen generati...</td>\n",
       "      <td>{'cosine_similarities': [0.8039225], 'perplexi...</td>\n",
       "    </tr>\n",
       "    <tr>\n",
       "      <th>1</th>\n",
       "      <td>What is water splitting, and how does it produ...</td>\n",
       "      <td>['What is Water SplittingWater splitting is a ...</td>\n",
       "      <td>{'cosine_similarities': [0.7790147], 'perplexi...</td>\n",
       "    </tr>\n",
       "    <tr>\n",
       "      <th>2</th>\n",
       "      <td>What are 2D nanomaterials?</td>\n",
       "      <td>['Two-Dimensional (2D) Nanomaterials:Two-dimen...</td>\n",
       "      <td>{'cosine_similarities': [0.6993827], 'perplexi...</td>\n",
       "    </tr>\n",
       "    <tr>\n",
       "      <th>3</th>\n",
       "      <td>Why are 2D materials considered for hydrogen g...</td>\n",
       "      <td>['2D materials are considered for hydrogen gen...</td>\n",
       "      <td>{'cosine_similarities': [0.7311113], 'perplexi...</td>\n",
       "    </tr>\n",
       "    <tr>\n",
       "      <th>4</th>\n",
       "      <td>What role do catalysts play in water splitting?</td>\n",
       "      <td>['Catalysts play a crucial role in water split...</td>\n",
       "      <td>{'cosine_similarities': [0.7825726], 'perplexi...</td>\n",
       "    </tr>\n",
       "    <tr>\n",
       "      <th>...</th>\n",
       "      <td>...</td>\n",
       "      <td>...</td>\n",
       "      <td>...</td>\n",
       "    </tr>\n",
       "    <tr>\n",
       "      <th>144</th>\n",
       "      <td>What is the electrochemical performance (mV/de...</td>\n",
       "      <td>['Electrochemical Performance (mV/decade) of F...</td>\n",
       "      <td>{'cosine_similarities': [0.84224683], 'perplex...</td>\n",
       "    </tr>\n",
       "    <tr>\n",
       "      <th>145</th>\n",
       "      <td>How much hydrogen (mol) is generated from 1 g ...</td>\n",
       "      <td>['Hydrogen (mol) Generated from 1 g of AlO Nan...</td>\n",
       "      <td>{'cosine_similarities': [0.90009284], 'perplex...</td>\n",
       "    </tr>\n",
       "    <tr>\n",
       "      <th>146</th>\n",
       "      <td>What is the quantum efficiency (%) of ZnTe nan...</td>\n",
       "      <td>['Quantum Efficiency (%) of ZnTe Nanomaterials...</td>\n",
       "      <td>{'cosine_similarities': [0.8604343], 'perplexi...</td>\n",
       "    </tr>\n",
       "    <tr>\n",
       "      <th>147</th>\n",
       "      <td>How much hydrogen (mol) can be produced per gr...</td>\n",
       "      <td>['Hydrogen (mol) Produced per Gram of NiCu Nan...</td>\n",
       "      <td>{'cosine_similarities': [0.87569886], 'perplex...</td>\n",
       "    </tr>\n",
       "    <tr>\n",
       "      <th>148</th>\n",
       "      <td>What is the operating voltage (V) for RuO? nan...</td>\n",
       "      <td>['Operating Voltage (V) for RuO Nanomaterials ...</td>\n",
       "      <td>{'cosine_similarities': [0.94486576], 'perplex...</td>\n",
       "    </tr>\n",
       "  </tbody>\n",
       "</table>\n",
       "<p>149 rows × 3 columns</p>\n",
       "</div>"
      ],
      "text/plain": [
       "                                                 Query  \\\n",
       "0    What is hydrogen generation, and why is it imp...   \n",
       "1    What is water splitting, and how does it produ...   \n",
       "2                           What are 2D nanomaterials?   \n",
       "3    Why are 2D materials considered for hydrogen g...   \n",
       "4      What role do catalysts play in water splitting?   \n",
       "..                                                 ...   \n",
       "144  What is the electrochemical performance (mV/de...   \n",
       "145  How much hydrogen (mol) is generated from 1 g ...   \n",
       "146  What is the quantum efficiency (%) of ZnTe nan...   \n",
       "147  How much hydrogen (mol) can be produced per gr...   \n",
       "148  What is the operating voltage (V) for RuO? nan...   \n",
       "\n",
       "                                      Generated Answer  \\\n",
       "0    ['What is Hydrogen GenerationHydrogen generati...   \n",
       "1    ['What is Water SplittingWater splitting is a ...   \n",
       "2    ['Two-Dimensional (2D) Nanomaterials:Two-dimen...   \n",
       "3    ['2D materials are considered for hydrogen gen...   \n",
       "4    ['Catalysts play a crucial role in water split...   \n",
       "..                                                 ...   \n",
       "144  ['Electrochemical Performance (mV/decade) of F...   \n",
       "145  ['Hydrogen (mol) Generated from 1 g of AlO Nan...   \n",
       "146  ['Quantum Efficiency (%) of ZnTe Nanomaterials...   \n",
       "147  ['Hydrogen (mol) Produced per Gram of NiCu Nan...   \n",
       "148  ['Operating Voltage (V) for RuO Nanomaterials ...   \n",
       "\n",
       "                                            Evaluation  \n",
       "0    {'cosine_similarities': [0.8039225], 'perplexi...  \n",
       "1    {'cosine_similarities': [0.7790147], 'perplexi...  \n",
       "2    {'cosine_similarities': [0.6993827], 'perplexi...  \n",
       "3    {'cosine_similarities': [0.7311113], 'perplexi...  \n",
       "4    {'cosine_similarities': [0.7825726], 'perplexi...  \n",
       "..                                                 ...  \n",
       "144  {'cosine_similarities': [0.84224683], 'perplex...  \n",
       "145  {'cosine_similarities': [0.90009284], 'perplex...  \n",
       "146  {'cosine_similarities': [0.8604343], 'perplexi...  \n",
       "147  {'cosine_similarities': [0.87569886], 'perplex...  \n",
       "148  {'cosine_similarities': [0.94486576], 'perplex...  \n",
       "\n",
       "[149 rows x 3 columns]"
      ]
     },
     "execution_count": 84,
     "metadata": {},
     "output_type": "execute_result"
    }
   ],
   "source": [
    "df_evaluations"
   ]
  },
  {
   "cell_type": "code",
   "execution_count": 85,
   "metadata": {
    "execution": {
     "iopub.execute_input": "2025-03-29T08:54:34.799764Z",
     "iopub.status.busy": "2025-03-29T08:54:34.799473Z",
     "iopub.status.idle": "2025-03-29T08:54:35.235450Z",
     "shell.execute_reply": "2025-03-29T08:54:35.234596Z",
     "shell.execute_reply.started": "2025-03-29T08:54:34.799731Z"
    },
    "id": "J7XUv98zsmbc"
   },
   "outputs": [
    {
     "name": "stdout",
     "output_type": "stream",
     "text": [
      "                                               Query  \\\n",
      "0  What is hydrogen generation, and why is it imp...   \n",
      "1  What is water splitting, and how does it produ...   \n",
      "2                         What are 2D nanomaterials?   \n",
      "3  Why are 2D materials considered for hydrogen g...   \n",
      "4    What role do catalysts play in water splitting?   \n",
      "\n",
      "                                    Generated Answer Cosine Similarity  \\\n",
      "0  ['What is Hydrogen GenerationHydrogen generati...       [0.8039225]   \n",
      "1  ['What is Water SplittingWater splitting is a ...       [0.7790147]   \n",
      "2  ['Two-Dimensional (2D) Nanomaterials:Two-dimen...       [0.6993827]   \n",
      "3  ['2D materials are considered for hydrogen gen...       [0.7311113]   \n",
      "4  ['Catalysts play a crucial role in water split...       [0.7825726]   \n",
      "\n",
      "             Perplexity  \n",
      "0  [13.220113754272461]  \n",
      "1  [10.487356185913086]  \n",
      "2  [13.108589172363281]  \n",
      "3   [13.65722942352295]  \n",
      "4   [22.81609535217285]  \n"
     ]
    }
   ],
   "source": [
    "df_evaluations['Evaluation'] = df_evaluations['Evaluation'].apply(ast.literal_eval)\n",
    "df_evaluations['Cosine Similarity'] = df_evaluations['Evaluation'].apply(lambda x: x['cosine_similarities'])\n",
    "df_evaluations['Perplexity'] = df_evaluations['Evaluation'].apply(lambda x: x['perplexities'])\n",
    "\n",
    "\n",
    "\n",
    "df_evaluations.drop(columns=['Evaluation'], inplace=True)\n",
    "print(df_evaluations.head())\n",
    "\n",
    "\n",
    "updated_csv_path = '/kaggle/working/updated_Llama_results.csv'\n",
    "df_evaluations.to_csv(updated_csv_path, index=False)\n"
   ]
  },
  {
   "cell_type": "code",
   "execution_count": null,
   "metadata": {
    "execution": {
     "iopub.execute_input": "2025-04-02T10:03:56.232322Z",
     "iopub.status.busy": "2025-04-02T10:03:56.231963Z",
     "iopub.status.idle": "2025-04-02T10:03:56.740017Z",
     "shell.execute_reply": "2025-04-02T10:03:56.739226Z",
     "shell.execute_reply.started": "2025-04-02T10:03:56.232293Z"
    },
    "id": "7Cyn43gRuwBy"
   },
   "outputs": [
    {
     "name": "stdout",
     "output_type": "stream",
     "text": [
      "Average Perplexity: 9.70\n",
      "Average Cosine Similarity: 0.87\n"
     ]
    },
    {
     "data": {
      "image/png": "[encoded data removed]",
      "text/plain": [
       "<Figure size 1400x1000 with 2 Axes>"
      ]
     },
     "metadata": {},
     "output_type": "display_data"
    }
   ],
   "source": [
    "evaluation_csv_path = '/kaggle/working/updated_Llama_results.csv'\n",
    "data = pd.read_csv(evaluation_csv_path)\n",
    "\n",
    "\n",
    "data['Perplexity'] = data['Perplexity'].apply(lambda x: float(x.strip(\"[]\")))\n",
    "data['Cosine Similarity'] = data['Cosine Similarity'].apply(lambda x: float(x.strip(\"[]\")))\n",
    "average_perplexity = data['Perplexity'].mean()\n",
    "average_cosine_similarity = data['Cosine Similarity'].mean()\n",
    "\n",
    "print(f\"Average Perplexity: {average_perplexity:.2f}\")\n",
    "print(f\"Average Cosine Similarity: {average_cosine_similarity:.2f}\")\n",
    "\n",
    "\n",
    "plt.figure(figsize=(14, 10))\n",
    "\n",
    "# Perplexity plot\n",
    "plt.subplot(2, 1, 1)\n",
    "plt.plot(data['Perplexity'], marker='o', linestyle='-', color='b', label='Perplexity')\n",
    "plt.title(\"Perplexity and Cosine Similarity Plot\")\n",
    "plt.xlabel(\"Index\")\n",
    "plt.ylabel(\"Perplexity\")\n",
    "plt.legend()\n",
    "plt.grid(True)\n",
    "\n",
    "# Cosine Similarity plot\n",
    "plt.subplot(2, 1, 2)\n",
    "plt.plot(data['Cosine Similarity'], marker='o', linestyle='-', color='g', label='Cosine Similarity')\n",
    "plt.xlabel(\"Index\")\n",
    "plt.ylabel(\"Cosine Similarity\")\n",
    "plt.legend()\n",
    "plt.grid(True)\n",
    "\n",
    "plt.tight_layout()\n",
    "plt.show()\n"
   ]
  },
  {
   "cell_type": "code",
   "execution_count": null,
   "metadata": {
    "id": "6s1jE1dM8iFe"
   },
   "outputs": [],
   "source": []
  }
 ],
 "metadata": {
  "accelerator": "GPU",
  "colab": {
   "collapsed_sections": [
    "3HlJNn62lvSn"
   ],
   "gpuType": "T4",
   "provenance": []
  },
  "kaggle": {
   "accelerator": "nvidiaTeslaT4",
   "dataSources": [
    {
     "datasetId": 5872685,
     "sourceId": 9621819,
     "sourceType": "datasetVersion"
    },
    {
     "datasetId": 5997257,
     "sourceId": 9787908,
     "sourceType": "datasetVersion"
    },
    {
     "datasetId": 6785958,
     "sourceId": 10915956,
     "sourceType": "datasetVersion"
    },
    {
     "datasetId": 6786048,
     "sourceId": 10916073,
     "sourceType": "datasetVersion"
    },
    {
     "datasetId": 6788026,
     "sourceId": 10918762,
     "sourceType": "datasetVersion"
    },
    {
     "datasetId": 6788158,
     "sourceId": 10918984,
     "sourceType": "datasetVersion"
    },
    {
     "datasetId": 7030241,
     "sourceId": 11250516,
     "sourceType": "datasetVersion"
    }
   ],
   "dockerImageVersionId": 30919,
   "isGpuEnabled": true,
   "isInternetEnabled": true,
   "language": "python",
   "sourceType": "notebook"
  },
  "kernelspec": {
   "display_name": "Python 3",
   "language": "python",
   "name": "python3"
  },
  "language_info": {
   "codemirror_mode": {
    "name": "ipython",
    "version": 3
   },
   "file_extension": ".py",
   "mimetype": "text/x-python",
   "name": "python",
   "nbconvert_exporter": "python",
   "pygments_lexer": "ipython3",
   "version": "3.10.12"
  }
 },
 "nbformat": 4,
 "nbformat_minor": 4
}
